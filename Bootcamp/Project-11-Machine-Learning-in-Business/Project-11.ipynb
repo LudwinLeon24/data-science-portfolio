{
 "cells": [
  {
   "cell_type": "markdown",
   "metadata": {},
   "source": [
    "----"
   ]
  },
  {
   "cell_type": "markdown",
   "metadata": {},
   "source": [
    "### Proyecto 11"
   ]
  },
  {
   "cell_type": "code",
   "execution_count": 1,
   "metadata": {
    "scrolled": true
   },
   "outputs": [
    {
     "data": {
      "text/plain": [
       "'Región 0:\\n'"
      ]
     },
     "metadata": {},
     "output_type": "display_data"
    },
    {
     "name": "stdout",
     "output_type": "stream",
     "text": [
      "<class 'pandas.core.frame.DataFrame'>\n",
      "RangeIndex: 100000 entries, 0 to 99999\n",
      "Data columns (total 5 columns):\n",
      " #   Column   Non-Null Count   Dtype  \n",
      "---  ------   --------------   -----  \n",
      " 0   id       100000 non-null  object \n",
      " 1   f0       100000 non-null  float64\n",
      " 2   f1       100000 non-null  float64\n",
      " 3   f2       100000 non-null  float64\n",
      " 4   product  100000 non-null  float64\n",
      "dtypes: float64(4), object(1)\n",
      "memory usage: 3.8+ MB\n"
     ]
    },
    {
     "data": {
      "text/plain": [
       "None"
      ]
     },
     "metadata": {},
     "output_type": "display_data"
    },
    {
     "data": {
      "text/html": [
       "<div>\n",
       "<style scoped>\n",
       "    .dataframe tbody tr th:only-of-type {\n",
       "        vertical-align: middle;\n",
       "    }\n",
       "\n",
       "    .dataframe tbody tr th {\n",
       "        vertical-align: top;\n",
       "    }\n",
       "\n",
       "    .dataframe thead th {\n",
       "        text-align: right;\n",
       "    }\n",
       "</style>\n",
       "<table border=\"1\" class=\"dataframe\">\n",
       "  <thead>\n",
       "    <tr style=\"text-align: right;\">\n",
       "      <th></th>\n",
       "      <th>id</th>\n",
       "      <th>f0</th>\n",
       "      <th>f1</th>\n",
       "      <th>f2</th>\n",
       "      <th>product</th>\n",
       "    </tr>\n",
       "  </thead>\n",
       "  <tbody>\n",
       "    <tr>\n",
       "      <th>0</th>\n",
       "      <td>txEyH</td>\n",
       "      <td>0.705745</td>\n",
       "      <td>-0.497823</td>\n",
       "      <td>1.221170</td>\n",
       "      <td>105.280062</td>\n",
       "    </tr>\n",
       "    <tr>\n",
       "      <th>1</th>\n",
       "      <td>2acmU</td>\n",
       "      <td>1.334711</td>\n",
       "      <td>-0.340164</td>\n",
       "      <td>4.365080</td>\n",
       "      <td>73.037750</td>\n",
       "    </tr>\n",
       "    <tr>\n",
       "      <th>2</th>\n",
       "      <td>409Wp</td>\n",
       "      <td>1.022732</td>\n",
       "      <td>0.151990</td>\n",
       "      <td>1.419926</td>\n",
       "      <td>85.265647</td>\n",
       "    </tr>\n",
       "    <tr>\n",
       "      <th>3</th>\n",
       "      <td>iJLyR</td>\n",
       "      <td>-0.032172</td>\n",
       "      <td>0.139033</td>\n",
       "      <td>2.978566</td>\n",
       "      <td>168.620776</td>\n",
       "    </tr>\n",
       "    <tr>\n",
       "      <th>4</th>\n",
       "      <td>Xdl7t</td>\n",
       "      <td>1.988431</td>\n",
       "      <td>0.155413</td>\n",
       "      <td>4.751769</td>\n",
       "      <td>154.036647</td>\n",
       "    </tr>\n",
       "  </tbody>\n",
       "</table>\n",
       "</div>"
      ],
      "text/plain": [
       "      id        f0        f1        f2     product\n",
       "0  txEyH  0.705745 -0.497823  1.221170  105.280062\n",
       "1  2acmU  1.334711 -0.340164  4.365080   73.037750\n",
       "2  409Wp  1.022732  0.151990  1.419926   85.265647\n",
       "3  iJLyR -0.032172  0.139033  2.978566  168.620776\n",
       "4  Xdl7t  1.988431  0.155413  4.751769  154.036647"
      ]
     },
     "metadata": {},
     "output_type": "display_data"
    },
    {
     "data": {
      "text/plain": [
       "'\\n'"
      ]
     },
     "metadata": {},
     "output_type": "display_data"
    },
    {
     "data": {
      "text/plain": [
       "'Región 1:\\n'"
      ]
     },
     "metadata": {},
     "output_type": "display_data"
    },
    {
     "name": "stdout",
     "output_type": "stream",
     "text": [
      "<class 'pandas.core.frame.DataFrame'>\n",
      "RangeIndex: 100000 entries, 0 to 99999\n",
      "Data columns (total 5 columns):\n",
      " #   Column   Non-Null Count   Dtype  \n",
      "---  ------   --------------   -----  \n",
      " 0   id       100000 non-null  object \n",
      " 1   f0       100000 non-null  float64\n",
      " 2   f1       100000 non-null  float64\n",
      " 3   f2       100000 non-null  float64\n",
      " 4   product  100000 non-null  float64\n",
      "dtypes: float64(4), object(1)\n",
      "memory usage: 3.8+ MB\n"
     ]
    },
    {
     "data": {
      "text/plain": [
       "None"
      ]
     },
     "metadata": {},
     "output_type": "display_data"
    },
    {
     "data": {
      "text/html": [
       "<div>\n",
       "<style scoped>\n",
       "    .dataframe tbody tr th:only-of-type {\n",
       "        vertical-align: middle;\n",
       "    }\n",
       "\n",
       "    .dataframe tbody tr th {\n",
       "        vertical-align: top;\n",
       "    }\n",
       "\n",
       "    .dataframe thead th {\n",
       "        text-align: right;\n",
       "    }\n",
       "</style>\n",
       "<table border=\"1\" class=\"dataframe\">\n",
       "  <thead>\n",
       "    <tr style=\"text-align: right;\">\n",
       "      <th></th>\n",
       "      <th>id</th>\n",
       "      <th>f0</th>\n",
       "      <th>f1</th>\n",
       "      <th>f2</th>\n",
       "      <th>product</th>\n",
       "    </tr>\n",
       "  </thead>\n",
       "  <tbody>\n",
       "    <tr>\n",
       "      <th>0</th>\n",
       "      <td>kBEdx</td>\n",
       "      <td>-15.001348</td>\n",
       "      <td>-8.276000</td>\n",
       "      <td>-0.005876</td>\n",
       "      <td>3.179103</td>\n",
       "    </tr>\n",
       "    <tr>\n",
       "      <th>1</th>\n",
       "      <td>62mP7</td>\n",
       "      <td>14.272088</td>\n",
       "      <td>-3.475083</td>\n",
       "      <td>0.999183</td>\n",
       "      <td>26.953261</td>\n",
       "    </tr>\n",
       "    <tr>\n",
       "      <th>2</th>\n",
       "      <td>vyE1P</td>\n",
       "      <td>6.263187</td>\n",
       "      <td>-5.948386</td>\n",
       "      <td>5.001160</td>\n",
       "      <td>134.766305</td>\n",
       "    </tr>\n",
       "    <tr>\n",
       "      <th>3</th>\n",
       "      <td>KcrkZ</td>\n",
       "      <td>-13.081196</td>\n",
       "      <td>-11.506057</td>\n",
       "      <td>4.999415</td>\n",
       "      <td>137.945408</td>\n",
       "    </tr>\n",
       "    <tr>\n",
       "      <th>4</th>\n",
       "      <td>AHL4O</td>\n",
       "      <td>12.702195</td>\n",
       "      <td>-8.147433</td>\n",
       "      <td>5.004363</td>\n",
       "      <td>134.766305</td>\n",
       "    </tr>\n",
       "  </tbody>\n",
       "</table>\n",
       "</div>"
      ],
      "text/plain": [
       "      id         f0         f1        f2     product\n",
       "0  kBEdx -15.001348  -8.276000 -0.005876    3.179103\n",
       "1  62mP7  14.272088  -3.475083  0.999183   26.953261\n",
       "2  vyE1P   6.263187  -5.948386  5.001160  134.766305\n",
       "3  KcrkZ -13.081196 -11.506057  4.999415  137.945408\n",
       "4  AHL4O  12.702195  -8.147433  5.004363  134.766305"
      ]
     },
     "metadata": {},
     "output_type": "display_data"
    },
    {
     "data": {
      "text/plain": [
       "'\\n'"
      ]
     },
     "metadata": {},
     "output_type": "display_data"
    },
    {
     "data": {
      "text/plain": [
       "'Región 2:\\n'"
      ]
     },
     "metadata": {},
     "output_type": "display_data"
    },
    {
     "name": "stdout",
     "output_type": "stream",
     "text": [
      "<class 'pandas.core.frame.DataFrame'>\n",
      "RangeIndex: 100000 entries, 0 to 99999\n",
      "Data columns (total 5 columns):\n",
      " #   Column   Non-Null Count   Dtype  \n",
      "---  ------   --------------   -----  \n",
      " 0   id       100000 non-null  object \n",
      " 1   f0       100000 non-null  float64\n",
      " 2   f1       100000 non-null  float64\n",
      " 3   f2       100000 non-null  float64\n",
      " 4   product  100000 non-null  float64\n",
      "dtypes: float64(4), object(1)\n",
      "memory usage: 3.8+ MB\n"
     ]
    },
    {
     "data": {
      "text/plain": [
       "None"
      ]
     },
     "metadata": {},
     "output_type": "display_data"
    },
    {
     "data": {
      "text/html": [
       "<div>\n",
       "<style scoped>\n",
       "    .dataframe tbody tr th:only-of-type {\n",
       "        vertical-align: middle;\n",
       "    }\n",
       "\n",
       "    .dataframe tbody tr th {\n",
       "        vertical-align: top;\n",
       "    }\n",
       "\n",
       "    .dataframe thead th {\n",
       "        text-align: right;\n",
       "    }\n",
       "</style>\n",
       "<table border=\"1\" class=\"dataframe\">\n",
       "  <thead>\n",
       "    <tr style=\"text-align: right;\">\n",
       "      <th></th>\n",
       "      <th>id</th>\n",
       "      <th>f0</th>\n",
       "      <th>f1</th>\n",
       "      <th>f2</th>\n",
       "      <th>product</th>\n",
       "    </tr>\n",
       "  </thead>\n",
       "  <tbody>\n",
       "    <tr>\n",
       "      <th>0</th>\n",
       "      <td>fwXo0</td>\n",
       "      <td>-1.146987</td>\n",
       "      <td>0.963328</td>\n",
       "      <td>-0.828965</td>\n",
       "      <td>27.758673</td>\n",
       "    </tr>\n",
       "    <tr>\n",
       "      <th>1</th>\n",
       "      <td>WJtFt</td>\n",
       "      <td>0.262778</td>\n",
       "      <td>0.269839</td>\n",
       "      <td>-2.530187</td>\n",
       "      <td>56.069697</td>\n",
       "    </tr>\n",
       "    <tr>\n",
       "      <th>2</th>\n",
       "      <td>ovLUW</td>\n",
       "      <td>0.194587</td>\n",
       "      <td>0.289035</td>\n",
       "      <td>-5.586433</td>\n",
       "      <td>62.871910</td>\n",
       "    </tr>\n",
       "    <tr>\n",
       "      <th>3</th>\n",
       "      <td>q6cA6</td>\n",
       "      <td>2.236060</td>\n",
       "      <td>-0.553760</td>\n",
       "      <td>0.930038</td>\n",
       "      <td>114.572842</td>\n",
       "    </tr>\n",
       "    <tr>\n",
       "      <th>4</th>\n",
       "      <td>WPMUX</td>\n",
       "      <td>-0.515993</td>\n",
       "      <td>1.716266</td>\n",
       "      <td>5.899011</td>\n",
       "      <td>149.600746</td>\n",
       "    </tr>\n",
       "  </tbody>\n",
       "</table>\n",
       "</div>"
      ],
      "text/plain": [
       "      id        f0        f1        f2     product\n",
       "0  fwXo0 -1.146987  0.963328 -0.828965   27.758673\n",
       "1  WJtFt  0.262778  0.269839 -2.530187   56.069697\n",
       "2  ovLUW  0.194587  0.289035 -5.586433   62.871910\n",
       "3  q6cA6  2.236060 -0.553760  0.930038  114.572842\n",
       "4  WPMUX -0.515993  1.716266  5.899011  149.600746"
      ]
     },
     "metadata": {},
     "output_type": "display_data"
    },
    {
     "data": {
      "text/plain": [
       "'\\n'"
      ]
     },
     "metadata": {},
     "output_type": "display_data"
    }
   ],
   "source": [
    "import pandas as pd\n",
    "from sklearn.model_selection import train_test_split\n",
    "from sklearn.linear_model import LinearRegression\n",
    "from sklearn.metrics import mean_squared_error\n",
    "import numpy as np\n",
    "\n",
    "data_0 = pd.read_csv('/datasets/geo_data_0.csv')\n",
    "data_1 = pd.read_csv('/datasets/geo_data_1.csv')\n",
    "data_2 = pd.read_csv('/datasets/geo_data_2.csv')\n",
    "\n",
    "# Verificamos las primeras filas\n",
    "for i, data in enumerate([data_0, data_1, data_2]):\n",
    "    display(f\"Región {i}:\\n\")\n",
    "    display(data.info())\n",
    "    display(data.head(), \"\\n\")"
   ]
  },
  {
   "cell_type": "markdown",
   "metadata": {},
   "source": [
    "### 2"
   ]
  },
  {
   "cell_type": "code",
   "execution_count": 10,
   "metadata": {},
   "outputs": [
    {
     "name": "stdout",
     "output_type": "stream",
     "text": [
      "Región 0:\n",
      "Volumen medio predicho: 92.40\n",
      "RMSE: 37.76\n",
      "\n",
      "Región 1:\n",
      "Volumen medio predicho: 68.71\n",
      "RMSE: 0.89\n",
      "\n",
      "Región 2:\n",
      "Volumen medio predicho: 94.77\n",
      "RMSE: 40.15\n",
      "\n"
     ]
    }
   ],
   "source": [
    "\n",
    "# pase de nuevo las librerias ya que no las estaba detectando \n",
    "import pandas as pd\n",
    "from sklearn.model_selection import train_test_split\n",
    "from sklearn.linear_model import LinearRegression\n",
    "from sklearn.metrics import mean_squared_error\n",
    "import numpy as np\n",
    "\n",
    "def train_and_evaluate(data):\n",
    "    # Seleccione las características (features) y el objetivo (target)\n",
    "    features = data[['f0', 'f1', 'f2']]\n",
    "    target = data['product']\n",
    "    \n",
    "    # Divide los datos en entrenamiento y validación (75% / 25%)\n",
    "    X_train, X_val, y_train, y_val = train_test_split(\n",
    "        features, target, test_size=0.25, random_state=42)\n",
    "    \n",
    "    # Cree y entrenamos el modelo de regresión lineal\n",
    "    model = LinearRegression()\n",
    "    model.fit(X_train, y_train)\n",
    "    \n",
    "    # Realice las predicciones con los datos de validación\n",
    "    y_pred = model.predict(X_val)\n",
    "    \n",
    "    # Calcule el volumen medio predicho y el RMSE\n",
    "    mean_pred = np.mean(y_pred)\n",
    "    rmse = mean_squared_error(y_val, y_pred, squared=False)\n",
    "    \n",
    "    # Imprimi los resultados para verificar que todo este en orden \n",
    "    print(f\"Volumen medio predicho: {mean_pred:.2f}\")\n",
    "    print(f\"RMSE: {rmse:.2f}\")\n",
    "    \n",
    "    # Devuelve las predicciones y valores reales para usarlos luego\n",
    "    return y_val, y_pred\n",
    "\n",
    "# Ejecuta la función para las tres regiones\n",
    "for i, data in enumerate([data_0, data_1, data_2]):\n",
    "    print(f\"Región {i}:\")\n",
    "    y_val, y_pred = train_and_evaluate(data)\n",
    "    print()\n"
   ]
  },
  {
   "cell_type": "markdown",
   "metadata": {},
   "source": [
    "Con este paso nos podemos dar cuenta que a pesar que en la region 1 se producirian menos barriles que en otras regiones,es el mas preciso de los 3, por ende el que mas confianza da ya que realemnte muestra lo que puede ocurrir. o almenos hasta este momento."
   ]
  },
  {
   "cell_type": "markdown",
   "metadata": {},
   "source": [
    "### 3"
   ]
  },
  {
   "cell_type": "code",
   "execution_count": 13,
   "metadata": {},
   "outputs": [
    {
     "name": "stdout",
     "output_type": "stream",
     "text": [
      "Volumen medio predicho: 92.40\n",
      "RMSE: 37.76\n",
      "Volumen medio predicho: 68.71\n",
      "RMSE: 0.89\n",
      "Volumen medio predicho: 94.77\n",
      "RMSE: 40.15\n",
      "Promedio de reservas predichas por región:\n",
      "Región 0: 92.40 unidades\n",
      "Región 1: 68.71 unidades\n",
      "Región 2: 94.77 unidades\n",
      "\n",
      "Para no tener pérdidas, cada pozo debe generar al menos 500 unidades.\n",
      "\n",
      "Región 0 no cumple con el mínimo necesario.\n",
      "Región 1 no cumple con el mínimo necesario.\n",
      "Región 2 no cumple con el mínimo necesario.\n"
     ]
    }
   ],
   "source": [
    "\n",
    "\n",
    "# Umbral mínimo por pozo para evitar pérdidas (cada unidad vale $1000)\n",
    "# 500,000 dólares / 1000 = 500 unidades mínimas por pozo\n",
    "min_units = 500  \n",
    "\n",
    "# Usamos la función del paso anterior para obtener las predicciones\n",
    "# Esto llama a la función train_and_evaluate(data) y saca los valores predichos\n",
    "\n",
    "_, y_pred_0 = train_and_evaluate(data_0)\n",
    "_, y_pred_1 = train_and_evaluate(data_1)\n",
    "_, y_pred_2 = train_and_evaluate(data_2)\n",
    "\n",
    "# Calculamos el volumen medio predicho por región\n",
    "mean_0 = np.mean(y_pred_0)\n",
    "mean_1 = np.mean(y_pred_1)\n",
    "mean_2 = np.mean(y_pred_2)\n",
    "\n",
    "# promedios\n",
    "print(\"Promedio de reservas predichas por región:\")\n",
    "print(f\"Región 0: {mean_0:.2f} unidades\")\n",
    "print(f\"Región 1: {mean_1:.2f} unidades\")\n",
    "print(f\"Región 2: {mean_2:.2f} unidades\\n\")\n",
    "\n",
    "# Comparamos con el umbral mínimo necesario\n",
    "print(f\"Para no tener pérdidas, cada pozo debe generar al menos {min_units} unidades.\\n\")\n",
    "\n",
    "if mean_0 > min_units:\n",
    "    print(\"Región 0 tiene reservas suficientes.\")\n",
    "else:\n",
    "    print(\"Región 0 no cumple con el mínimo necesario.\")\n",
    "\n",
    "if mean_1 > min_units:\n",
    "    print(\"Región 1 tiene reservas suficientes.\")\n",
    "else:\n",
    "    print(\"Región 1 no cumple con el mínimo necesario.\")\n",
    "\n",
    "if mean_2 > min_units:\n",
    "    print(\"Región 2 tiene reservas suficientes.\")\n",
    "else:\n",
    "    print(\"Región 2 no cumple con el mínimo necesario.\")\n"
   ]
  },
  {
   "cell_type": "markdown",
   "metadata": {},
   "source": [
    "### 4\n"
   ]
  },
  {
   "cell_type": "code",
   "execution_count": null,
   "metadata": {},
   "outputs": [
    {
     "name": "stdout",
     "output_type": "stream",
     "text": [
      "Procesando Región 0...\n",
      "Volumen medio predicho: 92.40\n",
      "RMSE: 37.76\n",
      "Ganancia Región 0: $33,591,411\n",
      "\n",
      "Procesando Región 1...\n",
      "Volumen medio predicho: 68.71\n",
      "RMSE: 0.89\n",
      "Ganancia Región 1: $24,150,867\n",
      "\n",
      "Procesando Región 2...\n",
      "Volumen medio predicho: 94.77\n",
      "RMSE: 40.15\n",
      "Ganancia Región 2: $25,985,718\n",
      "\n",
      "La mejor región para inversión es la Región 0 con una ganancia de $33,591,411.14\n"
     ]
    }
   ],
   "source": [
    "\n",
    "\n",
    "def train_and_evaluate(data):\n",
    "    features = data[['f0', 'f1', 'f2']]\n",
    "    target = data['product']\n",
    "    \n",
    "    X_train, X_val, y_train, y_val = train_test_split(\n",
    "        features, target, test_size=0.25, random_state=42)\n",
    "    \n",
    "    model = LinearRegression()\n",
    "    model.fit(X_train, y_train)\n",
    "    \n",
    "    y_pred = model.predict(X_val)\n",
    "    \n",
    "    mean_pred = np.mean(y_pred)\n",
    "    rmse = mean_squared_error(y_val, y_pred, squared=False)\n",
    "    \n",
    "    print(f\"Volumen medio predicho: {mean_pred:.2f}\")\n",
    "    print(f\"RMSE: {rmse:.2f}\")\n",
    "    \n",
    "    return y_val, y_pred\n",
    "# Parámetros económicos\n",
    "unit_price = 4500       # Precio por unidad\n",
    "investment = 100_000_000  # Inversión fija\n",
    "\n",
    "# Guarda los resultados reales y predichos para cada región\n",
    "results = []\n",
    "\n",
    "for i, data in enumerate([data_0, data_1, data_2]):\n",
    "    print(f\"Procesando Región {i}...\")\n",
    "    \n",
    "    # Obtenemos valores reales y predichos usando la función \n",
    "    y_val, y_pred = train_and_evaluate(data)\n",
    "    \n",
    "    # Construi DataFrame con valores reales y predichos\n",
    "    df = pd.DataFrame({\n",
    "        'real': y_val.reset_index(drop=True),\n",
    "        'predicted': y_pred\n",
    "    })\n",
    "    \n",
    "    # Ordene  por valor predicho descendente y seleccionamos los mejores 200 pozos\n",
    "    top_200 = df.sort_values(by='predicted', ascending=False).head(200)\n",
    "    \n",
    "    # Calcule ganancia: suma del volumen real * precio unidad menos inversión\n",
    "    profit = top_200['real'].sum() * unit_price - investment\n",
    "    \n",
    "    print(f\"Ganancia Región {i}: ${profit:,.0f}\\n\")\n",
    "    \n",
    "    results.append(profit)\n",
    "\n",
    "# Elegi la mejor región\n",
    "best_region = np.argmax(results)\n",
    "print(f\"La mejor región para inversión es la Región {best_region} con una ganancia de ${results[best_region]:,.2f}\")\n",
    "\n"
   ]
  },
  {
   "cell_type": "markdown",
   "metadata": {},
   "source": [
    "### 5"
   ]
  },
  {
   "cell_type": "code",
   "execution_count": 8,
   "metadata": {},
   "outputs": [
    {
     "name": "stdout",
     "output_type": "stream",
     "text": [
      "Región 0:\n",
      " Ganancia promedio (bootstrap): 4,156,827.38\n",
      " Intervalo de confianza 95%: [-733044.08938035 9084053.07476741]\n",
      " Riesgo de pérdida: 5.20%\n",
      "\n",
      "Región 1:\n",
      " Ganancia promedio (bootstrap): 4,562,415.95\n",
      " Intervalo de confianza 95%: [ 831356.47111729 8636549.18378317]\n",
      " Riesgo de pérdida: 1.20%\n",
      "\n",
      "Región 2:\n",
      " Ganancia promedio (bootstrap): 3,712,968.25\n",
      " Intervalo de confianza 95%: [-1649635.38613196  8681356.59812661]\n",
      " Riesgo de pérdida: 9.30%\n",
      "\n"
     ]
    }
   ],
   "source": [
    "def calcula_riesgo_y_ganancias_bootstrap(df_val, wells=200, sample_size=500, unit_price=4500, investment=100_000_000, n_bootstrap=1000):\n",
    "    ganancias_bootstrap = []\n",
    "\n",
    "    for _ in range(n_bootstrap):\n",
    "        \n",
    "        muestra = df_val.sample(n=sample_size, replace=True)\n",
    "        \n",
    "       \n",
    "        top_200 = muestra.sort_values(by='predicted', ascending=False).head(wells)\n",
    "        \n",
    "      \n",
    "        ganancia = top_200['real'].sum() * unit_price - investment\n",
    "        ganancias_bootstrap.append(ganancia)\n",
    "\n",
    "    \n",
    "    ganancias_bootstrap = np.array(ganancias_bootstrap)\n",
    "    ganancia_media = ganancias_bootstrap.mean()\n",
    "    intervalo_95 = np.percentile(ganancias_bootstrap, [2.5, 97.5])\n",
    "    riesgo_perdida = np.mean(ganancias_bootstrap < 0) * 100\n",
    "\n",
    "    return ganancia_media, intervalo_95, riesgo_perdida\n",
    "\n",
    "\n",
    "for i, df_val in enumerate(validation_data):\n",
    "    media, intervalo, riesgo = calcula_riesgo_y_ganancias_bootstrap(df_val)\n",
    "    print(f\"Región {i}:\")\n",
    "    print(f\" Ganancia promedio (bootstrap): {media:,.2f}\")\n",
    "    print(f\" Intervalo de confianza 95%: {intervalo}\")\n",
    "    print(f\" Riesgo de pérdida: {riesgo:.2f}%\\n\")\n",
    "\n"
   ]
  },
  {
   "cell_type": "markdown",
   "metadata": {},
   "source": [
    "El bootstrapping nos da a entender que La Región 1 es la que muestra la mayor ganancia media y un riesgo de pérdida del 1.20%, lo que la hace la opción más atractiva para invertir. a diferencia de las otras dos regiones donde tienen un riesgo de perdida un poco mas alto y las ganancias no son tan atractivas.\n"
   ]
  }
 ],
 "metadata": {
  "kernelspec": {
   "display_name": "Python 3 (ipykernel)",
   "language": "python",
   "name": "python3"
  },
  "language_info": {
   "codemirror_mode": {
    "name": "ipython",
    "version": 3
   },
   "file_extension": ".py",
   "mimetype": "text/x-python",
   "name": "python",
   "nbconvert_exporter": "python",
   "pygments_lexer": "ipython3",
   "version": "3.9.22"
  }
 },
 "nbformat": 4,
 "nbformat_minor": 4
}
