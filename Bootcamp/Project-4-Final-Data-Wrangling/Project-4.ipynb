{
 "cells": [
  {
   "cell_type": "markdown",
   "id": "3Xg_RQfnafXz",
   "metadata": {
    "id": "3Xg_RQfnafXz"
   },
   "source": [
    "# ¡Llena ese carrito!"
   ]
  },
  {
   "cell_type": "markdown",
   "id": "mhIvmmkW414q",
   "metadata": {
    "id": "mhIvmmkW414q"
   },
   "source": [
    "# Introducción\n",
    "\n",
    "Instacart es una plataforma de entregas de comestibles donde la clientela puede registrar un pedido y hacer que se lo entreguen, similar a Uber Eats y Door Dash.\n",
    "El conjunto de datos que te hemos proporcionado tiene modificaciones del original. Redujimos el tamaño del conjunto para que tus cálculos se hicieran más rápido e introdujimos valores ausentes y duplicados. Tuvimos cuidado de conservar las distribuciones de los datos originales cuando hicimos los cambios.\n",
    "\n",
    "Debes completar tres pasos. Para cada uno de ellos, escribe una breve introducción que refleje con claridad cómo pretendes resolver cada paso, y escribe párrafos explicatorios que justifiquen tus decisiones al tiempo que avanzas en tu solución.  También escribe una conclusión que resuma tus hallazgos y elecciones.\n"
   ]
  },
  {
   "cell_type": "markdown",
   "id": "3MbyzpOQZ5Or",
   "metadata": {
    "id": "3MbyzpOQZ5Or"
   },
   "source": [
    "## Diccionario de datos\n",
    "\n",
    "Hay cinco tablas en el conjunto de datos, y tendrás que usarlas todas para hacer el preprocesamiento de datos y el análisis exploratorio de datos. A continuación se muestra un diccionario de datos que enumera las columnas de cada tabla y describe los datos que contienen.\n",
    "\n",
    "- `instacart_orders.csv`: cada fila corresponde a un pedido en la aplicación Instacart.\n",
    "    - `'order_id'`: número de ID que identifica de manera única cada pedido.\n",
    "    - `'user_id'`: número de ID que identifica de manera única la cuenta de cada cliente.\n",
    "    - `'order_number'`: el número de veces que este cliente ha hecho un pedido.\n",
    "    - `'order_dow'`: día de la semana en que se hizo el pedido (0 si es domingo).\n",
    "    - `'order_hour_of_day'`: hora del día en que se hizo el pedido.\n",
    "    - `'days_since_prior_order'`: número de días transcurridos desde que este cliente hizo su pedido anterior.\n",
    "- `products.csv`: cada fila corresponde a un producto único que pueden comprar los clientes.\n",
    "    - `'product_id'`: número ID que identifica de manera única cada producto.\n",
    "    - `'product_name'`: nombre del producto.\n",
    "    - `'aisle_id'`: número ID que identifica de manera única cada categoría de pasillo de víveres.\n",
    "    - `'department_id'`: número ID que identifica de manera única cada departamento de víveres.\n",
    "- `order_products.csv`: cada fila corresponde a un artículo pedido en un pedido.\n",
    "    - `'order_id'`: número de ID que identifica de manera única cada pedido.\n",
    "    - `'product_id'`: número ID que identifica de manera única cada producto.\n",
    "    - `'add_to_cart_order'`: el orden secuencial en el que se añadió cada artículo en el carrito.\n",
    "    - `'reordered'`: 0 si el cliente nunca ha pedido este producto antes, 1 si lo ha pedido.\n",
    "- `aisles.csv`\n",
    "    - `'aisle_id'`: número ID que identifica de manera única cada categoría de pasillo de víveres.\n",
    "    - `'aisle'`: nombre del pasillo.\n",
    "- `departments.csv`\n",
    "    - `'department_id'`: número ID que identifica de manera única cada departamento de víveres.\n",
    "    - `'department'`: nombre del departamento."
   ]
  },
  {
   "cell_type": "markdown",
   "id": "n3Ha_cNSZ8lK",
   "metadata": {
    "id": "n3Ha_cNSZ8lK"
   },
   "source": [
    "# Paso 1. Descripción de los datos\n",
    "\n",
    "Lee los archivos de datos (`/datasets/instacart_orders.csv`, `/datasets/products.csv`, `/datasets/aisles.csv`, `/datasets/departments.csv` y `/datasets/order_products.csv`) con `pd.read_csv()` usando los parámetros adecuados para leer los datos correctamente. Verifica la información para cada DataFrame creado.\n"
   ]
  },
  {
   "cell_type": "markdown",
   "id": "OmlQPLlyaAfR",
   "metadata": {
    "id": "OmlQPLlyaAfR"
   },
   "source": [
    "## Plan de solución\n",
    "\n",
    "Escribe aquí tu plan de solución para el Paso 1. Descripción de los datos."
   ]
  },
  {
   "cell_type": "code",
   "execution_count": 1,
   "id": "fbf1adab",
   "metadata": {
    "id": "fbf1adab",
    "trusted": false
   },
   "outputs": [],
   "source": [
    "import pandas as pd # importar librerías"
   ]
  },
  {
   "cell_type": "code",
   "execution_count": 2,
   "id": "ad36396d",
   "metadata": {
    "id": "ad36396d",
    "trusted": false
   },
   "outputs": [],
   "source": [
    "orders = pd.read_csv(\"/datasets/instacart_orders.csv\", sep=\";\")\n",
    "products = pd.read_csv(\"/datasets/products.csv\", sep=\";\")\n",
    "aisles = pd.read_csv(\"/datasets/aisles.csv\", sep=\";\")\n",
    "departments = pd.read_csv(\"/datasets/departments.csv\", sep=\";\")\n",
    "order_products = pd.read_csv(\"/datasets/order_products.csv\", sep=\";\")# leer conjuntos de datos en los DataFrames"
   ]
  },
  {
   "cell_type": "code",
   "execution_count": 3,
   "id": "ad6a1efa",
   "metadata": {
    "id": "ad6a1efa",
    "trusted": false
   },
   "outputs": [
    {
     "name": "stdout",
     "output_type": "stream",
     "text": [
      "<class 'pandas.core.frame.DataFrame'>\n",
      "RangeIndex: 478967 entries, 0 to 478966\n",
      "Data columns (total 6 columns):\n",
      " #   Column                  Non-Null Count   Dtype  \n",
      "---  ------                  --------------   -----  \n",
      " 0   order_id                478967 non-null  int64  \n",
      " 1   user_id                 478967 non-null  int64  \n",
      " 2   order_number            478967 non-null  int64  \n",
      " 3   order_dow               478967 non-null  int64  \n",
      " 4   order_hour_of_day       478967 non-null  int64  \n",
      " 5   days_since_prior_order  450148 non-null  float64\n",
      "dtypes: float64(1), int64(5)\n",
      "memory usage: 21.9 MB\n"
     ]
    }
   ],
   "source": [
    "orders.info(show_counts=True)# mostrar información del DataFrame"
   ]
  },
  {
   "cell_type": "code",
   "execution_count": 4,
   "id": "5130e05e",
   "metadata": {
    "id": "5130e05e",
    "trusted": false
   },
   "outputs": [
    {
     "name": "stdout",
     "output_type": "stream",
     "text": [
      "<class 'pandas.core.frame.DataFrame'>\n",
      "RangeIndex: 49694 entries, 0 to 49693\n",
      "Data columns (total 4 columns):\n",
      " #   Column         Non-Null Count  Dtype \n",
      "---  ------         --------------  ----- \n",
      " 0   product_id     49694 non-null  int64 \n",
      " 1   product_name   48436 non-null  object\n",
      " 2   aisle_id       49694 non-null  int64 \n",
      " 3   department_id  49694 non-null  int64 \n",
      "dtypes: int64(3), object(1)\n",
      "memory usage: 1.5+ MB\n"
     ]
    }
   ],
   "source": [
    "products.info(show_counts=True)# mostrar información del DataFrame"
   ]
  },
  {
   "cell_type": "code",
   "execution_count": 5,
   "id": "d8370c05",
   "metadata": {
    "id": "d8370c05",
    "trusted": false
   },
   "outputs": [
    {
     "name": "stdout",
     "output_type": "stream",
     "text": [
      "<class 'pandas.core.frame.DataFrame'>\n",
      "RangeIndex: 134 entries, 0 to 133\n",
      "Data columns (total 2 columns):\n",
      " #   Column    Non-Null Count  Dtype \n",
      "---  ------    --------------  ----- \n",
      " 0   aisle_id  134 non-null    int64 \n",
      " 1   aisle     134 non-null    object\n",
      "dtypes: int64(1), object(1)\n",
      "memory usage: 2.2+ KB\n"
     ]
    }
   ],
   "source": [
    "aisles.info(show_counts=True)# mostrar información del DataFrame"
   ]
  },
  {
   "cell_type": "code",
   "execution_count": 6,
   "id": "59e2090f",
   "metadata": {
    "id": "59e2090f",
    "trusted": false
   },
   "outputs": [
    {
     "name": "stdout",
     "output_type": "stream",
     "text": [
      "<class 'pandas.core.frame.DataFrame'>\n",
      "RangeIndex: 21 entries, 0 to 20\n",
      "Data columns (total 2 columns):\n",
      " #   Column         Non-Null Count  Dtype \n",
      "---  ------         --------------  ----- \n",
      " 0   department_id  21 non-null     int64 \n",
      " 1   department     21 non-null     object\n",
      "dtypes: int64(1), object(1)\n",
      "memory usage: 464.0+ bytes\n"
     ]
    }
   ],
   "source": [
    "departments.info(show_counts=True)# mostrar información del DataFrame"
   ]
  },
  {
   "cell_type": "code",
   "execution_count": 7,
   "id": "6fc81694",
   "metadata": {
    "id": "6fc81694",
    "trusted": false
   },
   "outputs": [
    {
     "name": "stdout",
     "output_type": "stream",
     "text": [
      "<class 'pandas.core.frame.DataFrame'>\n",
      "RangeIndex: 4545007 entries, 0 to 4545006\n",
      "Data columns (total 4 columns):\n",
      " #   Column             Non-Null Count    Dtype  \n",
      "---  ------             --------------    -----  \n",
      " 0   order_id           4545007 non-null  int64  \n",
      " 1   product_id         4545007 non-null  int64  \n",
      " 2   add_to_cart_order  4544171 non-null  float64\n",
      " 3   reordered          4545007 non-null  int64  \n",
      "dtypes: float64(1), int64(3)\n",
      "memory usage: 138.7 MB\n"
     ]
    }
   ],
   "source": [
    "order_products.info(show_counts=True)# mostrar información del DataFrame"
   ]
  },
  {
   "cell_type": "markdown",
   "id": "3947eed9",
   "metadata": {},
   "source": [
    "<div class=\"alert alert-block alert-danger\">\n",
    "<b>Comentario del revisor (1ra Iteracion)</b> <a class=“tocSkip”></a>\n",
    "\n",
    "Los datos no fueron cargados correctamente Ludwin, si ves en la información mostrada todos tienen una sola fila y tiene textos cómo `order_id;product_id` lo que indica qque para usar `read_csv` debes indicar el separador con `sep=';'` dentro de la llamada a read_csv. Esto está causando errores con las siguientes celdas y veo que tienes dudas sobre los ejercicios por lo que pondré al tanto al equipo sobre esto para que puedan ayudarte de manera personalizada.\n",
    "    \n",
    "Te sugeriría esperar por el contacto de tu CM para que te asignen una tutoría de ser necesario o puedes tomar la iniciativa tú y solicitarla. Saludos!\n",
    "</div>"
   ]
  },
  {
   "cell_type": "markdown",
   "id": "c231bb3f",
   "metadata": {},
   "source": [
    "<div class=\"alert alert-block alert-danger\">\n",
    "<b>Comentario del revisor (2da Iteracion)</b> <a class=“tocSkip”></a>\n",
    "\n",
    "Recuerda que para usar `info()` debes incluir `show_counts=True` cómo se menciona en la descripción del proyecto, de lo contrario tendrás casos cómo este donde no se muestre la cantidad de filas por ser el dataset muy grande.\n",
    "    \n",
    "Además, no es necesario que importes la librería más de una vez, veo que este problema se repite en varios ejercicios por lo que te pediría corregir esa parte\n",
    "</div>"
   ]
  },
  {
   "cell_type": "markdown",
   "id": "1a2da685",
   "metadata": {},
   "source": [
    "<div class=\"alert alert-block alert-success\">\n",
    "<b>Comentario del revisor (3ra Iteracion)</b> <a class=“tocSkip”></a>\n",
    "\n",
    "Muy bien, ahora se muestran los datos para el dataset más grande también\n",
    "</div>"
   ]
  },
  {
   "cell_type": "markdown",
   "id": "t75BD19oaR5f",
   "metadata": {
    "id": "t75BD19oaR5f"
   },
   "source": [
    "## Conclusiones\n",
    "\n",
    "Escribe aquí tus conclusiones intermedias sobre el Paso 1. Descripción de los datos.\n",
    "Con los procesos anteriores podemos importar las librerias solicitadas asi como leer los conjuntos y con ayuda de info verificar la informacion de cada Dataframe. \n"
   ]
  },
  {
   "cell_type": "markdown",
   "id": "8RJHqxVmaVsF",
   "metadata": {
    "id": "8RJHqxVmaVsF"
   },
   "source": [
    "# Paso 2. Preprocesamiento de los datos\n",
    "\n",
    "Preprocesa los datos de la siguiente manera:\n",
    "\n",
    "- Verifica y corrige los tipos de datos (por ejemplo, asegúrate de que las columnas de ID sean números enteros).\n",
    "- Identifica y completa los valores ausentes.\n",
    "- Identifica y elimina los valores duplicados.\n",
    "\n",
    "Asegúrate de explicar qué tipos de valores ausentes y duplicados encontraste, cómo los completaste o eliminaste y por qué usaste esos métodos. ¿Por qué crees que estos valores ausentes y duplicados pueden haber estado presentes en el conjunto de datos?"
   ]
  },
  {
   "cell_type": "markdown",
   "id": "p6poABZQaZYb",
   "metadata": {
    "id": "p6poABZQaZYb"
   },
   "source": [
    "## Plan de solución\n",
    "\n",
    "Escribe aquí tu plan para el Paso 2. Preprocesamiento de los datos.\n",
    "Verificación y corrección de tipos de datos\n",
    "Identificación y eliminación de valores duplicados\n",
    "Identificación y manejo de valores ausentes\n"
   ]
  },
  {
   "cell_type": "markdown",
   "id": "07357848-dc64-4156-9cc3-01ff4365226d",
   "metadata": {
    "id": "07357848-dc64-4156-9cc3-01ff4365226d"
   },
   "source": [
    "## Encuentra y elimina los valores duplicados (y describe cómo tomaste tus decisiones)."
   ]
  },
  {
   "cell_type": "markdown",
   "id": "f179f0a9",
   "metadata": {
    "id": "f179f0a9"
   },
   "source": [
    "### `orders` data frame"
   ]
  },
  {
   "cell_type": "code",
   "execution_count": 8,
   "id": "b99297a5-405a-463d-8535-9adc3da4ad74",
   "metadata": {
    "id": "b99297a5-405a-463d-8535-9adc3da4ad74",
    "trusted": false
   },
   "outputs": [
    {
     "data": {
      "text/plain": [
       "'Duplicados en orders:'"
      ]
     },
     "metadata": {},
     "output_type": "display_data"
    },
    {
     "data": {
      "text/html": [
       "<div>\n",
       "<style scoped>\n",
       "    .dataframe tbody tr th:only-of-type {\n",
       "        vertical-align: middle;\n",
       "    }\n",
       "\n",
       "    .dataframe tbody tr th {\n",
       "        vertical-align: top;\n",
       "    }\n",
       "\n",
       "    .dataframe thead th {\n",
       "        text-align: right;\n",
       "    }\n",
       "</style>\n",
       "<table border=\"1\" class=\"dataframe\">\n",
       "  <thead>\n",
       "    <tr style=\"text-align: right;\">\n",
       "      <th></th>\n",
       "      <th>order_id</th>\n",
       "      <th>user_id</th>\n",
       "      <th>order_number</th>\n",
       "      <th>order_dow</th>\n",
       "      <th>order_hour_of_day</th>\n",
       "      <th>days_since_prior_order</th>\n",
       "    </tr>\n",
       "  </thead>\n",
       "  <tbody>\n",
       "    <tr>\n",
       "      <th>145574</th>\n",
       "      <td>794638</td>\n",
       "      <td>50898</td>\n",
       "      <td>24</td>\n",
       "      <td>3</td>\n",
       "      <td>2</td>\n",
       "      <td>2.0</td>\n",
       "    </tr>\n",
       "    <tr>\n",
       "      <th>223105</th>\n",
       "      <td>2160484</td>\n",
       "      <td>107525</td>\n",
       "      <td>16</td>\n",
       "      <td>3</td>\n",
       "      <td>2</td>\n",
       "      <td>30.0</td>\n",
       "    </tr>\n",
       "    <tr>\n",
       "      <th>230807</th>\n",
       "      <td>1918001</td>\n",
       "      <td>188546</td>\n",
       "      <td>14</td>\n",
       "      <td>3</td>\n",
       "      <td>2</td>\n",
       "      <td>16.0</td>\n",
       "    </tr>\n",
       "    <tr>\n",
       "      <th>266232</th>\n",
       "      <td>1782114</td>\n",
       "      <td>106752</td>\n",
       "      <td>1</td>\n",
       "      <td>3</td>\n",
       "      <td>2</td>\n",
       "      <td>NaN</td>\n",
       "    </tr>\n",
       "    <tr>\n",
       "      <th>273805</th>\n",
       "      <td>1112182</td>\n",
       "      <td>202304</td>\n",
       "      <td>84</td>\n",
       "      <td>3</td>\n",
       "      <td>2</td>\n",
       "      <td>6.0</td>\n",
       "    </tr>\n",
       "    <tr>\n",
       "      <th>284038</th>\n",
       "      <td>2845099</td>\n",
       "      <td>31189</td>\n",
       "      <td>11</td>\n",
       "      <td>3</td>\n",
       "      <td>2</td>\n",
       "      <td>7.0</td>\n",
       "    </tr>\n",
       "    <tr>\n",
       "      <th>311713</th>\n",
       "      <td>1021560</td>\n",
       "      <td>53767</td>\n",
       "      <td>3</td>\n",
       "      <td>3</td>\n",
       "      <td>2</td>\n",
       "      <td>9.0</td>\n",
       "    </tr>\n",
       "    <tr>\n",
       "      <th>321100</th>\n",
       "      <td>408114</td>\n",
       "      <td>68324</td>\n",
       "      <td>4</td>\n",
       "      <td>3</td>\n",
       "      <td>2</td>\n",
       "      <td>18.0</td>\n",
       "    </tr>\n",
       "    <tr>\n",
       "      <th>323900</th>\n",
       "      <td>1919531</td>\n",
       "      <td>191501</td>\n",
       "      <td>32</td>\n",
       "      <td>3</td>\n",
       "      <td>2</td>\n",
       "      <td>7.0</td>\n",
       "    </tr>\n",
       "    <tr>\n",
       "      <th>345917</th>\n",
       "      <td>2232988</td>\n",
       "      <td>82565</td>\n",
       "      <td>1</td>\n",
       "      <td>3</td>\n",
       "      <td>2</td>\n",
       "      <td>NaN</td>\n",
       "    </tr>\n",
       "    <tr>\n",
       "      <th>371905</th>\n",
       "      <td>391768</td>\n",
       "      <td>57671</td>\n",
       "      <td>19</td>\n",
       "      <td>3</td>\n",
       "      <td>2</td>\n",
       "      <td>10.0</td>\n",
       "    </tr>\n",
       "    <tr>\n",
       "      <th>394347</th>\n",
       "      <td>467134</td>\n",
       "      <td>63189</td>\n",
       "      <td>21</td>\n",
       "      <td>3</td>\n",
       "      <td>2</td>\n",
       "      <td>2.0</td>\n",
       "    </tr>\n",
       "    <tr>\n",
       "      <th>411408</th>\n",
       "      <td>1286742</td>\n",
       "      <td>183220</td>\n",
       "      <td>48</td>\n",
       "      <td>3</td>\n",
       "      <td>2</td>\n",
       "      <td>4.0</td>\n",
       "    </tr>\n",
       "    <tr>\n",
       "      <th>415163</th>\n",
       "      <td>2282673</td>\n",
       "      <td>86751</td>\n",
       "      <td>49</td>\n",
       "      <td>3</td>\n",
       "      <td>2</td>\n",
       "      <td>2.0</td>\n",
       "    </tr>\n",
       "    <tr>\n",
       "      <th>441599</th>\n",
       "      <td>2125197</td>\n",
       "      <td>14050</td>\n",
       "      <td>48</td>\n",
       "      <td>3</td>\n",
       "      <td>2</td>\n",
       "      <td>3.0</td>\n",
       "    </tr>\n",
       "  </tbody>\n",
       "</table>\n",
       "</div>"
      ],
      "text/plain": [
       "        order_id  user_id  order_number  order_dow  order_hour_of_day  \\\n",
       "145574    794638    50898            24          3                  2   \n",
       "223105   2160484   107525            16          3                  2   \n",
       "230807   1918001   188546            14          3                  2   \n",
       "266232   1782114   106752             1          3                  2   \n",
       "273805   1112182   202304            84          3                  2   \n",
       "284038   2845099    31189            11          3                  2   \n",
       "311713   1021560    53767             3          3                  2   \n",
       "321100    408114    68324             4          3                  2   \n",
       "323900   1919531   191501            32          3                  2   \n",
       "345917   2232988    82565             1          3                  2   \n",
       "371905    391768    57671            19          3                  2   \n",
       "394347    467134    63189            21          3                  2   \n",
       "411408   1286742   183220            48          3                  2   \n",
       "415163   2282673    86751            49          3                  2   \n",
       "441599   2125197    14050            48          3                  2   \n",
       "\n",
       "        days_since_prior_order  \n",
       "145574                     2.0  \n",
       "223105                    30.0  \n",
       "230807                    16.0  \n",
       "266232                     NaN  \n",
       "273805                     6.0  \n",
       "284038                     7.0  \n",
       "311713                     9.0  \n",
       "321100                    18.0  \n",
       "323900                     7.0  \n",
       "345917                     NaN  \n",
       "371905                    10.0  \n",
       "394347                     2.0  \n",
       "411408                     4.0  \n",
       "415163                     2.0  \n",
       "441599                     3.0  "
      ]
     },
     "metadata": {},
     "output_type": "display_data"
    }
   ],
   "source": [
    "duplicados_orders = orders[orders.duplicated()]\n",
    "display(\"Duplicados en orders:\")\n",
    "display(duplicados_orders) # Revisa si hay pedidos duplicados\n"
   ]
  },
  {
   "cell_type": "markdown",
   "id": "PEkwUX_gvt5A",
   "metadata": {
    "id": "PEkwUX_gvt5A"
   },
   "source": [
    "¿Tienes líneas duplicadas? Si sí, ¿qué tienen en común? \n",
    "Todas las filas duplicadas tienen en común que order_dow (día de la semana del pedido) es 3 y order_hour_of_day (hora del pedido) es 2.\n",
    "Existen valores NaN en days_since_prior_order, lo que podría indicar primeros pedidos o datos faltantes.\n",
    "Los pedidos duplicados pueden estar relacionados con un problema de carga o una duplicación en la fuente de datos."
   ]
  },
  {
   "cell_type": "code",
   "execution_count": 9,
   "id": "0d44de5d",
   "metadata": {
    "id": "0d44de5d",
    "trusted": false
   },
   "outputs": [
    {
     "data": {
      "text/html": [
       "<div>\n",
       "<style scoped>\n",
       "    .dataframe tbody tr th:only-of-type {\n",
       "        vertical-align: middle;\n",
       "    }\n",
       "\n",
       "    .dataframe tbody tr th {\n",
       "        vertical-align: top;\n",
       "    }\n",
       "\n",
       "    .dataframe thead th {\n",
       "        text-align: right;\n",
       "    }\n",
       "</style>\n",
       "<table border=\"1\" class=\"dataframe\">\n",
       "  <thead>\n",
       "    <tr style=\"text-align: right;\">\n",
       "      <th></th>\n",
       "      <th>order_id</th>\n",
       "      <th>user_id</th>\n",
       "      <th>order_number</th>\n",
       "      <th>order_dow</th>\n",
       "      <th>order_hour_of_day</th>\n",
       "      <th>days_since_prior_order</th>\n",
       "    </tr>\n",
       "  </thead>\n",
       "  <tbody>\n",
       "    <tr>\n",
       "      <th>4838</th>\n",
       "      <td>2766110</td>\n",
       "      <td>162084</td>\n",
       "      <td>41</td>\n",
       "      <td>3</td>\n",
       "      <td>2</td>\n",
       "      <td>16.0</td>\n",
       "    </tr>\n",
       "    <tr>\n",
       "      <th>5156</th>\n",
       "      <td>2190225</td>\n",
       "      <td>138285</td>\n",
       "      <td>18</td>\n",
       "      <td>3</td>\n",
       "      <td>2</td>\n",
       "      <td>11.0</td>\n",
       "    </tr>\n",
       "    <tr>\n",
       "      <th>15506</th>\n",
       "      <td>553049</td>\n",
       "      <td>58599</td>\n",
       "      <td>13</td>\n",
       "      <td>3</td>\n",
       "      <td>2</td>\n",
       "      <td>7.0</td>\n",
       "    </tr>\n",
       "    <tr>\n",
       "      <th>18420</th>\n",
       "      <td>382357</td>\n",
       "      <td>120200</td>\n",
       "      <td>19</td>\n",
       "      <td>3</td>\n",
       "      <td>2</td>\n",
       "      <td>11.0</td>\n",
       "    </tr>\n",
       "    <tr>\n",
       "      <th>24691</th>\n",
       "      <td>690242</td>\n",
       "      <td>77357</td>\n",
       "      <td>2</td>\n",
       "      <td>3</td>\n",
       "      <td>2</td>\n",
       "      <td>9.0</td>\n",
       "    </tr>\n",
       "  </tbody>\n",
       "</table>\n",
       "</div>"
      ],
      "text/plain": [
       "       order_id  user_id  order_number  order_dow  order_hour_of_day  \\\n",
       "4838    2766110   162084            41          3                  2   \n",
       "5156    2190225   138285            18          3                  2   \n",
       "15506    553049    58599            13          3                  2   \n",
       "18420    382357   120200            19          3                  2   \n",
       "24691    690242    77357             2          3                  2   \n",
       "\n",
       "       days_since_prior_order  \n",
       "4838                     16.0  \n",
       "5156                     11.0  \n",
       "15506                     7.0  \n",
       "18420                    11.0  \n",
       "24691                     9.0  "
      ]
     },
     "metadata": {},
     "output_type": "display_data"
    },
    {
     "data": {
      "text/plain": [
       "'Número total de pedidos el miércoles a las 2:00 a.m.: 121'"
      ]
     },
     "metadata": {},
     "output_type": "display_data"
    }
   ],
   "source": [
    "# Basándote en tus hallazgos,\n",
    "# Verifica todos los pedidos que se hicieron el miércoles a las 2:00 a.m.\n",
    "\n",
    "# Filtrar pedidos que se hicieron el miércoles a las 2:00 a.m.\n",
    "orders_wednesday_2am = orders[(orders['order_dow'] == 3) & (orders['order_hour_of_day'] == 2)]\n",
    "\n",
    "# Mostrar los primeros registros\n",
    "display(orders_wednesday_2am.head())\n",
    "\n",
    "# Contar cuántos pedidos cumplen con la condición\n",
    "display(f\"Número total de pedidos el miércoles a las 2:00 a.m.: {orders_wednesday_2am.shape[0]}\")\n"
   ]
  },
  {
   "cell_type": "markdown",
   "id": "vu2OWyoqwOx5",
   "metadata": {
    "id": "vu2OWyoqwOx5"
   },
   "source": [
    "¿Qué sugiere este resultado?\n",
    "\n",
    "Son los habitos de compra de los usuarios en la madrugada y es un comportamiento de compra interesante, vemos y nos podemos enfocar en el dia de la seman aque la mayoria de usuarios hicieron el pedido, la hora y cuando fue la ultima vez que cada usuario habia hecho un pedido."
   ]
  },
  {
   "cell_type": "markdown",
   "id": "0ce45ce8",
   "metadata": {},
   "source": [
    "<div class=\"alert alert-block alert-warning\">\n",
    "<b>Comentario del revisor (2da Iteracion)</b> <a class=“tocSkip”></a>\n",
    "\n",
    "Buen trabajo con el filtro y la conclusión, aquí te recomendaría que en lugar de print uses `display()` para mostrar datos tabulares cómo los dataframe ya que así se muestran cómo tabla y no cómo texto\n",
    "</div>"
   ]
  },
  {
   "cell_type": "code",
   "execution_count": 10,
   "id": "480563c7",
   "metadata": {
    "id": "480563c7",
    "trusted": false
   },
   "outputs": [
    {
     "name": "stdout",
     "output_type": "stream",
     "text": [
      "        order_id  user_id  order_number  order_dow  order_hour_of_day  \\\n",
      "0        1515936   183418            11          6                 13   \n",
      "1        1690866   163593             5          5                 12   \n",
      "2        1454967    39980             4          5                 19   \n",
      "3        1768857    82516            56          0                 20   \n",
      "4        3007858   196724             2          4                 12   \n",
      "...          ...      ...           ...        ...                ...   \n",
      "478962   3210681     5617             5          1                 14   \n",
      "478963   3270802   112087             2          3                 13   \n",
      "478964    885349    82944            16          2                 11   \n",
      "478965    216274     4391             3          3                  8   \n",
      "478966   2071924     1730            18          1                 14   \n",
      "\n",
      "        days_since_prior_order  \n",
      "0                         30.0  \n",
      "1                          9.0  \n",
      "2                          2.0  \n",
      "3                         10.0  \n",
      "4                         17.0  \n",
      "...                        ...  \n",
      "478962                     7.0  \n",
      "478963                     6.0  \n",
      "478964                     6.0  \n",
      "478965                     8.0  \n",
      "478966                    15.0  \n",
      "\n",
      "[478952 rows x 6 columns]\n"
     ]
    }
   ],
   "source": [
    "orders_sin_duplicados = orders.drop_duplicates()\n",
    "\n",
    "print(orders_sin_duplicados)# Elimina los pedidos duplicados\n"
   ]
  },
  {
   "cell_type": "code",
   "execution_count": 11,
   "id": "0b2396a2",
   "metadata": {
    "id": "0b2396a2",
    "trusted": false
   },
   "outputs": [
    {
     "name": "stdout",
     "output_type": "stream",
     "text": [
      "Duplicados después de eliminar:\n",
      "Empty DataFrame\n",
      "Columns: [order_id, user_id, order_number, order_dow, order_hour_of_day, days_since_prior_order]\n",
      "Index: []\n"
     ]
    }
   ],
   "source": [
    "duplicados_after = orders_sin_duplicados[orders_sin_duplicados.duplicated()]\n",
    "print(\"Duplicados después de eliminar:\")\n",
    "print(duplicados_after)\n",
    "# Vuelve a verificar si hay filas duplicadas\n"
   ]
  },
  {
   "cell_type": "code",
   "execution_count": 12,
   "id": "f6113ef1",
   "metadata": {
    "id": "f6113ef1",
    "trusted": false
   },
   "outputs": [
    {
     "name": "stdout",
     "output_type": "stream",
     "text": [
      "Empty DataFrame\n",
      "Columns: [order_id, user_id, order_number, order_dow, order_hour_of_day, days_since_prior_order]\n",
      "Index: []\n"
     ]
    }
   ],
   "source": [
    "duplicados_order_ids = orders_sin_duplicados[orders_sin_duplicados.duplicated(subset=['order_id'])]# Vuelve a verificar únicamente si hay IDs duplicados de pedidos\n",
    "print(duplicados_order_ids)"
   ]
  },
  {
   "cell_type": "markdown",
   "id": "5e8905ae",
   "metadata": {
    "id": "5e8905ae"
   },
   "source": [
    "Describe brevemente tus hallazgos y lo que hiciste con ellos\n",
    "l proceso de eliminación de duplicados se llevó a cabo con éxito, y los datos ahora están listos para un análisis posterior sin la influencia de registros repetidos."
   ]
  },
  {
   "cell_type": "markdown",
   "id": "45e6bc46",
   "metadata": {
    "id": "45e6bc46"
   },
   "source": [
    "### `products` data frame"
   ]
  },
  {
   "cell_type": "code",
   "execution_count": 13,
   "id": "5f526b5b-8175-46fa-a0fd-441767d50e64",
   "metadata": {
    "id": "5f526b5b-8175-46fa-a0fd-441767d50e64",
    "trusted": false
   },
   "outputs": [
    {
     "name": "stdout",
     "output_type": "stream",
     "text": [
      "Empty DataFrame\n",
      "Columns: [order_id, user_id, order_number, order_dow, order_hour_of_day, days_since_prior_order]\n",
      "Index: []\n"
     ]
    }
   ],
   "source": [
    "duplicados_totales = orders_sin_duplicados[orders_sin_duplicados.duplicated()]\n",
    "print(duplicados_totales)\n",
    "# Verifica si hay filas totalmente duplicadas\n"
   ]
  },
  {
   "cell_type": "code",
   "execution_count": 14,
   "id": "88daa4f4",
   "metadata": {
    "id": "88daa4f4",
    "trusted": false
   },
   "outputs": [
    {
     "name": "stdout",
     "output_type": "stream",
     "text": [
      "Empty DataFrame\n",
      "Columns: [department_id, department]\n",
      "Index: []\n"
     ]
    }
   ],
   "source": [
    "duplicados_departments = departments[departments.duplicated(subset=['department_id'])]# Revisa únicamente si hay ID de departamentos duplicados\n",
    "print(duplicados_departments)"
   ]
  },
  {
   "cell_type": "code",
   "execution_count": 15,
   "id": "c773f0bf",
   "metadata": {
    "id": "c773f0bf",
    "scrolled": false,
    "trusted": false
   },
   "outputs": [
    {
     "name": "stdout",
     "output_type": "stream",
     "text": [
      "       product_id                                     product_name  aisle_id  \\\n",
      "41             42                                  BIOTIN 1000 MCG        47   \n",
      "185           186       FRESH SCENT DISHWASHER DETERGENT WITH DAWN        74   \n",
      "515           516                           AMERICAN CHEESE SLICES        21   \n",
      "1538         1539                                 CAULIFLOWER HEAD        83   \n",
      "1783         1784              NUTRITION PROTEIN MIX BLUEBERRY NUT       117   \n",
      "...           ...                                              ...       ...   \n",
      "49689       49690                    HIGH PERFORMANCE ENERGY DRINK        64   \n",
      "49690       49691                    ORIGINAL PANCAKE & WAFFLE MIX       130   \n",
      "49691       49692  ORGANIC INSTANT OATMEAL LIGHT MAPLE BROWN SUGAR       130   \n",
      "49692       49693                           SPRING WATER BODY WASH       127   \n",
      "49693       49694                          BURRITO- STEAK & CHEESE        38   \n",
      "\n",
      "       department_id  \n",
      "41                11  \n",
      "185               17  \n",
      "515               16  \n",
      "1538               4  \n",
      "1783              19  \n",
      "...              ...  \n",
      "49689              7  \n",
      "49690             14  \n",
      "49691             14  \n",
      "49692             11  \n",
      "49693              1  \n",
      "\n",
      "[207 rows x 4 columns]\n"
     ]
    }
   ],
   "source": [
    "products['product_name'] = products['product_name'].str.upper()\n",
    "\n",
    "productos_sin_nan = products.dropna(subset=['product_name'])\n",
    "\n",
    "# Verifica si hay productos duplicados\n",
    "duplicados_productos = productos_sin_nan[productos_sin_nan.duplicated(subset=['product_name'], keep=False)]\n",
    "\n",
    "# Muestra los productos duplicados\n",
    "print(duplicados_productos)"
   ]
  },
  {
   "cell_type": "code",
   "execution_count": 16,
   "id": "01efd02e",
   "metadata": {
    "id": "01efd02e",
    "trusted": false
   },
   "outputs": [
    {
     "name": "stdout",
     "output_type": "stream",
     "text": [
      "       product_id                                     product_name\n",
      "41           42.0                                  BIOTIN 1000 MCG\n",
      "185         186.0       FRESH SCENT DISHWASHER DETERGENT WITH DAWN\n",
      "515         516.0                           AMERICAN CHEESE SLICES\n",
      "1538       1539.0                                 CAULIFLOWER HEAD\n",
      "1783       1784.0              NUTRITION PROTEIN MIX BLUEBERRY NUT\n",
      "...           ...                                              ...\n",
      "49689     49690.0                    HIGH PERFORMANCE ENERGY DRINK\n",
      "49690     49691.0                    ORIGINAL PANCAKE & WAFFLE MIX\n",
      "49691     49692.0  ORGANIC INSTANT OATMEAL LIGHT MAPLE BROWN SUGAR\n",
      "49692     49693.0                           SPRING WATER BODY WASH\n",
      "49693     49694.0                          BURRITO- STEAK & CHEESE\n",
      "\n",
      "[207 rows x 2 columns]\n"
     ]
    }
   ],
   "source": [
    "productos_sin_nan = products[products['product_name'].notna()].copy()\n",
    "\n",
    "\n",
    "productos_sin_nan.loc['product_name'] = productos_sin_nan['product_name'].str.upper()\n",
    "\n",
    "# Buscar los productos duplicados\n",
    "duplicados_productos = productos_sin_nan[productos_sin_nan.duplicated(subset=['product_name'], keep=False)]\n",
    "\n",
    "# Mostrar los productos duplicados\n",
    "print(duplicados_productos[['product_id', 'product_name']])"
   ]
  },
  {
   "cell_type": "markdown",
   "id": "9da8d293",
   "metadata": {
    "id": "9da8d293"
   },
   "source": [
    "Describe brevemente tus hallazgos y lo que hiciste con ellos.\n",
    "Se identificaron y eliminaron filas duplicadas en los pedidos, tanto a nivel general como específicamente para los IDs de pedidos. Se verificó si había nombres duplicados de product y se revisaron los nombres de productos no faltantes, igual se mostro los productos duplicados el pasillo de viveres donde se encuentra."
   ]
  },
  {
   "cell_type": "markdown",
   "id": "60f30db1",
   "metadata": {
    "id": "60f30db1"
   },
   "source": [
    "### `departments` data frame"
   ]
  },
  {
   "cell_type": "code",
   "execution_count": 17,
   "id": "fb410ad4-0fbf-4b80-bb09-23fdea79afe3",
   "metadata": {
    "id": "fb410ad4-0fbf-4b80-bb09-23fdea79afe3",
    "trusted": false
   },
   "outputs": [
    {
     "name": "stdout",
     "output_type": "stream",
     "text": [
      "Empty DataFrame\n",
      "Columns: [product_id, product_name, aisle_id, department_id]\n",
      "Index: []\n"
     ]
    }
   ],
   "source": [
    "# Revisa si hay filas totalmente duplicadas\n",
    "duplicados_totales = products[products.duplicated()]\n",
    "\n",
    "# Mostrar las filas completamente duplicadas\n",
    "print(duplicados_totales)"
   ]
  },
  {
   "cell_type": "code",
   "execution_count": 18,
   "id": "332b12bb",
   "metadata": {
    "id": "332b12bb",
    "trusted": false
   },
   "outputs": [
    {
     "name": "stdout",
     "output_type": "stream",
     "text": [
      "Empty DataFrame\n",
      "Columns: [product_id, product_name, aisle_id, department_id]\n",
      "Index: []\n"
     ]
    }
   ],
   "source": [
    "# Revisa únicamente si hay IDs duplicadas de productos\n",
    "duplicados_ids_productos = products[products.duplicated(subset=['product_id'])]\n",
    "\n",
    "# Mostrar los registros con IDs duplicados de productos\n",
    "print(duplicados_ids_productos)"
   ]
  },
  {
   "cell_type": "markdown",
   "id": "bd30d78e",
   "metadata": {
    "id": "bd30d78e"
   },
   "source": [
    "Describe brevemente tus hallazgos y lo que hiciste con ellos. En ninguno de los dos casos hay filas duplicadas"
   ]
  },
  {
   "cell_type": "markdown",
   "id": "889349c1",
   "metadata": {
    "id": "889349c1"
   },
   "source": [
    "### `aisles` data frame"
   ]
  },
  {
   "cell_type": "code",
   "execution_count": 19,
   "id": "9da89fb9-4679-40f5-ad0d-c34df753a3f8",
   "metadata": {
    "id": "9da89fb9-4679-40f5-ad0d-c34df753a3f8",
    "trusted": false
   },
   "outputs": [
    {
     "name": "stdout",
     "output_type": "stream",
     "text": [
      "Empty DataFrame\n",
      "Columns: [aisle_id, aisle]\n",
      "Index: []\n"
     ]
    }
   ],
   "source": [
    "duplicados_totales = aisles[aisles.duplicated()]\n",
    "print(duplicados_totales)# Revisa si hay filas totalmente duplicadas"
   ]
  },
  {
   "cell_type": "code",
   "execution_count": 20,
   "id": "da7c2822",
   "metadata": {
    "id": "da7c2822",
    "trusted": false
   },
   "outputs": [
    {
     "name": "stdout",
     "output_type": "stream",
     "text": [
      "Empty DataFrame\n",
      "Columns: [aisle_id, aisle]\n",
      "Index: []\n"
     ]
    }
   ],
   "source": [
    "duplicados_ids_pasillos = aisles[aisles.duplicated(subset=['aisle_id'])]\n",
    "print(duplicados_ids_pasillos)# Revisa únicamente si hay IDs duplicadas de pasillos"
   ]
  },
  {
   "cell_type": "markdown",
   "id": "ac63826f",
   "metadata": {
    "id": "ac63826f"
   },
   "source": [
    "Describe brevemente tus hallazgos y lo que hiciste con ellos.\n",
    "No hay filas duplicadas ni IDS"
   ]
  },
  {
   "cell_type": "markdown",
   "id": "274cd06a",
   "metadata": {
    "id": "274cd06a"
   },
   "source": [
    "### `order_products` data frame"
   ]
  },
  {
   "cell_type": "code",
   "execution_count": 21,
   "id": "52326689-84a8-4b8f-a881-7c68780f62c9",
   "metadata": {
    "id": "52326689-84a8-4b8f-a881-7c68780f62c9",
    "trusted": false
   },
   "outputs": [
    {
     "name": "stdout",
     "output_type": "stream",
     "text": [
      "Empty DataFrame\n",
      "Columns: [order_id, product_id, add_to_cart_order, reordered]\n",
      "Index: []\n"
     ]
    }
   ],
   "source": [
    "duplicados_order_products = order_products[order_products.duplicated()]\n",
    "\n",
    "# Mostrar los resultados\n",
    "\n",
    "print(duplicados_order_products)# Revisa si hay filas totalmente duplicadas\n"
   ]
  },
  {
   "cell_type": "code",
   "execution_count": 22,
   "id": "7b861391",
   "metadata": {
    "id": "7b861391",
    "trusted": false
   },
   "outputs": [
    {
     "name": "stdout",
     "output_type": "stream",
     "text": [
      "Empty DataFrame\n",
      "Columns: [order_id, product_id, add_to_cart_order, reordered]\n",
      "Index: []\n"
     ]
    }
   ],
   "source": [
    "duplicados_en_order_products = order_products[order_products.duplicated(subset=['order_id', 'product_id'])]\n",
    "print(duplicados_en_order_products)\n",
    "# Vuelve a verificar si hay cualquier otro duplicado engañoso\n"
   ]
  },
  {
   "cell_type": "markdown",
   "id": "0b890492",
   "metadata": {
    "id": "0b890492"
   },
   "source": [
    "Describe brevemente tus hallazgos y lo que hiciste con ellos.\n",
    "No hay duplicados"
   ]
  },
  {
   "cell_type": "markdown",
   "id": "1e46de76",
   "metadata": {
    "id": "1e46de76"
   },
   "source": [
    "## Encuentra y elimina los valores ausentes\n",
    "\n",
    "Al trabajar con valores duplicados, pudimos observar que también nos falta investigar valores ausentes:\n",
    "\n",
    "* La columna `'product_name'` de la tabla products.\n",
    "* La columna `'days_since_prior_order'` de la tabla orders.\n",
    "* La columna `'add_to_cart_order'` de la tabla order_productos."
   ]
  },
  {
   "cell_type": "markdown",
   "id": "c0aebd78",
   "metadata": {
    "id": "c0aebd78"
   },
   "source": [
    "### `products` data frame"
   ]
  },
  {
   "cell_type": "code",
   "execution_count": 23,
   "id": "fe4a8b0f",
   "metadata": {
    "id": "fe4a8b0f",
    "trusted": false
   },
   "outputs": [
    {
     "name": "stdout",
     "output_type": "stream",
     "text": [
      "       product_id product_name  aisle_id  department_id\n",
      "37             38          NaN       100             21\n",
      "71             72          NaN       100             21\n",
      "109           110          NaN       100             21\n",
      "296           297          NaN       100             21\n",
      "416           417          NaN       100             21\n",
      "...           ...          ...       ...            ...\n",
      "49552       49553          NaN       100             21\n",
      "49574       49575          NaN       100             21\n",
      "49640       49641          NaN       100             21\n",
      "49663       49664          NaN       100             21\n",
      "49668       49669          NaN       100             21\n",
      "\n",
      "[1258 rows x 4 columns]\n"
     ]
    }
   ],
   "source": [
    "valores_ausentes_product_name = products[products['product_name'].isna()]\n",
    "print(valores_ausentes_product_name)# Encuentra los valores ausentes en la columna 'product_name'"
   ]
  },
  {
   "cell_type": "markdown",
   "id": "-A6x1AbJhjkp",
   "metadata": {
    "id": "-A6x1AbJhjkp"
   },
   "source": [
    "Describe brevemente cuáles son tus hallazgos.\n",
    "He encontrado que el DataFrame products contiene 1,258 filas con valores ausentes en la columna product_name. Estos valores NaN indican que algunos productos no tienen un nombre asignado. Esto podría ser el resultado de un error en el proceso de carga de datos o de productos que no se han registrado correctamente en la base de datos."
   ]
  },
  {
   "cell_type": "code",
   "execution_count": 24,
   "id": "e96167bc",
   "metadata": {
    "id": "e96167bc",
    "trusted": false
   },
   "outputs": [
    {
     "name": "stdout",
     "output_type": "stream",
     "text": [
      "Si, todos los productos ausentes estan relacionados con el pasillo con ID 100.\n"
     ]
    }
   ],
   "source": [
    "# ¿Todos los nombres de productos ausentes están relacionados con el pasillo con ID 100?\n",
    "\n",
    "productos_con_nan = products[products['product_name'].isna()]\n",
    "\n",
    "todos_en_pasillo_100 = (productos_con_nan['aisle_id'] == 100).all()\n",
    "\n",
    "if todos_en_pasillo_100:\n",
    "    print(\"Si, todos los productos ausentes estan relacionados con el pasillo con ID 100.\")\n",
    "else:\n",
    "    print(\"No, no todos los productos ausentes estan en el pasillo con ID 100.\")\n"
   ]
  },
  {
   "cell_type": "code",
   "execution_count": 25,
   "id": "8fd0a541",
   "metadata": {
    "id": "8fd0a541",
    "trusted": false
   },
   "outputs": [
    {
     "name": "stdout",
     "output_type": "stream",
     "text": [
      "Si, todos los productos ausentes estan relacionados con el pasillo con ID 21.\n"
     ]
    }
   ],
   "source": [
    "productos_con_nan = products[products['department_id'].isna()]\n",
    "\n",
    "department_21= (productos_con_nan['department_id'] == 21).all()\n",
    "\n",
    "if department_21 :\n",
    "    print(\"Si, todos los productos ausentes estan relacionados con el pasillo con ID 21.\")\n",
    "else:\n",
    "    print(\"No, no todos los productos ausentes estan en el pasillo con ID 21.\")# ¿Todos los nombres de productos ausentes están relacionados con el departamento con ID 21?\n"
   ]
  },
  {
   "cell_type": "markdown",
   "id": "qDpdYn1Fht_I",
   "metadata": {
    "id": "qDpdYn1Fht_I"
   },
   "source": [
    "Describe brevemente cuáles son tus hallazgos.\n",
    "\n",
    "Al revisar los productos con nombres ausentes, encontré que todos los productos sin nombre están relacionados con el departamento con ID 21. Esto indica que la falta de nombres en estos productos está vinculada a ese departamento específico, lo que podría sugerir un problema o patrón en los datos de ese departamento."
   ]
  },
  {
   "cell_type": "code",
   "execution_count": 26,
   "id": "325c3464",
   "metadata": {
    "id": "325c3464",
    "trusted": false
   },
   "outputs": [
    {
     "name": "stdout",
     "output_type": "stream",
     "text": [
      "Datos del pasillo con ID 100:\n",
      "    aisle_id    aisle\n",
      "99       100  missing\n",
      "\n",
      "Datos del departamento con ID 21:\n",
      "    department_id department\n",
      "20             21    missing\n"
     ]
    }
   ],
   "source": [
    "# Usa las tablas department y aisle para revisar los datos del pasillo con ID 100 y el departamento con ID 21.\n",
    "# Filtrar el pasillo con ID 100\n",
    "pasillo_100 = aisles[aisles['aisle_id'] == 100]\n",
    "\n",
    "# Filtrar el departamento con ID 21\n",
    "departamento_21 = departments[departments['department_id'] == 21]\n",
    "\n",
    "# Mostrar los resultados\n",
    "print(\"Datos del pasillo con ID 100:\")\n",
    "print(pasillo_100)\n",
    "\n",
    "print(\"\\nDatos del departamento con ID 21:\")\n",
    "print(departamento_21)\n"
   ]
  },
  {
   "cell_type": "markdown",
   "id": "nqhSTUPhhvEJ",
   "metadata": {
    "id": "nqhSTUPhhvEJ"
   },
   "source": [
    "Describe brevemente cuáles son tus hallazgos.\n",
    "\n"
   ]
  },
  {
   "cell_type": "code",
   "execution_count": 27,
   "id": "6b295120",
   "metadata": {
    "id": "6b295120",
    "trusted": false
   },
   "outputs": [
    {
     "name": "stdout",
     "output_type": "stream",
     "text": [
      "0\n"
     ]
    }
   ],
   "source": [
    "products['product_name'] = products['product_name'].fillna('Unknown')# Completa los nombres de productos ausentes con 'Unknown'\n",
    "# Verificar que los valores ausentes han sido reemplazados\n",
    "print(products['product_name'].isna().sum())"
   ]
  },
  {
   "cell_type": "markdown",
   "id": "fc70e5ad",
   "metadata": {
    "id": "fc70e5ad"
   },
   "source": [
    "Describe brevemente tus hallazgos y lo que hiciste con ellos.\n",
    "Al identificar los productos con nombres ausentes en la columna product_name, decidí reemplazar esos valores NaN con la palabra 'Unknown' para evitar que los productos sin nombre afectaran el análisis. "
   ]
  },
  {
   "cell_type": "markdown",
   "id": "7eb45c86",
   "metadata": {
    "id": "7eb45c86"
   },
   "source": [
    "### `orders` data frame"
   ]
  },
  {
   "cell_type": "code",
   "execution_count": 28,
   "id": "93e41d96",
   "metadata": {
    "id": "93e41d96",
    "trusted": false
   },
   "outputs": [
    {
     "name": "stdout",
     "output_type": "stream",
     "text": [
      "        order_id  user_id  order_number  order_dow  order_hour_of_day  \\\n",
      "0          False    False         False      False              False   \n",
      "1          False    False         False      False              False   \n",
      "2          False    False         False      False              False   \n",
      "3          False    False         False      False              False   \n",
      "4          False    False         False      False              False   \n",
      "...          ...      ...           ...        ...                ...   \n",
      "478962     False    False         False      False              False   \n",
      "478963     False    False         False      False              False   \n",
      "478964     False    False         False      False              False   \n",
      "478965     False    False         False      False              False   \n",
      "478966     False    False         False      False              False   \n",
      "\n",
      "        days_since_prior_order  \n",
      "0                        False  \n",
      "1                        False  \n",
      "2                        False  \n",
      "3                        False  \n",
      "4                        False  \n",
      "...                        ...  \n",
      "478962                   False  \n",
      "478963                   False  \n",
      "478964                   False  \n",
      "478965                   False  \n",
      "478966                   False  \n",
      "\n",
      "[478967 rows x 6 columns]\n"
     ]
    }
   ],
   "source": [
    "valores_ausentes = orders.isna()\n",
    "print(valores_ausentes)# Encuentra los valores ausentes"
   ]
  },
  {
   "cell_type": "code",
   "execution_count": 29,
   "id": "166e5a86",
   "metadata": {
    "id": "166e5a86",
    "trusted": false
   },
   "outputs": [],
   "source": [
    "valores_ausentes_days_since_prior = orders[orders['days_since_prior_order'].isna()]\n",
    "\n",
    "# Verificar si estos registros corresponden a los primeros pedidos de los clientes\n",
    "primer_pedido_cliente = valores_ausentes_days_since_prior['order_number'] == 1\n",
    "\n",
    "# Comprobar si hay valores ausentes que no sean el primer pedido\n",
    "valores_ausentes_no_primer_pedido = valores_ausentes_days_since_prior[~primer_pedido_cliente]# ¿Hay algún valor ausente que no sea el primer pedido del cliente?\n"
   ]
  },
  {
   "cell_type": "markdown",
   "id": "4e23d089",
   "metadata": {
    "id": "4e23d089"
   },
   "source": [
    "Describe brevemente tus hallazgos y lo que hiciste con ellos.\n",
    "Al investigar los valores ausentes en la columna days_since_prior_order, descubrí que todos los valores ausentes están asociados con el primer pedido de cada cliente, lo cual es esperado, ya que no hay un pedido anterior para esos registros."
   ]
  },
  {
   "cell_type": "markdown",
   "id": "69dc9ca4",
   "metadata": {
    "id": "69dc9ca4"
   },
   "source": [
    "### `order_products` data frame"
   ]
  },
  {
   "cell_type": "code",
   "execution_count": 30,
   "id": "b8240253",
   "metadata": {
    "id": "b8240253",
    "trusted": false
   },
   "outputs": [
    {
     "name": "stdout",
     "output_type": "stream",
     "text": [
      "         order_id  product_id  add_to_cart_order  reordered\n",
      "0           False       False              False      False\n",
      "1           False       False              False      False\n",
      "2           False       False              False      False\n",
      "3           False       False              False      False\n",
      "4           False       False              False      False\n",
      "...           ...         ...                ...        ...\n",
      "4545002     False       False              False      False\n",
      "4545003     False       False              False      False\n",
      "4545004     False       False              False      False\n",
      "4545005     False       False              False      False\n",
      "4545006     False       False              False      False\n",
      "\n",
      "[4545007 rows x 4 columns]\n"
     ]
    }
   ],
   "source": [
    "valores_ausentes_order_products = order_products.isna()\n",
    "print(valores_ausentes_order_products)\n",
    "# Encuentra los valores ausentes"
   ]
  },
  {
   "cell_type": "code",
   "execution_count": 31,
   "id": "9a78e5ee",
   "metadata": {
    "id": "9a78e5ee",
    "trusted": false
   },
   "outputs": [
    {
     "name": "stdout",
     "output_type": "stream",
     "text": [
      "Valor mínimo de 'add_to_cart_order': 1.0\n",
      "Valor máximo de 'add_to_cart_order': 64.0\n"
     ]
    }
   ],
   "source": [
    "minimo_add_to_cart_order = order_products['add_to_cart_order'].min()\n",
    "maximo_add_to_cart_order = order_products['add_to_cart_order'].max()# ¿Cuáles son los valores mínimos y máximos en esta columna?\n",
    "\n",
    "print(f\"Valor mínimo de 'add_to_cart_order': {minimo_add_to_cart_order}\")\n",
    "print(f\"Valor máximo de 'add_to_cart_order': {maximo_add_to_cart_order}\")"
   ]
  },
  {
   "cell_type": "markdown",
   "id": "-Z2Ja215jW78",
   "metadata": {
    "id": "-Z2Ja215jW78"
   },
   "source": [
    "Describe brevemente cuáles son tus hallazgos.\n",
    "Estos datos pueden ayudarte a entender el comportamiento de compra de los usuarios y a identificar patrones o anomalías en el proceso de selección de productos."
   ]
  },
  {
   "cell_type": "code",
   "execution_count": 32,
   "id": "ab9d0c2b",
   "metadata": {
    "id": "ab9d0c2b",
    "trusted": false
   },
   "outputs": [
    {
     "name": "stdout",
     "output_type": "stream",
     "text": [
      "[2449164 1968313 2926893 1717990 1959075  844733   61355  936852  264710\n",
      " 1564093  129627  293169 2849370 1386261 3308010  903110 2136777 3347453\n",
      " 1888628  165801 2094761 1038146 2997021  813364 2256933  171934 2409109\n",
      " 1730767 1169835  733526  404157 3125735  747668 1800005 1961723  871281\n",
      "  388234 1648217 1477139  102236 1021563 1832957 2721963  678116 1220886\n",
      " 1673227 2999801 1633337 2470674 2625444 1677118 2479011 3383594 1183255\n",
      " 1713430 2652650 1598369 1916118  854647 1302315  888470  180546 2621907\n",
      " 1308785 2729254    9310 2170451 2979697 1625713 1529171]\n"
     ]
    }
   ],
   "source": [
    "pedidos_ausentes_add_to_cart_order = order_products[order_products['add_to_cart_order'].isna()]\n",
    "\n",
    "ids_pedidos_ausentes = pedidos_ausentes_add_to_cart_order['order_id'].unique()# Guarda todas las IDs de pedidos que tengan un valor ausente en 'add_to_cart_order'\n",
    "\n",
    "print(ids_pedidos_ausentes)"
   ]
  },
  {
   "cell_type": "code",
   "execution_count": 33,
   "id": "54c31695",
   "metadata": {
    "id": "54c31695",
    "trusted": false
   },
   "outputs": [
    {
     "name": "stdout",
     "output_type": "stream",
     "text": [
      "Pedidos con más de 64 productos y valores ausentes en 'add_to_cart_order':\n",
      "order_id\n",
      "9310        65\n",
      "61355      127\n",
      "102236      95\n",
      "129627      69\n",
      "165801      70\n",
      "          ... \n",
      "2999801     70\n",
      "3125735     86\n",
      "3308010    115\n",
      "3347453     71\n",
      "3383594     69\n",
      "Name: product_id, Length: 70, dtype: int64\n"
     ]
    }
   ],
   "source": [
    "\n",
    "pedidos_ausentes = order_products[order_products['add_to_cart_order'].isna()]\n",
    "\n",
    "ids_pedidos_ausentes = pedidos_ausentes['order_id'].unique()\n",
    "\n",
    "productos_ausentes = order_products[order_products['order_id'].isin(ids_pedidos_ausentes)]\n",
    "\n",
    "conteo_productos_pedidos_ausentes = productos_ausentes.groupby('order_id')['product_id'].count()\n",
    "\n",
    "pedidos_mayores_a_64 = conteo_productos_pedidos_ausentes[conteo_productos_pedidos_ausentes > 64]\n",
    "\n",
    "print(f\"Pedidos con más de 64 productos y valores ausentes en 'add_to_cart_order':\\n{pedidos_mayores_a_64}\")# Verificar si hay algún pedido con más de 64 productos\n"
   ]
  },
  {
   "cell_type": "markdown",
   "id": "p9V6pddtjglj",
   "metadata": {
    "id": "p9V6pddtjglj"
   },
   "source": [
    "Describe brevemente cuáles son tus hallazgos.\n",
    "El resultado nos indica que no hay pedidos con más de 64 productos entre aquellos que tienen valores ausentes en la columna add_to_cart_order."
   ]
  },
  {
   "cell_type": "code",
   "execution_count": 34,
   "id": "7a987d08",
   "metadata": {
    "id": "7a987d08",
    "trusted": false
   },
   "outputs": [
    {
     "name": "stdout",
     "output_type": "stream",
     "text": [
      "int64\n"
     ]
    }
   ],
   "source": [
    "order_products['add_to_cart_order'] = order_products['add_to_cart_order'].fillna(0).astype(int)\n",
    "\n",
    "# Verificar el cambio\n",
    "print(order_products['add_to_cart_order'].dtype)\n"
   ]
  },
  {
   "cell_type": "markdown",
   "id": "fea4bcc7",
   "metadata": {
    "id": "fea4bcc7"
   },
   "source": [
    "Describe brevemente tus hallazgos y lo que hiciste con ellos. add to cart ha sido convertida a numeros enteros y al igual que no hubo pedidos con mas de 64 productos, nos ayuda a tomar en cuanto cuantos productos son los que realmente adquieren los clientes."
   ]
  },
  {
   "cell_type": "markdown",
   "id": "RnplPFY1gSrb",
   "metadata": {
    "id": "RnplPFY1gSrb"
   },
   "source": [
    "## Conclusiones\n",
    "\n",
    "Escribe aquí tus conclusiones intermedias sobre el Paso 2. Preprocesamiento de los datos\n",
    "El Paso 2 ha sido de gran utilidad ya que hemos podido darnos cuenta de cuales son nuestros productos duplicados en que horarios o dias fueron consumidos con mayor frecuencia al igual que investigamos nuestros valores ausentes en otras columnas  y esto es muy importante ya que nos da a entender que podria ser el resultado de un error en el proceso de carga de datos o de productos que no se han registrado correctamente en la base de datos.\n"
   ]
  },
  {
   "cell_type": "markdown",
   "id": "UjrOIwTcz3ri",
   "metadata": {
    "id": "UjrOIwTcz3ri"
   },
   "source": [
    "# Paso 3. Análisis de los datos\n",
    "\n",
    "Una vez los datos estén procesados y listos, haz el siguiente análisis:"
   ]
  },
  {
   "cell_type": "markdown",
   "id": "turkish-kidney",
   "metadata": {
    "id": "turkish-kidney"
   },
   "source": [
    "# [A] Fácil (deben completarse todos para aprobar)\n",
    "\n",
    "1. Verifica que los valores en las columnas `'order_hour_of_day'` y `'order_dow'` en la tabla orders sean razonables (es decir, `'order_hour_of_day'` oscile entre 0 y 23 y `'order_dow'` oscile entre 0 y 6).\n",
    "2. Crea un gráfico que muestre el número de personas que hacen pedidos dependiendo de la hora del día.\n",
    "3. Crea un gráfico que muestre qué día de la semana la gente hace sus compras.\n",
    "4. Crea un gráfico que muestre el tiempo que la gente espera hasta hacer su siguiente pedido, y comenta sobre los valores mínimos y máximos."
   ]
  },
  {
   "cell_type": "markdown",
   "id": "short-capability",
   "metadata": {
    "id": "short-capability"
   },
   "source": [
    "### [A1] Verifica que los valores sean sensibles"
   ]
  },
  {
   "cell_type": "code",
   "execution_count": 35,
   "id": "growing-fruit",
   "metadata": {
    "id": "growing-fruit",
    "trusted": false
   },
   "outputs": [
    {
     "name": "stdout",
     "output_type": "stream",
     "text": [
      "Valores fuera de rango en 'order_hour_of_day':\n",
      "Empty DataFrame\n",
      "Columns: [order_id, user_id, order_number, order_dow, order_hour_of_day, days_since_prior_order]\n",
      "Index: []\n",
      "Valores fuera de rango en 'order_dow':\n",
      "Empty DataFrame\n",
      "Columns: [order_id, user_id, order_number, order_dow, order_hour_of_day, days_since_prior_order]\n",
      "Index: []\n"
     ]
    }
   ],
   "source": [
    "# Verifica que los valores en las columnas 'order_hour_of_day' y 'order_dow' en la tabla orders sean razonables (es decir, 'order_hour_of_day' oscile entre 0 y 23 y 'order_dow' oscile entre 0 y 6).\n",
    "horas_invalidas = orders[(orders['order_hour_of_day'] < 0) | (orders['order_hour_of_day'] > 23)]\n",
    "print(\"Valores fuera de rango en 'order_hour_of_day':\")\n",
    "print(horas_invalidas)\n",
    "\n",
    "\n",
    "dias_invalidos = orders[(orders['order_dow'] < 0) | (orders['order_dow'] > 6)]\n",
    "print(\"Valores fuera de rango en 'order_dow':\")\n",
    "print(dias_invalidos)"
   ]
  },
  {
   "cell_type": "markdown",
   "id": "hmR2GNQ6lCsX",
   "metadata": {
    "id": "hmR2GNQ6lCsX"
   },
   "source": [
    "Escribe aquí tus conclusiones El resultado que ves indica que no hay valores fuera de rango en las columnas order_hour_of_day y order_dow. Es decir, todos los valores en esas columnas están dentro de los rangos esperados.\n",
    "\n",
    "Todos los datos en esas columnas parecen estar correctamente formateados y no requieren correcciones en cuanto a esos rangos."
   ]
  },
  {
   "cell_type": "markdown",
   "id": "a6743a70",
   "metadata": {
    "id": "a6743a70"
   },
   "source": [
    "### [A2] Para cada hora del día, ¿cuántas personas hacen órdenes?"
   ]
  },
  {
   "cell_type": "code",
   "execution_count": 36,
   "id": "a36cca27",
   "metadata": {
    "id": "a36cca27",
    "scrolled": true,
    "trusted": false
   },
   "outputs": [
    {
     "data": {
      "image/png": "[encoded data removed]",
      "text/plain": [
       "<Figure size 1000x600 with 1 Axes>"
      ]
     },
     "metadata": {},
     "output_type": "display_data"
    }
   ],
   "source": [
    "import pandas as pd\n",
    "import matplotlib.pyplot as plt\n",
    "\n",
    "# Contamos el número de pedidos por cada hora del día, considerando solo el 'user_id' para evitar duplicados\n",
    "ordenes_por_hora = orders.groupby('order_hour_of_day')['user_id'].nunique()\n",
    "\n",
    "# Graficamos la distribución de los pedidos por hora del día\n",
    "plt.figure(figsize=(10, 6))\n",
    "ordenes_por_hora.plot(kind='bar', edgecolor='black')\n",
    "plt.title('Número de personas que hicieron órdenes por hora del día')\n",
    "plt.xlabel('Hora del día')\n",
    "plt.ylabel('Número de personas (órdenes)')\n",
    "plt.xticks(rotation=0)\n",
    "plt.show()"
   ]
  },
  {
   "cell_type": "markdown",
   "id": "11270eed",
   "metadata": {
    "id": "11270eed"
   },
   "source": [
    "Escribe aquí tus conclusiones el numero de personas aumenta en ciertas horas del dia apartir de las 8 y a las 17 comienza a bajar el numero de ordenes, por lo tanto seria bueno saber en que momento del dia es mejor incrementar la produccion para siempre cumplir con los pedidos."
   ]
  },
  {
   "cell_type": "markdown",
   "id": "documented-command",
   "metadata": {
    "id": "documented-command"
   },
   "source": [
    "### [A3] ¿Qué día de la semana compran víveres las personas?"
   ]
  },
  {
   "cell_type": "code",
   "execution_count": 37,
   "id": "chief-digit",
   "metadata": {
    "id": "chief-digit",
    "trusted": false
   },
   "outputs": [
    {
     "name": "stdout",
     "output_type": "stream",
     "text": [
      "<class 'pandas.core.frame.DataFrame'>\n",
      "RangeIndex: 478967 entries, 0 to 478966\n",
      "Data columns (total 6 columns):\n",
      " #   Column                  Non-Null Count   Dtype  \n",
      "---  ------                  --------------   -----  \n",
      " 0   order_id                478967 non-null  int64  \n",
      " 1   user_id                 478967 non-null  int64  \n",
      " 2   order_number            478967 non-null  int64  \n",
      " 3   order_dow               478967 non-null  int64  \n",
      " 4   order_hour_of_day       478967 non-null  int64  \n",
      " 5   days_since_prior_order  450148 non-null  float64\n",
      "dtypes: float64(1), int64(5)\n",
      "memory usage: 21.9 MB\n"
     ]
    },
    {
     "data": {
      "image/png": "[encoded data removed]",
      "text/plain": [
       "<Figure size 1000x600 with 1 Axes>"
      ]
     },
     "metadata": {},
     "output_type": "display_data"
    },
    {
     "name": "stdout",
     "output_type": "stream",
     "text": [
      "order_dow\n",
      "0    84090\n",
      "1    82185\n",
      "2    65833\n",
      "3    60897\n",
      "4    59810\n",
      "5    63488\n",
      "6    62649\n",
      "Name: order_id, dtype: int64\n"
     ]
    }
   ],
   "source": [
    "\n",
    "\n",
    "orders = pd.read_csv(\"/datasets/instacart_orders.csv\", sep=\";\")\n",
    "\n",
    "\n",
    "orders.info()\n",
    "\n",
    "\n",
    "pedidos_por_dia = orders.groupby('order_dow')['order_id'].nunique()\n",
    "\n",
    "\n",
    "plt.figure(figsize=(10, 6))\n",
    "pedidos_por_dia.plot(kind='bar', edgecolor='black')\n",
    "plt.title('Número de pedidos por día de la semana')\n",
    "plt.xlabel('Día de la semana')\n",
    "plt.ylabel('Número de pedidos')\n",
    "plt.xticks(ticks=range(7), labels=['Lunes', 'Martes', 'Miércoles', 'Jueves', 'Viernes', 'Sábado', 'Domingo'], rotation=0)\n",
    "plt.show()\n",
    "\n",
    "\n",
    "print(pedidos_por_dia)"
   ]
  },
  {
   "cell_type": "markdown",
   "id": "dominant-lightning",
   "metadata": {
    "id": "dominant-lightning"
   },
   "source": [
    "Escribe aquí tus conclusiones los Lunes son los dias con mas pedidos de toda la semana,"
   ]
  },
  {
   "cell_type": "markdown",
   "id": "cutting-concert",
   "metadata": {
    "id": "cutting-concert"
   },
   "source": [
    "### [A4] ¿Cuánto tiempo esperan las personas hasta hacer otro pedido? Comenta sobre los valores mínimos y máximos."
   ]
  },
  {
   "cell_type": "code",
   "execution_count": 38,
   "id": "c231f523",
   "metadata": {
    "id": "c231f523",
    "trusted": false
   },
   "outputs": [
    {
     "name": "stdout",
     "output_type": "stream",
     "text": [
      "count    478967.000000\n",
      "mean         10.433769\n",
      "std           9.292125\n",
      "min           0.000000\n",
      "25%           4.000000\n",
      "50%           7.000000\n",
      "75%          15.000000\n",
      "max          30.000000\n",
      "Name: days_since_prior_order, dtype: float64\n",
      "Valor mínimo de días hasta el siguiente pedido: 0.0\n",
      "Valor máximo de días hasta el siguiente pedido: 30.0\n"
     ]
    },
    {
     "data": {
      "image/png": "[encoded data removed]",
      "text/plain": [
       "<Figure size 1000x500 with 1 Axes>"
      ]
     },
     "metadata": {},
     "output_type": "display_data"
    }
   ],
   "source": [
    "orders['days_since_prior_order'].fillna(0, inplace=True)\n",
    "\n",
    "\n",
    "descripcion_tiempos = orders['days_since_prior_order'].describe()\n",
    "\n",
    "\n",
    "print(descripcion_tiempos)\n",
    "\n",
    "\n",
    "min_value = orders['days_since_prior_order'].min()\n",
    "max_value = orders['days_since_prior_order'].max()\n",
    "\n",
    "print(f\"Valor mínimo de días hasta el siguiente pedido: {min_value}\")\n",
    "print(f\"Valor máximo de días hasta el siguiente pedido: {max_value}\")\n",
    "\n",
    "\n",
    "plt.figure(figsize=(10,5))\n",
    "orders['days_since_prior_order'].value_counts().sort_index().plot(kind='bar', color='skyblue', edgecolor='black')\n",
    "plt.title('Distribución de días hasta el siguiente pedido')\n",
    "plt.xlabel('Días desde el pedido anterior')\n",
    "plt.ylabel('Cantidad de pedidos')\n",
    "plt.xticks(rotation=45)\n",
    "plt.grid(axis='y', linestyle='--', alpha=1.0)\n",
    "plt.show()\n"
   ]
  },
  {
   "cell_type": "markdown",
   "id": "discrete-vertex",
   "metadata": {
    "id": "discrete-vertex"
   },
   "source": [
    "Escribe aquí tus conclusiones La grafica nos muestra un sube y baja constante entre la cantidad de pedidos y los dias desde el pedido anterior, principalmente a paratir de el dia 7 vemos un cremento abrupto pero de igual manera la cantidad de pedidos disminuyo al dia 8 considerablemente. hay que revisar cuales son los factores o las causas porque las personas dejaron de adquirieron tantos pedidos a partir del dia 8 o si solo fue que tenian suficientes pedidos desde los dias anteriores."
   ]
  },
  {
   "cell_type": "markdown",
   "id": "tight-staff",
   "metadata": {
    "id": "tight-staff"
   },
   "source": [
    "# [B] Intermedio (deben completarse todos para aprobar)\n",
    "\n",
    "1. ¿Existe alguna diferencia entre las distribuciones `'order_hour_of_day'` de los miércoles y los sábados? Traza gráficos de barra de `'order_hour_of_day'` para ambos días en la misma figura y describe las diferencias que observes.\n",
    "2. Grafica la distribución para el número de órdenes que hacen los clientes (es decir, cuántos clientes hicieron solo 1 pedido, cuántos hicieron 2, cuántos 3, y así sucesivamente...).\n",
    "3. ¿Cuáles son los 20 principales productos que se piden con más frecuencia (muestra su identificación y nombre)?"
   ]
  },
  {
   "cell_type": "markdown",
   "id": "packed-classic",
   "metadata": {
    "id": "packed-classic"
   },
   "source": [
    "### [B1] Diferencia entre miércoles y sábados para  `'order_hour_of_day'`. Traza gráficos de barra para los dos días y describe las diferencias que veas."
   ]
  },
  {
   "cell_type": "code",
   "execution_count": 39,
   "id": "d89b8403",
   "metadata": {
    "id": "d89b8403",
    "trusted": false
   },
   "outputs": [
    {
     "data": {
      "image/png": "[encoded data removed]",
      "text/plain": [
       "<Figure size 1200x600 with 1 Axes>"
      ]
     },
     "metadata": {},
     "output_type": "display_data"
    }
   ],
   "source": [
    "import numpy as np\n",
    "\n",
    "ordenes_miercoles = orders[orders['order_dow'] == 3]\n",
    "ordenes_sabado = orders[orders['order_dow'] == 6]\n",
    "\n",
    "ordenes_miercoles_por_hora = ordenes_miercoles.groupby('order_hour_of_day')['order_id'].count()\n",
    "ordenes_sabado_por_hora = ordenes_sabado.groupby('order_hour_of_day')['order_id'].count()\n",
    "\n",
    "horas = np.arange(24)  \n",
    "\n",
    "plt.figure(figsize=(12, 6))\n",
    "\n",
    "plt.bar(horas - 0.2, ordenes_miercoles_por_hora, width=0.4, color='skyblue', label='Miércoles')\n",
    "plt.bar(horas + 0.2, ordenes_sabado_por_hora, width=0.4, color='salmon', label='Sábado')\n",
    "\n",
    "plt.title('Órdenes por Hora del Día (Miércoles vs Sábado)')\n",
    "plt.xlabel('Hora del Día')\n",
    "plt.ylabel('Número de Órdenes')\n",
    "plt.xticks(horas)  \n",
    "plt.legend()  \n",
    "plt.grid(axis='y', linestyle='--', alpha=0.7)\n",
    "\n",
    "plt.show()\n"
   ]
  },
  {
   "cell_type": "markdown",
   "id": "charitable-congo",
   "metadata": {
    "id": "charitable-congo"
   },
   "source": [
    "Escribe aquí tus conclusiones, Con esta grafica nos podemos dar cuenta claramente de las diferencias entre el sabado y el miercoles, por momentos el dia sabado tiene una mayr cantidad de pedidos principalmente entre las 11 AM a las 6 PM aunque en los demas horarios no hay tanta diferencia se demuetra que el mejor dia entre estos dos donde se reciben pedidos es el dia sabado."
   ]
  },
  {
   "cell_type": "markdown",
   "id": "e3891143",
   "metadata": {
    "id": "e3891143"
   },
   "source": [
    "### [B2] ¿Cuál es la distribución para el número de pedidos por cliente?"
   ]
  },
  {
   "cell_type": "code",
   "execution_count": 40,
   "id": "d8c26c23",
   "metadata": {
    "id": "d8c26c23",
    "trusted": false
   },
   "outputs": [
    {
     "data": {
      "image/png": "[encoded data removed]",
      "text/plain": [
       "<Figure size 1000x600 with 1 Axes>"
      ]
     },
     "metadata": {},
     "output_type": "display_data"
    }
   ],
   "source": [
    "\n",
    "pedidos_por_cliente = orders.groupby('user_id')['order_id'].nunique()\n",
    "\n",
    "# Grafica\n",
    "plt.figure(figsize=(10, 6))\n",
    "pedidos_por_cliente.plot(kind='hist', bins=range(1, pedidos_por_cliente.max() + 1), edgecolor='black', alpha=0.7)\n",
    "plt.title('Distribución del número de pedidos por cliente')\n",
    "plt.xlabel('Número de pedidos')\n",
    "plt.ylabel('Número de clientes')\n",
    "plt.xticks(range(1, pedidos_por_cliente.max() + 1))\n",
    "plt.show()\n"
   ]
  },
  {
   "cell_type": "markdown",
   "id": "d2eff7d5",
   "metadata": {
    "id": "d2eff7d5"
   },
   "source": [
    "Escribe aquí tus conclusiones, Esta grafica nos demuestra que es mas recurrente que los clientes solo hagan un pedido a que continuen como clientes frecuentes."
   ]
  },
  {
   "cell_type": "markdown",
   "id": "54a0319c",
   "metadata": {
    "id": "54a0319c"
   },
   "source": [
    "### [B3] ¿Cuáles son los 20 productos más populares (muestra su ID y nombre)?"
   ]
  },
  {
   "cell_type": "code",
   "execution_count": 41,
   "id": "exterior-arizona",
   "metadata": {
    "id": "exterior-arizona",
    "scrolled": true,
    "trusted": false
   },
   "outputs": [
    {
     "data": {
      "image/png": "[encoded data removed]",
      "text/plain": [
       "<Figure size 1200x600 with 1 Axes>"
      ]
     },
     "metadata": {},
     "output_type": "display_data"
    }
   ],
   "source": [
    "\n",
    "productos_populares = order_products.groupby('product_id')['order_id'].nunique()\n",
    "\n",
    "productos_populares = productos_populares.sort_values(ascending=False)\n",
    "\n",
    "\n",
    "top_20_productos = productos_populares.head(20)\n",
    "\n",
    "top_20_productos = top_20_productos.reset_index()\n",
    "\n",
    "\n",
    "top_20_productos = top_20_productos.merge(products[['product_id', 'product_name']], on='product_id', how='left')\n",
    "\n",
    "\n",
    "plt.figure(figsize=(12, 6))\n",
    "plt.bar(top_20_productos['product_name'], top_20_productos['order_id'], color='skyblue', edgecolor='black')\n",
    "\n",
    "plt.xlabel('Producto')\n",
    "plt.ylabel('Número de pedidos')\n",
    "plt.title('Top 20 productos más populares')\n",
    "plt.xticks(rotation=90)\n",
    "plt.show()\n"
   ]
  },
  {
   "cell_type": "markdown",
   "id": "7df00f47",
   "metadata": {
    "id": "7df00f47"
   },
   "source": [
    "Escribe aquí tus conclusiones En esta grafica descendente podemos ver los productos mas importantes y del lado izquierdo el numero de ID aunque no es super preciso podemos apreciar entre que rango de pedidos esta para encontrarlos con mayor facilidad."
   ]
  },
  {
   "cell_type": "markdown",
   "id": "gross-theme",
   "metadata": {
    "id": "gross-theme"
   },
   "source": [
    "# [C] Difícil (deben completarse todos para aprobar)\n",
    "\n",
    "1. ¿Cuántos artículos suelen comprar las personas en un pedido? ¿Cómo es la distribución?\n",
    "2. ¿Cuáles son los 20 principales artículos que vuelven a pedirse con mayor frecuencia (muestra sus nombres e IDs de los productos)?\n",
    "3. Para cada producto, ¿cuál es la tasa de repetición del pedido (número de repeticiones de pedido/total de pedidos?\n",
    "4. Para cada cliente, ¿qué proporción de los productos que pidió ya los había pedido? Calcula la tasa de repetición de pedido para cada usuario en lugar de para cada producto.\n",
    "5. ¿Cuáles son los 20 principales artículos que la gente pone primero en sus carritos (muestra las IDs de los productos, sus nombres, y el número de veces en que fueron el primer artículo en añadirse al carrito)?"
   ]
  },
  {
   "cell_type": "markdown",
   "id": "romantic-deposit",
   "metadata": {
    "id": "romantic-deposit"
   },
   "source": [
    "### [C1] ¿Cuántos artículos compran normalmente las personas en un pedido? ¿Cómo es la distribución?"
   ]
  },
  {
   "cell_type": "code",
   "execution_count": 42,
   "id": "virtual-punch",
   "metadata": {
    "id": "virtual-punch",
    "trusted": false
   },
   "outputs": [
    {
     "data": {
      "image/png": "[encoded data removed]",
      "text/plain": [
       "<Figure size 1000x600 with 1 Axes>"
      ]
     },
     "metadata": {},
     "output_type": "display_data"
    }
   ],
   "source": [
    "\n",
    "productos_por_pedido = order_products.groupby('order_id')['product_id'].count()\n",
    "\n",
    "\n",
    "estadisticas = productos_por_pedido.describe()\n",
    "\n",
    "\n",
    "\n",
    "\n",
    "plt.figure(figsize=(10, 6))\n",
    "plt.hist(productos_por_pedido, bins=range(1, productos_por_pedido.max() + 2), edgecolor='black')\n",
    "plt.title('Distribución de productos por pedido')\n",
    "plt.xlabel('Número de productos por pedido')\n",
    "plt.ylabel('Frecuencia')\n",
    "plt.show()\n",
    "\n",
    "\n",
    "\n"
   ]
  },
  {
   "cell_type": "markdown",
   "id": "designed-mortality",
   "metadata": {
    "id": "designed-mortality"
   },
   "source": [
    "Escribe aquí tus conclusiones Podemos apreciar un incremento en el numero de pedidos entre los 10 como punto maximo y comenzando a descender en el 20 no es tan comun que en un solo pedido el cliente compre mas de 20 productos."
   ]
  },
  {
   "cell_type": "markdown",
   "id": "5e6b5537",
   "metadata": {
    "id": "5e6b5537"
   },
   "source": [
    "### [C2] ¿Cuáles son los 20 principales artículos que vuelven a pedirse con mayor frecuencia (muestra sus nombres e IDs de los productos)?"
   ]
  },
  {
   "cell_type": "code",
   "execution_count": 43,
   "id": "9374e55a",
   "metadata": {
    "id": "9374e55a",
    "trusted": false
   },
   "outputs": [
    {
     "data": {
      "image/png": "[encoded data removed]",
      "text/plain": [
       "<Figure size 1200x600 with 1 Axes>"
      ]
     },
     "metadata": {},
     "output_type": "display_data"
    }
   ],
   "source": [
    "import numpy as np\n",
    "\n",
    "productos_reordenados = order_products[order_products['reordered'] == 1]\n",
    "\n",
    "productos_reordenados_count = productos_reordenados.groupby('product_id')['order_id'].nunique()\n",
    "\n",
    "top_20_reordenados = productos_reordenados_count.sort_values(ascending=False).head(20).reset_index()\n",
    "\n",
    "top_20_reordenados = top_20_reordenados.merge(products[['product_id', 'product_name']], on='product_id', how='left')\n",
    "\n",
    "plt.figure(figsize=(12, 6))\n",
    "plt.bar(top_20_reordenados['product_name'], top_20_reordenados['order_id'], color='green', edgecolor='blue')\n",
    "\n",
    "\n",
    "plt.xlabel('Producto')\n",
    "plt.ylabel('ID productos')  \n",
    "plt.title('Top 20 productos más reordenados')\n",
    "\n",
    "\n",
    "plt.xticks(rotation=90)\n",
    "\n",
    "plt.ticklabel_format(style='plain', axis='y')\n",
    "\n",
    "\n",
    "plt.yticks(np.linspace(0, top_20_reordenados['order_id'].max(), num=10).astype(int)\n",
    ")\n",
    "\n",
    "\n",
    "plt.tight_layout()\n",
    "\n",
    "\n",
    "plt.show()\n",
    "\n"
   ]
  },
  {
   "cell_type": "markdown",
   "id": "80e70c74",
   "metadata": {
    "id": "80e70c74"
   },
   "source": [
    "Escribe aquí tus conclusiones Podemos ver que los productos mas reordenados son Banana, bolsas, fresas, esto nos da una gran idea de en que productos nosotros nos podriamos enfocar y al mismo tiempo una estartegia para que los demas productos incrementen sus ventas."
   ]
  },
  {
   "cell_type": "markdown",
   "id": "42ca9cec",
   "metadata": {},
   "source": [
    "<div class=\"alert alert-block alert-danger\">\n",
    "<b>Comentario del revisor (1ra Iteracion)</b> <a class=“tocSkip”></a>\n",
    "\n",
    "También hace falta las conclusiones para estos ejercicios, y para este último en particular también deberías mostrar una gráfica de barras\n",
    "</div>"
   ]
  },
  {
   "cell_type": "markdown",
   "id": "6b8de231",
   "metadata": {},
   "source": [
    "<div class=\"alert alert-block alert-danger\">\n",
    "<b>Comentario del revisor (4ta Iteracion)</b> <a class=“tocSkip”></a>\n",
    "\n",
    "Sigue sin haberse importado la librería numpy, debes agregar `import numpy as np` al inicio del notebook\n",
    "</div>"
   ]
  },
  {
   "cell_type": "markdown",
   "id": "8899f180",
   "metadata": {},
   "source": [
    "<div class=\"alert alert-block alert-success\">\n",
    "<b>Comentario del revisor (5ta Iteracion)</b> <a class=“tocSkip”></a>\n",
    "\n",
    "Bien, ahora si se pudo ejecutar sin problema\n",
    "</div>"
   ]
  },
  {
   "cell_type": "markdown",
   "id": "9d312b14",
   "metadata": {
    "id": "9d312b14"
   },
   "source": [
    "### [C3] Para cada producto, ¿cuál es la proporción de las veces que se pide y que se vuelve a pedir?"
   ]
  },
  {
   "cell_type": "code",
   "execution_count": 44,
   "id": "8ae9f4b1",
   "metadata": {
    "id": "8ae9f4b1",
    "scrolled": true,
    "trusted": false
   },
   "outputs": [
    {
     "data": {
      "text/html": [
       "<div>\n",
       "<style scoped>\n",
       "    .dataframe tbody tr th:only-of-type {\n",
       "        vertical-align: middle;\n",
       "    }\n",
       "\n",
       "    .dataframe tbody tr th {\n",
       "        vertical-align: top;\n",
       "    }\n",
       "\n",
       "    .dataframe thead th {\n",
       "        text-align: right;\n",
       "    }\n",
       "</style>\n",
       "<table border=\"1\" class=\"dataframe\">\n",
       "  <thead>\n",
       "    <tr style=\"text-align: right;\">\n",
       "      <th></th>\n",
       "      <th>product_id</th>\n",
       "      <th>product_name</th>\n",
       "      <th>tasa_repeticion</th>\n",
       "    </tr>\n",
       "  </thead>\n",
       "  <tbody>\n",
       "    <tr>\n",
       "      <th>0</th>\n",
       "      <td>1</td>\n",
       "      <td>CHOCOLATE SANDWICH COOKIES</td>\n",
       "      <td>0.564286</td>\n",
       "    </tr>\n",
       "    <tr>\n",
       "      <th>1</th>\n",
       "      <td>2</td>\n",
       "      <td>ALL-SEASONS SALT</td>\n",
       "      <td>0.000000</td>\n",
       "    </tr>\n",
       "    <tr>\n",
       "      <th>2</th>\n",
       "      <td>3</td>\n",
       "      <td>ROBUST GOLDEN UNSWEETENED OOLONG TEA</td>\n",
       "      <td>0.738095</td>\n",
       "    </tr>\n",
       "    <tr>\n",
       "      <th>3</th>\n",
       "      <td>4</td>\n",
       "      <td>SMART ONES CLASSIC FAVORITES MINI RIGATONI WIT...</td>\n",
       "      <td>0.510204</td>\n",
       "    </tr>\n",
       "    <tr>\n",
       "      <th>4</th>\n",
       "      <td>7</td>\n",
       "      <td>PURE COCONUT WATER WITH ORANGE</td>\n",
       "      <td>0.500000</td>\n",
       "    </tr>\n",
       "    <tr>\n",
       "      <th>...</th>\n",
       "      <td>...</td>\n",
       "      <td>...</td>\n",
       "      <td>...</td>\n",
       "    </tr>\n",
       "    <tr>\n",
       "      <th>45568</th>\n",
       "      <td>49690</td>\n",
       "      <td>HIGH PERFORMANCE ENERGY DRINK</td>\n",
       "      <td>0.800000</td>\n",
       "    </tr>\n",
       "    <tr>\n",
       "      <th>45569</th>\n",
       "      <td>49691</td>\n",
       "      <td>ORIGINAL PANCAKE &amp; WAFFLE MIX</td>\n",
       "      <td>0.430556</td>\n",
       "    </tr>\n",
       "    <tr>\n",
       "      <th>45570</th>\n",
       "      <td>49692</td>\n",
       "      <td>ORGANIC INSTANT OATMEAL LIGHT MAPLE BROWN SUGAR</td>\n",
       "      <td>0.416667</td>\n",
       "    </tr>\n",
       "    <tr>\n",
       "      <th>45571</th>\n",
       "      <td>49693</td>\n",
       "      <td>SPRING WATER BODY WASH</td>\n",
       "      <td>0.440000</td>\n",
       "    </tr>\n",
       "    <tr>\n",
       "      <th>45572</th>\n",
       "      <td>49694</td>\n",
       "      <td>BURRITO- STEAK &amp; CHEESE</td>\n",
       "      <td>0.333333</td>\n",
       "    </tr>\n",
       "  </tbody>\n",
       "</table>\n",
       "<p>45573 rows × 3 columns</p>\n",
       "</div>"
      ],
      "text/plain": [
       "       product_id                                       product_name  \\\n",
       "0               1                         CHOCOLATE SANDWICH COOKIES   \n",
       "1               2                                   ALL-SEASONS SALT   \n",
       "2               3               ROBUST GOLDEN UNSWEETENED OOLONG TEA   \n",
       "3               4  SMART ONES CLASSIC FAVORITES MINI RIGATONI WIT...   \n",
       "4               7                     PURE COCONUT WATER WITH ORANGE   \n",
       "...           ...                                                ...   \n",
       "45568       49690                      HIGH PERFORMANCE ENERGY DRINK   \n",
       "45569       49691                      ORIGINAL PANCAKE & WAFFLE MIX   \n",
       "45570       49692    ORGANIC INSTANT OATMEAL LIGHT MAPLE BROWN SUGAR   \n",
       "45571       49693                             SPRING WATER BODY WASH   \n",
       "45572       49694                            BURRITO- STEAK & CHEESE   \n",
       "\n",
       "       tasa_repeticion  \n",
       "0             0.564286  \n",
       "1             0.000000  \n",
       "2             0.738095  \n",
       "3             0.510204  \n",
       "4             0.500000  \n",
       "...                ...  \n",
       "45568         0.800000  \n",
       "45569         0.430556  \n",
       "45570         0.416667  \n",
       "45571         0.440000  \n",
       "45572         0.333333  \n",
       "\n",
       "[45573 rows x 3 columns]"
      ]
     },
     "metadata": {},
     "output_type": "display_data"
    }
   ],
   "source": [
    "\n",
    "total_pedidos = order_products.groupby('product_id')['order_id'].nunique()\n",
    "\n",
    "productos_reordenados = order_products[order_products['reordered'] == 1]\n",
    "productos_reordenados_count = productos_reordenados.groupby('product_id')['order_id'].nunique()\n",
    "\n",
    "tasa_repeticion_producto = (productos_reordenados_count / total_pedidos).fillna(0)\n",
    "\n",
    "tasa_repeticion_producto_df = tasa_repeticion_producto.reset_index()\n",
    "tasa_repeticion_producto_df = tasa_repeticion_producto_df.merge(products[['product_id', 'product_name']], on='product_id', how='left')\n",
    "\n",
    "tasa_repeticion_producto_df = tasa_repeticion_producto_df.rename(columns={'order_id': 'tasa_repeticion'})\n",
    "\n",
    "display(tasa_repeticion_producto_df[['product_id', 'product_name', 'tasa_repeticion']])\n",
    "\n",
    "\n",
    "\n"
   ]
  },
  {
   "cell_type": "markdown",
   "id": "I10dEIAyldcO",
   "metadata": {
    "id": "I10dEIAyldcO"
   },
   "source": [
    "Escribe aquí tus conclusiones Con esta tabla vemos que de los 5 principales productos su tasa de repeticion varia mucho repticion, es una vision general de que tanto los consumidores estan adquiriendo y con que frecuencia ese producto en especifico."
   ]
  },
  {
   "cell_type": "markdown",
   "id": "698b83ba",
   "metadata": {},
   "source": [
    "<div class=\"alert alert-block alert-danger\">\n",
    "<b>Comentario del revisor (2da Iteracion)</b> <a class=“tocSkip”></a>\n",
    "\n",
    "No hay conclusiones y se está usando una variable que no existe en el notebook\n",
    "</div>"
   ]
  },
  {
   "cell_type": "markdown",
   "id": "e4fc5778",
   "metadata": {},
   "source": [
    "<div class=\"alert alert-block alert-danger\">\n",
    "<b>Comentario del revisor (4ta Iteracion)</b> <a class=“tocSkip”></a>\n",
    "\n",
    "Deberías tener una proporción con valores de 0 a 1, tipo 0.33 o así cómo lo tienes en el ejercicio de abajo\n",
    "</div>"
   ]
  },
  {
   "cell_type": "markdown",
   "id": "subject-boxing",
   "metadata": {
    "id": "subject-boxing"
   },
   "source": [
    "### [C4] Para cada cliente, ¿qué proporción de sus productos ya los había pedido?"
   ]
  },
  {
   "cell_type": "code",
   "execution_count": 45,
   "id": "medical-couple",
   "metadata": {
    "id": "medical-couple",
    "scrolled": false,
    "trusted": false
   },
   "outputs": [
    {
     "data": {
      "text/html": [
       "<div>\n",
       "<style scoped>\n",
       "    .dataframe tbody tr th:only-of-type {\n",
       "        vertical-align: middle;\n",
       "    }\n",
       "\n",
       "    .dataframe tbody tr th {\n",
       "        vertical-align: top;\n",
       "    }\n",
       "\n",
       "    .dataframe thead th {\n",
       "        text-align: right;\n",
       "    }\n",
       "</style>\n",
       "<table border=\"1\" class=\"dataframe\">\n",
       "  <thead>\n",
       "    <tr style=\"text-align: right;\">\n",
       "      <th></th>\n",
       "      <th>user_id</th>\n",
       "      <th>tasa_repeticion</th>\n",
       "    </tr>\n",
       "  </thead>\n",
       "  <tbody>\n",
       "    <tr>\n",
       "      <th>0</th>\n",
       "      <td>2</td>\n",
       "      <td>0.040000</td>\n",
       "    </tr>\n",
       "    <tr>\n",
       "      <th>1</th>\n",
       "      <td>4</td>\n",
       "      <td>0.000000</td>\n",
       "    </tr>\n",
       "    <tr>\n",
       "      <th>2</th>\n",
       "      <td>5</td>\n",
       "      <td>0.666667</td>\n",
       "    </tr>\n",
       "    <tr>\n",
       "      <th>3</th>\n",
       "      <td>6</td>\n",
       "      <td>0.000000</td>\n",
       "    </tr>\n",
       "    <tr>\n",
       "      <th>4</th>\n",
       "      <td>7</td>\n",
       "      <td>0.923077</td>\n",
       "    </tr>\n",
       "    <tr>\n",
       "      <th>...</th>\n",
       "      <td>...</td>\n",
       "      <td>...</td>\n",
       "    </tr>\n",
       "    <tr>\n",
       "      <th>149621</th>\n",
       "      <td>206203</td>\n",
       "      <td>0.222222</td>\n",
       "    </tr>\n",
       "    <tr>\n",
       "      <th>149622</th>\n",
       "      <td>206206</td>\n",
       "      <td>0.705882</td>\n",
       "    </tr>\n",
       "    <tr>\n",
       "      <th>149623</th>\n",
       "      <td>206207</td>\n",
       "      <td>0.848485</td>\n",
       "    </tr>\n",
       "    <tr>\n",
       "      <th>149624</th>\n",
       "      <td>206208</td>\n",
       "      <td>0.612500</td>\n",
       "    </tr>\n",
       "    <tr>\n",
       "      <th>149625</th>\n",
       "      <td>206209</td>\n",
       "      <td>0.320000</td>\n",
       "    </tr>\n",
       "  </tbody>\n",
       "</table>\n",
       "<p>149626 rows × 2 columns</p>\n",
       "</div>"
      ],
      "text/plain": [
       "        user_id  tasa_repeticion\n",
       "0             2         0.040000\n",
       "1             4         0.000000\n",
       "2             5         0.666667\n",
       "3             6         0.000000\n",
       "4             7         0.923077\n",
       "...         ...              ...\n",
       "149621   206203         0.222222\n",
       "149622   206206         0.705882\n",
       "149623   206207         0.848485\n",
       "149624   206208         0.612500\n",
       "149625   206209         0.320000\n",
       "\n",
       "[149626 rows x 2 columns]"
      ]
     },
     "metadata": {},
     "output_type": "display_data"
    }
   ],
   "source": [
    "\n",
    "order_products_with_user = order_products.merge(orders[['order_id', 'user_id']], on='order_id', how='left')\n",
    "\n",
    "\n",
    "productos_reordenados = order_products_with_user[order_products_with_user['reordered'] == 1]\n",
    "\n",
    "productos_por_usuario = order_products_with_user.groupby('user_id')['product_id'].nunique()\n",
    "\n",
    "\n",
    "productos_reordenados_por_usuario = productos_reordenados.groupby('user_id')['product_id'].nunique()\n",
    "\n",
    "\n",
    "tasa_repeticion_usuario = (productos_reordenados_por_usuario / productos_por_usuario).fillna(0)\n",
    "\n",
    "\n",
    "tasa_repeticion_usuario_df = tasa_repeticion_usuario.reset_index()\n",
    "tasa_repeticion_usuario_df.columns = ['user_id', 'tasa_repeticion']\n",
    "\n",
    "\n",
    "display(tasa_repeticion_usuario_df)\n",
    "\n",
    "\n"
   ]
  },
  {
   "cell_type": "markdown",
   "id": "BgJSvXDsleXz",
   "metadata": {
    "id": "BgJSvXDsleXz"
   },
   "source": [
    "Escribe aquí tus conclusiones En este caso la tasa de repeticion de los productos varia mucho mas para cada ciente esto quiere decir que no los consumen de una manera tan reptitiva y por ende es una oportunidad para aplicar ciertas estrategias he identificar necesidades de clientes."
   ]
  },
  {
   "cell_type": "markdown",
   "id": "92d35137",
   "metadata": {
    "id": "92d35137"
   },
   "source": [
    "### [C5] ¿Cuáles son los 20 principales artículos que las personas ponen primero en sus carritos?"
   ]
  },
  {
   "cell_type": "code",
   "execution_count": 46,
   "id": "0ae57274",
   "metadata": {
    "id": "0ae57274",
    "scrolled": true,
    "trusted": false
   },
   "outputs": [
    {
     "data": {
      "image/png": "[encoded data removed]",
      "text/plain": [
       "<Figure size 1200x600 with 1 Axes>"
      ]
     },
     "metadata": {},
     "output_type": "display_data"
    }
   ],
   "source": [
    "primeros_en_carrito = order_products[order_products['add_to_cart_order'] == 1]\n",
    "\n",
    "productos_primeros_count = primeros_en_carrito.groupby('product_id')['order_id'].count()\n",
    "\n",
    "productos_primeros_count = productos_primeros_count.sort_values(ascending=False)\n",
    "\n",
    "top_20_primeros = productos_primeros_count.head(20).reset_index()\n",
    "\n",
    "top_20_primeros = top_20_primeros.merge(products[['product_id', 'product_name']], on='product_id', how='left')\n",
    "\n",
    "plt.figure(figsize=(12, 6))\n",
    "plt.bar(top_20_primeros['product_name'], top_20_primeros['order_id'], color='green', edgecolor='blue')\n",
    "\n",
    "plt.xlabel('Producto')\n",
    "plt.ylabel('Cantidad de veces que fue el primero en el carrito')\n",
    "plt.title('Top 20 productos más comunes como primeros en el carrito')\n",
    "\n",
    "plt.xticks(rotation=90)\n",
    "\n",
    "plt.tight_layout()\n",
    "plt.show()\n",
    "\n",
    "\n"
   ]
  },
  {
   "cell_type": "markdown",
   "id": "28ce9872",
   "metadata": {
    "id": "28ce9872"
   },
   "source": [
    "Escribe aquí tus conclusiones Una manera muy practica de ver cuales son los principales productos que las personas ponen en sus carritos y su compra de estos mismos de finitivamente hay productos mas populares que otros  y aqui se puede ver a simple vista cuales son y podemos identificar algunas causas de porque los consumidores lo hacen de manera repetida."
   ]
  },
  {
   "cell_type": "markdown",
   "id": "uITbFCEoDosC",
   "metadata": {
    "id": "uITbFCEoDosC"
   },
   "source": [
    "### Conclusion general del proyecto:"
   ]
  },
  {
   "cell_type": "markdown",
   "id": "34aa75c3",
   "metadata": {
    "id": "Nk-4GS7mDwqY"
   },
   "source": [
    "Como sabemos desde el inicio del proyecto de Instacart es una plataforma de entregas de comestibles donde la clientela puede registrar un pedido y hacer que se lo entreguen, similar a Uber Eats y Door Dash. Con todo el conjunto de datos que hemos analizando, depurado y sera de vital importancia para la empresa en el futuro, desde saber cuales son sus productos mas populares, los que las personbas seleccionan primero asi como sus clientes mas fieles, hasta los dias y horas en que las personas deciden poner mas pedidos en la plataforma. con todo esto Instacart puede aplicar nuevas estrategias de marketing asi como segmentar mejor su mercado y saber en que areas y herramientas es mejor invertir para que Instacart siga creciendo.\n",
    "\n",
    "De los principales hallazagos que podemos destacar son: son uno de los productos que las personas mas consumen, son lo primero que poenne en su carrito y se vuelven a pedir con mayor frecuencia, de igual manera las personas no consumen en una misma orden una gran cantidad de productos el limite puede ser 20 y a partir de ahi se reducen los productos que compran. Es de suma importancia saber que las horas donde las personas hacen mas pedidos son entre las 11 AM  y 5 PM al igual que el lunes y ma"
   ]
  }
 ],
 "metadata": {
  "ExecuteTimeLog": [
   {
    "duration": 298,
    "start_time": "2025-02-01T00:30:05.645Z"
   },
   {
    "duration": 2204,
    "start_time": "2025-02-01T00:30:05.945Z"
   },
   {
    "duration": 21,
    "start_time": "2025-02-01T00:30:08.151Z"
   },
   {
    "duration": 8,
    "start_time": "2025-02-01T00:30:08.174Z"
   },
   {
    "duration": 21,
    "start_time": "2025-02-01T00:30:08.184Z"
   },
   {
    "duration": 7,
    "start_time": "2025-02-01T00:30:08.207Z"
   },
   {
    "duration": 7,
    "start_time": "2025-02-01T00:30:08.216Z"
   },
   {
    "duration": 195,
    "start_time": "2025-02-01T00:30:08.224Z"
   },
   {
    "duration": 548,
    "start_time": "2025-02-01T00:30:08.422Z"
   },
   {
    "duration": 0,
    "start_time": "2025-02-01T00:30:08.972Z"
   },
   {
    "duration": 0,
    "start_time": "2025-02-01T00:30:08.973Z"
   },
   {
    "duration": 0,
    "start_time": "2025-02-01T00:30:08.975Z"
   },
   {
    "duration": 0,
    "start_time": "2025-02-01T00:30:08.976Z"
   },
   {
    "duration": 0,
    "start_time": "2025-02-01T00:30:08.977Z"
   },
   {
    "duration": 0,
    "start_time": "2025-02-01T00:30:08.978Z"
   },
   {
    "duration": 0,
    "start_time": "2025-02-01T00:30:08.979Z"
   },
   {
    "duration": 0,
    "start_time": "2025-02-01T00:30:08.980Z"
   },
   {
    "duration": 0,
    "start_time": "2025-02-01T00:30:08.981Z"
   },
   {
    "duration": 0,
    "start_time": "2025-02-01T00:30:08.982Z"
   },
   {
    "duration": 0,
    "start_time": "2025-02-01T00:30:08.983Z"
   },
   {
    "duration": 0,
    "start_time": "2025-02-01T00:30:08.984Z"
   },
   {
    "duration": 0,
    "start_time": "2025-02-01T00:30:09.006Z"
   },
   {
    "duration": 0,
    "start_time": "2025-02-01T00:30:09.006Z"
   },
   {
    "duration": 0,
    "start_time": "2025-02-01T00:30:09.007Z"
   },
   {
    "duration": 0,
    "start_time": "2025-02-01T00:30:09.008Z"
   },
   {
    "duration": 0,
    "start_time": "2025-02-01T00:30:09.009Z"
   },
   {
    "duration": 0,
    "start_time": "2025-02-01T00:30:09.010Z"
   },
   {
    "duration": 0,
    "start_time": "2025-02-01T00:30:09.011Z"
   },
   {
    "duration": 0,
    "start_time": "2025-02-01T00:30:09.012Z"
   },
   {
    "duration": 0,
    "start_time": "2025-02-01T00:30:09.013Z"
   },
   {
    "duration": 0,
    "start_time": "2025-02-01T00:30:09.014Z"
   },
   {
    "duration": 0,
    "start_time": "2025-02-01T00:30:09.015Z"
   },
   {
    "duration": 0,
    "start_time": "2025-02-01T00:30:09.016Z"
   },
   {
    "duration": 0,
    "start_time": "2025-02-01T00:30:09.018Z"
   },
   {
    "duration": 0,
    "start_time": "2025-02-01T00:30:09.019Z"
   },
   {
    "duration": 162,
    "start_time": "2025-02-01T20:53:53.349Z"
   },
   {
    "duration": 11,
    "start_time": "2025-02-01T20:53:58.218Z"
   },
   {
    "duration": 442,
    "start_time": "2025-02-01T20:54:31.723Z"
   },
   {
    "duration": 150,
    "start_time": "2025-02-01T20:55:18.053Z"
   },
   {
    "duration": 57,
    "start_time": "2025-02-01T20:55:33.180Z"
   },
   {
    "duration": 11,
    "start_time": "2025-02-01T20:55:49.556Z"
   },
   {
    "duration": 11,
    "start_time": "2025-02-01T20:56:04.323Z"
   },
   {
    "duration": 798,
    "start_time": "2025-02-01T20:56:31.302Z"
   },
   {
    "duration": 80,
    "start_time": "2025-02-01T20:58:55.476Z"
   },
   {
    "duration": 376,
    "start_time": "2025-02-01T21:00:41.486Z"
   },
   {
    "duration": 13,
    "start_time": "2025-02-01T21:03:02.258Z"
   },
   {
    "duration": 103,
    "start_time": "2025-02-01T21:04:20.449Z"
   },
   {
    "duration": 86,
    "start_time": "2025-02-01T21:05:37.380Z"
   },
   {
    "duration": 86,
    "start_time": "2025-02-01T21:05:40.568Z"
   },
   {
    "duration": 99,
    "start_time": "2025-02-01T21:06:15.269Z"
   },
   {
    "duration": 52,
    "start_time": "2025-02-01T21:06:51.185Z"
   },
   {
    "duration": 82,
    "start_time": "2025-02-01T21:11:15.872Z"
   },
   {
    "duration": 120,
    "start_time": "2025-02-01T21:12:06.159Z"
   },
   {
    "duration": 4,
    "start_time": "2025-02-01T21:13:17.393Z"
   },
   {
    "duration": 27,
    "start_time": "2025-02-01T21:13:29.870Z"
   },
   {
    "duration": 32,
    "start_time": "2025-02-01T21:15:07.092Z"
   },
   {
    "duration": 31,
    "start_time": "2025-02-01T21:15:35.417Z"
   },
   {
    "duration": 31,
    "start_time": "2025-02-01T21:15:53.676Z"
   },
   {
    "duration": 38,
    "start_time": "2025-02-01T21:16:40.482Z"
   },
   {
    "duration": 32,
    "start_time": "2025-02-01T21:17:42.889Z"
   },
   {
    "duration": 28,
    "start_time": "2025-02-01T21:19:02.904Z"
   },
   {
    "duration": 31,
    "start_time": "2025-02-01T21:19:06.417Z"
   },
   {
    "duration": 32,
    "start_time": "2025-02-01T21:19:12.147Z"
   },
   {
    "duration": 31,
    "start_time": "2025-02-01T21:19:26.274Z"
   },
   {
    "duration": 32,
    "start_time": "2025-02-01T21:20:28.045Z"
   },
   {
    "duration": 20,
    "start_time": "2025-02-01T21:21:35.469Z"
   },
   {
    "duration": 30,
    "start_time": "2025-02-01T21:22:11.977Z"
   },
   {
    "duration": 21,
    "start_time": "2025-02-01T21:22:18.744Z"
   },
   {
    "duration": 5,
    "start_time": "2025-02-01T21:22:21.480Z"
   },
   {
    "duration": 103,
    "start_time": "2025-02-01T21:22:49.079Z"
   },
   {
    "duration": 81,
    "start_time": "2025-02-01T21:22:51.393Z"
   },
   {
    "duration": 85,
    "start_time": "2025-02-01T21:23:11.572Z"
   },
   {
    "duration": 4,
    "start_time": "2025-02-01T21:23:39.372Z"
   },
   {
    "duration": 6,
    "start_time": "2025-02-01T21:24:45.182Z"
   },
   {
    "duration": 7,
    "start_time": "2025-02-01T21:27:24.262Z"
   },
   {
    "duration": 5,
    "start_time": "2025-02-01T21:28:51.292Z"
   },
   {
    "duration": 882,
    "start_time": "2025-02-01T21:29:33.894Z"
   },
   {
    "duration": 847,
    "start_time": "2025-02-01T21:29:41.148Z"
   },
   {
    "duration": 758,
    "start_time": "2025-02-01T21:29:51.162Z"
   },
   {
    "duration": 678,
    "start_time": "2025-02-01T21:30:16.053Z"
   },
   {
    "duration": 9,
    "start_time": "2025-02-01T21:30:50.867Z"
   },
   {
    "duration": 13,
    "start_time": "2025-02-01T21:32:18.382Z"
   },
   {
    "duration": 3,
    "start_time": "2025-02-01T21:35:12.331Z"
   },
   {
    "duration": 164,
    "start_time": "2025-02-03T00:21:06.323Z"
   },
   {
    "duration": 21,
    "start_time": "2025-02-03T00:22:16.865Z"
   },
   {
    "duration": 18,
    "start_time": "2025-02-03T00:22:18.600Z"
   },
   {
    "duration": 19,
    "start_time": "2025-02-03T00:22:32.525Z"
   },
   {
    "duration": 22,
    "start_time": "2025-02-03T00:23:26.485Z"
   },
   {
    "duration": 22,
    "start_time": "2025-02-03T00:23:27.692Z"
   },
   {
    "duration": 5,
    "start_time": "2025-02-03T00:24:30.052Z"
   },
   {
    "duration": 4,
    "start_time": "2025-02-03T00:24:36.281Z"
   },
   {
    "duration": 4,
    "start_time": "2025-02-03T00:24:54.701Z"
   },
   {
    "duration": 13,
    "start_time": "2025-02-03T00:25:06.588Z"
   },
   {
    "duration": 31,
    "start_time": "2025-02-03T00:25:13.638Z"
   },
   {
    "duration": 61,
    "start_time": "2025-02-03T00:27:24.110Z"
   },
   {
    "duration": 15,
    "start_time": "2025-02-03T00:27:35.988Z"
   },
   {
    "duration": 62,
    "start_time": "2025-02-03T00:29:51.450Z"
   },
   {
    "duration": 1359,
    "start_time": "2025-02-03T00:30:45.060Z"
   },
   {
    "duration": 4,
    "start_time": "2025-02-03T00:30:58.701Z"
   },
   {
    "duration": 14,
    "start_time": "2025-02-03T00:32:08.772Z"
   },
   {
    "duration": 12,
    "start_time": "2025-02-03T00:32:25.617Z"
   },
   {
    "duration": 13,
    "start_time": "2025-02-03T00:32:34.171Z"
   },
   {
    "duration": 12,
    "start_time": "2025-02-03T00:33:16.274Z"
   },
   {
    "duration": 12,
    "start_time": "2025-02-03T00:33:32.539Z"
   },
   {
    "duration": 17,
    "start_time": "2025-02-03T00:34:28.751Z"
   },
   {
    "duration": 12,
    "start_time": "2025-02-03T00:34:41.746Z"
   },
   {
    "duration": 13,
    "start_time": "2025-02-03T00:35:13.799Z"
   },
   {
    "duration": 32,
    "start_time": "2025-02-03T00:37:25.568Z"
   },
   {
    "duration": 12,
    "start_time": "2025-02-03T00:38:46.782Z"
   },
   {
    "duration": 8,
    "start_time": "2025-02-03T00:39:32.010Z"
   },
   {
    "duration": 9,
    "start_time": "2025-02-03T00:39:48.020Z"
   },
   {
    "duration": 0,
    "start_time": "2025-02-03T00:43:38.071Z"
   },
   {
    "duration": 27,
    "start_time": "2025-02-03T00:43:40.785Z"
   },
   {
    "duration": 1815,
    "start_time": "2025-02-03T00:45:05.702Z"
   },
   {
    "duration": 43,
    "start_time": "2025-02-03T00:48:00.012Z"
   },
   {
    "duration": 41,
    "start_time": "2025-02-03T00:48:34.442Z"
   },
   {
    "duration": 40,
    "start_time": "2025-02-03T00:49:11.829Z"
   },
   {
    "duration": 43,
    "start_time": "2025-02-03T00:49:27.515Z"
   },
   {
    "duration": 46,
    "start_time": "2025-02-03T00:51:54.556Z"
   },
   {
    "duration": 3,
    "start_time": "2025-02-03T00:53:14.910Z"
   },
   {
    "duration": 41,
    "start_time": "2025-02-03T00:53:49.973Z"
   },
   {
    "duration": 41,
    "start_time": "2025-02-03T00:53:55.387Z"
   },
   {
    "duration": 48,
    "start_time": "2025-02-03T00:55:41.359Z"
   },
   {
    "duration": 16,
    "start_time": "2025-02-03T01:01:02.177Z"
   },
   {
    "duration": 345,
    "start_time": "2025-02-03T01:01:46.693Z"
   },
   {
    "duration": 24,
    "start_time": "2025-02-03T01:04:10.062Z"
   },
   {
    "duration": 283,
    "start_time": "2025-02-03T01:04:56.387Z"
   },
   {
    "duration": 442,
    "start_time": "2025-02-03T01:12:50.120Z"
   },
   {
    "duration": 320,
    "start_time": "2025-02-03T01:14:00.882Z"
   },
   {
    "duration": 1369,
    "start_time": "2025-02-03T01:14:35.342Z"
   },
   {
    "duration": 496,
    "start_time": "2025-02-03T01:16:20.382Z"
   },
   {
    "duration": 876,
    "start_time": "2025-02-03T01:17:48.203Z"
   },
   {
    "duration": 2368,
    "start_time": "2025-02-03T01:18:39.907Z"
   },
   {
    "duration": 22,
    "start_time": "2025-02-03T01:19:24.512Z"
   },
   {
    "duration": 175,
    "start_time": "2025-02-03T01:20:15.477Z"
   },
   {
    "duration": 38,
    "start_time": "2025-02-03T01:21:02.658Z"
   },
   {
    "duration": 41,
    "start_time": "2025-02-03T01:21:46.813Z"
   },
   {
    "duration": 40,
    "start_time": "2025-02-03T01:21:51.489Z"
   },
   {
    "duration": 1100,
    "start_time": "2025-02-03T01:23:52.670Z"
   },
   {
    "duration": 103,
    "start_time": "2025-02-03T01:24:37.519Z"
   },
   {
    "duration": 323,
    "start_time": "2025-02-03T16:55:38.412Z"
   },
   {
    "duration": 1059,
    "start_time": "2025-02-03T16:55:38.737Z"
   },
   {
    "duration": 129,
    "start_time": "2025-02-03T16:55:39.798Z"
   },
   {
    "duration": 40,
    "start_time": "2025-02-03T16:55:39.929Z"
   },
   {
    "duration": 22,
    "start_time": "2025-02-03T16:55:39.973Z"
   },
   {
    "duration": 11,
    "start_time": "2025-02-03T16:55:39.997Z"
   },
   {
    "duration": 736,
    "start_time": "2025-02-03T16:55:40.010Z"
   },
   {
    "duration": 87,
    "start_time": "2025-02-03T16:55:40.749Z"
   },
   {
    "duration": 7,
    "start_time": "2025-02-03T16:55:40.838Z"
   },
   {
    "duration": 92,
    "start_time": "2025-02-03T16:55:40.846Z"
   },
   {
    "duration": 93,
    "start_time": "2025-02-03T16:55:40.940Z"
   },
   {
    "duration": 52,
    "start_time": "2025-02-03T16:55:41.035Z"
   },
   {
    "duration": 80,
    "start_time": "2025-02-03T16:55:41.089Z"
   },
   {
    "duration": 15,
    "start_time": "2025-02-03T16:55:41.173Z"
   },
   {
    "duration": 30,
    "start_time": "2025-02-03T16:55:41.189Z"
   },
   {
    "duration": 30,
    "start_time": "2025-02-03T16:55:41.221Z"
   },
   {
    "duration": 46,
    "start_time": "2025-02-03T16:55:41.252Z"
   },
   {
    "duration": 6,
    "start_time": "2025-02-03T16:55:41.299Z"
   },
   {
    "duration": 4,
    "start_time": "2025-02-03T16:55:41.306Z"
   },
   {
    "duration": 4,
    "start_time": "2025-02-03T16:55:41.312Z"
   },
   {
    "duration": 833,
    "start_time": "2025-02-03T16:55:41.318Z"
   },
   {
    "duration": 704,
    "start_time": "2025-02-03T16:55:42.153Z"
   },
   {
    "duration": 10,
    "start_time": "2025-02-03T16:55:42.859Z"
   },
   {
    "duration": 4,
    "start_time": "2025-02-03T16:55:42.870Z"
   },
   {
    "duration": 0,
    "start_time": "2025-02-03T16:55:42.887Z"
   },
   {
    "duration": 0,
    "start_time": "2025-02-03T16:55:42.888Z"
   },
   {
    "duration": 0,
    "start_time": "2025-02-03T16:55:42.889Z"
   },
   {
    "duration": 0,
    "start_time": "2025-02-03T16:55:42.890Z"
   },
   {
    "duration": 0,
    "start_time": "2025-02-03T16:55:42.891Z"
   },
   {
    "duration": 0,
    "start_time": "2025-02-03T16:55:42.892Z"
   },
   {
    "duration": 0,
    "start_time": "2025-02-03T16:55:42.893Z"
   },
   {
    "duration": 0,
    "start_time": "2025-02-03T16:55:42.894Z"
   },
   {
    "duration": 0,
    "start_time": "2025-02-03T16:55:42.896Z"
   },
   {
    "duration": 0,
    "start_time": "2025-02-03T16:55:42.896Z"
   },
   {
    "duration": 0,
    "start_time": "2025-02-03T16:55:42.897Z"
   },
   {
    "duration": 0,
    "start_time": "2025-02-03T16:55:42.899Z"
   },
   {
    "duration": 0,
    "start_time": "2025-02-03T16:55:42.900Z"
   },
   {
    "duration": 0,
    "start_time": "2025-02-03T16:55:42.900Z"
   },
   {
    "duration": 0,
    "start_time": "2025-02-03T16:55:42.901Z"
   },
   {
    "duration": 0,
    "start_time": "2025-02-03T16:55:42.903Z"
   },
   {
    "duration": 0,
    "start_time": "2025-02-03T16:55:42.904Z"
   },
   {
    "duration": 0,
    "start_time": "2025-02-03T16:55:42.905Z"
   },
   {
    "duration": 0,
    "start_time": "2025-02-03T16:55:42.906Z"
   },
   {
    "duration": 0,
    "start_time": "2025-02-03T16:55:42.907Z"
   },
   {
    "duration": 0,
    "start_time": "2025-02-03T16:55:42.908Z"
   },
   {
    "duration": 0,
    "start_time": "2025-02-03T16:55:42.909Z"
   },
   {
    "duration": 178,
    "start_time": "2025-02-03T16:56:06.419Z"
   },
   {
    "duration": 6,
    "start_time": "2025-02-03T16:56:09.361Z"
   },
   {
    "duration": 8,
    "start_time": "2025-02-03T16:56:10.487Z"
   },
   {
    "duration": 6,
    "start_time": "2025-02-03T16:56:11.794Z"
   },
   {
    "duration": 6,
    "start_time": "2025-02-03T16:56:12.133Z"
   },
   {
    "duration": 9,
    "start_time": "2025-02-03T16:56:13.246Z"
   },
   {
    "duration": 30,
    "start_time": "2025-02-03T16:56:13.612Z"
   },
   {
    "duration": 7,
    "start_time": "2025-02-03T16:56:14.271Z"
   },
   {
    "duration": 9,
    "start_time": "2025-02-03T16:56:14.642Z"
   },
   {
    "duration": 36,
    "start_time": "2025-02-03T16:56:15.401Z"
   },
   {
    "duration": 2797,
    "start_time": "2025-02-03T16:56:17.275Z"
   },
   {
    "duration": 264,
    "start_time": "2025-02-03T16:56:21.024Z"
   },
   {
    "duration": 315,
    "start_time": "2025-02-03T16:56:23.100Z"
   },
   {
    "duration": 21,
    "start_time": "2025-02-03T16:56:25.022Z"
   },
   {
    "duration": 444,
    "start_time": "2025-02-03T16:56:27.608Z"
   },
   {
    "duration": 306,
    "start_time": "2025-02-03T16:56:30.446Z"
   },
   {
    "duration": 1527,
    "start_time": "2025-02-03T16:56:32.596Z"
   },
   {
    "duration": 660,
    "start_time": "2025-02-03T16:56:36.483Z"
   },
   {
    "duration": 921,
    "start_time": "2025-02-03T16:56:38.696Z"
   },
   {
    "duration": 23,
    "start_time": "2025-02-03T16:56:43.042Z"
   },
   {
    "duration": 1219,
    "start_time": "2025-02-03T16:56:46.249Z"
   },
   {
    "duration": 128,
    "start_time": "2025-02-03T16:56:48.403Z"
   },
   {
    "duration": 173,
    "start_time": "2025-02-04T17:07:37.693Z"
   },
   {
    "duration": 12,
    "start_time": "2025-02-04T17:07:51.094Z"
   },
   {
    "duration": 14,
    "start_time": "2025-02-04T17:09:57.804Z"
   },
   {
    "duration": 292,
    "start_time": "2025-02-04T17:11:16.410Z"
   },
   {
    "duration": 3,
    "start_time": "2025-02-04T17:11:22.656Z"
   },
   {
    "duration": 965,
    "start_time": "2025-02-04T17:11:25.560Z"
   },
   {
    "duration": 857,
    "start_time": "2025-02-04T17:11:31.187Z"
   },
   {
    "duration": 831,
    "start_time": "2025-02-04T17:11:38.231Z"
   },
   {
    "duration": 109,
    "start_time": "2025-02-04T17:12:02.190Z"
   },
   {
    "duration": 37,
    "start_time": "2025-02-04T17:12:13.006Z"
   },
   {
    "duration": 12,
    "start_time": "2025-02-04T17:12:39.538Z"
   },
   {
    "duration": 10,
    "start_time": "2025-02-04T17:12:49.504Z"
   },
   {
    "duration": 9,
    "start_time": "2025-02-04T17:13:13.189Z"
   },
   {
    "duration": 8,
    "start_time": "2025-02-04T17:13:14.727Z"
   },
   {
    "duration": 8,
    "start_time": "2025-02-04T17:13:15.206Z"
   },
   {
    "duration": 8,
    "start_time": "2025-02-04T17:13:15.856Z"
   },
   {
    "duration": 10,
    "start_time": "2025-02-04T17:13:16.450Z"
   },
   {
    "duration": 8,
    "start_time": "2025-02-04T17:13:17.089Z"
   },
   {
    "duration": 9,
    "start_time": "2025-02-04T17:13:55.723Z"
   },
   {
    "duration": 21,
    "start_time": "2025-02-04T17:14:03.695Z"
   },
   {
    "duration": 80,
    "start_time": "2025-02-04T17:16:27.804Z"
   },
   {
    "duration": 17,
    "start_time": "2025-02-04T17:16:33.652Z"
   },
   {
    "duration": 31,
    "start_time": "2025-02-04T17:23:14.955Z"
   },
   {
    "duration": 29,
    "start_time": "2025-02-04T17:24:34.348Z"
   },
   {
    "duration": 29,
    "start_time": "2025-02-04T17:26:19.203Z"
   },
   {
    "duration": 30,
    "start_time": "2025-02-04T17:26:30.924Z"
   },
   {
    "duration": 37,
    "start_time": "2025-02-04T17:26:37.652Z"
   },
   {
    "duration": 41,
    "start_time": "2025-02-04T17:27:46.451Z"
   },
   {
    "duration": 7,
    "start_time": "2025-02-04T17:32:50.586Z"
   },
   {
    "duration": 6,
    "start_time": "2025-02-04T17:34:19.757Z"
   },
   {
    "duration": 4,
    "start_time": "2025-02-04T17:35:11.575Z"
   },
   {
    "duration": 7,
    "start_time": "2025-02-04T17:35:18.802Z"
   },
   {
    "duration": 4,
    "start_time": "2025-02-04T17:37:32.678Z"
   },
   {
    "duration": 33,
    "start_time": "2025-02-04T17:39:51.942Z"
   },
   {
    "duration": 25,
    "start_time": "2025-02-04T17:39:54.692Z"
   },
   {
    "duration": 25,
    "start_time": "2025-02-04T17:39:57.333Z"
   },
   {
    "duration": 59,
    "start_time": "2025-02-04T17:42:23.888Z"
   },
   {
    "duration": 11,
    "start_time": "2025-02-04T17:45:46.668Z"
   },
   {
    "duration": 47,
    "start_time": "2025-02-04T17:48:49.637Z"
   },
   {
    "duration": 30,
    "start_time": "2025-02-04T17:49:29.227Z"
   },
   {
    "duration": 8,
    "start_time": "2025-02-04T18:00:09.976Z"
   },
   {
    "duration": 2150,
    "start_time": "2025-02-04T18:03:55.943Z"
   },
   {
    "duration": 286,
    "start_time": "2025-02-04T18:04:31.461Z"
   },
   {
    "duration": 240,
    "start_time": "2025-02-04T18:25:40.328Z"
   },
   {
    "duration": 258,
    "start_time": "2025-02-04T18:26:08.851Z"
   },
   {
    "duration": 234,
    "start_time": "2025-02-04T18:26:25.350Z"
   },
   {
    "duration": 290,
    "start_time": "2025-02-04T18:31:29.168Z"
   },
   {
    "duration": 309,
    "start_time": "2025-02-04T18:31:47.752Z"
   },
   {
    "duration": 263,
    "start_time": "2025-02-04T18:32:10.615Z"
   },
   {
    "duration": 67,
    "start_time": "2025-02-04T18:33:17.130Z"
   },
   {
    "duration": 251,
    "start_time": "2025-02-04T18:33:33.340Z"
   },
   {
    "duration": 313,
    "start_time": "2025-02-04T18:34:20.326Z"
   },
   {
    "duration": 1244,
    "start_time": "2025-02-04T18:40:13.914Z"
   },
   {
    "duration": 1486,
    "start_time": "2025-02-04T18:40:50.037Z"
   },
   {
    "duration": 1464,
    "start_time": "2025-02-04T18:41:05.347Z"
   },
   {
    "duration": 1522,
    "start_time": "2025-02-04T18:41:33.574Z"
   },
   {
    "duration": 1459,
    "start_time": "2025-02-04T18:42:08.075Z"
   },
   {
    "duration": 1476,
    "start_time": "2025-02-04T18:44:43.933Z"
   },
   {
    "duration": 456,
    "start_time": "2025-02-04T18:45:28.057Z"
   },
   {
    "duration": 55905,
    "start_time": "2025-02-04T19:06:44.349Z"
   },
   {
    "duration": 54549,
    "start_time": "2025-02-04T19:19:13.888Z"
   },
   {
    "duration": 55118,
    "start_time": "2025-02-04T19:21:56.193Z"
   },
   {
    "duration": 1009,
    "start_time": "2025-02-04T19:23:46.750Z"
   },
   {
    "duration": 2528,
    "start_time": "2025-02-04T19:27:39.382Z"
   },
   {
    "duration": 2370,
    "start_time": "2025-02-04T19:28:14.643Z"
   },
   {
    "duration": 2410,
    "start_time": "2025-02-04T19:30:03.080Z"
   },
   {
    "duration": 2654,
    "start_time": "2025-02-04T19:31:42.549Z"
   },
   {
    "duration": 502,
    "start_time": "2025-02-04T19:33:24.124Z"
   },
   {
    "duration": 390,
    "start_time": "2025-02-04T19:33:45.044Z"
   },
   {
    "duration": 394,
    "start_time": "2025-02-04T19:34:01.207Z"
   },
   {
    "duration": 369,
    "start_time": "2025-02-04T19:34:25.665Z"
   },
   {
    "duration": 171,
    "start_time": "2025-02-04T19:35:20.467Z"
   },
   {
    "duration": 162,
    "start_time": "2025-02-04T19:36:16.834Z"
   },
   {
    "duration": 191,
    "start_time": "2025-02-04T19:37:29.307Z"
   },
   {
    "duration": 162,
    "start_time": "2025-02-04T19:37:36.334Z"
   },
   {
    "duration": 157,
    "start_time": "2025-02-04T19:46:55.387Z"
   },
   {
    "duration": 45,
    "start_time": "2025-02-04T19:49:13.959Z"
   },
   {
    "duration": 43,
    "start_time": "2025-02-04T19:49:18.128Z"
   },
   {
    "duration": 48,
    "start_time": "2025-02-04T19:50:00.736Z"
   },
   {
    "duration": 406,
    "start_time": "2025-02-04T19:52:06.730Z"
   },
   {
    "duration": 1125,
    "start_time": "2025-02-04T19:52:20.668Z"
   },
   {
    "duration": 1047,
    "start_time": "2025-02-04T19:53:02.833Z"
   },
   {
    "duration": 74,
    "start_time": "2025-02-04T19:53:57.278Z"
   },
   {
    "duration": 1036,
    "start_time": "2025-02-04T19:54:05.083Z"
   },
   {
    "duration": 67,
    "start_time": "2025-02-04T19:55:22.633Z"
   },
   {
    "duration": 1026,
    "start_time": "2025-02-04T19:55:47.657Z"
   },
   {
    "duration": 69,
    "start_time": "2025-02-04T19:56:02.946Z"
   },
   {
    "duration": 973,
    "start_time": "2025-02-04T19:56:07.327Z"
   },
   {
    "duration": 42,
    "start_time": "2025-02-04T19:58:41.983Z"
   },
   {
    "duration": 456,
    "start_time": "2025-02-04T20:49:44.012Z"
   },
   {
    "duration": 900,
    "start_time": "2025-02-04T20:49:44.471Z"
   },
   {
    "duration": 11,
    "start_time": "2025-02-04T20:49:45.372Z"
   },
   {
    "duration": 23,
    "start_time": "2025-02-04T20:49:45.386Z"
   },
   {
    "duration": 9,
    "start_time": "2025-02-04T20:49:45.410Z"
   },
   {
    "duration": 7,
    "start_time": "2025-02-04T20:49:45.420Z"
   },
   {
    "duration": 24,
    "start_time": "2025-02-04T20:49:45.429Z"
   },
   {
    "duration": 132,
    "start_time": "2025-02-04T20:49:45.455Z"
   },
   {
    "duration": 10,
    "start_time": "2025-02-04T20:49:45.589Z"
   },
   {
    "duration": 101,
    "start_time": "2025-02-04T20:49:45.610Z"
   },
   {
    "duration": 111,
    "start_time": "2025-02-04T20:49:45.713Z"
   },
   {
    "duration": 53,
    "start_time": "2025-02-04T20:49:45.825Z"
   },
   {
    "duration": 112,
    "start_time": "2025-02-04T20:49:45.880Z"
   },
   {
    "duration": 4,
    "start_time": "2025-02-04T20:49:45.994Z"
   },
   {
    "duration": 31,
    "start_time": "2025-02-04T20:49:46.008Z"
   },
   {
    "duration": 35,
    "start_time": "2025-02-04T20:49:46.041Z"
   },
   {
    "duration": 10,
    "start_time": "2025-02-04T20:49:46.078Z"
   },
   {
    "duration": 6,
    "start_time": "2025-02-04T20:49:46.110Z"
   },
   {
    "duration": 4,
    "start_time": "2025-02-04T20:49:46.117Z"
   },
   {
    "duration": 4,
    "start_time": "2025-02-04T20:49:46.124Z"
   },
   {
    "duration": 822,
    "start_time": "2025-02-04T20:49:46.130Z"
   },
   {
    "duration": 808,
    "start_time": "2025-02-04T20:49:46.954Z"
   },
   {
    "duration": 7,
    "start_time": "2025-02-04T20:49:47.765Z"
   },
   {
    "duration": 7,
    "start_time": "2025-02-04T20:49:47.774Z"
   },
   {
    "duration": 5,
    "start_time": "2025-02-04T20:49:47.782Z"
   },
   {
    "duration": 25,
    "start_time": "2025-02-04T20:49:47.788Z"
   },
   {
    "duration": 9,
    "start_time": "2025-02-04T20:49:47.816Z"
   },
   {
    "duration": 6,
    "start_time": "2025-02-04T20:49:47.829Z"
   },
   {
    "duration": 6,
    "start_time": "2025-02-04T20:49:47.836Z"
   },
   {
    "duration": 10,
    "start_time": "2025-02-04T20:49:47.844Z"
   },
   {
    "duration": 67,
    "start_time": "2025-02-04T20:49:47.856Z"
   },
   {
    "duration": 7,
    "start_time": "2025-02-04T20:49:47.926Z"
   },
   {
    "duration": 78,
    "start_time": "2025-02-04T20:49:47.935Z"
   },
   {
    "duration": 29,
    "start_time": "2025-02-04T20:49:48.015Z"
   },
   {
    "duration": 6,
    "start_time": "2025-02-04T20:49:48.046Z"
   },
   {
    "duration": 442,
    "start_time": "2025-02-04T20:49:48.054Z"
   },
   {
    "duration": 322,
    "start_time": "2025-02-04T20:49:48.498Z"
   },
   {
    "duration": 237,
    "start_time": "2025-02-04T20:49:48.822Z"
   },
   {
    "duration": 218,
    "start_time": "2025-02-04T20:49:49.061Z"
   },
   {
    "duration": 0,
    "start_time": "2025-02-04T20:49:49.281Z"
   },
   {
    "duration": 0,
    "start_time": "2025-02-04T20:49:49.282Z"
   },
   {
    "duration": 0,
    "start_time": "2025-02-04T20:49:49.284Z"
   },
   {
    "duration": 0,
    "start_time": "2025-02-04T20:49:49.285Z"
   },
   {
    "duration": 0,
    "start_time": "2025-02-04T20:49:49.287Z"
   },
   {
    "duration": 0,
    "start_time": "2025-02-04T20:49:49.288Z"
   },
   {
    "duration": 0,
    "start_time": "2025-02-04T20:49:49.290Z"
   },
   {
    "duration": 2,
    "start_time": "2025-02-04T20:51:50.544Z"
   },
   {
    "duration": 259,
    "start_time": "2025-02-04T20:51:52.305Z"
   },
   {
    "duration": 311,
    "start_time": "2025-02-04T20:52:24.612Z"
   },
   {
    "duration": 326,
    "start_time": "2025-02-04T20:52:24.925Z"
   },
   {
    "duration": 1647,
    "start_time": "2025-02-04T20:52:25.252Z"
   },
   {
    "duration": 530,
    "start_time": "2025-02-04T20:52:26.910Z"
   },
   {
    "duration": 1287,
    "start_time": "2025-02-04T20:52:27.442Z"
   },
   {
    "duration": 248,
    "start_time": "2025-02-04T20:52:28.731Z"
   },
   {
    "duration": 1172,
    "start_time": "2025-02-04T20:52:28.981Z"
   },
   {
    "duration": 56,
    "start_time": "2025-02-04T20:52:30.154Z"
   },
   {
    "duration": 7,
    "start_time": "2025-02-04T20:54:27.074Z"
   },
   {
    "duration": 5,
    "start_time": "2025-02-04T20:54:36.059Z"
   },
   {
    "duration": 303,
    "start_time": "2025-02-04T20:56:02.155Z"
   },
   {
    "duration": 863,
    "start_time": "2025-02-04T20:56:02.461Z"
   },
   {
    "duration": 12,
    "start_time": "2025-02-04T20:56:03.327Z"
   },
   {
    "duration": 10,
    "start_time": "2025-02-04T20:56:03.341Z"
   },
   {
    "duration": 7,
    "start_time": "2025-02-04T20:56:03.354Z"
   },
   {
    "duration": 10,
    "start_time": "2025-02-04T20:56:03.364Z"
   },
   {
    "duration": 56,
    "start_time": "2025-02-04T20:56:03.375Z"
   },
   {
    "duration": 105,
    "start_time": "2025-02-04T20:56:03.433Z"
   },
   {
    "duration": 11,
    "start_time": "2025-02-04T20:56:03.539Z"
   },
   {
    "duration": 113,
    "start_time": "2025-02-04T20:56:03.551Z"
   },
   {
    "duration": 114,
    "start_time": "2025-02-04T20:56:03.666Z"
   },
   {
    "duration": 68,
    "start_time": "2025-02-04T20:56:03.783Z"
   },
   {
    "duration": 103,
    "start_time": "2025-02-04T20:56:03.852Z"
   },
   {
    "duration": 4,
    "start_time": "2025-02-04T20:56:03.959Z"
   },
   {
    "duration": 50,
    "start_time": "2025-02-04T20:56:03.964Z"
   },
   {
    "duration": 35,
    "start_time": "2025-02-04T20:56:04.016Z"
   },
   {
    "duration": 11,
    "start_time": "2025-02-04T20:56:04.053Z"
   },
   {
    "duration": 5,
    "start_time": "2025-02-04T20:56:04.066Z"
   },
   {
    "duration": 4,
    "start_time": "2025-02-04T20:56:04.074Z"
   },
   {
    "duration": 31,
    "start_time": "2025-02-04T20:56:04.080Z"
   },
   {
    "duration": 842,
    "start_time": "2025-02-04T20:56:04.113Z"
   },
   {
    "duration": 713,
    "start_time": "2025-02-04T20:56:04.957Z"
   },
   {
    "duration": 9,
    "start_time": "2025-02-04T20:56:05.671Z"
   },
   {
    "duration": 6,
    "start_time": "2025-02-04T20:56:05.682Z"
   },
   {
    "duration": 4,
    "start_time": "2025-02-04T20:56:05.689Z"
   },
   {
    "duration": 7,
    "start_time": "2025-02-04T20:56:05.709Z"
   },
   {
    "duration": 8,
    "start_time": "2025-02-04T20:56:05.717Z"
   },
   {
    "duration": 6,
    "start_time": "2025-02-04T20:56:05.727Z"
   },
   {
    "duration": 6,
    "start_time": "2025-02-04T20:56:05.734Z"
   },
   {
    "duration": 9,
    "start_time": "2025-02-04T20:56:05.742Z"
   },
   {
    "duration": 70,
    "start_time": "2025-02-04T20:56:05.753Z"
   },
   {
    "duration": 7,
    "start_time": "2025-02-04T20:56:05.825Z"
   },
   {
    "duration": 83,
    "start_time": "2025-02-04T20:56:05.833Z"
   },
   {
    "duration": 32,
    "start_time": "2025-02-04T20:56:05.918Z"
   },
   {
    "duration": 8,
    "start_time": "2025-02-04T20:56:05.951Z"
   },
   {
    "duration": 443,
    "start_time": "2025-02-04T20:56:05.961Z"
   },
   {
    "duration": 316,
    "start_time": "2025-02-04T20:56:06.409Z"
   },
   {
    "duration": 243,
    "start_time": "2025-02-04T20:56:06.727Z"
   },
   {
    "duration": 240,
    "start_time": "2025-02-04T20:56:06.971Z"
   },
   {
    "duration": 0,
    "start_time": "2025-02-04T20:56:07.213Z"
   },
   {
    "duration": 0,
    "start_time": "2025-02-04T20:56:07.214Z"
   },
   {
    "duration": 0,
    "start_time": "2025-02-04T20:56:07.215Z"
   },
   {
    "duration": 0,
    "start_time": "2025-02-04T20:56:07.216Z"
   },
   {
    "duration": 0,
    "start_time": "2025-02-04T20:56:07.217Z"
   },
   {
    "duration": 0,
    "start_time": "2025-02-04T20:56:07.218Z"
   },
   {
    "duration": 0,
    "start_time": "2025-02-04T20:56:07.221Z"
   },
   {
    "duration": 161,
    "start_time": "2025-02-04T22:38:52.427Z"
   },
   {
    "duration": 14,
    "start_time": "2025-02-04T22:39:02.085Z"
   },
   {
    "duration": 15,
    "start_time": "2025-02-04T22:40:32.583Z"
   },
   {
    "duration": 13,
    "start_time": "2025-02-05T02:26:32.097Z"
   },
   {
    "duration": 16,
    "start_time": "2025-02-05T02:27:00.983Z"
   },
   {
    "duration": 2235,
    "start_time": "2025-02-05T02:28:55.419Z"
   },
   {
    "duration": 7,
    "start_time": "2025-02-05T02:29:33.150Z"
   },
   {
    "duration": 337,
    "start_time": "2025-02-05T02:30:06.234Z"
   },
   {
    "duration": 19,
    "start_time": "2025-02-05T02:30:13.612Z"
   },
   {
    "duration": 18,
    "start_time": "2025-02-05T02:30:27.315Z"
   },
   {
    "duration": 17,
    "start_time": "2025-02-05T02:31:56.550Z"
   },
   {
    "duration": 18,
    "start_time": "2025-02-05T02:33:30.584Z"
   },
   {
    "duration": 66,
    "start_time": "2025-02-05T02:35:33.192Z"
   },
   {
    "duration": 19,
    "start_time": "2025-02-05T02:35:41.727Z"
   },
   {
    "duration": 19,
    "start_time": "2025-02-05T02:35:48.712Z"
   },
   {
    "duration": 1289,
    "start_time": "2025-02-05T02:39:13.061Z"
   },
   {
    "duration": 303,
    "start_time": "2025-02-05T02:39:30.162Z"
   },
   {
    "duration": 1542,
    "start_time": "2025-02-05T02:42:54.162Z"
   },
   {
    "duration": 493,
    "start_time": "2025-02-05T02:48:49.626Z"
   },
   {
    "duration": 1205,
    "start_time": "2025-02-05T02:49:09.933Z"
   },
   {
    "duration": 257,
    "start_time": "2025-02-05T02:49:23.169Z"
   },
   {
    "duration": 247,
    "start_time": "2025-02-05T02:51:07.930Z"
   },
   {
    "duration": 277,
    "start_time": "2025-02-05T02:51:13.630Z"
   },
   {
    "duration": 240,
    "start_time": "2025-02-05T02:52:11.986Z"
   },
   {
    "duration": 2227,
    "start_time": "2025-02-05T02:52:41.737Z"
   },
   {
    "duration": 2670,
    "start_time": "2025-02-05T02:53:29.389Z"
   },
   {
    "duration": 5076,
    "start_time": "2025-02-05T02:54:39.731Z"
   },
   {
    "duration": 2232,
    "start_time": "2025-02-05T02:54:50.916Z"
   },
   {
    "duration": 4,
    "start_time": "2025-02-05T02:54:59.038Z"
   },
   {
    "duration": 7,
    "start_time": "2025-02-05T02:55:01.169Z"
   },
   {
    "duration": 4,
    "start_time": "2025-02-05T02:55:06.947Z"
   },
   {
    "duration": 209,
    "start_time": "2025-02-05T02:56:20.276Z"
   },
   {
    "duration": 2261,
    "start_time": "2025-02-05T02:57:22.893Z"
   },
   {
    "duration": 2386,
    "start_time": "2025-02-05T02:57:36.236Z"
   },
   {
    "duration": 247,
    "start_time": "2025-02-05T02:58:20.472Z"
   },
   {
    "duration": 250,
    "start_time": "2025-02-05T02:58:33.038Z"
   },
   {
    "duration": 1329,
    "start_time": "2025-02-05T03:02:34.613Z"
   },
   {
    "duration": 1277,
    "start_time": "2025-02-05T03:03:28.360Z"
   },
   {
    "duration": 1042,
    "start_time": "2025-02-05T03:05:39.318Z"
   },
   {
    "duration": 233,
    "start_time": "2025-02-05T03:07:08.914Z"
   },
   {
    "duration": 2769,
    "start_time": "2025-02-05T03:09:44.728Z"
   },
   {
    "duration": 1585,
    "start_time": "2025-02-05T03:12:01.306Z"
   },
   {
    "duration": 1967,
    "start_time": "2025-02-05T03:12:15.687Z"
   },
   {
    "duration": 949,
    "start_time": "2025-02-05T03:14:52.499Z"
   },
   {
    "duration": 1066,
    "start_time": "2025-02-05T03:14:58.056Z"
   },
   {
    "duration": 3343,
    "start_time": "2025-02-05T03:16:39.256Z"
   },
   {
    "duration": 47,
    "start_time": "2025-02-05T03:18:44.353Z"
   },
   {
    "duration": 366,
    "start_time": "2025-02-05T03:19:56.366Z"
   },
   {
    "duration": 358,
    "start_time": "2025-02-05T03:20:35.483Z"
   },
   {
    "duration": 353,
    "start_time": "2025-02-05T03:20:48.008Z"
   },
   {
    "duration": 291,
    "start_time": "2025-02-05T14:57:28.052Z"
   },
   {
    "duration": 1023,
    "start_time": "2025-02-05T14:57:28.345Z"
   },
   {
    "duration": 11,
    "start_time": "2025-02-05T14:57:29.370Z"
   },
   {
    "duration": 23,
    "start_time": "2025-02-05T14:57:29.382Z"
   },
   {
    "duration": 7,
    "start_time": "2025-02-05T14:57:29.407Z"
   },
   {
    "duration": 7,
    "start_time": "2025-02-05T14:57:29.416Z"
   },
   {
    "duration": 24,
    "start_time": "2025-02-05T14:57:29.424Z"
   },
   {
    "duration": 129,
    "start_time": "2025-02-05T14:57:29.450Z"
   },
   {
    "duration": 24,
    "start_time": "2025-02-05T14:57:29.581Z"
   },
   {
    "duration": 102,
    "start_time": "2025-02-05T14:57:29.607Z"
   },
   {
    "duration": 107,
    "start_time": "2025-02-05T14:57:29.710Z"
   },
   {
    "duration": 50,
    "start_time": "2025-02-05T14:57:29.818Z"
   },
   {
    "duration": 113,
    "start_time": "2025-02-05T14:57:29.869Z"
   },
   {
    "duration": 4,
    "start_time": "2025-02-05T14:57:29.985Z"
   },
   {
    "duration": 40,
    "start_time": "2025-02-05T14:57:29.991Z"
   },
   {
    "duration": 34,
    "start_time": "2025-02-05T14:57:30.033Z"
   },
   {
    "duration": 10,
    "start_time": "2025-02-05T14:57:30.069Z"
   },
   {
    "duration": 29,
    "start_time": "2025-02-05T14:57:30.080Z"
   },
   {
    "duration": 5,
    "start_time": "2025-02-05T14:57:30.110Z"
   },
   {
    "duration": 4,
    "start_time": "2025-02-05T14:57:30.116Z"
   },
   {
    "duration": 797,
    "start_time": "2025-02-05T14:57:30.122Z"
   },
   {
    "duration": 702,
    "start_time": "2025-02-05T14:57:30.920Z"
   },
   {
    "duration": 10,
    "start_time": "2025-02-05T14:57:31.623Z"
   },
   {
    "duration": 6,
    "start_time": "2025-02-05T14:57:31.634Z"
   },
   {
    "duration": 4,
    "start_time": "2025-02-05T14:57:31.641Z"
   },
   {
    "duration": 5,
    "start_time": "2025-02-05T14:57:31.647Z"
   },
   {
    "duration": 8,
    "start_time": "2025-02-05T14:57:31.654Z"
   },
   {
    "duration": 42,
    "start_time": "2025-02-05T14:57:31.663Z"
   },
   {
    "duration": 7,
    "start_time": "2025-02-05T14:57:31.707Z"
   },
   {
    "duration": 9,
    "start_time": "2025-02-05T14:57:31.715Z"
   },
   {
    "duration": 30,
    "start_time": "2025-02-05T14:57:31.725Z"
   },
   {
    "duration": 6,
    "start_time": "2025-02-05T14:57:31.757Z"
   },
   {
    "duration": 94,
    "start_time": "2025-02-05T14:57:31.765Z"
   },
   {
    "duration": 26,
    "start_time": "2025-02-05T14:57:31.861Z"
   },
   {
    "duration": 20,
    "start_time": "2025-02-05T14:57:31.889Z"
   },
   {
    "duration": 427,
    "start_time": "2025-02-05T14:57:31.910Z"
   },
   {
    "duration": 337,
    "start_time": "2025-02-05T14:57:32.339Z"
   },
   {
    "duration": 251,
    "start_time": "2025-02-05T14:57:32.677Z"
   },
   {
    "duration": 210,
    "start_time": "2025-02-05T14:57:32.930Z"
   },
   {
    "duration": 0,
    "start_time": "2025-02-05T14:57:33.142Z"
   },
   {
    "duration": 0,
    "start_time": "2025-02-05T14:57:33.143Z"
   },
   {
    "duration": 0,
    "start_time": "2025-02-05T14:57:33.144Z"
   },
   {
    "duration": 0,
    "start_time": "2025-02-05T14:57:33.146Z"
   },
   {
    "duration": 0,
    "start_time": "2025-02-05T14:57:33.148Z"
   },
   {
    "duration": 0,
    "start_time": "2025-02-05T14:57:33.149Z"
   },
   {
    "duration": 0,
    "start_time": "2025-02-05T14:57:33.151Z"
   },
   {
    "duration": 304,
    "start_time": "2025-02-05T14:58:05.292Z"
   },
   {
    "duration": 1549,
    "start_time": "2025-02-05T14:58:05.604Z"
   },
   {
    "duration": 544,
    "start_time": "2025-02-05T14:58:07.155Z"
   },
   {
    "duration": 1111,
    "start_time": "2025-02-05T14:58:07.705Z"
   },
   {
    "duration": 0,
    "start_time": "2025-02-05T14:58:08.818Z"
   },
   {
    "duration": 0,
    "start_time": "2025-02-05T14:58:08.820Z"
   },
   {
    "duration": 0,
    "start_time": "2025-02-05T14:58:08.821Z"
   },
   {
    "duration": 2231,
    "start_time": "2025-02-05T14:58:17.825Z"
   },
   {
    "duration": 2847,
    "start_time": "2025-02-05T14:58:57.486Z"
   },
   {
    "duration": 386,
    "start_time": "2025-02-05T14:59:18.034Z"
   },
   {
    "duration": 358,
    "start_time": "2025-02-05T17:07:12.039Z"
   },
   {
    "duration": 16,
    "start_time": "2025-02-05T17:09:25.985Z"
   },
   {
    "duration": 25,
    "start_time": "2025-02-05T17:10:03.277Z"
   },
   {
    "duration": 2079,
    "start_time": "2025-02-05T17:10:30.233Z"
   },
   {
    "duration": 1253,
    "start_time": "2025-02-05T17:12:27.232Z"
   },
   {
    "duration": 275,
    "start_time": "2025-02-05T17:12:53.775Z"
   },
   {
    "duration": 242,
    "start_time": "2025-02-05T17:12:59.939Z"
   },
   {
    "duration": 238,
    "start_time": "2025-02-05T17:13:23.676Z"
   },
   {
    "duration": 1263,
    "start_time": "2025-02-05T17:14:29.189Z"
   },
   {
    "duration": 2194,
    "start_time": "2025-02-05T17:17:20.047Z"
   },
   {
    "duration": 475,
    "start_time": "2025-02-05T20:09:29.777Z"
   },
   {
    "duration": 894,
    "start_time": "2025-02-05T20:09:30.254Z"
   },
   {
    "duration": 11,
    "start_time": "2025-02-05T20:09:31.150Z"
   },
   {
    "duration": 10,
    "start_time": "2025-02-05T20:09:31.163Z"
   },
   {
    "duration": 9,
    "start_time": "2025-02-05T20:09:31.175Z"
   },
   {
    "duration": 8,
    "start_time": "2025-02-05T20:09:31.186Z"
   },
   {
    "duration": 51,
    "start_time": "2025-02-05T20:09:31.196Z"
   },
   {
    "duration": 104,
    "start_time": "2025-02-05T20:09:31.249Z"
   },
   {
    "duration": 10,
    "start_time": "2025-02-05T20:09:31.355Z"
   },
   {
    "duration": 108,
    "start_time": "2025-02-05T20:09:31.368Z"
   },
   {
    "duration": 107,
    "start_time": "2025-02-05T20:09:31.478Z"
   },
   {
    "duration": 62,
    "start_time": "2025-02-05T20:09:31.587Z"
   },
   {
    "duration": 105,
    "start_time": "2025-02-05T20:09:31.651Z"
   },
   {
    "duration": 6,
    "start_time": "2025-02-05T20:09:31.758Z"
   },
   {
    "duration": 31,
    "start_time": "2025-02-05T20:09:31.766Z"
   },
   {
    "duration": 51,
    "start_time": "2025-02-05T20:09:31.799Z"
   },
   {
    "duration": 10,
    "start_time": "2025-02-05T20:09:31.852Z"
   },
   {
    "duration": 5,
    "start_time": "2025-02-05T20:09:31.864Z"
   },
   {
    "duration": 4,
    "start_time": "2025-02-05T20:09:31.871Z"
   },
   {
    "duration": 5,
    "start_time": "2025-02-05T20:09:31.876Z"
   },
   {
    "duration": 813,
    "start_time": "2025-02-05T20:09:31.884Z"
   },
   {
    "duration": 724,
    "start_time": "2025-02-05T20:09:32.699Z"
   },
   {
    "duration": 12,
    "start_time": "2025-02-05T20:09:33.424Z"
   },
   {
    "duration": 6,
    "start_time": "2025-02-05T20:09:33.438Z"
   },
   {
    "duration": 4,
    "start_time": "2025-02-05T20:09:33.446Z"
   },
   {
    "duration": 5,
    "start_time": "2025-02-05T20:09:33.452Z"
   },
   {
    "duration": 8,
    "start_time": "2025-02-05T20:09:33.459Z"
   },
   {
    "duration": 7,
    "start_time": "2025-02-05T20:09:33.472Z"
   },
   {
    "duration": 6,
    "start_time": "2025-02-05T20:09:33.480Z"
   },
   {
    "duration": 49,
    "start_time": "2025-02-05T20:09:33.488Z"
   },
   {
    "duration": 34,
    "start_time": "2025-02-05T20:09:33.538Z"
   },
   {
    "duration": 8,
    "start_time": "2025-02-05T20:09:33.573Z"
   },
   {
    "duration": 91,
    "start_time": "2025-02-05T20:09:33.583Z"
   },
   {
    "duration": 33,
    "start_time": "2025-02-05T20:09:33.676Z"
   },
   {
    "duration": 7,
    "start_time": "2025-02-05T20:09:33.710Z"
   },
   {
    "duration": 447,
    "start_time": "2025-02-05T20:09:33.730Z"
   },
   {
    "duration": 342,
    "start_time": "2025-02-05T20:09:34.180Z"
   },
   {
    "duration": 252,
    "start_time": "2025-02-05T20:09:34.524Z"
   },
   {
    "duration": 259,
    "start_time": "2025-02-05T20:09:34.778Z"
   },
   {
    "duration": 334,
    "start_time": "2025-02-05T20:09:35.039Z"
   },
   {
    "duration": 1628,
    "start_time": "2025-02-05T20:09:35.375Z"
   },
   {
    "duration": 517,
    "start_time": "2025-02-05T20:09:37.005Z"
   },
   {
    "duration": 1327,
    "start_time": "2025-02-05T20:09:37.524Z"
   },
   {
    "duration": 2263,
    "start_time": "2025-02-05T20:09:38.853Z"
   },
   {
    "duration": 2999,
    "start_time": "2025-02-05T20:09:41.118Z"
   },
   {
    "duration": 368,
    "start_time": "2025-02-05T20:09:44.119Z"
   }
  ],
  "colab": {
   "provenance": []
  },
  "kernelspec": {
   "display_name": "Python 3 (ipykernel)",
   "language": "python",
   "name": "python3"
  },
  "language_info": {
   "codemirror_mode": {
    "name": "ipython",
    "version": 3
   },
   "file_extension": ".py",
   "mimetype": "text/x-python",
   "name": "python",
   "nbconvert_exporter": "python",
   "pygments_lexer": "ipython3",
   "version": "3.9.19"
  },
  "toc": {
   "base_numbering": 1,
   "nav_menu": {},
   "number_sections": true,
   "sideBar": true,
   "skip_h1_title": true,
   "title_cell": "Table of Contents",
   "title_sidebar": "Contents",
   "toc_cell": false,
   "toc_position": {},
   "toc_section_display": true,
   "toc_window_display": false
  },
  "vscode": {
   "interpreter": {
    "hash": "01a7be9ec63e704a62cefc5fe7a4756944464ee731be31632bdf42a4cb4688cf"
   }
  }
 },
 "nbformat": 4,
 "nbformat_minor": 5
}
