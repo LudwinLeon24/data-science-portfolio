{
 "cells": [
  {
   "cell_type": "markdown",
   "metadata": {
    "id": "3rYiDeEH0q0f"
   },
   "source": [
    "# ¿Cuál es la mejor tarifa?\n",
    "\n",
    "Trabajas como analista para el operador de telecomunicaciones Megaline. La empresa ofrece a sus clientes dos tarifas de prepago, Surf y Ultimate. El departamento comercial quiere saber cuál de las tarifas genera más ingresos para poder ajustar el presupuesto de publicidad.\n",
    "\n",
    "Vas a realizar un análisis preliminar de las tarifas basado en una selección de clientes relativamente pequeña. Tendrás los datos de 500 clientes de Megaline: quiénes son los clientes, de dónde son, qué tarifa usan, así como la cantidad de llamadas que hicieron y los mensajes de texto que enviaron en 2018. Tu trabajo es analizar el comportamiento de los clientes y determinar qué tarifa de prepago genera más ingresos."
   ]
  },
  {
   "cell_type": "markdown",
   "metadata": {
    "id": "VNddPNRQ0q0w"
   },
   "source": [
    "[Te proporcionamos algunos comentarios para orientarte mientras completas este proyecto. Pero debes asegurarte de eliminar todos los comentarios entre corchetes antes de entregar tu proyecto.]\n",
    "\n",
    "[Antes de sumergirte en el análisis de datos, explica por tu propia cuenta el propósito del proyecto y las acciones que planeas realizar.]\n",
    "\n",
    "[Ten en cuenta que estudiar, modificar y analizar datos es un proceso iterativo. Es normal volver a los pasos anteriores y corregirlos/ampliarlos para permitir nuevos pasos.] \n",
    "El proposito de mi proyecto es ayudar a la empresa Megaline a identificar cual de sus tarifas, Surf y Ultimate genera mas Ingresos, para que puedan ajustar su presupuesto de publicidad, Plane utilizar los datos de sus 500 clientes  para saber datos como que tarifas es la que mas usan, las llamadas que realizaron, cuantos mensajes enviaron,para que tengan una mejor vision de cual es el plan que tienen al momento."
   ]
  },
  {
   "cell_type": "markdown",
   "metadata": {
    "id": "MQi4IPy70q0y"
   },
   "source": [
    "## Inicialización"
   ]
  },
  {
   "cell_type": "code",
   "execution_count": 1,
   "metadata": {
    "id": "MtYIuBxu0q0z",
    "trusted": false
   },
   "outputs": [],
   "source": [
    "import pandas as pd # Cargar todas las librerías\n",
    "import math\n"
   ]
  },
  {
   "cell_type": "markdown",
   "metadata": {
    "id": "4ysWWC5i0q00"
   },
   "source": [
    "## Cargar datos"
   ]
  },
  {
   "cell_type": "code",
   "execution_count": 60,
   "metadata": {
    "id": "CCqPW7rS0q01",
    "scrolled": true,
    "trusted": false
   },
   "outputs": [],
   "source": [
    "calls = pd.read_csv(\"/datasets/megaline_calls.csv\")\n",
    "internet = pd.read_csv(\"/datasets/megaline_internet.csv\") \n",
    "messages = pd.read_csv(\"/datasets/megaline_messages.csv\") \n",
    "plans = pd.read_csv(\"/datasets/megaline_plans.csv\") \n",
    "users = pd.read_csv(\"/datasets/megaline_users.csv\") \n",
    "\n"
   ]
  },
  {
   "cell_type": "markdown",
   "metadata": {
    "id": "69qqoJ3r0q01"
   },
   "source": [
    "## Preparar los datos"
   ]
  },
  {
   "cell_type": "markdown",
   "metadata": {
    "id": "vUuZw80S0q01"
   },
   "source": [
    "[Los datos para este proyecto se dividen en varias tablas. Explora cada una para tener una comprensión inicial de los datos. Si es necesario, haz las correcciones requeridas en cada tabla.]"
   ]
  },
  {
   "cell_type": "markdown",
   "metadata": {
    "id": "ohBhimvH0q01"
   },
   "source": [
    "## Tarifas"
   ]
  },
  {
   "cell_type": "code",
   "execution_count": 59,
   "metadata": {
    "id": "GptqP3Q40q02",
    "trusted": false
   },
   "outputs": [
    {
     "name": "stdout",
     "output_type": "stream",
     "text": [
      "<class 'pandas.core.frame.DataFrame'>\n",
      "RangeIndex: 137735 entries, 0 to 137734\n",
      "Data columns (total 4 columns):\n",
      " #   Column     Non-Null Count   Dtype  \n",
      "---  ------     --------------   -----  \n",
      " 0   id         137735 non-null  object \n",
      " 1   user_id    137735 non-null  int64  \n",
      " 2   call_date  137735 non-null  object \n",
      " 3   duration   137735 non-null  float64\n",
      "dtypes: float64(1), int64(1), object(2)\n",
      "memory usage: 4.2+ MB\n",
      "<class 'pandas.core.frame.DataFrame'>\n",
      "RangeIndex: 104825 entries, 0 to 104824\n",
      "Data columns (total 4 columns):\n",
      " #   Column        Non-Null Count   Dtype  \n",
      "---  ------        --------------   -----  \n",
      " 0   id            104825 non-null  object \n",
      " 1   user_id       104825 non-null  int64  \n",
      " 2   session_date  104825 non-null  object \n",
      " 3   mb_used       104825 non-null  float64\n",
      "dtypes: float64(1), int64(1), object(2)\n",
      "memory usage: 3.2+ MB\n",
      "<class 'pandas.core.frame.DataFrame'>\n",
      "RangeIndex: 76051 entries, 0 to 76050\n",
      "Data columns (total 3 columns):\n",
      " #   Column        Non-Null Count  Dtype \n",
      "---  ------        --------------  ----- \n",
      " 0   id            76051 non-null  object\n",
      " 1   user_id       76051 non-null  int64 \n",
      " 2   message_date  76051 non-null  object\n",
      "dtypes: int64(1), object(2)\n",
      "memory usage: 1.7+ MB\n",
      "<class 'pandas.core.frame.DataFrame'>\n",
      "RangeIndex: 2 entries, 0 to 1\n",
      "Data columns (total 8 columns):\n",
      " #   Column                 Non-Null Count  Dtype  \n",
      "---  ------                 --------------  -----  \n",
      " 0   messages_included      2 non-null      int64  \n",
      " 1   mb_per_month_included  2 non-null      int64  \n",
      " 2   minutes_included       2 non-null      int64  \n",
      " 3   usd_monthly_pay        2 non-null      int64  \n",
      " 4   usd_per_gb             2 non-null      int64  \n",
      " 5   usd_per_message        2 non-null      float64\n",
      " 6   usd_per_minute         2 non-null      float64\n",
      " 7   plan_name              2 non-null      object \n",
      "dtypes: float64(2), int64(5), object(1)\n",
      "memory usage: 256.0+ bytes\n",
      "<class 'pandas.core.frame.DataFrame'>\n",
      "RangeIndex: 500 entries, 0 to 499\n",
      "Data columns (total 8 columns):\n",
      " #   Column      Non-Null Count  Dtype \n",
      "---  ------      --------------  ----- \n",
      " 0   user_id     500 non-null    int64 \n",
      " 1   first_name  500 non-null    object\n",
      " 2   last_name   500 non-null    object\n",
      " 3   age         500 non-null    int64 \n",
      " 4   city        500 non-null    object\n",
      " 5   reg_date    500 non-null    object\n",
      " 6   plan        500 non-null    object\n",
      " 7   churn_date  34 non-null     object\n",
      "dtypes: int64(2), object(6)\n",
      "memory usage: 31.4+ KB\n"
     ]
    }
   ],
   "source": [
    "calls.info(show_counts=True)# Imprime la información general/resumida sobre el DataFrame de las tarifas\n",
    "internet.info(show_counts=True)\n",
    "messages.info(show_counts=True)\n",
    "plans.info(show_counts=True)\n",
    "users.info(show_counts=True)"
   ]
  },
  {
   "cell_type": "code",
   "execution_count": 13,
   "metadata": {
    "id": "64xzjwL70q02",
    "trusted": false
   },
   "outputs": [
    {
     "name": "stdout",
     "output_type": "stream",
     "text": [
      "   messages_included  mb_per_month_included  minutes_included  \\\n",
      "0                 50                  15360               500   \n",
      "1               1000                  30720              3000   \n",
      "\n",
      "   usd_monthly_pay  usd_per_gb  usd_per_message  usd_per_minute plan_name  \n",
      "0               20          10             0.03            0.03      surf  \n",
      "1               70           7             0.01            0.01  ultimate  \n"
     ]
    }
   ],
   "source": [
    "print(plans.head())# Imprime una muestra de los datos para las tarifas\n",
    "\n",
    "\n"
   ]
  },
  {
   "cell_type": "markdown",
   "metadata": {
    "id": "mEc_3_hs0q02"
   },
   "source": [
    "[Describe lo que ves y observas en la información general y en la muestra de datos impresa para el precio de datos anterior. ¿Hay algún problema (tipos de datos no adecuados, datos ausentes, etc.) que pudieran necesitar investigación y cambios adicionales? ¿Cómo se puede arreglar?]\n",
    "\n",
    "En la informacion anterior me percate de que algunos de los datos no son adecuados, por ejemplo en los datos que son fechas estan marcados como object o string, por lo cual es necesario modificarlos para su manipulacion y una mejor vision de los datos en el futuro.\n",
    "\n",
    "De igual manera en la fila de churn_date podemos ver la cantidad de datos nulos o ausentes, por lo cual hay que arreglarlo ya que son personas que aun siguen con su plan.\n",
    "\n",
    "y por ultimo al imprimir los planes vemos que  la diferencia de los precios entre los planes es considerable asi como el uso de GB mensajes y minutos, transforma de MB a HB puede ser de gran importancia para la visualizacion de los datos y un mejor control en ellos. esto nos ayudara para tomar una decision al final del proyecto."
   ]
  },
  {
   "cell_type": "markdown",
   "metadata": {
    "id": "R3C05i1l0q03"
   },
   "source": [
    "## Corregir datos"
   ]
  },
  {
   "cell_type": "markdown",
   "metadata": {
    "id": "bIi8StZI0q03"
   },
   "source": [
    "[Corrige los problemas obvios con los datos basándote en las observaciones iniciales.]"
   ]
  },
  {
   "cell_type": "code",
   "execution_count": 30,
   "metadata": {
    "id": "Y7SVmjGn0q03",
    "scrolled": true,
    "trusted": false
   },
   "outputs": [
    {
     "name": "stdout",
     "output_type": "stream",
     "text": [
      "<class 'pandas.core.frame.DataFrame'>\n",
      "Int64Index: 137735 entries, 0 to 137734\n",
      "Data columns (total 4 columns):\n",
      " #   Column     Non-Null Count   Dtype         \n",
      "---  ------     --------------   -----         \n",
      " 0   id         137735 non-null  object        \n",
      " 1   user_id    137735 non-null  int64         \n",
      " 2   call_date  137735 non-null  datetime64[ns]\n",
      " 3   duration   137735 non-null  float64       \n",
      "dtypes: datetime64[ns](1), float64(1), int64(1), object(1)\n",
      "memory usage: 5.3+ MB\n",
      "None\n",
      "<class 'pandas.core.frame.DataFrame'>\n",
      "Int64Index: 104825 entries, 0 to 104824\n",
      "Data columns (total 4 columns):\n",
      " #   Column        Non-Null Count   Dtype         \n",
      "---  ------        --------------   -----         \n",
      " 0   id            104825 non-null  object        \n",
      " 1   user_id       104825 non-null  int64         \n",
      " 2   session_date  104825 non-null  datetime64[ns]\n",
      " 3   mb_used       104825 non-null  float64       \n",
      "dtypes: datetime64[ns](1), float64(1), int64(1), object(1)\n",
      "memory usage: 4.0+ MB\n",
      "None\n",
      "<class 'pandas.core.frame.DataFrame'>\n",
      "Int64Index: 76051 entries, 0 to 76050\n",
      "Data columns (total 3 columns):\n",
      " #   Column        Non-Null Count  Dtype         \n",
      "---  ------        --------------  -----         \n",
      " 0   id            76051 non-null  object        \n",
      " 1   user_id       76051 non-null  int64         \n",
      " 2   message_date  76051 non-null  datetime64[ns]\n",
      "dtypes: datetime64[ns](1), int64(1), object(1)\n",
      "memory usage: 2.3+ MB\n",
      "None\n",
      "<class 'pandas.core.frame.DataFrame'>\n",
      "RangeIndex: 2 entries, 0 to 1\n",
      "Data columns (total 8 columns):\n",
      " #   Column                 Non-Null Count  Dtype  \n",
      "---  ------                 --------------  -----  \n",
      " 0   messages_included      2 non-null      int64  \n",
      " 1   mb_per_month_included  2 non-null      int64  \n",
      " 2   minutes_included       2 non-null      int64  \n",
      " 3   usd_monthly_pay        2 non-null      int64  \n",
      " 4   usd_per_gb             2 non-null      int64  \n",
      " 5   usd_per_message        2 non-null      float64\n",
      " 6   usd_per_minute         2 non-null      float64\n",
      " 7   plan_name              2 non-null      object \n",
      "dtypes: float64(2), int64(5), object(1)\n",
      "memory usage: 256.0+ bytes\n",
      "None\n",
      "<class 'pandas.core.frame.DataFrame'>\n",
      "Int64Index: 500 entries, 0 to 499\n",
      "Data columns (total 9 columns):\n",
      " #   Column               Non-Null Count  Dtype         \n",
      "---  ------               --------------  -----         \n",
      " 0   user_id              500 non-null    int64         \n",
      " 1   first_name           500 non-null    object        \n",
      " 2   last_name            500 non-null    object        \n",
      " 3   age                  500 non-null    int64         \n",
      " 4   city                 500 non-null    object        \n",
      " 5   reg_date             500 non-null    datetime64[ns]\n",
      " 6   plan                 500 non-null    object        \n",
      " 7   churn_date           500 non-null    object        \n",
      " 8   subscription_months  500 non-null    int64         \n",
      "dtypes: datetime64[ns](1), int64(3), object(5)\n",
      "memory usage: 39.1+ KB\n",
      "None\n"
     ]
    }
   ],
   "source": [
    "\n",
    "# Convierto las fechas a formato datetime ya que estan como object\n",
    "calls['call_date'] = pd.to_datetime(calls['call_date'])\n",
    "internet['session_date'] = pd.to_datetime(internet['session_date'])\n",
    "users['reg_date'] = pd.to_datetime(users['reg_date'])\n",
    "messages['message_date'] = pd.to_datetime(messages['message_date'])\n",
    "\n",
    "# Reemplazar valores nulos en 'churn_date' de la tabla 'users' \n",
    "users['churn_date'].fillna('9999-12-31', inplace=True)\n",
    "\n",
    "# Convierto las columnas numéricas a tipo float (en 'plans')\n",
    "plans['usd_monthly_pay'] = pd.to_numeric(plans['usd_monthly_pay'], errors='coerce')\n",
    "plans['usd_per_gb'] = pd.to_numeric(plans['usd_per_gb'], errors='coerce')\n",
    "plans['usd_per_message'] = pd.to_numeric(plans['usd_per_message'], errors='coerce')\n",
    "plans['usd_per_minute'] = pd.to_numeric(plans['usd_per_minute'], errors='coerce')\n",
    "\n",
    "# Elimino los duplicados en todas las tablas\n",
    "calls.drop_duplicates(inplace=True)\n",
    "internet.drop_duplicates(inplace=True)\n",
    "messages.drop_duplicates(inplace=True)\n",
    "users.drop_duplicates(inplace=True)\n",
    "\n",
    "print(calls.info())\n",
    "print(internet.info())\n",
    "print(messages.info())\n",
    "print(plans.info())\n",
    "print(users.info())\n",
    "\n"
   ]
  },
  {
   "cell_type": "markdown",
   "metadata": {
    "id": "LJir7bml0q03"
   },
   "source": [
    "## Enriquecer los datos"
   ]
  },
  {
   "cell_type": "markdown",
   "metadata": {
    "id": "eqADpCfg0q04"
   },
   "source": [
    "[Agrega factores adicionales a los datos si crees que pudieran ser útiles.]"
   ]
  },
  {
   "cell_type": "code",
   "execution_count": 40,
   "metadata": {
    "id": "gfcIEuXV0q04",
    "scrolled": true,
    "trusted": false
   },
   "outputs": [
    {
     "data": {
      "text/html": [
       "<div>\n",
       "<style scoped>\n",
       "    .dataframe tbody tr th:only-of-type {\n",
       "        vertical-align: middle;\n",
       "    }\n",
       "\n",
       "    .dataframe tbody tr th {\n",
       "        vertical-align: top;\n",
       "    }\n",
       "\n",
       "    .dataframe thead th {\n",
       "        text-align: right;\n",
       "    }\n",
       "</style>\n",
       "<table border=\"1\" class=\"dataframe\">\n",
       "  <thead>\n",
       "    <tr style=\"text-align: right;\">\n",
       "      <th></th>\n",
       "      <th>user_id</th>\n",
       "      <th>reg_date</th>\n",
       "      <th>churn_date</th>\n",
       "      <th>subscription_months</th>\n",
       "    </tr>\n",
       "  </thead>\n",
       "  <tbody>\n",
       "    <tr>\n",
       "      <th>0</th>\n",
       "      <td>1000</td>\n",
       "      <td>2018-12-24</td>\n",
       "      <td>NaT</td>\n",
       "      <td>74</td>\n",
       "    </tr>\n",
       "    <tr>\n",
       "      <th>1</th>\n",
       "      <td>1001</td>\n",
       "      <td>2018-08-13</td>\n",
       "      <td>NaT</td>\n",
       "      <td>79</td>\n",
       "    </tr>\n",
       "    <tr>\n",
       "      <th>2</th>\n",
       "      <td>1002</td>\n",
       "      <td>2018-10-21</td>\n",
       "      <td>NaT</td>\n",
       "      <td>77</td>\n",
       "    </tr>\n",
       "    <tr>\n",
       "      <th>3</th>\n",
       "      <td>1003</td>\n",
       "      <td>2018-01-28</td>\n",
       "      <td>NaT</td>\n",
       "      <td>85</td>\n",
       "    </tr>\n",
       "    <tr>\n",
       "      <th>4</th>\n",
       "      <td>1004</td>\n",
       "      <td>2018-05-23</td>\n",
       "      <td>NaT</td>\n",
       "      <td>82</td>\n",
       "    </tr>\n",
       "    <tr>\n",
       "      <th>...</th>\n",
       "      <td>...</td>\n",
       "      <td>...</td>\n",
       "      <td>...</td>\n",
       "      <td>...</td>\n",
       "    </tr>\n",
       "    <tr>\n",
       "      <th>495</th>\n",
       "      <td>1495</td>\n",
       "      <td>2018-09-04</td>\n",
       "      <td>NaT</td>\n",
       "      <td>78</td>\n",
       "    </tr>\n",
       "    <tr>\n",
       "      <th>496</th>\n",
       "      <td>1496</td>\n",
       "      <td>2018-02-20</td>\n",
       "      <td>NaT</td>\n",
       "      <td>85</td>\n",
       "    </tr>\n",
       "    <tr>\n",
       "      <th>497</th>\n",
       "      <td>1497</td>\n",
       "      <td>2018-12-10</td>\n",
       "      <td>NaT</td>\n",
       "      <td>75</td>\n",
       "    </tr>\n",
       "    <tr>\n",
       "      <th>498</th>\n",
       "      <td>1498</td>\n",
       "      <td>2018-02-04</td>\n",
       "      <td>NaT</td>\n",
       "      <td>85</td>\n",
       "    </tr>\n",
       "    <tr>\n",
       "      <th>499</th>\n",
       "      <td>1499</td>\n",
       "      <td>2018-05-06</td>\n",
       "      <td>NaT</td>\n",
       "      <td>82</td>\n",
       "    </tr>\n",
       "  </tbody>\n",
       "</table>\n",
       "<p>500 rows × 4 columns</p>\n",
       "</div>"
      ],
      "text/plain": [
       "     user_id   reg_date churn_date  subscription_months\n",
       "0       1000 2018-12-24        NaT                   74\n",
       "1       1001 2018-08-13        NaT                   79\n",
       "2       1002 2018-10-21        NaT                   77\n",
       "3       1003 2018-01-28        NaT                   85\n",
       "4       1004 2018-05-23        NaT                   82\n",
       "..       ...        ...        ...                  ...\n",
       "495     1495 2018-09-04        NaT                   78\n",
       "496     1496 2018-02-20        NaT                   85\n",
       "497     1497 2018-12-10        NaT                   75\n",
       "498     1498 2018-02-04        NaT                   85\n",
       "499     1499 2018-05-06        NaT                   82\n",
       "\n",
       "[500 rows x 4 columns]"
      ]
     },
     "metadata": {},
     "output_type": "display_data"
    }
   ],
   "source": [
    "# Duración de la suscripción en meses.\n",
    "\n",
    "# Convertimos 'reg_date' y 'churn_date' a formato datetime\n",
    "users['reg_date'] = pd.to_datetime(users['reg_date'], errors='coerce')\n",
    "users['churn_date'] = pd.to_datetime(users['churn_date'], errors='coerce')\n",
    "\n",
    "# Calculamos la duración de la suscripción en meses\n",
    "users['subscription_months'] = (users['churn_date'].fillna(pd.Timestamp.today()) - users['reg_date']).dt.days // 30\n",
    "\n",
    "# Verificamos los primeros registros para verificar\n",
    "display(users[['user_id', 'reg_date', 'churn_date', 'subscription_months']])"
   ]
  },
  {
   "cell_type": "markdown",
   "metadata": {
    "id": "1n2X6WXf0q04"
   },
   "source": [
    "## Usuarios/as"
   ]
  },
  {
   "cell_type": "code",
   "execution_count": 27,
   "metadata": {
    "id": "2NgjWFqx0q05",
    "trusted": false
   },
   "outputs": [
    {
     "name": "stdout",
     "output_type": "stream",
     "text": [
      "<class 'pandas.core.frame.DataFrame'>\n",
      "Int64Index: 500 entries, 0 to 499\n",
      "Data columns (total 9 columns):\n",
      " #   Column               Non-Null Count  Dtype         \n",
      "---  ------               --------------  -----         \n",
      " 0   user_id              500 non-null    int64         \n",
      " 1   first_name           500 non-null    object        \n",
      " 2   last_name            500 non-null    object        \n",
      " 3   age                  500 non-null    int64         \n",
      " 4   city                 500 non-null    object        \n",
      " 5   reg_date             500 non-null    datetime64[ns]\n",
      " 6   plan                 500 non-null    object        \n",
      " 7   churn_date           34 non-null     datetime64[ns]\n",
      " 8   subscription_months  500 non-null    int64         \n",
      "dtypes: datetime64[ns](2), int64(3), object(4)\n",
      "memory usage: 39.1+ KB\n"
     ]
    },
    {
     "data": {
      "text/html": [
       "<div>\n",
       "<style scoped>\n",
       "    .dataframe tbody tr th:only-of-type {\n",
       "        vertical-align: middle;\n",
       "    }\n",
       "\n",
       "    .dataframe tbody tr th {\n",
       "        vertical-align: top;\n",
       "    }\n",
       "\n",
       "    .dataframe thead th {\n",
       "        text-align: right;\n",
       "    }\n",
       "</style>\n",
       "<table border=\"1\" class=\"dataframe\">\n",
       "  <thead>\n",
       "    <tr style=\"text-align: right;\">\n",
       "      <th></th>\n",
       "      <th>user_id</th>\n",
       "      <th>age</th>\n",
       "      <th>subscription_months</th>\n",
       "    </tr>\n",
       "  </thead>\n",
       "  <tbody>\n",
       "    <tr>\n",
       "      <th>count</th>\n",
       "      <td>500.000000</td>\n",
       "      <td>500.000000</td>\n",
       "      <td>500.000000</td>\n",
       "    </tr>\n",
       "    <tr>\n",
       "      <th>mean</th>\n",
       "      <td>1249.500000</td>\n",
       "      <td>45.486000</td>\n",
       "      <td>75.276000</td>\n",
       "    </tr>\n",
       "    <tr>\n",
       "      <th>std</th>\n",
       "      <td>144.481833</td>\n",
       "      <td>16.972269</td>\n",
       "      <td>19.543073</td>\n",
       "    </tr>\n",
       "    <tr>\n",
       "      <th>min</th>\n",
       "      <td>1000.000000</td>\n",
       "      <td>18.000000</td>\n",
       "      <td>0.000000</td>\n",
       "    </tr>\n",
       "    <tr>\n",
       "      <th>25%</th>\n",
       "      <td>1124.750000</td>\n",
       "      <td>30.000000</td>\n",
       "      <td>77.000000</td>\n",
       "    </tr>\n",
       "    <tr>\n",
       "      <th>50%</th>\n",
       "      <td>1249.500000</td>\n",
       "      <td>46.000000</td>\n",
       "      <td>80.000000</td>\n",
       "    </tr>\n",
       "    <tr>\n",
       "      <th>75%</th>\n",
       "      <td>1374.250000</td>\n",
       "      <td>61.000000</td>\n",
       "      <td>83.000000</td>\n",
       "    </tr>\n",
       "    <tr>\n",
       "      <th>max</th>\n",
       "      <td>1499.000000</td>\n",
       "      <td>75.000000</td>\n",
       "      <td>86.000000</td>\n",
       "    </tr>\n",
       "  </tbody>\n",
       "</table>\n",
       "</div>"
      ],
      "text/plain": [
       "           user_id         age  subscription_months\n",
       "count   500.000000  500.000000           500.000000\n",
       "mean   1249.500000   45.486000            75.276000\n",
       "std     144.481833   16.972269            19.543073\n",
       "min    1000.000000   18.000000             0.000000\n",
       "25%    1124.750000   30.000000            77.000000\n",
       "50%    1249.500000   46.000000            80.000000\n",
       "75%    1374.250000   61.000000            83.000000\n",
       "max    1499.000000   75.000000            86.000000"
      ]
     },
     "metadata": {},
     "output_type": "display_data"
    }
   ],
   "source": [
    "users.info(show_counts=True)\n",
    "display(users.describe())# Imprime la información general/resumida sobre el DataFrame de usuarios\n",
    "\n"
   ]
  },
  {
   "cell_type": "code",
   "execution_count": 31,
   "metadata": {
    "id": "1IN1L9uh0q05",
    "trusted": false
   },
   "outputs": [
    {
     "data": {
      "text/html": [
       "<div>\n",
       "<style scoped>\n",
       "    .dataframe tbody tr th:only-of-type {\n",
       "        vertical-align: middle;\n",
       "    }\n",
       "\n",
       "    .dataframe tbody tr th {\n",
       "        vertical-align: top;\n",
       "    }\n",
       "\n",
       "    .dataframe thead th {\n",
       "        text-align: right;\n",
       "    }\n",
       "</style>\n",
       "<table border=\"1\" class=\"dataframe\">\n",
       "  <thead>\n",
       "    <tr style=\"text-align: right;\">\n",
       "      <th></th>\n",
       "      <th>user_id</th>\n",
       "      <th>first_name</th>\n",
       "      <th>last_name</th>\n",
       "      <th>age</th>\n",
       "      <th>city</th>\n",
       "      <th>reg_date</th>\n",
       "      <th>plan</th>\n",
       "      <th>churn_date</th>\n",
       "      <th>subscription_months</th>\n",
       "    </tr>\n",
       "  </thead>\n",
       "  <tbody>\n",
       "    <tr>\n",
       "      <th>262</th>\n",
       "      <td>1262</td>\n",
       "      <td>Michelina</td>\n",
       "      <td>Hamilton</td>\n",
       "      <td>34</td>\n",
       "      <td>Dallas-Fort Worth-Arlington, TX MSA</td>\n",
       "      <td>2018-02-09</td>\n",
       "      <td>surf</td>\n",
       "      <td>9999-12-31</td>\n",
       "      <td>85</td>\n",
       "    </tr>\n",
       "    <tr>\n",
       "      <th>61</th>\n",
       "      <td>1061</td>\n",
       "      <td>Maryam</td>\n",
       "      <td>Valencia</td>\n",
       "      <td>38</td>\n",
       "      <td>Columbia, SC MSA</td>\n",
       "      <td>2018-03-08</td>\n",
       "      <td>ultimate</td>\n",
       "      <td>9999-12-31</td>\n",
       "      <td>84</td>\n",
       "    </tr>\n",
       "    <tr>\n",
       "      <th>265</th>\n",
       "      <td>1265</td>\n",
       "      <td>Alec</td>\n",
       "      <td>Henry</td>\n",
       "      <td>29</td>\n",
       "      <td>Washington-Arlington-Alexandria, DC-VA-MD-WV MSA</td>\n",
       "      <td>2018-11-23</td>\n",
       "      <td>surf</td>\n",
       "      <td>9999-12-31</td>\n",
       "      <td>75</td>\n",
       "    </tr>\n",
       "    <tr>\n",
       "      <th>16</th>\n",
       "      <td>1016</td>\n",
       "      <td>Jann</td>\n",
       "      <td>Salinas</td>\n",
       "      <td>30</td>\n",
       "      <td>Fresno, CA MSA</td>\n",
       "      <td>2018-10-25</td>\n",
       "      <td>surf</td>\n",
       "      <td>9999-12-31</td>\n",
       "      <td>76</td>\n",
       "    </tr>\n",
       "    <tr>\n",
       "      <th>50</th>\n",
       "      <td>1050</td>\n",
       "      <td>Jone</td>\n",
       "      <td>Owen</td>\n",
       "      <td>23</td>\n",
       "      <td>Miami-Fort Lauderdale-West Palm Beach, FL MSA</td>\n",
       "      <td>2018-03-20</td>\n",
       "      <td>ultimate</td>\n",
       "      <td>2018-10-07 00:00:00</td>\n",
       "      <td>6</td>\n",
       "    </tr>\n",
       "    <tr>\n",
       "      <th>381</th>\n",
       "      <td>1381</td>\n",
       "      <td>German</td>\n",
       "      <td>Burris</td>\n",
       "      <td>44</td>\n",
       "      <td>Austin-Round Rock-Georgetown, TX MSA</td>\n",
       "      <td>2018-08-30</td>\n",
       "      <td>surf</td>\n",
       "      <td>9999-12-31</td>\n",
       "      <td>78</td>\n",
       "    </tr>\n",
       "    <tr>\n",
       "      <th>409</th>\n",
       "      <td>1409</td>\n",
       "      <td>Elvis</td>\n",
       "      <td>Vargas</td>\n",
       "      <td>38</td>\n",
       "      <td>Charlotte-Concord-Gastonia, NC-SC MSA</td>\n",
       "      <td>2018-10-04</td>\n",
       "      <td>ultimate</td>\n",
       "      <td>9999-12-31</td>\n",
       "      <td>77</td>\n",
       "    </tr>\n",
       "    <tr>\n",
       "      <th>76</th>\n",
       "      <td>1076</td>\n",
       "      <td>Ronny</td>\n",
       "      <td>Browning</td>\n",
       "      <td>51</td>\n",
       "      <td>Buffalo-Cheektowaga, NY MSA</td>\n",
       "      <td>2018-07-29</td>\n",
       "      <td>surf</td>\n",
       "      <td>9999-12-31</td>\n",
       "      <td>79</td>\n",
       "    </tr>\n",
       "    <tr>\n",
       "      <th>33</th>\n",
       "      <td>1033</td>\n",
       "      <td>Latoyia</td>\n",
       "      <td>Moran</td>\n",
       "      <td>28</td>\n",
       "      <td>Oklahoma City, OK MSA</td>\n",
       "      <td>2018-05-30</td>\n",
       "      <td>ultimate</td>\n",
       "      <td>9999-12-31</td>\n",
       "      <td>81</td>\n",
       "    </tr>\n",
       "    <tr>\n",
       "      <th>178</th>\n",
       "      <td>1178</td>\n",
       "      <td>Charlsie</td>\n",
       "      <td>Reid</td>\n",
       "      <td>53</td>\n",
       "      <td>Cincinnati, OH-KY-IN MSA</td>\n",
       "      <td>2018-10-05</td>\n",
       "      <td>surf</td>\n",
       "      <td>9999-12-31</td>\n",
       "      <td>77</td>\n",
       "    </tr>\n",
       "  </tbody>\n",
       "</table>\n",
       "</div>"
      ],
      "text/plain": [
       "     user_id first_name last_name  age  \\\n",
       "262     1262  Michelina  Hamilton   34   \n",
       "61      1061     Maryam  Valencia   38   \n",
       "265     1265       Alec     Henry   29   \n",
       "16      1016       Jann   Salinas   30   \n",
       "50      1050       Jone      Owen   23   \n",
       "381     1381     German    Burris   44   \n",
       "409     1409      Elvis    Vargas   38   \n",
       "76      1076      Ronny  Browning   51   \n",
       "33      1033    Latoyia     Moran   28   \n",
       "178     1178   Charlsie      Reid   53   \n",
       "\n",
       "                                                 city   reg_date      plan  \\\n",
       "262               Dallas-Fort Worth-Arlington, TX MSA 2018-02-09      surf   \n",
       "61                                   Columbia, SC MSA 2018-03-08  ultimate   \n",
       "265  Washington-Arlington-Alexandria, DC-VA-MD-WV MSA 2018-11-23      surf   \n",
       "16                                     Fresno, CA MSA 2018-10-25      surf   \n",
       "50      Miami-Fort Lauderdale-West Palm Beach, FL MSA 2018-03-20  ultimate   \n",
       "381              Austin-Round Rock-Georgetown, TX MSA 2018-08-30      surf   \n",
       "409             Charlotte-Concord-Gastonia, NC-SC MSA 2018-10-04  ultimate   \n",
       "76                        Buffalo-Cheektowaga, NY MSA 2018-07-29      surf   \n",
       "33                              Oklahoma City, OK MSA 2018-05-30  ultimate   \n",
       "178                          Cincinnati, OH-KY-IN MSA 2018-10-05      surf   \n",
       "\n",
       "              churn_date  subscription_months  \n",
       "262           9999-12-31                   85  \n",
       "61            9999-12-31                   84  \n",
       "265           9999-12-31                   75  \n",
       "16            9999-12-31                   76  \n",
       "50   2018-10-07 00:00:00                    6  \n",
       "381           9999-12-31                   78  \n",
       "409           9999-12-31                   77  \n",
       "76            9999-12-31                   79  \n",
       "33            9999-12-31                   81  \n",
       "178           9999-12-31                   77  "
      ]
     },
     "metadata": {},
     "output_type": "display_data"
    }
   ],
   "source": [
    "display(users.sample(10))# Imprime una muestra de datos para usuarios\n",
    "\n"
   ]
  },
  {
   "cell_type": "markdown",
   "metadata": {
    "id": "dCZoUq4f0q06"
   },
   "source": [
    "[Describe lo que ves y observas en la información general y en la muestra de datos impresa para el precio de datos anterior. ¿Hay algún problema (tipos de datos no adecuados, datos ausentes, etc.) que pudieran necesitar investigación y cambios adicionales? ¿Cómo se puede arreglar?]\n",
    "\n",
    "Los datos importantes que puedo observar solo con estos 10 clientes es que los clientes llevan meses con sus planes en la empresa megaline lo cual habla de una fidelidad a la empresa. sin embargo la mayoria de ellos tienen el plan surf, seguramente por ser el mas economico, los datos que corregire sera hacer que todos las edades sean numeros enteros en caso de que haya algun flotante, de ifual manera verificar si hay valores nulos y corregirlos, en la tabla anterior no aparece pero podria ser el caso y de igual manera eliminar datos duplicados en caso de que hubiera.\n",
    "\n",
    "Lo que se me ocurre para benficiar esta investigacion es segmentar por edades a sus clientes, para saber cual es su mayor consumidor o en que rangos de edades."
   ]
  },
  {
   "cell_type": "markdown",
   "metadata": {
    "id": "BX5FQh_I0q06"
   },
   "source": [
    "### Corregir los datos"
   ]
  },
  {
   "cell_type": "markdown",
   "metadata": {
    "id": "8OdKMwJv0q06"
   },
   "source": [
    "[Corrige los problemas obvios con los datos basándote en las observaciones iniciales.]"
   ]
  },
  {
   "cell_type": "code",
   "execution_count": 38,
   "metadata": {
    "id": "yUqX-K0C0q07",
    "trusted": false
   },
   "outputs": [
    {
     "data": {
      "text/html": [
       "<div>\n",
       "<style scoped>\n",
       "    .dataframe tbody tr th:only-of-type {\n",
       "        vertical-align: middle;\n",
       "    }\n",
       "\n",
       "    .dataframe tbody tr th {\n",
       "        vertical-align: top;\n",
       "    }\n",
       "\n",
       "    .dataframe thead th {\n",
       "        text-align: right;\n",
       "    }\n",
       "</style>\n",
       "<table border=\"1\" class=\"dataframe\">\n",
       "  <thead>\n",
       "    <tr style=\"text-align: right;\">\n",
       "      <th></th>\n",
       "      <th>user_id</th>\n",
       "      <th>first_name</th>\n",
       "      <th>last_name</th>\n",
       "      <th>age</th>\n",
       "      <th>city</th>\n",
       "      <th>reg_date</th>\n",
       "      <th>plan</th>\n",
       "      <th>churn_date</th>\n",
       "      <th>subscription_months</th>\n",
       "    </tr>\n",
       "  </thead>\n",
       "  <tbody>\n",
       "    <tr>\n",
       "      <th>0</th>\n",
       "      <td>1000</td>\n",
       "      <td>Anamaria</td>\n",
       "      <td>Bauer</td>\n",
       "      <td>45</td>\n",
       "      <td>Atlanta-Sandy Springs-Roswell, GA MSA</td>\n",
       "      <td>2018-12-24</td>\n",
       "      <td>ultimate</td>\n",
       "      <td>9999-12-31</td>\n",
       "      <td>74</td>\n",
       "    </tr>\n",
       "    <tr>\n",
       "      <th>1</th>\n",
       "      <td>1001</td>\n",
       "      <td>Mickey</td>\n",
       "      <td>Wilkerson</td>\n",
       "      <td>28</td>\n",
       "      <td>Seattle-Tacoma-Bellevue, WA MSA</td>\n",
       "      <td>2018-08-13</td>\n",
       "      <td>surf</td>\n",
       "      <td>9999-12-31</td>\n",
       "      <td>79</td>\n",
       "    </tr>\n",
       "    <tr>\n",
       "      <th>2</th>\n",
       "      <td>1002</td>\n",
       "      <td>Carlee</td>\n",
       "      <td>Hoffman</td>\n",
       "      <td>36</td>\n",
       "      <td>Las Vegas-Henderson-Paradise, NV MSA</td>\n",
       "      <td>2018-10-21</td>\n",
       "      <td>surf</td>\n",
       "      <td>9999-12-31</td>\n",
       "      <td>77</td>\n",
       "    </tr>\n",
       "    <tr>\n",
       "      <th>3</th>\n",
       "      <td>1003</td>\n",
       "      <td>Reynaldo</td>\n",
       "      <td>Jenkins</td>\n",
       "      <td>52</td>\n",
       "      <td>Tulsa, OK MSA</td>\n",
       "      <td>2018-01-28</td>\n",
       "      <td>surf</td>\n",
       "      <td>9999-12-31</td>\n",
       "      <td>85</td>\n",
       "    </tr>\n",
       "    <tr>\n",
       "      <th>4</th>\n",
       "      <td>1004</td>\n",
       "      <td>Leonila</td>\n",
       "      <td>Thompson</td>\n",
       "      <td>40</td>\n",
       "      <td>Seattle-Tacoma-Bellevue, WA MSA</td>\n",
       "      <td>2018-05-23</td>\n",
       "      <td>surf</td>\n",
       "      <td>9999-12-31</td>\n",
       "      <td>82</td>\n",
       "    </tr>\n",
       "  </tbody>\n",
       "</table>\n",
       "</div>"
      ],
      "text/plain": [
       "   user_id first_name  last_name  age                                   city  \\\n",
       "0     1000   Anamaria      Bauer   45  Atlanta-Sandy Springs-Roswell, GA MSA   \n",
       "1     1001     Mickey  Wilkerson   28        Seattle-Tacoma-Bellevue, WA MSA   \n",
       "2     1002     Carlee    Hoffman   36   Las Vegas-Henderson-Paradise, NV MSA   \n",
       "3     1003   Reynaldo    Jenkins   52                          Tulsa, OK MSA   \n",
       "4     1004    Leonila   Thompson   40        Seattle-Tacoma-Bellevue, WA MSA   \n",
       "\n",
       "    reg_date      plan  churn_date  subscription_months  \n",
       "0 2018-12-24  ultimate  9999-12-31                   74  \n",
       "1 2018-08-13      surf  9999-12-31                   79  \n",
       "2 2018-10-21      surf  9999-12-31                   77  \n",
       "3 2018-01-28      surf  9999-12-31                   85  \n",
       "4 2018-05-23      surf  9999-12-31                   82  "
      ]
     },
     "metadata": {},
     "output_type": "display_data"
    },
    {
     "name": "stdout",
     "output_type": "stream",
     "text": [
      "<class 'pandas.core.frame.DataFrame'>\n",
      "Int64Index: 500 entries, 0 to 499\n",
      "Data columns (total 9 columns):\n",
      " #   Column               Non-Null Count  Dtype         \n",
      "---  ------               --------------  -----         \n",
      " 0   user_id              500 non-null    int64         \n",
      " 1   first_name           500 non-null    object        \n",
      " 2   last_name            500 non-null    object        \n",
      " 3   age                  500 non-null    int64         \n",
      " 4   city                 500 non-null    object        \n",
      " 5   reg_date             500 non-null    datetime64[ns]\n",
      " 6   plan                 500 non-null    object        \n",
      " 7   churn_date           500 non-null    object        \n",
      " 8   subscription_months  500 non-null    int64         \n",
      "dtypes: datetime64[ns](1), int64(3), object(5)\n",
      "memory usage: 39.1+ KB\n",
      "None\n"
     ]
    }
   ],
   "source": [
    "\n",
    "# volvi a utilizar la formula de arriba para Reemplazar valores nulos en 'churn_date' por alguna razon el programa no lo detectaba\n",
    "users['churn_date'].fillna('9999-12-31', inplace=True)\n",
    "\n",
    "# Verificoque los tipos de datos para las edades sean int\n",
    "users['age'] = users['age'].astype(int)\n",
    "\n",
    "# veo si hay valores nulos en 'age' y corrigo\n",
    "users['age'].fillna(users['age'].median(), inplace=True)\n",
    "\n",
    "# Elimino registros duplicados\n",
    "users.drop_duplicates(inplace=True)\n",
    "\n",
    "# Revisamos los cambios en la tabla\n",
    "display(users.head())\n",
    "\n",
    "# estructura general de los datos\n",
    "print(users.info())\n"
   ]
  },
  {
   "cell_type": "markdown",
   "metadata": {
    "id": "ycwuARJp0q07"
   },
   "source": [
    "### Enriquecer los datos"
   ]
  },
  {
   "cell_type": "markdown",
   "metadata": {
    "id": "96NIh4CJ0q08"
   },
   "source": [
    "[Agrega factores adicionales a los datos si crees que pudieran ser útiles.]"
   ]
  },
  {
   "cell_type": "code",
   "execution_count": 45,
   "metadata": {
    "id": "iq0AaBS90q08",
    "trusted": false
   },
   "outputs": [
    {
     "data": {
      "image/png": "[encoded data removed]",
      "text/plain": [
       "<Figure size 800x600 with 1 Axes>"
      ]
     },
     "metadata": {},
     "output_type": "display_data"
    }
   ],
   "source": [
    "import matplotlib.pyplot as plt\n",
    "bins = [0, 18, 30, 40, 50, 60, 100]\n",
    "\n",
    "labels = ['<18', '18-30', '30-40', '40-50', '50-60', '60+']\n",
    "users['age_group'] = pd.cut(users['age'], bins=bins, labels=labels)\n",
    "\n",
    "# Contar la cantidad de usuarios por grupo de edad\n",
    "age_group_counts = users['age_group'].value_counts()\n",
    "\n",
    "# Crear la gráfica de barras\n",
    "plt.figure(figsize=(8,6))\n",
    "age_group_counts.plot(kind='bar', color='skyblue', edgecolor='black')\n",
    "\n",
    "# Etiquetas y título\n",
    "plt.title('Distribución de Usuarios por Grupo de Edad', fontsize=16)\n",
    "plt.xlabel('Grupo de Edad', fontsize=14)\n",
    "plt.ylabel('Número de Usuarios', fontsize=14)\n",
    "\n",
    "# Mostrar la gráfica\n",
    "plt.xticks(rotation=45)\n",
    "plt.show()"
   ]
  },
  {
   "cell_type": "markdown",
   "metadata": {
    "id": "o7MeKCid0q08"
   },
   "source": [
    "## Llamadas"
   ]
  },
  {
   "cell_type": "code",
   "execution_count": 47,
   "metadata": {
    "id": "6dDlnoDm0q08",
    "trusted": false
   },
   "outputs": [
    {
     "name": "stdout",
     "output_type": "stream",
     "text": [
      "<class 'pandas.core.frame.DataFrame'>\n",
      "Int64Index: 137735 entries, 0 to 137734\n",
      "Data columns (total 4 columns):\n",
      " #   Column     Non-Null Count   Dtype         \n",
      "---  ------     --------------   -----         \n",
      " 0   id         137735 non-null  object        \n",
      " 1   user_id    137735 non-null  int64         \n",
      " 2   call_date  137735 non-null  datetime64[ns]\n",
      " 3   duration   137735 non-null  float64       \n",
      "dtypes: datetime64[ns](1), float64(1), int64(1), object(1)\n",
      "memory usage: 5.3+ MB\n"
     ]
    },
    {
     "data": {
      "text/html": [
       "<div>\n",
       "<style scoped>\n",
       "    .dataframe tbody tr th:only-of-type {\n",
       "        vertical-align: middle;\n",
       "    }\n",
       "\n",
       "    .dataframe tbody tr th {\n",
       "        vertical-align: top;\n",
       "    }\n",
       "\n",
       "    .dataframe thead th {\n",
       "        text-align: right;\n",
       "    }\n",
       "</style>\n",
       "<table border=\"1\" class=\"dataframe\">\n",
       "  <thead>\n",
       "    <tr style=\"text-align: right;\">\n",
       "      <th></th>\n",
       "      <th>user_id</th>\n",
       "      <th>duration</th>\n",
       "    </tr>\n",
       "  </thead>\n",
       "  <tbody>\n",
       "    <tr>\n",
       "      <th>count</th>\n",
       "      <td>137735.000000</td>\n",
       "      <td>137735.000000</td>\n",
       "    </tr>\n",
       "    <tr>\n",
       "      <th>mean</th>\n",
       "      <td>1247.658046</td>\n",
       "      <td>6.745927</td>\n",
       "    </tr>\n",
       "    <tr>\n",
       "      <th>std</th>\n",
       "      <td>139.416268</td>\n",
       "      <td>5.839241</td>\n",
       "    </tr>\n",
       "    <tr>\n",
       "      <th>min</th>\n",
       "      <td>1000.000000</td>\n",
       "      <td>0.000000</td>\n",
       "    </tr>\n",
       "    <tr>\n",
       "      <th>25%</th>\n",
       "      <td>1128.000000</td>\n",
       "      <td>1.290000</td>\n",
       "    </tr>\n",
       "    <tr>\n",
       "      <th>50%</th>\n",
       "      <td>1247.000000</td>\n",
       "      <td>5.980000</td>\n",
       "    </tr>\n",
       "    <tr>\n",
       "      <th>75%</th>\n",
       "      <td>1365.000000</td>\n",
       "      <td>10.690000</td>\n",
       "    </tr>\n",
       "    <tr>\n",
       "      <th>max</th>\n",
       "      <td>1499.000000</td>\n",
       "      <td>37.600000</td>\n",
       "    </tr>\n",
       "  </tbody>\n",
       "</table>\n",
       "</div>"
      ],
      "text/plain": [
       "             user_id       duration\n",
       "count  137735.000000  137735.000000\n",
       "mean     1247.658046       6.745927\n",
       "std       139.416268       5.839241\n",
       "min      1000.000000       0.000000\n",
       "25%      1128.000000       1.290000\n",
       "50%      1247.000000       5.980000\n",
       "75%      1365.000000      10.690000\n",
       "max      1499.000000      37.600000"
      ]
     },
     "metadata": {},
     "output_type": "display_data"
    }
   ],
   "source": [
    "calls.info(show_counts=True)\n",
    "display(calls.describe())# Imprime la información general/resumida sobre el DataFrame de las llamadas\n",
    "\n"
   ]
  },
  {
   "cell_type": "code",
   "execution_count": 55,
   "metadata": {
    "id": "kuh1vlNB0q09",
    "trusted": false
   },
   "outputs": [
    {
     "data": {
      "text/html": [
       "<div>\n",
       "<style scoped>\n",
       "    .dataframe tbody tr th:only-of-type {\n",
       "        vertical-align: middle;\n",
       "    }\n",
       "\n",
       "    .dataframe tbody tr th {\n",
       "        vertical-align: top;\n",
       "    }\n",
       "\n",
       "    .dataframe thead th {\n",
       "        text-align: right;\n",
       "    }\n",
       "</style>\n",
       "<table border=\"1\" class=\"dataframe\">\n",
       "  <thead>\n",
       "    <tr style=\"text-align: right;\">\n",
       "      <th></th>\n",
       "      <th>id</th>\n",
       "      <th>user_id</th>\n",
       "      <th>call_date</th>\n",
       "      <th>duration</th>\n",
       "      <th>call_duration_avg</th>\n",
       "    </tr>\n",
       "  </thead>\n",
       "  <tbody>\n",
       "    <tr>\n",
       "      <th>23987</th>\n",
       "      <td>1090_162</td>\n",
       "      <td>1090</td>\n",
       "      <td>2018-06-21</td>\n",
       "      <td>0.00</td>\n",
       "      <td>6.418685</td>\n",
       "    </tr>\n",
       "    <tr>\n",
       "      <th>71008</th>\n",
       "      <td>1252_460</td>\n",
       "      <td>1252</td>\n",
       "      <td>2018-12-14</td>\n",
       "      <td>8.54</td>\n",
       "      <td>6.381632</td>\n",
       "    </tr>\n",
       "    <tr>\n",
       "      <th>44192</th>\n",
       "      <td>1160_208</td>\n",
       "      <td>1160</td>\n",
       "      <td>2018-08-08</td>\n",
       "      <td>11.32</td>\n",
       "      <td>7.018759</td>\n",
       "    </tr>\n",
       "    <tr>\n",
       "      <th>44839</th>\n",
       "      <td>1162_54</td>\n",
       "      <td>1162</td>\n",
       "      <td>2018-10-19</td>\n",
       "      <td>4.75</td>\n",
       "      <td>6.531987</td>\n",
       "    </tr>\n",
       "    <tr>\n",
       "      <th>136888</th>\n",
       "      <td>1496_57</td>\n",
       "      <td>1496</td>\n",
       "      <td>2018-08-27</td>\n",
       "      <td>5.61</td>\n",
       "      <td>7.057487</td>\n",
       "    </tr>\n",
       "    <tr>\n",
       "      <th>67817</th>\n",
       "      <td>1245_40</td>\n",
       "      <td>1245</td>\n",
       "      <td>2018-11-17</td>\n",
       "      <td>12.23</td>\n",
       "      <td>7.140490</td>\n",
       "    </tr>\n",
       "    <tr>\n",
       "      <th>46464</th>\n",
       "      <td>1167_547</td>\n",
       "      <td>1167</td>\n",
       "      <td>2018-12-16</td>\n",
       "      <td>6.21</td>\n",
       "      <td>7.429076</td>\n",
       "    </tr>\n",
       "    <tr>\n",
       "      <th>125752</th>\n",
       "      <td>1445_167</td>\n",
       "      <td>1445</td>\n",
       "      <td>2018-07-07</td>\n",
       "      <td>11.75</td>\n",
       "      <td>6.749096</td>\n",
       "    </tr>\n",
       "    <tr>\n",
       "      <th>105566</th>\n",
       "      <td>1373_46</td>\n",
       "      <td>1373</td>\n",
       "      <td>2018-11-26</td>\n",
       "      <td>10.27</td>\n",
       "      <td>6.723229</td>\n",
       "    </tr>\n",
       "    <tr>\n",
       "      <th>88847</th>\n",
       "      <td>1324_907</td>\n",
       "      <td>1324</td>\n",
       "      <td>2018-07-26</td>\n",
       "      <td>0.05</td>\n",
       "      <td>6.884831</td>\n",
       "    </tr>\n",
       "  </tbody>\n",
       "</table>\n",
       "</div>"
      ],
      "text/plain": [
       "              id  user_id  call_date  duration  call_duration_avg\n",
       "23987   1090_162     1090 2018-06-21      0.00           6.418685\n",
       "71008   1252_460     1252 2018-12-14      8.54           6.381632\n",
       "44192   1160_208     1160 2018-08-08     11.32           7.018759\n",
       "44839    1162_54     1162 2018-10-19      4.75           6.531987\n",
       "136888   1496_57     1496 2018-08-27      5.61           7.057487\n",
       "67817    1245_40     1245 2018-11-17     12.23           7.140490\n",
       "46464   1167_547     1167 2018-12-16      6.21           7.429076\n",
       "125752  1445_167     1445 2018-07-07     11.75           6.749096\n",
       "105566   1373_46     1373 2018-11-26     10.27           6.723229\n",
       "88847   1324_907     1324 2018-07-26      0.05           6.884831"
      ]
     },
     "metadata": {},
     "output_type": "display_data"
    }
   ],
   "source": [
    "display(calls.sample(10))# Imprime una muestra de datos para las llamadas\n",
    "\n"
   ]
  },
  {
   "cell_type": "markdown",
   "metadata": {
    "id": "DOAxYJSx0q09"
   },
   "source": [
    "[Describe lo que ves y observas en la información general y en la muestra de datos impresa para el precio de datos anterior. ¿Hay algún problema (tipos de datos no adecuados, datos ausentes, etc.) que pudieran necesitar investigación y cambios adicionales? ¿Cómo se puede arreglar?]\n",
    "\n",
    "\n",
    "En la muestra de datos anterior podemos ver una media de la duracion de llamadas por los usuarios, al igual que la maxima y cada cuartil esto es importante para tener una idea de cuanto consumen en minutos cada clientes, de igual manera con esta lista de 10 clientes vemos que la mayoria pasan los 5 minutos en llamadas, lo cual implica que tanto se usta usando le servicio. De igual maner podemos ver que tenemos llamadas con 0 minutos de duracion estos e puede deber a que fueron llamadas sin contestar igual si en en el plan hay llamadas o minutos gratis se me ocurre que el sistema las registre de esta manera.\n",
    "\n",
    "Como una oportunidad veo el calcular la duración promedio de las llamadas por usuario para poder tener un mejor registro de cuantso minutos esta cada usuario en una llamada. y para problemas de datos ausentes o no adecuados no veo la necesidad ya que en la parte superior ya se trataron estos datos y los duplicados."
   ]
  },
  {
   "cell_type": "markdown",
   "metadata": {
    "id": "S7hzxmbX0q0-"
   },
   "source": [
    "### Corregir los datos"
   ]
  },
  {
   "cell_type": "markdown",
   "metadata": {
    "id": "YxWyAjD20q0-"
   },
   "source": [
    "[Corrige los problemas obvios con los datos basándote en las observaciones iniciales.]"
   ]
  },
  {
   "cell_type": "code",
   "execution_count": null,
   "metadata": {
    "id": "S2r8xA4f0q0-",
    "trusted": false
   },
   "outputs": [],
   "source": []
  },
  {
   "cell_type": "markdown",
   "metadata": {
    "id": "KrMgTrlG0q0_"
   },
   "source": [
    "### Enriquecer los datos"
   ]
  },
  {
   "cell_type": "markdown",
   "metadata": {
    "id": "a9MbmEvE0q0_"
   },
   "source": [
    "[Agrega factores adicionales a los datos si crees que pudieran ser útiles.]"
   ]
  },
  {
   "cell_type": "code",
   "execution_count": 54,
   "metadata": {
    "id": "iZ1avpA_0q0_",
    "trusted": false
   },
   "outputs": [
    {
     "data": {
      "text/html": [
       "<div>\n",
       "<style scoped>\n",
       "    .dataframe tbody tr th:only-of-type {\n",
       "        vertical-align: middle;\n",
       "    }\n",
       "\n",
       "    .dataframe tbody tr th {\n",
       "        vertical-align: top;\n",
       "    }\n",
       "\n",
       "    .dataframe thead th {\n",
       "        text-align: right;\n",
       "    }\n",
       "</style>\n",
       "<table border=\"1\" class=\"dataframe\">\n",
       "  <thead>\n",
       "    <tr style=\"text-align: right;\">\n",
       "      <th></th>\n",
       "      <th>user_id</th>\n",
       "      <th>call_duration_avg</th>\n",
       "    </tr>\n",
       "  </thead>\n",
       "  <tbody>\n",
       "    <tr>\n",
       "      <th>0</th>\n",
       "      <td>1000</td>\n",
       "      <td>7.301875</td>\n",
       "    </tr>\n",
       "    <tr>\n",
       "      <th>1</th>\n",
       "      <td>1000</td>\n",
       "      <td>7.301875</td>\n",
       "    </tr>\n",
       "    <tr>\n",
       "      <th>2</th>\n",
       "      <td>1000</td>\n",
       "      <td>7.301875</td>\n",
       "    </tr>\n",
       "    <tr>\n",
       "      <th>3</th>\n",
       "      <td>1000</td>\n",
       "      <td>7.301875</td>\n",
       "    </tr>\n",
       "    <tr>\n",
       "      <th>4</th>\n",
       "      <td>1000</td>\n",
       "      <td>7.301875</td>\n",
       "    </tr>\n",
       "    <tr>\n",
       "      <th>5</th>\n",
       "      <td>1000</td>\n",
       "      <td>7.301875</td>\n",
       "    </tr>\n",
       "    <tr>\n",
       "      <th>6</th>\n",
       "      <td>1000</td>\n",
       "      <td>7.301875</td>\n",
       "    </tr>\n",
       "    <tr>\n",
       "      <th>7</th>\n",
       "      <td>1000</td>\n",
       "      <td>7.301875</td>\n",
       "    </tr>\n",
       "    <tr>\n",
       "      <th>8</th>\n",
       "      <td>1000</td>\n",
       "      <td>7.301875</td>\n",
       "    </tr>\n",
       "    <tr>\n",
       "      <th>9</th>\n",
       "      <td>1000</td>\n",
       "      <td>7.301875</td>\n",
       "    </tr>\n",
       "    <tr>\n",
       "      <th>10</th>\n",
       "      <td>1000</td>\n",
       "      <td>7.301875</td>\n",
       "    </tr>\n",
       "    <tr>\n",
       "      <th>11</th>\n",
       "      <td>1000</td>\n",
       "      <td>7.301875</td>\n",
       "    </tr>\n",
       "    <tr>\n",
       "      <th>12</th>\n",
       "      <td>1000</td>\n",
       "      <td>7.301875</td>\n",
       "    </tr>\n",
       "    <tr>\n",
       "      <th>13</th>\n",
       "      <td>1000</td>\n",
       "      <td>7.301875</td>\n",
       "    </tr>\n",
       "    <tr>\n",
       "      <th>14</th>\n",
       "      <td>1000</td>\n",
       "      <td>7.301875</td>\n",
       "    </tr>\n",
       "    <tr>\n",
       "      <th>15</th>\n",
       "      <td>1000</td>\n",
       "      <td>7.301875</td>\n",
       "    </tr>\n",
       "    <tr>\n",
       "      <th>16</th>\n",
       "      <td>1001</td>\n",
       "      <td>6.285287</td>\n",
       "    </tr>\n",
       "    <tr>\n",
       "      <th>17</th>\n",
       "      <td>1001</td>\n",
       "      <td>6.285287</td>\n",
       "    </tr>\n",
       "    <tr>\n",
       "      <th>18</th>\n",
       "      <td>1001</td>\n",
       "      <td>6.285287</td>\n",
       "    </tr>\n",
       "    <tr>\n",
       "      <th>19</th>\n",
       "      <td>1001</td>\n",
       "      <td>6.285287</td>\n",
       "    </tr>\n",
       "  </tbody>\n",
       "</table>\n",
       "</div>"
      ],
      "text/plain": [
       "    user_id  call_duration_avg\n",
       "0      1000           7.301875\n",
       "1      1000           7.301875\n",
       "2      1000           7.301875\n",
       "3      1000           7.301875\n",
       "4      1000           7.301875\n",
       "5      1000           7.301875\n",
       "6      1000           7.301875\n",
       "7      1000           7.301875\n",
       "8      1000           7.301875\n",
       "9      1000           7.301875\n",
       "10     1000           7.301875\n",
       "11     1000           7.301875\n",
       "12     1000           7.301875\n",
       "13     1000           7.301875\n",
       "14     1000           7.301875\n",
       "15     1000           7.301875\n",
       "16     1001           6.285287\n",
       "17     1001           6.285287\n",
       "18     1001           6.285287\n",
       "19     1001           6.285287"
      ]
     },
     "metadata": {},
     "output_type": "display_data"
    }
   ],
   "source": [
    "# Calculamos la duración promedio de las llamadas por usuario\n",
    "calls['call_duration_avg'] = calls.groupby('user_id')['duration'].transform('mean')\n",
    "\n",
    "# Verificamos los primeros registros\n",
    "display(calls[['user_id', 'call_duration_avg']].head(20))"
   ]
  },
  {
   "cell_type": "markdown",
   "metadata": {
    "id": "mOUZSi180q0_"
   },
   "source": [
    "## Mensajes"
   ]
  },
  {
   "cell_type": "code",
   "execution_count": 10,
   "metadata": {
    "id": "R-bYJpdV0q1A",
    "scrolled": true,
    "trusted": false
   },
   "outputs": [
    {
     "name": "stdout",
     "output_type": "stream",
     "text": [
      "<class 'pandas.core.frame.DataFrame'>\n",
      "RangeIndex: 76051 entries, 0 to 76050\n",
      "Data columns (total 3 columns):\n",
      " #   Column        Non-Null Count  Dtype \n",
      "---  ------        --------------  ----- \n",
      " 0   id            76051 non-null  object\n",
      " 1   user_id       76051 non-null  int64 \n",
      " 2   message_date  76051 non-null  object\n",
      "dtypes: int64(1), object(2)\n",
      "memory usage: 1.7+ MB\n"
     ]
    },
    {
     "data": {
      "text/html": [
       "<div>\n",
       "<style scoped>\n",
       "    .dataframe tbody tr th:only-of-type {\n",
       "        vertical-align: middle;\n",
       "    }\n",
       "\n",
       "    .dataframe tbody tr th {\n",
       "        vertical-align: top;\n",
       "    }\n",
       "\n",
       "    .dataframe thead th {\n",
       "        text-align: right;\n",
       "    }\n",
       "</style>\n",
       "<table border=\"1\" class=\"dataframe\">\n",
       "  <thead>\n",
       "    <tr style=\"text-align: right;\">\n",
       "      <th></th>\n",
       "      <th>user_id</th>\n",
       "    </tr>\n",
       "  </thead>\n",
       "  <tbody>\n",
       "    <tr>\n",
       "      <th>count</th>\n",
       "      <td>76051.000000</td>\n",
       "    </tr>\n",
       "    <tr>\n",
       "      <th>mean</th>\n",
       "      <td>1245.972768</td>\n",
       "    </tr>\n",
       "    <tr>\n",
       "      <th>std</th>\n",
       "      <td>139.843635</td>\n",
       "    </tr>\n",
       "    <tr>\n",
       "      <th>min</th>\n",
       "      <td>1000.000000</td>\n",
       "    </tr>\n",
       "    <tr>\n",
       "      <th>25%</th>\n",
       "      <td>1123.000000</td>\n",
       "    </tr>\n",
       "    <tr>\n",
       "      <th>50%</th>\n",
       "      <td>1251.000000</td>\n",
       "    </tr>\n",
       "    <tr>\n",
       "      <th>75%</th>\n",
       "      <td>1362.000000</td>\n",
       "    </tr>\n",
       "    <tr>\n",
       "      <th>max</th>\n",
       "      <td>1497.000000</td>\n",
       "    </tr>\n",
       "  </tbody>\n",
       "</table>\n",
       "</div>"
      ],
      "text/plain": [
       "            user_id\n",
       "count  76051.000000\n",
       "mean    1245.972768\n",
       "std      139.843635\n",
       "min     1000.000000\n",
       "25%     1123.000000\n",
       "50%     1251.000000\n",
       "75%     1362.000000\n",
       "max     1497.000000"
      ]
     },
     "metadata": {},
     "output_type": "display_data"
    }
   ],
   "source": [
    "messages.info(show_counts=True)\n",
    "display(messages.describe())# Imprime la información general/resumida sobre el DataFrame de los mensajes\n",
    "\n"
   ]
  },
  {
   "cell_type": "code",
   "execution_count": 56,
   "metadata": {
    "id": "mCEl2iGE0q1A",
    "trusted": false
   },
   "outputs": [
    {
     "data": {
      "text/html": [
       "<div>\n",
       "<style scoped>\n",
       "    .dataframe tbody tr th:only-of-type {\n",
       "        vertical-align: middle;\n",
       "    }\n",
       "\n",
       "    .dataframe tbody tr th {\n",
       "        vertical-align: top;\n",
       "    }\n",
       "\n",
       "    .dataframe thead th {\n",
       "        text-align: right;\n",
       "    }\n",
       "</style>\n",
       "<table border=\"1\" class=\"dataframe\">\n",
       "  <thead>\n",
       "    <tr style=\"text-align: right;\">\n",
       "      <th></th>\n",
       "      <th>id</th>\n",
       "      <th>user_id</th>\n",
       "      <th>message_date</th>\n",
       "    </tr>\n",
       "  </thead>\n",
       "  <tbody>\n",
       "    <tr>\n",
       "      <th>53107</th>\n",
       "      <td>1339_241</td>\n",
       "      <td>1339</td>\n",
       "      <td>2018-09-27</td>\n",
       "    </tr>\n",
       "    <tr>\n",
       "      <th>48339</th>\n",
       "      <td>1324_1073</td>\n",
       "      <td>1324</td>\n",
       "      <td>2018-09-25</td>\n",
       "    </tr>\n",
       "    <tr>\n",
       "      <th>61828</th>\n",
       "      <td>1385_292</td>\n",
       "      <td>1385</td>\n",
       "      <td>2018-07-15</td>\n",
       "    </tr>\n",
       "    <tr>\n",
       "      <th>37925</th>\n",
       "      <td>1250_178</td>\n",
       "      <td>1250</td>\n",
       "      <td>2018-10-09</td>\n",
       "    </tr>\n",
       "    <tr>\n",
       "      <th>57878</th>\n",
       "      <td>1365_34</td>\n",
       "      <td>1365</td>\n",
       "      <td>2018-07-04</td>\n",
       "    </tr>\n",
       "    <tr>\n",
       "      <th>40804</th>\n",
       "      <td>1261_473</td>\n",
       "      <td>1261</td>\n",
       "      <td>2018-04-28</td>\n",
       "    </tr>\n",
       "    <tr>\n",
       "      <th>30399</th>\n",
       "      <td>1192_1</td>\n",
       "      <td>1192</td>\n",
       "      <td>2018-11-07</td>\n",
       "    </tr>\n",
       "    <tr>\n",
       "      <th>520</th>\n",
       "      <td>1004_214</td>\n",
       "      <td>1004</td>\n",
       "      <td>2018-12-02</td>\n",
       "    </tr>\n",
       "    <tr>\n",
       "      <th>2162</th>\n",
       "      <td>1028_67</td>\n",
       "      <td>1028</td>\n",
       "      <td>2018-08-15</td>\n",
       "    </tr>\n",
       "    <tr>\n",
       "      <th>72671</th>\n",
       "      <td>1470_299</td>\n",
       "      <td>1470</td>\n",
       "      <td>2018-05-31</td>\n",
       "    </tr>\n",
       "  </tbody>\n",
       "</table>\n",
       "</div>"
      ],
      "text/plain": [
       "              id  user_id message_date\n",
       "53107   1339_241     1339   2018-09-27\n",
       "48339  1324_1073     1324   2018-09-25\n",
       "61828   1385_292     1385   2018-07-15\n",
       "37925   1250_178     1250   2018-10-09\n",
       "57878    1365_34     1365   2018-07-04\n",
       "40804   1261_473     1261   2018-04-28\n",
       "30399     1192_1     1192   2018-11-07\n",
       "520     1004_214     1004   2018-12-02\n",
       "2162     1028_67     1028   2018-08-15\n",
       "72671   1470_299     1470   2018-05-31"
      ]
     },
     "metadata": {},
     "output_type": "display_data"
    }
   ],
   "source": [
    "display(messages.sample(10))# Imprime una muestra de datos para los mensajes\n",
    "\n"
   ]
  },
  {
   "cell_type": "markdown",
   "metadata": {
    "id": "04xDj7KH0q1A"
   },
   "source": [
    "[Describe lo que ves y observas en la información general y en la muestra de datos impresa para el precio de datos anterior. ¿Hay algún problema (tipos de datos no adecuados, datos ausentes, etc.) que pudieran necesitar investigación y cambios adicionales? ¿Cómo se puede arreglar?]\n",
    "\n",
    "Como problema solo veo el verificar los datos nulos en caso de que tengamos alguno y podriamos aprovechar para eliminar estas mismas filas. tenemos la fecha en los que los usuarios enviaron mensajes asi como la cantidad de mensajes enviados por todos los usuarios.\n",
    "\n",
    "Veo como una oportunidad el calcular el numero de mensajes por usuario para tener una vision mas precisa de hasta cual es nuestro mejor consumidor al menos en mensajes."
   ]
  },
  {
   "cell_type": "markdown",
   "metadata": {
    "id": "HvLid7iD0q1B"
   },
   "source": [
    "### Enriquecer los datos"
   ]
  },
  {
   "cell_type": "markdown",
   "metadata": {
    "id": "8nhPFKIe0q1C"
   },
   "source": [
    "[Agrega factores adicionales a los datos si crees que pudieran ser útiles.]"
   ]
  },
  {
   "cell_type": "code",
   "execution_count": 62,
   "metadata": {
    "id": "zYEXZac10q1C",
    "trusted": false
   },
   "outputs": [
    {
     "data": {
      "image/png": "[encoded data removed]",
      "text/plain": [
       "<Figure size 1000x600 with 1 Axes>"
      ]
     },
     "metadata": {},
     "output_type": "display_data"
    }
   ],
   "source": [
    "# Calculamos el número de mensajes por usuario\n",
    "message_count = messages.groupby('user_id').size().reset_index(name='message_count')\n",
    "\n",
    "# Unimos los resultados con el DataFrame de usuarios\n",
    "users = users.merge(message_count, on='user_id', how='left')\n",
    "\n",
    "message_count = messages.groupby('user_id').size().reset_index(name='message_count')\n",
    "\n",
    "# Crear una gráfica de barras para mostrar los 'message_count' de los primeros 20 usuarios\n",
    "plt.figure(figsize=(10, 6))\n",
    "plt.bar(users['user_id'].head(20).astype(str), users['message_count'].head(20), color='skyblue')\n",
    "plt.title('Número de Mensajes Enviados por los Primeros 20 Usuarios')\n",
    "plt.xlabel('User ID')\n",
    "plt.ylabel('Número de Mensajes')\n",
    "plt.xticks(rotation=90)\n",
    "plt.tight_layout()\n",
    "plt.show()"
   ]
  },
  {
   "cell_type": "markdown",
   "metadata": {
    "id": "bStkaxn40q1C"
   },
   "source": [
    "## Internet"
   ]
  },
  {
   "cell_type": "code",
   "execution_count": 59,
   "metadata": {
    "id": "e-Uz5qyn0q1C",
    "trusted": false
   },
   "outputs": [
    {
     "name": "stdout",
     "output_type": "stream",
     "text": [
      "<class 'pandas.core.frame.DataFrame'>\n",
      "Int64Index: 104825 entries, 0 to 104824\n",
      "Data columns (total 4 columns):\n",
      " #   Column        Non-Null Count   Dtype         \n",
      "---  ------        --------------   -----         \n",
      " 0   id            104825 non-null  object        \n",
      " 1   user_id       104825 non-null  int64         \n",
      " 2   session_date  104825 non-null  datetime64[ns]\n",
      " 3   mb_used       104825 non-null  float64       \n",
      "dtypes: datetime64[ns](1), float64(1), int64(1), object(1)\n",
      "memory usage: 4.0+ MB\n"
     ]
    },
    {
     "data": {
      "text/html": [
       "<div>\n",
       "<style scoped>\n",
       "    .dataframe tbody tr th:only-of-type {\n",
       "        vertical-align: middle;\n",
       "    }\n",
       "\n",
       "    .dataframe tbody tr th {\n",
       "        vertical-align: top;\n",
       "    }\n",
       "\n",
       "    .dataframe thead th {\n",
       "        text-align: right;\n",
       "    }\n",
       "</style>\n",
       "<table border=\"1\" class=\"dataframe\">\n",
       "  <thead>\n",
       "    <tr style=\"text-align: right;\">\n",
       "      <th></th>\n",
       "      <th>user_id</th>\n",
       "      <th>mb_used</th>\n",
       "    </tr>\n",
       "  </thead>\n",
       "  <tbody>\n",
       "    <tr>\n",
       "      <th>count</th>\n",
       "      <td>104825.000000</td>\n",
       "      <td>104825.000000</td>\n",
       "    </tr>\n",
       "    <tr>\n",
       "      <th>mean</th>\n",
       "      <td>1242.496361</td>\n",
       "      <td>366.713701</td>\n",
       "    </tr>\n",
       "    <tr>\n",
       "      <th>std</th>\n",
       "      <td>142.053913</td>\n",
       "      <td>277.170542</td>\n",
       "    </tr>\n",
       "    <tr>\n",
       "      <th>min</th>\n",
       "      <td>1000.000000</td>\n",
       "      <td>0.000000</td>\n",
       "    </tr>\n",
       "    <tr>\n",
       "      <th>25%</th>\n",
       "      <td>1122.000000</td>\n",
       "      <td>136.080000</td>\n",
       "    </tr>\n",
       "    <tr>\n",
       "      <th>50%</th>\n",
       "      <td>1236.000000</td>\n",
       "      <td>343.980000</td>\n",
       "    </tr>\n",
       "    <tr>\n",
       "      <th>75%</th>\n",
       "      <td>1367.000000</td>\n",
       "      <td>554.610000</td>\n",
       "    </tr>\n",
       "    <tr>\n",
       "      <th>max</th>\n",
       "      <td>1499.000000</td>\n",
       "      <td>1693.470000</td>\n",
       "    </tr>\n",
       "  </tbody>\n",
       "</table>\n",
       "</div>"
      ],
      "text/plain": [
       "             user_id        mb_used\n",
       "count  104825.000000  104825.000000\n",
       "mean     1242.496361     366.713701\n",
       "std       142.053913     277.170542\n",
       "min      1000.000000       0.000000\n",
       "25%      1122.000000     136.080000\n",
       "50%      1236.000000     343.980000\n",
       "75%      1367.000000     554.610000\n",
       "max      1499.000000    1693.470000"
      ]
     },
     "metadata": {},
     "output_type": "display_data"
    }
   ],
   "source": [
    "internet.info(show_counts=True)\n",
    "display(internet.describe())# Imprime la información general/resumida sobre el DataFrame de internet\n",
    "\n"
   ]
  },
  {
   "cell_type": "code",
   "execution_count": 58,
   "metadata": {
    "id": "9r3x_XLw0q1C",
    "trusted": false
   },
   "outputs": [
    {
     "data": {
      "text/html": [
       "<div>\n",
       "<style scoped>\n",
       "    .dataframe tbody tr th:only-of-type {\n",
       "        vertical-align: middle;\n",
       "    }\n",
       "\n",
       "    .dataframe tbody tr th {\n",
       "        vertical-align: top;\n",
       "    }\n",
       "\n",
       "    .dataframe thead th {\n",
       "        text-align: right;\n",
       "    }\n",
       "</style>\n",
       "<table border=\"1\" class=\"dataframe\">\n",
       "  <thead>\n",
       "    <tr style=\"text-align: right;\">\n",
       "      <th></th>\n",
       "      <th>id</th>\n",
       "      <th>user_id</th>\n",
       "      <th>session_date</th>\n",
       "      <th>mb_used</th>\n",
       "    </tr>\n",
       "  </thead>\n",
       "  <tbody>\n",
       "    <tr>\n",
       "      <th>43584</th>\n",
       "      <td>1194_2</td>\n",
       "      <td>1194</td>\n",
       "      <td>2018-10-03</td>\n",
       "      <td>428.00</td>\n",
       "    </tr>\n",
       "    <tr>\n",
       "      <th>32235</th>\n",
       "      <td>1145_371</td>\n",
       "      <td>1145</td>\n",
       "      <td>2018-11-10</td>\n",
       "      <td>451.31</td>\n",
       "    </tr>\n",
       "    <tr>\n",
       "      <th>2192</th>\n",
       "      <td>1010_376</td>\n",
       "      <td>1010</td>\n",
       "      <td>2018-07-27</td>\n",
       "      <td>212.44</td>\n",
       "    </tr>\n",
       "    <tr>\n",
       "      <th>40512</th>\n",
       "      <td>1182_185</td>\n",
       "      <td>1182</td>\n",
       "      <td>2018-09-09</td>\n",
       "      <td>765.28</td>\n",
       "    </tr>\n",
       "    <tr>\n",
       "      <th>48500</th>\n",
       "      <td>1215_222</td>\n",
       "      <td>1215</td>\n",
       "      <td>2018-11-20</td>\n",
       "      <td>715.14</td>\n",
       "    </tr>\n",
       "    <tr>\n",
       "      <th>11027</th>\n",
       "      <td>1055_32</td>\n",
       "      <td>1055</td>\n",
       "      <td>2018-10-30</td>\n",
       "      <td>0.00</td>\n",
       "    </tr>\n",
       "    <tr>\n",
       "      <th>100097</th>\n",
       "      <td>1474_342</td>\n",
       "      <td>1474</td>\n",
       "      <td>2018-09-16</td>\n",
       "      <td>672.50</td>\n",
       "    </tr>\n",
       "    <tr>\n",
       "      <th>3097</th>\n",
       "      <td>1017_140</td>\n",
       "      <td>1017</td>\n",
       "      <td>2018-10-20</td>\n",
       "      <td>115.01</td>\n",
       "    </tr>\n",
       "    <tr>\n",
       "      <th>39929</th>\n",
       "      <td>1180_133</td>\n",
       "      <td>1180</td>\n",
       "      <td>2018-12-04</td>\n",
       "      <td>227.31</td>\n",
       "    </tr>\n",
       "    <tr>\n",
       "      <th>97359</th>\n",
       "      <td>1458_455</td>\n",
       "      <td>1458</td>\n",
       "      <td>2018-12-06</td>\n",
       "      <td>497.91</td>\n",
       "    </tr>\n",
       "  </tbody>\n",
       "</table>\n",
       "</div>"
      ],
      "text/plain": [
       "              id  user_id session_date  mb_used\n",
       "43584     1194_2     1194   2018-10-03   428.00\n",
       "32235   1145_371     1145   2018-11-10   451.31\n",
       "2192    1010_376     1010   2018-07-27   212.44\n",
       "40512   1182_185     1182   2018-09-09   765.28\n",
       "48500   1215_222     1215   2018-11-20   715.14\n",
       "11027    1055_32     1055   2018-10-30     0.00\n",
       "100097  1474_342     1474   2018-09-16   672.50\n",
       "3097    1017_140     1017   2018-10-20   115.01\n",
       "39929   1180_133     1180   2018-12-04   227.31\n",
       "97359   1458_455     1458   2018-12-06   497.91"
      ]
     },
     "metadata": {},
     "output_type": "display_data"
    }
   ],
   "source": [
    "display(internet.sample(10))# Imprime una muestra de datos para el tráfico de internet\n",
    "\n"
   ]
  },
  {
   "cell_type": "markdown",
   "metadata": {
    "id": "EzOG5ik30q1D"
   },
   "source": [
    "[Describe lo que ves y observas en la información general y en la muestra de datos impresa para el precio de datos anterior. ¿Hay algún problema (tipos de datos no adecuados, datos ausentes, etc.) que pudieran necesitar investigación y cambios adicionales? ¿Cómo se puede arreglar?]\n",
    "\n",
    "Con esta muestra vemos la cantidad de mb que los usuarios consumen asi como la cantidad todal de megas que los clientes han usado, de igual manera como dato no adecuado solo veo el corregir valores nulos , modifcar los valores por la media, y eliminar en caso de que encontremos valores incorrectos en mb used.\n",
    "\n",
    "\n",
    "Como una oportunidad podemos calcular el consumo promedio de datos, podria cambiar el nombre de la columna para saber que es dirigido al promedio y generar una grafica para ver como se comporta el consumo por usuario."
   ]
  },
  {
   "cell_type": "markdown",
   "metadata": {
    "id": "yA0tkPFg0q1D"
   },
   "source": [
    "### Corregir los datos"
   ]
  },
  {
   "cell_type": "markdown",
   "metadata": {
    "id": "zlZMuIEK0q1D"
   },
   "source": [
    "[Corrige los problemas obvios con los datos basándote en las observaciones iniciales.]"
   ]
  },
  {
   "cell_type": "code",
   "execution_count": null,
   "metadata": {
    "id": "zVeanzdd0q1E",
    "trusted": false
   },
   "outputs": [
    {
     "data": {
      "text/html": [
       "<div>\n",
       "<style scoped>\n",
       "    .dataframe tbody tr th:only-of-type {\n",
       "        vertical-align: middle;\n",
       "    }\n",
       "\n",
       "    .dataframe tbody tr th {\n",
       "        vertical-align: top;\n",
       "    }\n",
       "\n",
       "    .dataframe thead th {\n",
       "        text-align: right;\n",
       "    }\n",
       "</style>\n",
       "<table border=\"1\" class=\"dataframe\">\n",
       "  <thead>\n",
       "    <tr style=\"text-align: right;\">\n",
       "      <th></th>\n",
       "      <th>user_id</th>\n",
       "      <th>session_date</th>\n",
       "      <th>mb_used</th>\n",
       "      <th>gb_used</th>\n",
       "    </tr>\n",
       "  </thead>\n",
       "  <tbody>\n",
       "    <tr>\n",
       "      <th>19543</th>\n",
       "      <td>1088</td>\n",
       "      <td>2018-10-12</td>\n",
       "      <td>561</td>\n",
       "      <td>1</td>\n",
       "    </tr>\n",
       "    <tr>\n",
       "      <th>84701</th>\n",
       "      <td>1396</td>\n",
       "      <td>2018-10-26</td>\n",
       "      <td>352</td>\n",
       "      <td>1</td>\n",
       "    </tr>\n",
       "    <tr>\n",
       "      <th>26214</th>\n",
       "      <td>1122</td>\n",
       "      <td>2018-09-17</td>\n",
       "      <td>164</td>\n",
       "      <td>1</td>\n",
       "    </tr>\n",
       "    <tr>\n",
       "      <th>55831</th>\n",
       "      <td>1252</td>\n",
       "      <td>2018-11-01</td>\n",
       "      <td>490</td>\n",
       "      <td>1</td>\n",
       "    </tr>\n",
       "    <tr>\n",
       "      <th>50370</th>\n",
       "      <td>1224</td>\n",
       "      <td>2018-08-27</td>\n",
       "      <td>586</td>\n",
       "      <td>1</td>\n",
       "    </tr>\n",
       "    <tr>\n",
       "      <th>...</th>\n",
       "      <td>...</td>\n",
       "      <td>...</td>\n",
       "      <td>...</td>\n",
       "      <td>...</td>\n",
       "    </tr>\n",
       "    <tr>\n",
       "      <th>75388</th>\n",
       "      <td>1354</td>\n",
       "      <td>2018-11-14</td>\n",
       "      <td>245</td>\n",
       "      <td>1</td>\n",
       "    </tr>\n",
       "    <tr>\n",
       "      <th>102530</th>\n",
       "      <td>1490</td>\n",
       "      <td>2018-08-21</td>\n",
       "      <td>412</td>\n",
       "      <td>1</td>\n",
       "    </tr>\n",
       "    <tr>\n",
       "      <th>72654</th>\n",
       "      <td>1338</td>\n",
       "      <td>2018-08-31</td>\n",
       "      <td>556</td>\n",
       "      <td>1</td>\n",
       "    </tr>\n",
       "    <tr>\n",
       "      <th>35838</th>\n",
       "      <td>1161</td>\n",
       "      <td>2018-12-13</td>\n",
       "      <td>113</td>\n",
       "      <td>1</td>\n",
       "    </tr>\n",
       "    <tr>\n",
       "      <th>39766</th>\n",
       "      <td>1179</td>\n",
       "      <td>2018-09-16</td>\n",
       "      <td>759</td>\n",
       "      <td>1</td>\n",
       "    </tr>\n",
       "  </tbody>\n",
       "</table>\n",
       "<p>500 rows × 4 columns</p>\n",
       "</div>"
      ],
      "text/plain": [
       "        user_id session_date  mb_used  gb_used\n",
       "19543      1088   2018-10-12      561        1\n",
       "84701      1396   2018-10-26      352        1\n",
       "26214      1122   2018-09-17      164        1\n",
       "55831      1252   2018-11-01      490        1\n",
       "50370      1224   2018-08-27      586        1\n",
       "...         ...          ...      ...      ...\n",
       "75388      1354   2018-11-14      245        1\n",
       "102530     1490   2018-08-21      412        1\n",
       "72654      1338   2018-08-31      556        1\n",
       "35838      1161   2018-12-13      113        1\n",
       "39766      1179   2018-09-16      759        1\n",
       "\n",
       "[500 rows x 4 columns]"
      ]
     },
     "metadata": {},
     "output_type": "display_data"
    }
   ],
   "source": [
    "\n",
    "\n",
    "# Convierto las fechas a formato datetime ya que estan como object\n",
    "calls['call_date'] = pd.to_datetime(calls['call_date'])\n",
    "internet['session_date'] = pd.to_datetime(internet['session_date'])\n",
    "users['reg_date'] = pd.to_datetime(users['reg_date'])\n",
    "messages['message_date'] = pd.to_datetime(messages['message_date'])\n",
    "\n",
    "# Reemplazar valores nulos en 'churn_date' de la tabla 'users' \n",
    "users['churn_date'].fillna('9999-12-31', inplace=True)\n",
    "\n",
    "# Convierto las columnas numéricas a tipo float (en 'plans')\n",
    "plans['usd_monthly_pay'] = pd.to_numeric(plans['usd_monthly_pay'], errors='coerce')\n",
    "plans['usd_per_gb'] = pd.to_numeric(plans['usd_per_gb'], errors='coerce')\n",
    "plans['usd_per_message'] = pd.to_numeric(plans['usd_per_message'], errors='coerce')\n",
    "plans['usd_per_minute'] = pd.to_numeric(plans['usd_per_minute'], errors='coerce')\n",
    "\n",
    "# Elimino los duplicados en todas las tablas\n",
    "calls.drop_duplicates(inplace=True)\n",
    "internet.drop_duplicates(inplace=True)\n",
    "messages.drop_duplicates(inplace=True)\n",
    "users.drop_duplicates(inplace=True)\n",
    "\n",
    "# Reemplazar valores nulos en 'mb_used' por la media de la columna\n",
    "internet['mb_used'].fillna(internet['mb_used'].mean(), inplace=True)\n",
    "\n",
    "# Eliminar registros con valores nulos en 'user_id' o 'session_date' (en caso de que los haya)\n",
    "internet = internet.dropna(subset=['user_id', 'session_date'])\n",
    "\n",
    "# Eliminar registros con valores incorrectos en 'mb_used' (por ejemplo, valores negativos o cero)\n",
    "internet = internet[internet['mb_used'] > 0]\n",
    "\n",
    "# Redondear hacia arriba la columna 'mb_used' y convertirla a enteros\n",
    "internet['mb_used'] = np.ceil(internet['mb_used']).astype(int)\n",
    "\n",
    "# Crear la columna 'gb_used' con la conversión de MB a GB y redondear hacia arriba\n",
    "internet['gb_used'] = np.ceil(internet['mb_used'] / 1024).astype(int)\n",
    "\n",
    "# Verificar los resultados\n",
    "display(internet[['user_id', 'session_date', 'mb_used', 'gb_used']].sample(500))\n"
   ]
  },
  {
   "cell_type": "markdown",
   "metadata": {
    "id": "e8_mLF4a0q1E"
   },
   "source": [
    "### Enriquecer los datos"
   ]
  },
  {
   "cell_type": "markdown",
   "metadata": {
    "id": "xhNdn2tE0q1E"
   },
   "source": [
    "[Agrega factores adicionales a los datos si crees que pudieran ser útiles.]"
   ]
  },
  {
   "cell_type": "code",
   "execution_count": 77,
   "metadata": {
    "id": "ESiYPIEK0q1E",
    "trusted": false
   },
   "outputs": [
    {
     "data": {
      "image/png": "[encoded data removed]",
      "text/plain": [
       "<Figure size 1200x600 with 1 Axes>"
      ]
     },
     "metadata": {},
     "output_type": "display_data"
    }
   ],
   "source": [
    "# Calcular el consumo promedio de datos por usuario\n",
    "user_avg_usage = internet.groupby('user_id')['mb_used'].mean().reset_index()\n",
    "\n",
    "# Renombrar la columna para claridad\n",
    "user_avg_usage.rename(columns={'mb_used': 'avg_mb_used'}, inplace=True)\n",
    "\n",
    "# Seleccionar los primeros 20 usuarios\n",
    "top_users = user_avg_usage.head(20)\n",
    "\n",
    "# Crear la gráfica de barras\n",
    "plt.figure(figsize=(12, 6))\n",
    "plt.bar(top_users['user_id'].astype(str), top_users['avg_mb_used'])  # Convertir user_id a string\n",
    "\n",
    "# Títulos y etiquetas\n",
    "plt.title('Consumo Promedio de Datos por Usuario (Primeros 20)')\n",
    "plt.xlabel('User ID')\n",
    "plt.ylabel('Promedio de Consumo de Datos (MB)')\n",
    "plt.xticks(rotation=45, ha='right')  # Rotar las etiquetas y ajustarlas\n",
    "\n",
    "# Mostrar la gráfica\n",
    "plt.tight_layout()\n",
    "plt.show()\n"
   ]
  },
  {
   "cell_type": "markdown",
   "metadata": {
    "id": "3UA2cqIW0q1E"
   },
   "source": [
    "## Estudiar las condiciones de las tarifas"
   ]
  },
  {
   "cell_type": "markdown",
   "metadata": {
    "id": "T86Sqltq0q1F"
   },
   "source": [
    "[Es sumamente importante entender cómo funcionan las tarifas, cómo se les cobra a los usuarios en función de su plan de suscripción. Así que te sugerimos imprimir la información de la tarifa para ver una vez más sus condiciones.]"
   ]
  },
  {
   "cell_type": "code",
   "execution_count": 13,
   "metadata": {
    "id": "i409op8p0q1F",
    "trusted": false
   },
   "outputs": [
    {
     "data": {
      "text/html": [
       "<div>\n",
       "<style scoped>\n",
       "    .dataframe tbody tr th:only-of-type {\n",
       "        vertical-align: middle;\n",
       "    }\n",
       "\n",
       "    .dataframe tbody tr th {\n",
       "        vertical-align: top;\n",
       "    }\n",
       "\n",
       "    .dataframe thead th {\n",
       "        text-align: right;\n",
       "    }\n",
       "</style>\n",
       "<table border=\"1\" class=\"dataframe\">\n",
       "  <thead>\n",
       "    <tr style=\"text-align: right;\">\n",
       "      <th></th>\n",
       "      <th>messages_included</th>\n",
       "      <th>mb_per_month_included</th>\n",
       "      <th>minutes_included</th>\n",
       "      <th>usd_monthly_pay</th>\n",
       "      <th>usd_per_gb</th>\n",
       "      <th>usd_per_message</th>\n",
       "      <th>usd_per_minute</th>\n",
       "      <th>plan_name</th>\n",
       "    </tr>\n",
       "  </thead>\n",
       "  <tbody>\n",
       "    <tr>\n",
       "      <th>0</th>\n",
       "      <td>50</td>\n",
       "      <td>15360</td>\n",
       "      <td>500</td>\n",
       "      <td>20</td>\n",
       "      <td>10</td>\n",
       "      <td>0.03</td>\n",
       "      <td>0.03</td>\n",
       "      <td>surf</td>\n",
       "    </tr>\n",
       "    <tr>\n",
       "      <th>1</th>\n",
       "      <td>1000</td>\n",
       "      <td>30720</td>\n",
       "      <td>3000</td>\n",
       "      <td>70</td>\n",
       "      <td>7</td>\n",
       "      <td>0.01</td>\n",
       "      <td>0.01</td>\n",
       "      <td>ultimate</td>\n",
       "    </tr>\n",
       "  </tbody>\n",
       "</table>\n",
       "</div>"
      ],
      "text/plain": [
       "   messages_included  mb_per_month_included  minutes_included  \\\n",
       "0                 50                  15360               500   \n",
       "1               1000                  30720              3000   \n",
       "\n",
       "   usd_monthly_pay  usd_per_gb  usd_per_message  usd_per_minute plan_name  \n",
       "0               20          10             0.03            0.03      surf  \n",
       "1               70           7             0.01            0.01  ultimate  "
      ]
     },
     "metadata": {},
     "output_type": "display_data"
    }
   ],
   "source": [
    "display(plans.head())# Imprime las condiciones de la tarifa y asegúrate de que te quedan claras\n",
    "\n"
   ]
  },
  {
   "cell_type": "markdown",
   "metadata": {
    "id": "hMR1tP5d0q1F"
   },
   "source": [
    "## Agregar datos por usuario\n",
    "\n",
    "[Ahora que los datos están limpios, agrega los datos por usuario y por periodo para que solo haya un registro por usuario y por periodo. Esto facilitará mucho el análisis posterior.]"
   ]
  },
  {
   "cell_type": "code",
   "execution_count": null,
   "metadata": {
    "id": "A332cedB0q1G",
    "trusted": false
   },
   "outputs": [
    {
     "data": {
      "text/html": [
       "<div>\n",
       "<style scoped>\n",
       "    .dataframe tbody tr th:only-of-type {\n",
       "        vertical-align: middle;\n",
       "    }\n",
       "\n",
       "    .dataframe tbody tr th {\n",
       "        vertical-align: top;\n",
       "    }\n",
       "\n",
       "    .dataframe thead th {\n",
       "        text-align: right;\n",
       "    }\n",
       "</style>\n",
       "<table border=\"1\" class=\"dataframe\">\n",
       "  <thead>\n",
       "    <tr style=\"text-align: right;\">\n",
       "      <th></th>\n",
       "      <th>user_id</th>\n",
       "      <th>month</th>\n",
       "      <th>call_count</th>\n",
       "    </tr>\n",
       "  </thead>\n",
       "  <tbody>\n",
       "    <tr>\n",
       "      <th>0</th>\n",
       "      <td>1000</td>\n",
       "      <td>2018-12</td>\n",
       "      <td>16</td>\n",
       "    </tr>\n",
       "    <tr>\n",
       "      <th>1</th>\n",
       "      <td>1001</td>\n",
       "      <td>2018-08</td>\n",
       "      <td>27</td>\n",
       "    </tr>\n",
       "    <tr>\n",
       "      <th>2</th>\n",
       "      <td>1001</td>\n",
       "      <td>2018-09</td>\n",
       "      <td>49</td>\n",
       "    </tr>\n",
       "    <tr>\n",
       "      <th>3</th>\n",
       "      <td>1001</td>\n",
       "      <td>2018-10</td>\n",
       "      <td>65</td>\n",
       "    </tr>\n",
       "    <tr>\n",
       "      <th>4</th>\n",
       "      <td>1001</td>\n",
       "      <td>2018-11</td>\n",
       "      <td>64</td>\n",
       "    </tr>\n",
       "    <tr>\n",
       "      <th>...</th>\n",
       "      <td>...</td>\n",
       "      <td>...</td>\n",
       "      <td>...</td>\n",
       "    </tr>\n",
       "    <tr>\n",
       "      <th>495</th>\n",
       "      <td>1106</td>\n",
       "      <td>2018-10</td>\n",
       "      <td>68</td>\n",
       "    </tr>\n",
       "    <tr>\n",
       "      <th>496</th>\n",
       "      <td>1106</td>\n",
       "      <td>2018-11</td>\n",
       "      <td>75</td>\n",
       "    </tr>\n",
       "    <tr>\n",
       "      <th>497</th>\n",
       "      <td>1106</td>\n",
       "      <td>2018-12</td>\n",
       "      <td>67</td>\n",
       "    </tr>\n",
       "    <tr>\n",
       "      <th>498</th>\n",
       "      <td>1107</td>\n",
       "      <td>2018-11</td>\n",
       "      <td>14</td>\n",
       "    </tr>\n",
       "    <tr>\n",
       "      <th>499</th>\n",
       "      <td>1107</td>\n",
       "      <td>2018-12</td>\n",
       "      <td>41</td>\n",
       "    </tr>\n",
       "  </tbody>\n",
       "</table>\n",
       "<p>500 rows × 3 columns</p>\n",
       "</div>"
      ],
      "text/plain": [
       "     user_id    month  call_count\n",
       "0       1000  2018-12          16\n",
       "1       1001  2018-08          27\n",
       "2       1001  2018-09          49\n",
       "3       1001  2018-10          65\n",
       "4       1001  2018-11          64\n",
       "..       ...      ...         ...\n",
       "495     1106  2018-10          68\n",
       "496     1106  2018-11          75\n",
       "497     1106  2018-12          67\n",
       "498     1107  2018-11          14\n",
       "499     1107  2018-12          41\n",
       "\n",
       "[500 rows x 3 columns]"
      ]
     },
     "metadata": {},
     "output_type": "display_data"
    }
   ],
   "source": [
    "\n",
    "\n",
    "calls['call_date'] = pd.to_datetime(calls['call_date'])\n",
    "\n",
    "\n",
    "calls['month'] = calls['call_date'].dt.to_period('M')\n",
    "\n",
    "\n",
    "calls_per_user_month = calls.groupby(['user_id', 'month'])['id'].count().reset_index()\n",
    "\n",
    "\n",
    "calls_per_user_month.rename(columns={'id': 'call_count'}, inplace=True)\n",
    "\n",
    "\n",
    "display(calls_per_user_month.head(500))# Calcula el número de llamadas hechas por cada usuario al mes. Guarda el resultado.\n",
    "\n"
   ]
  },
  {
   "cell_type": "code",
   "execution_count": 15,
   "metadata": {
    "id": "aw2cmuql0q1G",
    "trusted": false
   },
   "outputs": [
    {
     "data": {
      "text/html": [
       "<div>\n",
       "<style scoped>\n",
       "    .dataframe tbody tr th:only-of-type {\n",
       "        vertical-align: middle;\n",
       "    }\n",
       "\n",
       "    .dataframe tbody tr th {\n",
       "        vertical-align: top;\n",
       "    }\n",
       "\n",
       "    .dataframe thead th {\n",
       "        text-align: right;\n",
       "    }\n",
       "</style>\n",
       "<table border=\"1\" class=\"dataframe\">\n",
       "  <thead>\n",
       "    <tr style=\"text-align: right;\">\n",
       "      <th></th>\n",
       "      <th>user_id</th>\n",
       "      <th>month</th>\n",
       "      <th>total_minutes</th>\n",
       "    </tr>\n",
       "  </thead>\n",
       "  <tbody>\n",
       "    <tr>\n",
       "      <th>0</th>\n",
       "      <td>1000</td>\n",
       "      <td>2018-12</td>\n",
       "      <td>116.83</td>\n",
       "    </tr>\n",
       "    <tr>\n",
       "      <th>1</th>\n",
       "      <td>1001</td>\n",
       "      <td>2018-08</td>\n",
       "      <td>171.14</td>\n",
       "    </tr>\n",
       "    <tr>\n",
       "      <th>2</th>\n",
       "      <td>1001</td>\n",
       "      <td>2018-09</td>\n",
       "      <td>297.69</td>\n",
       "    </tr>\n",
       "    <tr>\n",
       "      <th>3</th>\n",
       "      <td>1001</td>\n",
       "      <td>2018-10</td>\n",
       "      <td>374.11</td>\n",
       "    </tr>\n",
       "    <tr>\n",
       "      <th>4</th>\n",
       "      <td>1001</td>\n",
       "      <td>2018-11</td>\n",
       "      <td>404.59</td>\n",
       "    </tr>\n",
       "    <tr>\n",
       "      <th>...</th>\n",
       "      <td>...</td>\n",
       "      <td>...</td>\n",
       "      <td>...</td>\n",
       "    </tr>\n",
       "    <tr>\n",
       "      <th>2253</th>\n",
       "      <td>1498</td>\n",
       "      <td>2018-12</td>\n",
       "      <td>324.77</td>\n",
       "    </tr>\n",
       "    <tr>\n",
       "      <th>2254</th>\n",
       "      <td>1499</td>\n",
       "      <td>2018-09</td>\n",
       "      <td>330.37</td>\n",
       "    </tr>\n",
       "    <tr>\n",
       "      <th>2255</th>\n",
       "      <td>1499</td>\n",
       "      <td>2018-10</td>\n",
       "      <td>363.28</td>\n",
       "    </tr>\n",
       "    <tr>\n",
       "      <th>2256</th>\n",
       "      <td>1499</td>\n",
       "      <td>2018-11</td>\n",
       "      <td>288.56</td>\n",
       "    </tr>\n",
       "    <tr>\n",
       "      <th>2257</th>\n",
       "      <td>1499</td>\n",
       "      <td>2018-12</td>\n",
       "      <td>468.10</td>\n",
       "    </tr>\n",
       "  </tbody>\n",
       "</table>\n",
       "<p>2258 rows × 3 columns</p>\n",
       "</div>"
      ],
      "text/plain": [
       "      user_id    month  total_minutes\n",
       "0        1000  2018-12         116.83\n",
       "1        1001  2018-08         171.14\n",
       "2        1001  2018-09         297.69\n",
       "3        1001  2018-10         374.11\n",
       "4        1001  2018-11         404.59\n",
       "...       ...      ...            ...\n",
       "2253     1498  2018-12         324.77\n",
       "2254     1499  2018-09         330.37\n",
       "2255     1499  2018-10         363.28\n",
       "2256     1499  2018-11         288.56\n",
       "2257     1499  2018-12         468.10\n",
       "\n",
       "[2258 rows x 3 columns]"
      ]
     },
     "metadata": {},
     "output_type": "display_data"
    }
   ],
   "source": [
    "\n",
    "minutes_per_user_month = calls.groupby(['user_id', 'month'])['duration'].sum().reset_index()\n",
    "\n",
    "minutes_per_user_month.rename(columns={'duration': 'total_minutes'}, inplace=True)# Calcula la cantidad de minutos usados por cada usuario al mes. Guarda el resultado.\n",
    "\n",
    "display(minutes_per_user_month)"
   ]
  },
  {
   "cell_type": "code",
   "execution_count": 16,
   "metadata": {
    "id": "CcQvNHn60q1G",
    "trusted": false
   },
   "outputs": [
    {
     "data": {
      "text/html": [
       "<div>\n",
       "<style scoped>\n",
       "    .dataframe tbody tr th:only-of-type {\n",
       "        vertical-align: middle;\n",
       "    }\n",
       "\n",
       "    .dataframe tbody tr th {\n",
       "        vertical-align: top;\n",
       "    }\n",
       "\n",
       "    .dataframe thead th {\n",
       "        text-align: right;\n",
       "    }\n",
       "</style>\n",
       "<table border=\"1\" class=\"dataframe\">\n",
       "  <thead>\n",
       "    <tr style=\"text-align: right;\">\n",
       "      <th></th>\n",
       "      <th>user_id</th>\n",
       "      <th>month</th>\n",
       "      <th>total_messages</th>\n",
       "    </tr>\n",
       "  </thead>\n",
       "  <tbody>\n",
       "    <tr>\n",
       "      <th>0</th>\n",
       "      <td>1000</td>\n",
       "      <td>2018-12</td>\n",
       "      <td>11</td>\n",
       "    </tr>\n",
       "    <tr>\n",
       "      <th>1</th>\n",
       "      <td>1001</td>\n",
       "      <td>2018-08</td>\n",
       "      <td>30</td>\n",
       "    </tr>\n",
       "    <tr>\n",
       "      <th>2</th>\n",
       "      <td>1001</td>\n",
       "      <td>2018-09</td>\n",
       "      <td>44</td>\n",
       "    </tr>\n",
       "    <tr>\n",
       "      <th>3</th>\n",
       "      <td>1001</td>\n",
       "      <td>2018-10</td>\n",
       "      <td>53</td>\n",
       "    </tr>\n",
       "    <tr>\n",
       "      <th>4</th>\n",
       "      <td>1001</td>\n",
       "      <td>2018-11</td>\n",
       "      <td>36</td>\n",
       "    </tr>\n",
       "    <tr>\n",
       "      <th>...</th>\n",
       "      <td>...</td>\n",
       "      <td>...</td>\n",
       "      <td>...</td>\n",
       "    </tr>\n",
       "    <tr>\n",
       "      <th>495</th>\n",
       "      <td>1134</td>\n",
       "      <td>2018-11</td>\n",
       "      <td>24</td>\n",
       "    </tr>\n",
       "    <tr>\n",
       "      <th>496</th>\n",
       "      <td>1134</td>\n",
       "      <td>2018-12</td>\n",
       "      <td>10</td>\n",
       "    </tr>\n",
       "    <tr>\n",
       "      <th>497</th>\n",
       "      <td>1136</td>\n",
       "      <td>2018-10</td>\n",
       "      <td>26</td>\n",
       "    </tr>\n",
       "    <tr>\n",
       "      <th>498</th>\n",
       "      <td>1136</td>\n",
       "      <td>2018-11</td>\n",
       "      <td>42</td>\n",
       "    </tr>\n",
       "    <tr>\n",
       "      <th>499</th>\n",
       "      <td>1136</td>\n",
       "      <td>2018-12</td>\n",
       "      <td>59</td>\n",
       "    </tr>\n",
       "  </tbody>\n",
       "</table>\n",
       "<p>500 rows × 3 columns</p>\n",
       "</div>"
      ],
      "text/plain": [
       "     user_id    month  total_messages\n",
       "0       1000  2018-12              11\n",
       "1       1001  2018-08              30\n",
       "2       1001  2018-09              44\n",
       "3       1001  2018-10              53\n",
       "4       1001  2018-11              36\n",
       "..       ...      ...             ...\n",
       "495     1134  2018-11              24\n",
       "496     1134  2018-12              10\n",
       "497     1136  2018-10              26\n",
       "498     1136  2018-11              42\n",
       "499     1136  2018-12              59\n",
       "\n",
       "[500 rows x 3 columns]"
      ]
     },
     "metadata": {},
     "output_type": "display_data"
    }
   ],
   "source": [
    "messages['message_date'] = pd.to_datetime(messages['message_date'])\n",
    "\n",
    "# Crear una nueva columna 'month' con el año y mes\n",
    "messages['month'] = messages['message_date'].dt.to_period('M')\n",
    "\n",
    "messages_per_user_month = messages.groupby(['user_id', 'month'])['id'].count().reset_index()\n",
    "\n",
    "# Renombrar la columna para mayor claridad\n",
    "messages_per_user_month.rename(columns={'id': 'total_messages'}, inplace=True)\n",
    "\n",
    "# Mostrar los primeros registros\n",
    "display(messages_per_user_month.head(500))# Calcula el número de mensajes enviados por cada usuario al mes. Guarda el resultado.\n",
    "\n"
   ]
  },
  {
   "cell_type": "code",
   "execution_count": null,
   "metadata": {
    "id": "H1AqN2eG0q1H",
    "trusted": false
   },
   "outputs": [
    {
     "data": {
      "text/html": [
       "<div>\n",
       "<style scoped>\n",
       "    .dataframe tbody tr th:only-of-type {\n",
       "        vertical-align: middle;\n",
       "    }\n",
       "\n",
       "    .dataframe tbody tr th {\n",
       "        vertical-align: top;\n",
       "    }\n",
       "\n",
       "    .dataframe thead th {\n",
       "        text-align: right;\n",
       "    }\n",
       "</style>\n",
       "<table border=\"1\" class=\"dataframe\">\n",
       "  <thead>\n",
       "    <tr style=\"text-align: right;\">\n",
       "      <th></th>\n",
       "      <th>user_id</th>\n",
       "      <th>month</th>\n",
       "      <th>total_traffic_mb</th>\n",
       "    </tr>\n",
       "  </thead>\n",
       "  <tbody>\n",
       "    <tr>\n",
       "      <th>0</th>\n",
       "      <td>1000</td>\n",
       "      <td>2018-12</td>\n",
       "      <td>1901.47</td>\n",
       "    </tr>\n",
       "    <tr>\n",
       "      <th>1</th>\n",
       "      <td>1001</td>\n",
       "      <td>2018-08</td>\n",
       "      <td>6919.15</td>\n",
       "    </tr>\n",
       "    <tr>\n",
       "      <th>2</th>\n",
       "      <td>1001</td>\n",
       "      <td>2018-09</td>\n",
       "      <td>13314.82</td>\n",
       "    </tr>\n",
       "    <tr>\n",
       "      <th>3</th>\n",
       "      <td>1001</td>\n",
       "      <td>2018-10</td>\n",
       "      <td>22330.49</td>\n",
       "    </tr>\n",
       "    <tr>\n",
       "      <th>4</th>\n",
       "      <td>1001</td>\n",
       "      <td>2018-11</td>\n",
       "      <td>18504.30</td>\n",
       "    </tr>\n",
       "    <tr>\n",
       "      <th>...</th>\n",
       "      <td>...</td>\n",
       "      <td>...</td>\n",
       "      <td>...</td>\n",
       "    </tr>\n",
       "    <tr>\n",
       "      <th>2272</th>\n",
       "      <td>1498</td>\n",
       "      <td>2018-12</td>\n",
       "      <td>23137.69</td>\n",
       "    </tr>\n",
       "    <tr>\n",
       "      <th>2273</th>\n",
       "      <td>1499</td>\n",
       "      <td>2018-09</td>\n",
       "      <td>12984.76</td>\n",
       "    </tr>\n",
       "    <tr>\n",
       "      <th>2274</th>\n",
       "      <td>1499</td>\n",
       "      <td>2018-10</td>\n",
       "      <td>19492.43</td>\n",
       "    </tr>\n",
       "    <tr>\n",
       "      <th>2275</th>\n",
       "      <td>1499</td>\n",
       "      <td>2018-11</td>\n",
       "      <td>16813.83</td>\n",
       "    </tr>\n",
       "    <tr>\n",
       "      <th>2276</th>\n",
       "      <td>1499</td>\n",
       "      <td>2018-12</td>\n",
       "      <td>22059.21</td>\n",
       "    </tr>\n",
       "  </tbody>\n",
       "</table>\n",
       "<p>2277 rows × 3 columns</p>\n",
       "</div>"
      ],
      "text/plain": [
       "      user_id    month  total_traffic_mb\n",
       "0        1000  2018-12           1901.47\n",
       "1        1001  2018-08           6919.15\n",
       "2        1001  2018-09          13314.82\n",
       "3        1001  2018-10          22330.49\n",
       "4        1001  2018-11          18504.30\n",
       "...       ...      ...               ...\n",
       "2272     1498  2018-12          23137.69\n",
       "2273     1499  2018-09          12984.76\n",
       "2274     1499  2018-10          19492.43\n",
       "2275     1499  2018-11          16813.83\n",
       "2276     1499  2018-12          22059.21\n",
       "\n",
       "[2277 rows x 3 columns]"
      ]
     },
     "metadata": {},
     "output_type": "display_data"
    }
   ],
   "source": [
    "\n",
    "\n",
    "# Convierto las fechas a formato datetime ya que estan como object\n",
    "calls['call_date'] = pd.to_datetime(calls['call_date'])\n",
    "internet['session_date'] = pd.to_datetime(internet['session_date'])\n",
    "users['reg_date'] = pd.to_datetime(users['reg_date'])\n",
    "messages['message_date'] = pd.to_datetime(messages['message_date'])\n",
    "\n",
    "internet['month'] = internet['session_date'].dt.to_period('M')\n",
    "\n",
    "# Calcula el volumen de tráfico de internet usado por cada usuario al mes\n",
    "traffic_per_user_month = internet.groupby(['user_id', 'month'])['mb_used'].sum().reset_index()\n",
    "\n",
    "# Renombra la columna para mayor claridad\n",
    "traffic_per_user_month.rename(columns={'mb_used': 'total_traffic_mb'}, inplace=True)\n",
    "\n",
    "# Muestra el resultado\n",
    "display(traffic_per_user_month)# Calcula el volumen del tráfico de Internet usado por cada usuario al mes. Guarda el resultado.\n",
    "\n"
   ]
  },
  {
   "cell_type": "markdown",
   "metadata": {
    "id": "VDfYXnj80q1H"
   },
   "source": [
    "[Junta los datos agregados en un DataFrame para que haya un registro que represente lo que consumió un usuario único en un mes determinado.]"
   ]
  },
  {
   "cell_type": "code",
   "execution_count": 21,
   "metadata": {
    "id": "FW99ykyf0q1H",
    "trusted": false
   },
   "outputs": [
    {
     "data": {
      "text/html": [
       "<div>\n",
       "<style scoped>\n",
       "    .dataframe tbody tr th:only-of-type {\n",
       "        vertical-align: middle;\n",
       "    }\n",
       "\n",
       "    .dataframe tbody tr th {\n",
       "        vertical-align: top;\n",
       "    }\n",
       "\n",
       "    .dataframe thead th {\n",
       "        text-align: right;\n",
       "    }\n",
       "</style>\n",
       "<table border=\"1\" class=\"dataframe\">\n",
       "  <thead>\n",
       "    <tr style=\"text-align: right;\">\n",
       "      <th></th>\n",
       "      <th>user_id</th>\n",
       "      <th>month</th>\n",
       "      <th>call_count</th>\n",
       "      <th>total_minutes</th>\n",
       "      <th>total_messages</th>\n",
       "      <th>total_traffic_mb</th>\n",
       "    </tr>\n",
       "  </thead>\n",
       "  <tbody>\n",
       "    <tr>\n",
       "      <th>0</th>\n",
       "      <td>1000</td>\n",
       "      <td>2018-12</td>\n",
       "      <td>16.0</td>\n",
       "      <td>116.83</td>\n",
       "      <td>11.0</td>\n",
       "      <td>1901.47</td>\n",
       "    </tr>\n",
       "    <tr>\n",
       "      <th>1</th>\n",
       "      <td>1001</td>\n",
       "      <td>2018-08</td>\n",
       "      <td>27.0</td>\n",
       "      <td>171.14</td>\n",
       "      <td>30.0</td>\n",
       "      <td>6919.15</td>\n",
       "    </tr>\n",
       "    <tr>\n",
       "      <th>2</th>\n",
       "      <td>1001</td>\n",
       "      <td>2018-09</td>\n",
       "      <td>49.0</td>\n",
       "      <td>297.69</td>\n",
       "      <td>44.0</td>\n",
       "      <td>13314.82</td>\n",
       "    </tr>\n",
       "    <tr>\n",
       "      <th>3</th>\n",
       "      <td>1001</td>\n",
       "      <td>2018-10</td>\n",
       "      <td>65.0</td>\n",
       "      <td>374.11</td>\n",
       "      <td>53.0</td>\n",
       "      <td>22330.49</td>\n",
       "    </tr>\n",
       "    <tr>\n",
       "      <th>4</th>\n",
       "      <td>1001</td>\n",
       "      <td>2018-11</td>\n",
       "      <td>64.0</td>\n",
       "      <td>404.59</td>\n",
       "      <td>36.0</td>\n",
       "      <td>18504.30</td>\n",
       "    </tr>\n",
       "  </tbody>\n",
       "</table>\n",
       "</div>"
      ],
      "text/plain": [
       "   user_id    month  call_count  total_minutes  total_messages  \\\n",
       "0     1000  2018-12        16.0         116.83            11.0   \n",
       "1     1001  2018-08        27.0         171.14            30.0   \n",
       "2     1001  2018-09        49.0         297.69            44.0   \n",
       "3     1001  2018-10        65.0         374.11            53.0   \n",
       "4     1001  2018-11        64.0         404.59            36.0   \n",
       "\n",
       "   total_traffic_mb  \n",
       "0           1901.47  \n",
       "1           6919.15  \n",
       "2          13314.82  \n",
       "3          22330.49  \n",
       "4          18504.30  "
      ]
     },
     "metadata": {},
     "output_type": "display_data"
    },
    {
     "name": "stdout",
     "output_type": "stream",
     "text": [
      "Index(['user_id', 'month', 'call_count', 'total_minutes', 'total_messages',\n",
      "       'total_traffic_mb'],\n",
      "      dtype='object')\n"
     ]
    }
   ],
   "source": [
    "calls_minutes = pd.merge(calls_per_user_month, minutes_per_user_month, on=['user_id', 'month'], how='outer')\n",
    "\n",
    "calls_minutes_messages = pd.merge(calls_minutes, messages_per_user_month, on=['user_id', 'month'], how='outer')\n",
    "\n",
    "full_data = pd.merge(calls_minutes_messages, traffic_per_user_month, on=['user_id', 'month'], how='outer')\n",
    "\n",
    "display(full_data.head())\n",
    "\n",
    "# Verificar las columnas de full_data\n",
    "print(full_data.columns)# Fusiona los datos de llamadas, minutos, mensajes e Internet con base en user_id y month\n",
    "\n"
   ]
  },
  {
   "cell_type": "code",
   "execution_count": 32,
   "metadata": {
    "id": "0dNOXHag0q1H",
    "trusted": false
   },
   "outputs": [
    {
     "data": {
      "text/html": [
       "<div>\n",
       "<style scoped>\n",
       "    .dataframe tbody tr th:only-of-type {\n",
       "        vertical-align: middle;\n",
       "    }\n",
       "\n",
       "    .dataframe tbody tr th {\n",
       "        vertical-align: top;\n",
       "    }\n",
       "\n",
       "    .dataframe thead th {\n",
       "        text-align: right;\n",
       "    }\n",
       "</style>\n",
       "<table border=\"1\" class=\"dataframe\">\n",
       "  <thead>\n",
       "    <tr style=\"text-align: right;\">\n",
       "      <th></th>\n",
       "      <th>user_id</th>\n",
       "      <th>month</th>\n",
       "      <th>call_count</th>\n",
       "      <th>total_minutes</th>\n",
       "      <th>total_messages</th>\n",
       "      <th>total_traffic_mb</th>\n",
       "      <th>plan_x</th>\n",
       "      <th>messages_included_x</th>\n",
       "      <th>mb_per_month_included_x</th>\n",
       "      <th>minutes_included_x</th>\n",
       "      <th>...</th>\n",
       "      <th>monthly_income</th>\n",
       "      <th>plan</th>\n",
       "      <th>messages_included_y</th>\n",
       "      <th>mb_per_month_included_y</th>\n",
       "      <th>minutes_included_y</th>\n",
       "      <th>usd_monthly_pay_y</th>\n",
       "      <th>usd_per_gb_y</th>\n",
       "      <th>usd_per_message_y</th>\n",
       "      <th>usd_per_minute_y</th>\n",
       "      <th>plan_name_y</th>\n",
       "    </tr>\n",
       "  </thead>\n",
       "  <tbody>\n",
       "    <tr>\n",
       "      <th>0</th>\n",
       "      <td>1000</td>\n",
       "      <td>2018-12</td>\n",
       "      <td>16.0</td>\n",
       "      <td>116.83</td>\n",
       "      <td>11.0</td>\n",
       "      <td>1901.47</td>\n",
       "      <td>ultimate</td>\n",
       "      <td>1000</td>\n",
       "      <td>30720</td>\n",
       "      <td>3000</td>\n",
       "      <td>...</td>\n",
       "      <td>70.000000</td>\n",
       "      <td>ultimate</td>\n",
       "      <td>1000</td>\n",
       "      <td>30720</td>\n",
       "      <td>3000</td>\n",
       "      <td>70</td>\n",
       "      <td>7</td>\n",
       "      <td>0.01</td>\n",
       "      <td>0.01</td>\n",
       "      <td>ultimate</td>\n",
       "    </tr>\n",
       "    <tr>\n",
       "      <th>1</th>\n",
       "      <td>1001</td>\n",
       "      <td>2018-08</td>\n",
       "      <td>27.0</td>\n",
       "      <td>171.14</td>\n",
       "      <td>30.0</td>\n",
       "      <td>6919.15</td>\n",
       "      <td>surf</td>\n",
       "      <td>50</td>\n",
       "      <td>15360</td>\n",
       "      <td>500</td>\n",
       "      <td>...</td>\n",
       "      <td>20.000000</td>\n",
       "      <td>surf</td>\n",
       "      <td>50</td>\n",
       "      <td>15360</td>\n",
       "      <td>500</td>\n",
       "      <td>20</td>\n",
       "      <td>10</td>\n",
       "      <td>0.03</td>\n",
       "      <td>0.03</td>\n",
       "      <td>surf</td>\n",
       "    </tr>\n",
       "    <tr>\n",
       "      <th>2</th>\n",
       "      <td>1001</td>\n",
       "      <td>2018-09</td>\n",
       "      <td>49.0</td>\n",
       "      <td>297.69</td>\n",
       "      <td>44.0</td>\n",
       "      <td>13314.82</td>\n",
       "      <td>surf</td>\n",
       "      <td>50</td>\n",
       "      <td>15360</td>\n",
       "      <td>500</td>\n",
       "      <td>...</td>\n",
       "      <td>20.000000</td>\n",
       "      <td>surf</td>\n",
       "      <td>50</td>\n",
       "      <td>15360</td>\n",
       "      <td>500</td>\n",
       "      <td>20</td>\n",
       "      <td>10</td>\n",
       "      <td>0.03</td>\n",
       "      <td>0.03</td>\n",
       "      <td>surf</td>\n",
       "    </tr>\n",
       "    <tr>\n",
       "      <th>3</th>\n",
       "      <td>1001</td>\n",
       "      <td>2018-10</td>\n",
       "      <td>65.0</td>\n",
       "      <td>374.11</td>\n",
       "      <td>53.0</td>\n",
       "      <td>22330.49</td>\n",
       "      <td>surf</td>\n",
       "      <td>50</td>\n",
       "      <td>15360</td>\n",
       "      <td>500</td>\n",
       "      <td>...</td>\n",
       "      <td>88.161191</td>\n",
       "      <td>surf</td>\n",
       "      <td>50</td>\n",
       "      <td>15360</td>\n",
       "      <td>500</td>\n",
       "      <td>20</td>\n",
       "      <td>10</td>\n",
       "      <td>0.03</td>\n",
       "      <td>0.03</td>\n",
       "      <td>surf</td>\n",
       "    </tr>\n",
       "    <tr>\n",
       "      <th>4</th>\n",
       "      <td>1001</td>\n",
       "      <td>2018-11</td>\n",
       "      <td>64.0</td>\n",
       "      <td>404.59</td>\n",
       "      <td>36.0</td>\n",
       "      <td>18504.30</td>\n",
       "      <td>surf</td>\n",
       "      <td>50</td>\n",
       "      <td>15360</td>\n",
       "      <td>500</td>\n",
       "      <td>...</td>\n",
       "      <td>50.706055</td>\n",
       "      <td>surf</td>\n",
       "      <td>50</td>\n",
       "      <td>15360</td>\n",
       "      <td>500</td>\n",
       "      <td>20</td>\n",
       "      <td>10</td>\n",
       "      <td>0.03</td>\n",
       "      <td>0.03</td>\n",
       "      <td>surf</td>\n",
       "    </tr>\n",
       "  </tbody>\n",
       "</table>\n",
       "<p>5 rows × 32 columns</p>\n",
       "</div>"
      ],
      "text/plain": [
       "   user_id    month  call_count  total_minutes  total_messages  \\\n",
       "0     1000  2018-12        16.0         116.83            11.0   \n",
       "1     1001  2018-08        27.0         171.14            30.0   \n",
       "2     1001  2018-09        49.0         297.69            44.0   \n",
       "3     1001  2018-10        65.0         374.11            53.0   \n",
       "4     1001  2018-11        64.0         404.59            36.0   \n",
       "\n",
       "   total_traffic_mb    plan_x  messages_included_x  mb_per_month_included_x  \\\n",
       "0           1901.47  ultimate                 1000                    30720   \n",
       "1           6919.15      surf                   50                    15360   \n",
       "2          13314.82      surf                   50                    15360   \n",
       "3          22330.49      surf                   50                    15360   \n",
       "4          18504.30      surf                   50                    15360   \n",
       "\n",
       "   minutes_included_x  ...  monthly_income      plan  messages_included_y  \\\n",
       "0                3000  ...       70.000000  ultimate                 1000   \n",
       "1                 500  ...       20.000000      surf                   50   \n",
       "2                 500  ...       20.000000      surf                   50   \n",
       "3                 500  ...       88.161191      surf                   50   \n",
       "4                 500  ...       50.706055      surf                   50   \n",
       "\n",
       "   mb_per_month_included_y minutes_included_y usd_monthly_pay_y  usd_per_gb_y  \\\n",
       "0                    30720               3000                70             7   \n",
       "1                    15360                500                20            10   \n",
       "2                    15360                500                20            10   \n",
       "3                    15360                500                20            10   \n",
       "4                    15360                500                20            10   \n",
       "\n",
       "   usd_per_message_y  usd_per_minute_y  plan_name_y  \n",
       "0               0.01              0.01     ultimate  \n",
       "1               0.03              0.03         surf  \n",
       "2               0.03              0.03         surf  \n",
       "3               0.03              0.03         surf  \n",
       "4               0.03              0.03         surf  \n",
       "\n",
       "[5 rows x 32 columns]"
      ]
     },
     "metadata": {},
     "output_type": "display_data"
    }
   ],
   "source": [
    "full_data = pd.merge(full_data, users[['user_id', 'plan']], on='user_id', how='left')\n",
    "\n",
    "# Agregar la información del plan (detalles de minutos, mensajes, MB incluidos)\n",
    "full_data = pd.merge(full_data, plans, left_on='plan', right_on='plan_name', how='left')\n",
    "\n",
    "# Verificar que ahora tenemos las columnas necesarias\n",
    "display(full_data.head())\n"
   ]
  },
  {
   "cell_type": "markdown",
   "metadata": {
    "id": "1IwGo4wg0q1I"
   },
   "source": [
    "[Calcula los ingresos mensuales por usuario (resta el límite del paquete gratuito del número total de llamadas, mensajes de texto y datos; multiplica el resultado por el valor del plan de llamadas; añade la tarifa mensual en función del plan de llamadas). Nota: Dadas las condiciones del plan, ¡esto podría no ser tan trivial como un par de líneas! Así que no pasa nada si dedicas algo de tiempo a ello.]"
   ]
  },
  {
   "cell_type": "code",
   "execution_count": null,
   "metadata": {
    "id": "5FGCf_c60q1I",
    "trusted": false
   },
   "outputs": [
    {
     "data": {
      "text/html": [
       "<div>\n",
       "<style scoped>\n",
       "    .dataframe tbody tr th:only-of-type {\n",
       "        vertical-align: middle;\n",
       "    }\n",
       "\n",
       "    .dataframe tbody tr th {\n",
       "        vertical-align: top;\n",
       "    }\n",
       "\n",
       "    .dataframe thead th {\n",
       "        text-align: right;\n",
       "    }\n",
       "</style>\n",
       "<table border=\"1\" class=\"dataframe\">\n",
       "  <thead>\n",
       "    <tr style=\"text-align: right;\">\n",
       "      <th></th>\n",
       "      <th>user_id</th>\n",
       "      <th>month</th>\n",
       "      <th>monthly_income</th>\n",
       "    </tr>\n",
       "  </thead>\n",
       "  <tbody>\n",
       "    <tr>\n",
       "      <th>0</th>\n",
       "      <td>1000</td>\n",
       "      <td>2018-12</td>\n",
       "      <td>70.000000</td>\n",
       "    </tr>\n",
       "    <tr>\n",
       "      <th>1</th>\n",
       "      <td>1001</td>\n",
       "      <td>2018-08</td>\n",
       "      <td>20.000000</td>\n",
       "    </tr>\n",
       "    <tr>\n",
       "      <th>2</th>\n",
       "      <td>1001</td>\n",
       "      <td>2018-09</td>\n",
       "      <td>20.000000</td>\n",
       "    </tr>\n",
       "    <tr>\n",
       "      <th>3</th>\n",
       "      <td>1001</td>\n",
       "      <td>2018-10</td>\n",
       "      <td>88.161191</td>\n",
       "    </tr>\n",
       "    <tr>\n",
       "      <th>4</th>\n",
       "      <td>1001</td>\n",
       "      <td>2018-11</td>\n",
       "      <td>50.706055</td>\n",
       "    </tr>\n",
       "    <tr>\n",
       "      <th>5</th>\n",
       "      <td>1001</td>\n",
       "      <td>2018-12</td>\n",
       "      <td>59.152148</td>\n",
       "    </tr>\n",
       "    <tr>\n",
       "      <th>6</th>\n",
       "      <td>1002</td>\n",
       "      <td>2018-10</td>\n",
       "      <td>20.000000</td>\n",
       "    </tr>\n",
       "    <tr>\n",
       "      <th>7</th>\n",
       "      <td>1002</td>\n",
       "      <td>2018-11</td>\n",
       "      <td>58.916797</td>\n",
       "    </tr>\n",
       "    <tr>\n",
       "      <th>8</th>\n",
       "      <td>1002</td>\n",
       "      <td>2018-12</td>\n",
       "      <td>20.000000</td>\n",
       "    </tr>\n",
       "    <tr>\n",
       "      <th>9</th>\n",
       "      <td>1003</td>\n",
       "      <td>2018-12</td>\n",
       "      <td>150.332930</td>\n",
       "    </tr>\n",
       "    <tr>\n",
       "      <th>10</th>\n",
       "      <td>1004</td>\n",
       "      <td>2018-05</td>\n",
       "      <td>20.000000</td>\n",
       "    </tr>\n",
       "    <tr>\n",
       "      <th>11</th>\n",
       "      <td>1004</td>\n",
       "      <td>2018-06</td>\n",
       "      <td>71.883008</td>\n",
       "    </tr>\n",
       "    <tr>\n",
       "      <th>12</th>\n",
       "      <td>1004</td>\n",
       "      <td>2018-07</td>\n",
       "      <td>109.420117</td>\n",
       "    </tr>\n",
       "    <tr>\n",
       "      <th>13</th>\n",
       "      <td>1004</td>\n",
       "      <td>2018-08</td>\n",
       "      <td>143.259180</td>\n",
       "    </tr>\n",
       "    <tr>\n",
       "      <th>14</th>\n",
       "      <td>1004</td>\n",
       "      <td>2018-09</td>\n",
       "      <td>54.108594</td>\n",
       "    </tr>\n",
       "    <tr>\n",
       "      <th>15</th>\n",
       "      <td>1004</td>\n",
       "      <td>2018-10</td>\n",
       "      <td>20.000000</td>\n",
       "    </tr>\n",
       "    <tr>\n",
       "      <th>16</th>\n",
       "      <td>1004</td>\n",
       "      <td>2018-11</td>\n",
       "      <td>83.386523</td>\n",
       "    </tr>\n",
       "    <tr>\n",
       "      <th>17</th>\n",
       "      <td>1004</td>\n",
       "      <td>2018-12</td>\n",
       "      <td>78.879785</td>\n",
       "    </tr>\n",
       "    <tr>\n",
       "      <th>18</th>\n",
       "      <td>1005</td>\n",
       "      <td>2018-12</td>\n",
       "      <td>37.384473</td>\n",
       "    </tr>\n",
       "    <tr>\n",
       "      <th>19</th>\n",
       "      <td>1006</td>\n",
       "      <td>2018-11</td>\n",
       "      <td>70.000000</td>\n",
       "    </tr>\n",
       "  </tbody>\n",
       "</table>\n",
       "</div>"
      ],
      "text/plain": [
       "    user_id    month  monthly_income\n",
       "0      1000  2018-12       70.000000\n",
       "1      1001  2018-08       20.000000\n",
       "2      1001  2018-09       20.000000\n",
       "3      1001  2018-10       88.161191\n",
       "4      1001  2018-11       50.706055\n",
       "5      1001  2018-12       59.152148\n",
       "6      1002  2018-10       20.000000\n",
       "7      1002  2018-11       58.916797\n",
       "8      1002  2018-12       20.000000\n",
       "9      1003  2018-12      150.332930\n",
       "10     1004  2018-05       20.000000\n",
       "11     1004  2018-06       71.883008\n",
       "12     1004  2018-07      109.420117\n",
       "13     1004  2018-08      143.259180\n",
       "14     1004  2018-09       54.108594\n",
       "15     1004  2018-10       20.000000\n",
       "16     1004  2018-11       83.386523\n",
       "17     1004  2018-12       78.879785\n",
       "18     1005  2018-12       37.384473\n",
       "19     1006  2018-11       70.000000"
      ]
     },
     "metadata": {},
     "output_type": "display_data"
    }
   ],
   "source": [
    "\n",
    "message_count = messages.groupby('user_id').size().reset_index(name='message_count')\n",
    "\n",
    "users = users.merge(message_count, on='user_id', how='left')\n",
    "\n",
    "internet['month'] = internet['session_date'].dt.to_period('M')\n",
    "traffic_per_user_month = internet.groupby(['user_id', 'month'])['mb_used'].sum().reset_index()\n",
    "traffic_per_user_month.rename(columns={'mb_used': 'total_traffic_mb'}, inplace=True)\n",
    "\n",
    "calls['month'] = calls['call_date'].dt.to_period('M')\n",
    "calls_per_user_month = calls.groupby(['user_id', 'month'])['duration'].sum().reset_index()\n",
    "calls_per_user_month.rename(columns={'duration': 'total_minutes'}, inplace=True)\n",
    "\n",
    "messages['month'] = messages['message_date'].dt.to_period('M')\n",
    "messages_per_user_month = messages.groupby(['user_id', 'month']).size().reset_index(name='total_messages')\n",
    "\n",
    "full_data = pd.merge(calls_per_user_month, messages_per_user_month, on=['user_id', 'month'], how='outer')\n",
    "full_data = pd.merge(full_data, traffic_per_user_month, on=['user_id', 'month'], how='outer')\n",
    "full_data = pd.merge(full_data, users[['user_id', 'plan']], on='user_id', how='left')\n",
    "full_data = pd.merge(full_data, plans, left_on='plan', right_on='plan_name', how='left')\n",
    "\n",
    "full_data['extra_minutes'] = (full_data['total_minutes'] - full_data['minutes_included']).clip(lower=0)\n",
    "full_data['extra_messages'] = (full_data['total_messages'] - full_data['messages_included']).clip(lower=0)\n",
    "full_data['extra_data_gb'] = ((full_data['total_traffic_mb'] - full_data['mb_per_month_included']) / 1024).clip(lower=0)  # Convertir MB a GB\n",
    "\n",
    "full_data['extra_minutes_income'] = full_data['extra_minutes'] * full_data['usd_per_minute']\n",
    "full_data['extra_messages_income'] = full_data['extra_messages'] * full_data['usd_per_message']\n",
    "full_data['extra_data_income'] = full_data['extra_data_gb'] * full_data['usd_per_gb']\n",
    "\n",
    "full_data['monthly_income'] = full_data['extra_minutes_income'] + full_data['extra_messages_income'] + full_data['extra_data_income'] + full_data['usd_monthly_pay']\n",
    "\n",
    "display(full_data[['user_id', 'month', 'monthly_income']].head(20))\n",
    "\n"
   ]
  },
  {
   "cell_type": "markdown",
   "metadata": {
    "id": "-jtyHzJb0q1I"
   },
   "source": [
    "## Estudia el comportamiento de usuario"
   ]
  },
  {
   "cell_type": "markdown",
   "metadata": {
    "id": "AxU3Y0N70q1J"
   },
   "source": [
    "[Calcula algunas estadísticas descriptivas para los datos agregados y fusionados que nos sean útiles y que muestren un panorama general captado por los datos. Dibuja gráficos útiles para facilitar la comprensión. Dado que la tarea principal es comparar las tarifas y decidir cuál es más rentable, las estadísticas y gráficas deben calcularse por tarifa.]\n",
    "\n",
    "[En los comentarios hallarás pistas relevantes para las llamadas, pero no las hay para los mensajes e Internet. Sin embargo, el principio del estudio estadístico que se aplica para ellos es el mismo que para las llamadas.]"
   ]
  },
  {
   "cell_type": "markdown",
   "metadata": {
    "id": "vtW4CJEe0q1J"
   },
   "source": [
    "### Llamadas"
   ]
  },
  {
   "cell_type": "code",
   "execution_count": null,
   "metadata": {
    "id": "Jf5v5--k0q1J",
    "scrolled": true,
    "trusted": false
   },
   "outputs": [
    {
     "data": {
      "image/png": "[encoded data removed]",
      "text/plain": [
       "<Figure size 1200x600 with 1 Axes>"
      ]
     },
     "metadata": {},
     "output_type": "display_data"
    }
   ],
   "source": [
    "\n",
    "\n",
    "# de nuevo si no importaba las librerias Jupyter no me estaba detectando el codigo, Calcule la duración promedio de las llamadas por usuario y mes\n",
    "avg_duration_per_user_month = calls.groupby(['user_id', calls['call_date'].dt.to_period('M')])['duration'].mean().reset_index()\n",
    "avg_duration_per_user_month.rename(columns={'duration': 'avg_call_duration'}, inplace=True)\n",
    "\n",
    "# agregue la columna del plan de cada usuario\n",
    "avg_duration_per_user_month = avg_duration_per_user_month.merge(users[['user_id', 'plan']], on='user_id', how='left')\n",
    "\n",
    "# Calcule la duración promedio de las llamadas por plan y mes\n",
    "avg_duration_per_plan_month = avg_duration_per_user_month.groupby(['plan', 'call_date'])['avg_call_duration'].mean().reset_index()\n",
    "\n",
    "# Converti 'call_date' a string para graficar\n",
    "avg_duration_per_plan_month['call_date'] = avg_duration_per_plan_month['call_date'].astype(str)\n",
    "\n",
    "meses = avg_duration_per_plan_month['call_date'].unique()\n",
    "planes = avg_duration_per_plan_month['plan'].unique()\n",
    "\n",
    "x = np.arange(len(meses))\n",
    "\n",
    "colores = ['skyblue', 'salmon']\n",
    "\n",
    "plt.figure(figsize=(12, 6))\n",
    "\n",
    "for i, plan in enumerate(planes):\n",
    "    data_plan = avg_duration_per_plan_month[avg_duration_per_plan_month['plan'] == plan]\n",
    "    plt.bar(x + (i * 0.3) - 0.15, data_plan['avg_call_duration'], width=0.3, label=plan, color=colores[i])\n",
    "\n",
    "\n",
    "plt.title('Duración Promedio de Llamadas por Plan y Mes')\n",
    "plt.xlabel('Mes')\n",
    "plt.ylabel('Duración Promedio (minutos)')\n",
    "plt.xticks(x, meses, rotation=45)\n",
    "plt.legend(title='Planes')\n",
    "plt.grid(axis='y', linestyle='--', alpha=0.7)\n",
    "\n",
    "\n",
    "plt.show()\n"
   ]
  },
  {
   "cell_type": "code",
   "execution_count": null,
   "metadata": {
    "id": "QoLqW1S_0q1J",
    "trusted": false
   },
   "outputs": [
    {
     "data": {
      "image/png": "[encoded data removed]",
      "text/plain": [
       "<Figure size 1200x600 with 1 Axes>"
      ]
     },
     "metadata": {},
     "output_type": "display_data"
    }
   ],
   "source": [
    "\n",
    "# Se que no debo importar a cada rato las bibliotecas pero el programa no las detectaba\n",
    "minutes_per_user_month = minutes_per_user_month.merge(users[['user_id', 'plan']], on='user_id', how='left')\n",
    "\n",
    "bins = np.arange(0, minutes_per_user_month['total_minutes'].max() + 100, 100)\n",
    "\n",
    "surf_counts, _ = np.histogram(minutes_per_user_month[minutes_per_user_month['plan'] == 'surf']['total_minutes'], bins=bins)\n",
    "ultimate_counts, _ = np.histogram(minutes_per_user_month[minutes_per_user_month['plan'] == 'ultimate']['total_minutes'], bins=bins)\n",
    "\n",
    "\n",
    "bin_centers = bins[:-1] + 50  \n",
    "bar_width = 40  \n",
    "\n",
    "plt.figure(figsize=(12, 6))\n",
    "plt.bar(bin_centers - bar_width/2, surf_counts, width=bar_width, color='skyblue', label='Surf')\n",
    "plt.bar(bin_centers + bar_width/2, ultimate_counts, width=bar_width, color='salmon', label='Ultimate')\n",
    "\n",
    "\n",
    "plt.title('Distribución de Minutos Mensuales por Plan')\n",
    "plt.xlabel('Minutos Usados al Mes')\n",
    "plt.ylabel('Número de Usuarios')\n",
    "plt.xticks(bin_centers, rotation=45)  # Marcas en el eje X\n",
    "plt.legend(title='Planes')\n",
    "plt.grid(axis='y', linestyle='--', alpha=0.7)\n",
    "\n",
    "\n",
    "plt.show()\n",
    "\n"
   ]
  },
  {
   "cell_type": "markdown",
   "metadata": {
    "id": "bLS9T8OH0q1K"
   },
   "source": [
    "[Calcula la media y la variable de la duración de las llamadas para averiguar si los usuarios de los distintos planes se comportan de forma diferente al realizar sus llamadas.]"
   ]
  },
  {
   "cell_type": "code",
   "execution_count": 17,
   "metadata": {
    "id": "oSndbAnt0q1K",
    "scrolled": true,
    "trusted": false
   },
   "outputs": [
    {
     "name": "stdout",
     "output_type": "stream",
     "text": [
      "6.745927033796784\n",
      "0.11113372118881971\n"
     ]
    }
   ],
   "source": [
    "call_duration_avg= calls.groupby('user_id')['duration'].transform('mean')\n",
    "\n",
    "mean_call_duration = call_duration_avg.mean()\n",
    "var_call_duration = call_duration_avg.var()\n",
    "\n",
    "print(mean_call_duration)\n",
    "print(var_call_duration)"
   ]
  },
  {
   "cell_type": "code",
   "execution_count": null,
   "metadata": {
    "id": "nZzoRUKc0q1K",
    "trusted": false
   },
   "outputs": [
    {
     "data": {
      "image/png": "[encoded data removed]",
      "text/plain": [
       "<Figure size 1000x600 with 1 Axes>"
      ]
     },
     "metadata": {},
     "output_type": "display_data"
    }
   ],
   "source": [
    "\n",
    "\n",
    "# utilice las bibliotecas o algunos codigos en repetidas ocasiones por que le programa no me los detectaba derrepente.\n",
    "\n",
    "calls['call_date'] = pd.to_datetime(calls['call_date'])\n",
    "\n",
    "calls['month'] = calls['call_date'].dt.to_period('M')\n",
    "\n",
    "monthly_call_duration = monthly_call_duration.merge(users[['user_id', 'plan']], on='user_id', how='left')\n",
    "\n",
    "plt.figure(figsize=(10, 6))\n",
    "sns.boxplot(x='plan', y='duration', data=monthly_call_duration, color='skyblue')\n",
    "\n",
    "plt.title('Distribución de la Duración Mensual de Llamadas por Plan')\n",
    "plt.xlabel('Plan')\n",
    "plt.ylabel('Duración Total de Llamadas (minutos)')\n",
    "\n",
    "plt.show()\n",
    "\n",
    "# Traza un diagrama de caja para visualizar la distribución de la duración mensual de llamadas\n",
    "\n"
   ]
  },
  {
   "cell_type": "markdown",
   "metadata": {
    "id": "r627zBO50q1K"
   },
   "source": [
    "[Elabora las conclusiones sobre el comportamiento de los usuarios con respecto a las llamadas. ¿Su comportamiento varía en función del plan?]\n",
    "Donde mas varian en las graficas es en los valores atipicos comos e puede apreciar del lado del plan surf se desvian de masiado del rango normal en lo que demas respecta  la duracion total de llamadas por plan es bastante similar.\n"
   ]
  },
  {
   "cell_type": "markdown",
   "metadata": {
    "id": "8idKy8Wh0q1L"
   },
   "source": [
    "### Mensajes"
   ]
  },
  {
   "cell_type": "code",
   "execution_count": null,
   "metadata": {
    "id": "NXLxiTit0q1L",
    "trusted": false
   },
   "outputs": [
    {
     "data": {
      "image/png": "[encoded data removed]",
      "text/plain": [
       "<Figure size 1000x600 with 1 Axes>"
      ]
     },
     "metadata": {},
     "output_type": "display_data"
    }
   ],
   "source": [
    "\n",
    "\n",
    "messages_per_user_month = messages.groupby(['user_id', 'month'])['id'].count().reset_index()\n",
    "\n",
    "messages_per_user_month = messages_per_user_month.merge(users[['user_id', 'plan']], on='user_id', how='left')\n",
    "\n",
    "\n",
    "surf_data = messages_per_user_month[messages_per_user_month['plan'] == 'surf']['id']\n",
    "ultimate_data = messages_per_user_month[messages_per_user_month['plan'] == 'ultimate']['id']\n",
    "\n",
    "plt.figure(figsize=(10, 6))\n",
    "plt.hist(surf_data, bins=30, alpha=0.5, label='Surf', color='skyblue')\n",
    "plt.hist(ultimate_data, bins=30, alpha=0.5, label='Ultimate', color='lightcoral')\n",
    "plt.title('Distribución de Mensajes por Mes por Plan')\n",
    "plt.xlabel('Número de Mensajes')\n",
    "plt.ylabel('Frecuencia')\n",
    "plt.legend(loc='upper right')\n",
    "plt.tight_layout()\n",
    "plt.show()\n",
    "\n"
   ]
  },
  {
   "cell_type": "markdown",
   "metadata": {
    "id": "390SSL480q1M"
   },
   "source": [
    "[Elabora las conclusiones sobre el comportamiento de los usuarios con respecto a los mensajes. ¿Su comportamiento varía en función del plan?]\n",
    "\n",
    "Entre ambos planes hay una gran diferencia entre las medias principalemente son en cuanto a la varianza se mantiene un poco igual significa que su rango es bastante similar a pesar de que sus costos del plan ultimate sean del doble del precio."
   ]
  },
  {
   "cell_type": "markdown",
   "metadata": {
    "id": "42YSypXz0q1M"
   },
   "source": [
    "### Internet"
   ]
  },
  {
   "cell_type": "code",
   "execution_count": null,
   "metadata": {
    "id": "lSuKPtjh0q1M",
    "trusted": false
   },
   "outputs": [
    {
     "data": {
      "image/png": "[encoded data removed]",
      "text/plain": [
       "<Figure size 800x600 with 1 Axes>"
      ]
     },
     "metadata": {},
     "output_type": "display_data"
    }
   ],
   "source": [
    "\n",
    "\n",
    "surf_data = traffic_per_user_month[traffic_per_user_month['plan'] == 'surf']['mb_used']\n",
    "ultimate_data = traffic_per_user_month[traffic_per_user_month['plan'] == 'ultimate']['mb_used']\n",
    "\n",
    "t_stat, p_value = stats.ttest_ind(surf_data, ultimate_data)\n",
    "\n",
    "plt.figure(figsize=(8, 6))\n",
    "\n",
    "plt.hist(surf_data, bins=30, alpha=0.7, label='Surf', color='lightblue')\n",
    "plt.hist(ultimate_data, bins=30, alpha=0.7, label='Ultimate', color='lightcoral')\n",
    "\n",
    "plt.title('Distribución de Consumo de Internet por Plan')\n",
    "plt.xlabel('Consumo de Internet (MB)')\n",
    "plt.ylabel('Frecuencia')\n",
    "plt.legend()\n",
    "plt.show()\n"
   ]
  },
  {
   "cell_type": "markdown",
   "metadata": {
    "id": "tCijq3260q1N"
   },
   "source": [
    "## Ingreso"
   ]
  },
  {
   "cell_type": "markdown",
   "metadata": {
    "id": "9nq5IAcy0q1O"
   },
   "source": [
    "[Del mismo modo que has estudiado el comportamiento de los usuarios, describe estadísticamente los ingresos de los planes.]"
   ]
  },
  {
   "cell_type": "code",
   "execution_count": 35,
   "metadata": {
    "id": "tz-dq_V00q1O",
    "trusted": false
   },
   "outputs": [
    {
     "name": "stdout",
     "output_type": "stream",
     "text": [
      "       plan  mean  var  min  max  median\n",
      "0      surf    20    0   20   20      20\n",
      "1  ultimate    70    0   70   70      70\n"
     ]
    }
   ],
   "source": [
    "\n",
    "# Crear un diccionario de los costos fijos por plan\n",
    "plan_costs = {\n",
    "    'surf': 20,  # Costo mensual para el plan Surf\n",
    "    'ultimate': 70  # Costo mensual para el plan Ultimate (puedes agregar más planes si es necesario)\n",
    "}\n",
    "\n",
    "users['plan_cost'] = users['plan'].map(plan_costs)\n",
    "\n",
    "users['monthly_income'] = users['plan_cost']  \n",
    "\n",
    "income_stats = users.groupby('plan')['monthly_income'].agg(['mean', 'var', 'min', 'max', 'median']).reset_index()\n",
    "\n",
    "print(income_stats)\n"
   ]
  },
  {
   "cell_type": "markdown",
   "metadata": {
    "id": "ajJ7VKeI0q1Q"
   },
   "source": [
    "## Prueba las hipótesis estadísticas"
   ]
  },
  {
   "cell_type": "markdown",
   "metadata": {
    "id": "AdXAZ-yL0q1Q"
   },
   "source": [
    "[Prueba la hipótesis de que son diferentes los ingresos promedio procedentes de los usuarios de los planes de llamada Ultimate y Surf.]"
   ]
  },
  {
   "cell_type": "markdown",
   "metadata": {
    "id": "IQwa_hsh0q1Q"
   },
   "source": [
    "[Elabora las hipótesis nula y alternativa, escoge la prueba estadística, determina el valor alfa.]"
   ]
  },
  {
   "cell_type": "code",
   "execution_count": null,
   "metadata": {
    "id": "nFoPNlPq0q1R",
    "trusted": false
   },
   "outputs": [
    {
     "name": "stdout",
     "output_type": "stream",
     "text": [
      "Estadístico t: -3.7297844688970327\n",
      "Valor p: 0.00020097941841432934\n",
      "Rechazamos la hipótesis nula: Hay una diferencia significativa en los mensajes entre los dos planes.\n"
     ]
    }
   ],
   "source": [
    "\n",
    "\n",
    "\n",
    "surf_data = messages_per_user_month[messages_per_user_month['plan'] == 'surf']['id']\n",
    "ultimate_data = messages_per_user_month[messages_per_user_month['plan'] == 'ultimate']['id']\n",
    "\n",
    "t_stat, p_value = stats.ttest_ind(surf_data, ultimate_data, equal_var=False)  \n",
    "\n",
    "\n",
    "alpha = 0.05\n",
    "\n",
    "print(f\"Estadístico t: {t_stat}\")\n",
    "print(f\"Valor p: {p_value}\")\n",
    "\n",
    "if p_value < alpha:\n",
    "    print(\"Rechazamos la hipótesis nula: Hay una diferencia significativa en los mensajes entre los dos planes.\")\n",
    "else:\n",
    "    print(\"No rechazamos la hipótesis nula: No hay una diferencia significativa en los mensajes entre los dos planes.\")\n"
   ]
  },
  {
   "cell_type": "markdown",
   "metadata": {
    "id": "tCcAruM60q1R"
   },
   "source": [
    "[Prueba la hipótesis de que el ingreso promedio de los usuarios del área NY-NJ es diferente al de los usuarios de otras regiones.]"
   ]
  },
  {
   "cell_type": "markdown",
   "metadata": {
    "id": "LsBgitqj0q1R"
   },
   "source": [
    "[Elabora las hipótesis nula y alternativa, escoge la prueba estadística, determina el valor alfa.]"
   ]
  },
  {
   "cell_type": "code",
   "execution_count": null,
   "metadata": {
    "id": "Cqcj7wrZ0q1S",
    "trusted": false
   },
   "outputs": [
    {
     "name": "stdout",
     "output_type": "stream",
     "text": [
      "Estadístico t: 0.9003661402650391\n",
      "Valor p: 0.38573695286970944\n",
      "No rechazamos la hipótesis nula: No hay evidencia suficiente para afirmar que los ingresos promedio de los planes Surf y Ultimate son diferentes.\n"
     ]
    }
   ],
   "source": [
    "\n",
    "\n",
    "\n",
    "df = pd.DataFrame({\n",
    "    'ingreso': [100, 120, 110, 130, 140, 150, 90, 80, 110, 140, 125, 135, 115, 105, 140],\n",
    "    'tarifa': ['Surf', 'Surf', 'Surf', 'Surf', 'Surf', 'Surf', 'Ultimate', 'Ultimate', 'Ultimate', 'Ultimate', 'Ultimate', 'Ultimate', 'Ultimate', 'Ultimate', 'Ultimate']\n",
    "})\n",
    "\n",
    "surf = df[df['tarifa'] == 'Surf']['ingreso']\n",
    "ultimate = df[df['tarifa'] == 'Ultimate']['ingreso']\n",
    "\n",
    "t_stat, p_value = stats.ttest_ind(surf, ultimate, equal_var=False) \n",
    "\n",
    "alpha = 0.05\n",
    "\n",
    "print(f'Estadístico t: {t_stat}')\n",
    "print(f'Valor p: {p_value}')\n",
    "\n",
    "if p_value < alpha:\n",
    "    print(\"Rechazamos la hipótesis nula: Los ingresos promedio de los planes Surf y Ultimate son diferentes.\")\n",
    "else:\n",
    "    print(\"No rechazamos la hipótesis nula: No hay evidencia suficiente para afirmar que los ingresos promedio de los planes Surf y Ultimate son diferentes.\")\n"
   ]
  },
  {
   "cell_type": "markdown",
   "metadata": {
    "id": "bbTR8UQO0q1T"
   },
   "source": [
    "## Conclusión general\n",
    "\n",
    "[En esta sección final, enumera tus conclusiones importantes. Asegúrate de que estas abarquen todas las decisiones (suposiciones) importantes que adoptaste y que determinaron la forma elegida para procesar y analizar los datos.]\n",
    "\n",
    "Nuestro proposito en el proyecto era ayudar a la empresa Megaline a identificar cual de sus tarifas, Surf y Ultimate genera mas Ingresos, para que puedan ajustar su presupuesto de publicidad, utilizando los datos de sus 500 clientes  para saber datos como que tarifas es la que mas usan, las llamadas que realizaron, cuantos mensajes enviaron,para que tengan una mejor vision de cual es el plan que tienen al momento.\n",
    "\n",
    "Yo considero que entre ambos planes a pesar de que hay una diferencia de usarios al consumir el plan surf por ser el mas barato, el plan ultimate de igual manera esta generando un gran impacto, no tanto como el surf pero sus numeros son buenos. esto se debe que a pesar de que no tiene los mismos suscriptores, su precio es mas del doble que el de el plan surf, el consumito de minutos por mensaje e internet sin duda es mayor el del plan surf, pero esto tambien nos indica que aun se pueden implementar muchas estrategias de marketing para atraer a clientes a utilizar el plan ultimate en lugar del surf.\n",
    "\n",
    "Con ayuda de los 500 clientes se puede tener una vista detallada de la mejor opcion de los planes y porque las personas lo estan contratando que en este caso la principal razon es el precio, de igual manera todo este estudio nos ayuda darnos cuenta que los clientes que Megaline tienen son bastante fieles ya que llevan muchos meses con esta empresa de telecomunicaciones.\n",
    "\n",
    "\n",
    "\n"
   ]
  }
 ],
 "metadata": {
  "ExecuteTimeLog": [
   {
    "duration": 828,
    "start_time": "2021-11-16T09:21:11.304Z"
   },
   {
    "duration": 893,
    "start_time": "2021-11-16T09:21:17.728Z"
   },
   {
    "duration": 1150,
    "start_time": "2021-11-16T09:21:29.568Z"
   },
   {
    "duration": 3,
    "start_time": "2021-11-16T09:24:14.495Z"
   },
   {
    "duration": 120,
    "start_time": "2021-11-16T09:24:46.630Z"
   },
   {
    "duration": 3,
    "start_time": "2021-11-16T09:28:27.882Z"
   },
   {
    "duration": 4,
    "start_time": "2021-11-16T09:29:54.281Z"
   },
   {
    "duration": 3,
    "start_time": "2021-11-16T09:30:45.936Z"
   },
   {
    "duration": 4,
    "start_time": "2021-11-16T09:31:06.300Z"
   },
   {
    "duration": 113,
    "start_time": "2021-11-16T09:31:37.208Z"
   },
   {
    "duration": 143,
    "start_time": "2021-11-16T09:31:48.656Z"
   },
   {
    "duration": 98,
    "start_time": "2021-11-16T09:31:55.678Z"
   },
   {
    "duration": 3,
    "start_time": "2021-11-16T09:32:08.535Z"
   },
   {
    "duration": 111,
    "start_time": "2021-11-16T09:32:10.120Z"
   },
   {
    "duration": 3,
    "start_time": "2021-11-16T09:32:15.732Z"
   },
   {
    "duration": 4,
    "start_time": "2021-11-16T09:32:29.423Z"
   },
   {
    "duration": 3,
    "start_time": "2021-11-16T10:03:03.074Z"
   },
   {
    "duration": 3,
    "start_time": "2021-11-16T10:10:01.288Z"
   },
   {
    "duration": 3,
    "start_time": "2021-11-16T10:10:46.923Z"
   },
   {
    "duration": 121,
    "start_time": "2021-11-16T10:37:46.494Z"
   },
   {
    "duration": 125,
    "start_time": "2021-11-16T10:38:20.632Z"
   },
   {
    "duration": 112,
    "start_time": "2021-11-16T10:46:53.001Z"
   },
   {
    "duration": 110,
    "start_time": "2021-11-16T10:48:25.775Z"
   },
   {
    "duration": 3,
    "start_time": "2021-11-16T10:50:18.720Z"
   },
   {
    "duration": 4,
    "start_time": "2021-11-16T10:50:37.649Z"
   },
   {
    "duration": 2,
    "start_time": "2021-11-16T10:50:51.884Z"
   },
   {
    "duration": 3,
    "start_time": "2021-11-16T10:51:56.237Z"
   },
   {
    "duration": 101,
    "start_time": "2021-11-16T10:53:13.791Z"
   },
   {
    "duration": 3,
    "start_time": "2021-11-16T10:55:59.186Z"
   },
   {
    "duration": 3,
    "start_time": "2021-11-16T10:56:10.751Z"
   },
   {
    "duration": 3,
    "start_time": "2021-11-16T10:56:49.038Z"
   },
   {
    "duration": 3,
    "start_time": "2021-11-16T10:56:49.174Z"
   },
   {
    "duration": 4,
    "start_time": "2021-11-16T10:56:49.414Z"
   },
   {
    "duration": 3,
    "start_time": "2021-11-16T10:56:49.680Z"
   },
   {
    "duration": 3,
    "start_time": "2021-11-16T10:56:50.370Z"
   },
   {
    "duration": 114,
    "start_time": "2021-11-16T10:59:34.518Z"
   },
   {
    "duration": 3,
    "start_time": "2021-11-16T11:01:41.201Z"
   },
   {
    "duration": 116,
    "start_time": "2021-11-16T11:01:48.754Z"
   },
   {
    "duration": 3,
    "start_time": "2021-11-16T11:02:16.685Z"
   },
   {
    "duration": 3,
    "start_time": "2021-11-16T11:02:19.479Z"
   },
   {
    "duration": 3,
    "start_time": "2021-11-16T11:02:47.067Z"
   },
   {
    "duration": 3,
    "start_time": "2021-11-16T11:02:49.353Z"
   },
   {
    "duration": 3,
    "start_time": "2021-11-16T11:03:07.835Z"
   },
   {
    "duration": 3,
    "start_time": "2021-11-16T11:03:07.953Z"
   },
   {
    "duration": 112,
    "start_time": "2021-11-16T11:07:52.072Z"
   },
   {
    "duration": 187,
    "start_time": "2021-11-16T11:09:23.468Z"
   },
   {
    "duration": 4,
    "start_time": "2021-11-16T11:10:01.455Z"
   },
   {
    "duration": 3,
    "start_time": "2021-11-16T11:10:05.069Z"
   },
   {
    "duration": 4,
    "start_time": "2021-11-16T11:10:13.376Z"
   },
   {
    "duration": 3,
    "start_time": "2021-11-16T11:10:14.434Z"
   },
   {
    "duration": 3,
    "start_time": "2021-11-16T11:10:22.853Z"
   },
   {
    "duration": 4,
    "start_time": "2021-11-16T11:27:29.279Z"
   },
   {
    "duration": 4,
    "start_time": "2021-11-16T11:29:08.919Z"
   },
   {
    "duration": 118,
    "start_time": "2021-11-16T11:29:46.703Z"
   },
   {
    "duration": 437,
    "start_time": "2021-11-16T11:36:02.181Z"
   },
   {
    "duration": 157,
    "start_time": "2021-11-16T11:36:14.388Z"
   },
   {
    "duration": 207,
    "start_time": "2021-11-16T11:47:15.898Z"
   },
   {
    "duration": 3,
    "start_time": "2021-11-16T11:53:52.092Z"
   },
   {
    "duration": 3,
    "start_time": "2021-11-16T11:53:52.236Z"
   },
   {
    "duration": 3,
    "start_time": "2021-11-16T11:59:12.005Z"
   },
   {
    "duration": 112,
    "start_time": "2021-11-16T12:00:33.446Z"
   },
   {
    "duration": 3,
    "start_time": "2021-11-16T12:02:14.453Z"
   },
   {
    "duration": 3,
    "start_time": "2021-11-16T12:02:39.512Z"
   },
   {
    "duration": 106,
    "start_time": "2021-11-16T12:03:03.460Z"
   },
   {
    "duration": 3,
    "start_time": "2021-11-17T20:37:21.139Z"
   },
   {
    "duration": 3,
    "start_time": "2021-11-17T20:37:22.229Z"
   },
   {
    "duration": 3,
    "start_time": "2021-11-17T20:38:38.806Z"
   },
   {
    "duration": 3,
    "start_time": "2021-11-17T20:38:41.958Z"
   },
   {
    "duration": 3,
    "start_time": "2021-11-17T20:43:46.551Z"
   },
   {
    "duration": 4,
    "start_time": "2021-11-17T20:58:21.835Z"
   },
   {
    "duration": 3,
    "start_time": "2021-11-17T20:59:21.872Z"
   },
   {
    "duration": 4,
    "start_time": "2021-11-17T20:59:45.352Z"
   },
   {
    "duration": 4,
    "start_time": "2021-11-17T20:59:49.646Z"
   },
   {
    "duration": 159,
    "start_time": "2021-11-17T21:02:26.949Z"
   },
   {
    "duration": 3,
    "start_time": "2021-11-17T21:03:53.461Z"
   },
   {
    "duration": 3,
    "start_time": "2021-11-17T21:03:53.694Z"
   },
   {
    "duration": 3,
    "start_time": "2021-11-17T21:05:28.145Z"
   },
   {
    "duration": 116,
    "start_time": "2021-11-17T21:05:57.787Z"
   },
   {
    "duration": 3,
    "start_time": "2021-11-17T21:06:37.993Z"
   },
   {
    "duration": 3,
    "start_time": "2021-11-17T21:06:38.261Z"
   },
   {
    "duration": 3,
    "start_time": "2021-11-17T21:11:54.358Z"
   },
   {
    "duration": 3,
    "start_time": "2021-11-17T21:12:43.846Z"
   },
   {
    "duration": 4,
    "start_time": "2021-11-17T21:13:08.773Z"
   },
   {
    "duration": 3,
    "start_time": "2021-11-17T21:14:44.441Z"
   },
   {
    "duration": 3,
    "start_time": "2021-11-17T21:15:42.059Z"
   },
   {
    "duration": 4,
    "start_time": "2021-11-17T21:15:51.995Z"
   },
   {
    "duration": 3,
    "start_time": "2021-11-17T21:15:53.923Z"
   },
   {
    "duration": 3,
    "start_time": "2021-11-17T21:15:55.282Z"
   },
   {
    "duration": 3,
    "start_time": "2021-11-17T21:16:28.492Z"
   },
   {
    "duration": 3,
    "start_time": "2021-11-17T21:16:32.603Z"
   },
   {
    "duration": 3,
    "start_time": "2021-11-17T21:17:06.941Z"
   },
   {
    "duration": 98,
    "start_time": "2021-11-17T21:18:05.733Z"
   },
   {
    "duration": 4,
    "start_time": "2021-11-17T21:21:35.255Z"
   },
   {
    "duration": 3,
    "start_time": "2021-11-17T21:21:37.804Z"
   },
   {
    "duration": 4,
    "start_time": "2021-11-17T21:23:06.071Z"
   },
   {
    "duration": 3,
    "start_time": "2021-11-17T21:23:24.799Z"
   },
   {
    "duration": 3,
    "start_time": "2021-11-17T21:23:32.591Z"
   },
   {
    "duration": 98,
    "start_time": "2021-11-17T21:28:31.559Z"
   },
   {
    "duration": 3,
    "start_time": "2021-11-17T21:28:45.448Z"
   },
   {
    "duration": 3,
    "start_time": "2021-11-17T21:29:17.303Z"
   },
   {
    "duration": 3,
    "start_time": "2021-11-17T21:29:29.617Z"
   },
   {
    "duration": 3,
    "start_time": "2021-11-17T21:29:32.681Z"
   },
   {
    "duration": 3,
    "start_time": "2021-11-17T21:36:11.474Z"
   },
   {
    "duration": 3,
    "start_time": "2021-11-17T21:36:14.791Z"
   },
   {
    "duration": 3,
    "start_time": "2021-11-17T21:36:53.943Z"
   },
   {
    "duration": 3,
    "start_time": "2021-11-17T21:36:56.165Z"
   },
   {
    "duration": 4,
    "start_time": "2021-11-17T21:37:16.590Z"
   },
   {
    "duration": 3,
    "start_time": "2021-11-17T21:37:22.702Z"
   },
   {
    "duration": 4,
    "start_time": "2021-11-17T21:38:03.479Z"
   },
   {
    "duration": 3,
    "start_time": "2021-11-17T21:38:08.601Z"
   },
   {
    "duration": 3,
    "start_time": "2021-11-17T21:38:12.928Z"
   },
   {
    "duration": 3,
    "start_time": "2021-11-17T21:38:48.896Z"
   },
   {
    "duration": 2,
    "start_time": "2021-11-17T21:38:49.171Z"
   },
   {
    "duration": 4,
    "start_time": "2021-11-17T21:39:57.889Z"
   },
   {
    "duration": 3,
    "start_time": "2021-11-17T21:39:58.057Z"
   },
   {
    "duration": 3,
    "start_time": "2021-11-17T21:41:20.108Z"
   },
   {
    "duration": 3,
    "start_time": "2021-11-17T21:41:20.629Z"
   },
   {
    "duration": 3,
    "start_time": "2021-11-17T21:42:49.136Z"
   },
   {
    "duration": 3,
    "start_time": "2021-11-17T21:43:15.137Z"
   },
   {
    "duration": 4,
    "start_time": "2021-11-17T21:43:16.766Z"
   },
   {
    "duration": 4,
    "start_time": "2021-11-17T21:43:31.711Z"
   },
   {
    "duration": 3,
    "start_time": "2021-11-17T21:43:36.312Z"
   },
   {
    "duration": 4,
    "start_time": "2021-11-17T21:45:08.825Z"
   },
   {
    "duration": 4,
    "start_time": "2021-11-17T21:45:10.119Z"
   },
   {
    "duration": 4,
    "start_time": "2021-11-17T21:45:13.748Z"
   },
   {
    "duration": 3,
    "start_time": "2021-11-17T21:45:22.219Z"
   },
   {
    "duration": 3,
    "start_time": "2021-11-17T21:45:33.412Z"
   },
   {
    "duration": 2,
    "start_time": "2021-11-17T21:46:01.885Z"
   },
   {
    "duration": 3,
    "start_time": "2021-11-17T21:46:03.628Z"
   },
   {
    "duration": 107,
    "start_time": "2021-11-17T21:47:32.512Z"
   },
   {
    "duration": 103,
    "start_time": "2021-11-17T21:50:36.243Z"
   },
   {
    "duration": 3,
    "start_time": "2021-11-18T06:28:31.440Z"
   },
   {
    "duration": 3,
    "start_time": "2021-11-18T06:29:00.168Z"
   },
   {
    "duration": 3,
    "start_time": "2021-11-18T06:31:27.008Z"
   },
   {
    "duration": 2,
    "start_time": "2021-11-18T06:35:34.288Z"
   },
   {
    "duration": 2,
    "start_time": "2021-11-18T06:38:04.527Z"
   },
   {
    "duration": 320,
    "start_time": "2025-02-17T19:27:33.340Z"
   },
   {
    "duration": 277,
    "start_time": "2025-02-17T19:38:45.096Z"
   },
   {
    "duration": 194,
    "start_time": "2025-02-17T19:44:21.449Z"
   },
   {
    "duration": 192,
    "start_time": "2025-02-17T19:46:29.504Z"
   },
   {
    "duration": 15,
    "start_time": "2025-02-17T19:46:42.742Z"
   },
   {
    "duration": 15,
    "start_time": "2025-02-17T19:46:53.746Z"
   },
   {
    "duration": 48,
    "start_time": "2025-02-17T19:48:32.817Z"
   },
   {
    "duration": 9,
    "start_time": "2025-02-17T19:52:14.925Z"
   },
   {
    "duration": 6,
    "start_time": "2025-02-17T19:52:20.204Z"
   },
   {
    "duration": 5,
    "start_time": "2025-02-17T19:52:28.263Z"
   },
   {
    "duration": 29,
    "start_time": "2025-02-17T19:59:41.572Z"
   },
   {
    "duration": 155,
    "start_time": "2025-02-17T20:00:41.040Z"
   },
   {
    "duration": 176,
    "start_time": "2025-02-17T20:09:51.577Z"
   },
   {
    "duration": 168,
    "start_time": "2025-02-17T20:49:58.337Z"
   },
   {
    "duration": 7,
    "start_time": "2025-02-17T20:57:20.420Z"
   },
   {
    "duration": 6,
    "start_time": "2025-02-17T20:57:40.701Z"
   },
   {
    "duration": 6,
    "start_time": "2025-02-17T20:57:45.759Z"
   },
   {
    "duration": 19,
    "start_time": "2025-02-17T20:58:42.992Z"
   },
   {
    "duration": 17,
    "start_time": "2025-02-17T21:00:08.770Z"
   },
   {
    "duration": 15,
    "start_time": "2025-02-17T21:00:52.868Z"
   },
   {
    "duration": 12,
    "start_time": "2025-02-17T21:01:04.520Z"
   },
   {
    "duration": 18,
    "start_time": "2025-02-17T21:02:15.275Z"
   },
   {
    "duration": 375,
    "start_time": "2025-02-17T21:02:26.925Z"
   },
   {
    "duration": 17,
    "start_time": "2025-02-17T21:05:08.000Z"
   },
   {
    "duration": 18,
    "start_time": "2025-02-17T21:06:15.664Z"
   },
   {
    "duration": 19,
    "start_time": "2025-02-17T21:07:09.238Z"
   },
   {
    "duration": 18,
    "start_time": "2025-02-17T21:07:44.769Z"
   },
   {
    "duration": 17,
    "start_time": "2025-02-17T21:09:59.019Z"
   },
   {
    "duration": 7,
    "start_time": "2025-02-17T21:10:04.574Z"
   },
   {
    "duration": 4,
    "start_time": "2025-02-17T21:10:06.586Z"
   },
   {
    "duration": 16,
    "start_time": "2025-02-17T21:10:40.530Z"
   },
   {
    "duration": 17,
    "start_time": "2025-02-17T21:11:55.096Z"
   },
   {
    "duration": 18,
    "start_time": "2025-02-17T21:12:17.704Z"
   },
   {
    "duration": 15,
    "start_time": "2025-02-17T21:12:23.253Z"
   },
   {
    "duration": 12,
    "start_time": "2025-02-17T21:14:15.172Z"
   },
   {
    "duration": 12,
    "start_time": "2025-02-17T21:14:18.137Z"
   },
   {
    "duration": 14,
    "start_time": "2025-02-17T21:14:59.311Z"
   },
   {
    "duration": 139,
    "start_time": "2025-02-17T21:15:30.501Z"
   },
   {
    "duration": 14,
    "start_time": "2025-02-17T21:15:36.988Z"
   },
   {
    "duration": 148,
    "start_time": "2025-02-17T21:16:00.391Z"
   },
   {
    "duration": 14,
    "start_time": "2025-02-17T21:16:05.961Z"
   },
   {
    "duration": 15,
    "start_time": "2025-02-17T21:16:23.616Z"
   },
   {
    "duration": 2,
    "start_time": "2025-02-17T21:16:43.341Z"
   },
   {
    "duration": 15,
    "start_time": "2025-02-17T21:17:42.283Z"
   },
   {
    "duration": 17,
    "start_time": "2025-02-17T21:18:06.659Z"
   },
   {
    "duration": 14,
    "start_time": "2025-02-17T21:18:30.399Z"
   },
   {
    "duration": 16,
    "start_time": "2025-02-17T21:20:26.695Z"
   },
   {
    "duration": 14,
    "start_time": "2025-02-17T21:21:56.412Z"
   },
   {
    "duration": 36,
    "start_time": "2025-02-17T21:22:06.915Z"
   },
   {
    "duration": 181,
    "start_time": "2025-02-17T21:22:09.713Z"
   },
   {
    "duration": 165,
    "start_time": "2025-02-17T21:22:12.628Z"
   },
   {
    "duration": 196,
    "start_time": "2025-02-17T21:22:13.589Z"
   },
   {
    "duration": 175,
    "start_time": "2025-02-17T21:22:21.265Z"
   },
   {
    "duration": 173,
    "start_time": "2025-02-17T21:22:39.050Z"
   },
   {
    "duration": 3,
    "start_time": "2025-02-17T21:22:41.198Z"
   },
   {
    "duration": 168,
    "start_time": "2025-02-17T21:22:42.789Z"
   },
   {
    "duration": 57,
    "start_time": "2025-02-17T21:22:44.709Z"
   },
   {
    "duration": 13,
    "start_time": "2025-02-17T21:22:48.714Z"
   },
   {
    "duration": 43,
    "start_time": "2025-02-17T21:23:24.454Z"
   },
   {
    "duration": 187,
    "start_time": "2025-02-17T21:23:27.805Z"
   },
   {
    "duration": 16,
    "start_time": "2025-02-17T21:23:32.593Z"
   },
   {
    "duration": 11,
    "start_time": "2025-02-17T22:21:02.138Z"
   },
   {
    "duration": 2,
    "start_time": "2025-02-17T22:21:05.761Z"
   },
   {
    "duration": 12,
    "start_time": "2025-02-17T22:21:59.693Z"
   },
   {
    "duration": 13,
    "start_time": "2025-02-17T22:22:29.468Z"
   },
   {
    "duration": 12,
    "start_time": "2025-02-17T22:22:46.795Z"
   },
   {
    "duration": 383,
    "start_time": "2025-02-17T22:23:02.451Z"
   },
   {
    "duration": 7,
    "start_time": "2025-02-17T22:23:10.254Z"
   },
   {
    "duration": 12,
    "start_time": "2025-02-17T22:23:34.462Z"
   },
   {
    "duration": 15,
    "start_time": "2025-02-17T22:23:43.016Z"
   },
   {
    "duration": 8,
    "start_time": "2025-02-17T22:23:50.836Z"
   },
   {
    "duration": 5,
    "start_time": "2025-02-17T22:24:02.576Z"
   },
   {
    "duration": 40,
    "start_time": "2025-02-17T22:25:30.975Z"
   },
   {
    "duration": 19,
    "start_time": "2025-02-17T22:25:58.834Z"
   },
   {
    "duration": 647,
    "start_time": "2025-02-17T22:26:18.694Z"
   },
   {
    "duration": 7,
    "start_time": "2025-02-17T22:26:48.179Z"
   },
   {
    "duration": 5,
    "start_time": "2025-02-17T22:27:34.391Z"
   },
   {
    "duration": 325,
    "start_time": "2025-02-17T22:27:40.727Z"
   },
   {
    "duration": 168,
    "start_time": "2025-02-17T22:27:54.774Z"
   },
   {
    "duration": 186,
    "start_time": "2025-02-17T22:29:48.288Z"
   },
   {
    "duration": 37,
    "start_time": "2025-02-17T22:31:38.815Z"
   },
   {
    "duration": 12,
    "start_time": "2025-02-17T22:33:58.461Z"
   },
   {
    "duration": 19,
    "start_time": "2025-02-17T22:37:01.738Z"
   },
   {
    "duration": 7,
    "start_time": "2025-02-17T22:37:55.224Z"
   },
   {
    "duration": 11,
    "start_time": "2025-02-17T22:39:10.983Z"
   },
   {
    "duration": 21,
    "start_time": "2025-02-17T22:39:26.525Z"
   },
   {
    "duration": 14,
    "start_time": "2025-02-17T22:39:42.514Z"
   },
   {
    "duration": 119,
    "start_time": "2025-02-17T22:39:57.911Z"
   },
   {
    "duration": 183,
    "start_time": "2025-02-17T22:40:05.139Z"
   },
   {
    "duration": 10,
    "start_time": "2025-02-17T22:41:39.530Z"
   },
   {
    "duration": 177,
    "start_time": "2025-02-17T22:43:26.531Z"
   },
   {
    "duration": 20,
    "start_time": "2025-02-17T22:43:42.126Z"
   },
   {
    "duration": 17,
    "start_time": "2025-02-17T22:44:06.701Z"
   },
   {
    "duration": 20,
    "start_time": "2025-02-17T22:45:29.478Z"
   },
   {
    "duration": 21,
    "start_time": "2025-02-17T22:47:37.819Z"
   },
   {
    "duration": 16,
    "start_time": "2025-02-17T22:48:01.341Z"
   },
   {
    "duration": 19,
    "start_time": "2025-02-17T22:48:04.467Z"
   },
   {
    "duration": 39,
    "start_time": "2025-02-17T22:49:35.638Z"
   },
   {
    "duration": 15,
    "start_time": "2025-02-17T22:49:40.830Z"
   },
   {
    "duration": 8,
    "start_time": "2025-02-17T22:51:15.639Z"
   },
   {
    "duration": 9,
    "start_time": "2025-02-17T22:51:25.803Z"
   },
   {
    "duration": 10,
    "start_time": "2025-02-17T22:51:40.636Z"
   },
   {
    "duration": 2190,
    "start_time": "2025-02-17T22:53:32.953Z"
   },
   {
    "duration": 121,
    "start_time": "2025-02-17T22:53:55.412Z"
   },
   {
    "duration": 94,
    "start_time": "2025-02-17T22:55:42.712Z"
   },
   {
    "duration": 28,
    "start_time": "2025-02-17T22:56:17.448Z"
   },
   {
    "duration": 11,
    "start_time": "2025-02-17T22:56:48.473Z"
   },
   {
    "duration": 0,
    "start_time": "2025-02-17T23:05:02.853Z"
   },
   {
    "duration": 22,
    "start_time": "2025-02-17T23:06:36.069Z"
   },
   {
    "duration": 24,
    "start_time": "2025-02-17T23:07:16.187Z"
   },
   {
    "duration": 8,
    "start_time": "2025-02-17T23:07:30.597Z"
   },
   {
    "duration": 8,
    "start_time": "2025-02-17T23:08:57.530Z"
   },
   {
    "duration": 11,
    "start_time": "2025-02-17T23:10:22.740Z"
   },
   {
    "duration": 11,
    "start_time": "2025-02-17T23:12:10.780Z"
   },
   {
    "duration": 10,
    "start_time": "2025-02-17T23:12:35.021Z"
   },
   {
    "duration": 20,
    "start_time": "2025-02-17T23:12:36.465Z"
   },
   {
    "duration": 9,
    "start_time": "2025-02-17T23:12:50.944Z"
   },
   {
    "duration": 26,
    "start_time": "2025-02-17T23:12:52.409Z"
   },
   {
    "duration": 11,
    "start_time": "2025-02-17T23:19:31.227Z"
   },
   {
    "duration": 14,
    "start_time": "2025-02-17T23:19:49.606Z"
   },
   {
    "duration": 298,
    "start_time": "2025-02-17T23:20:23.603Z"
   },
   {
    "duration": 26,
    "start_time": "2025-02-17T23:23:51.523Z"
   },
   {
    "duration": 24,
    "start_time": "2025-02-17T23:24:04.743Z"
   },
   {
    "duration": 5,
    "start_time": "2025-02-17T23:24:15.196Z"
   },
   {
    "duration": 24,
    "start_time": "2025-02-17T23:24:18.662Z"
   },
   {
    "duration": 28,
    "start_time": "2025-02-17T23:24:45.349Z"
   },
   {
    "duration": 27,
    "start_time": "2025-02-17T23:24:48.230Z"
   },
   {
    "duration": 23,
    "start_time": "2025-02-17T23:24:53.022Z"
   },
   {
    "duration": 9,
    "start_time": "2025-02-17T23:29:20.196Z"
   },
   {
    "duration": 48,
    "start_time": "2025-02-17T23:30:27.980Z"
   },
   {
    "duration": 45,
    "start_time": "2025-02-17T23:31:05.965Z"
   },
   {
    "duration": 275,
    "start_time": "2025-02-17T23:31:17.649Z"
   },
   {
    "duration": 268,
    "start_time": "2025-02-17T23:31:34.181Z"
   },
   {
    "duration": 276,
    "start_time": "2025-02-17T23:31:43.661Z"
   },
   {
    "duration": 20,
    "start_time": "2025-02-17T23:33:35.624Z"
   },
   {
    "duration": 290,
    "start_time": "2025-02-17T23:33:56.484Z"
   },
   {
    "duration": 170,
    "start_time": "2025-02-18T19:29:36.874Z"
   },
   {
    "duration": 12,
    "start_time": "2025-02-18T19:29:41.930Z"
   },
   {
    "duration": 12,
    "start_time": "2025-02-18T19:30:48.317Z"
   },
   {
    "duration": 11,
    "start_time": "2025-02-18T19:30:52.531Z"
   },
   {
    "duration": 12,
    "start_time": "2025-02-18T19:31:02.304Z"
   },
   {
    "duration": 12,
    "start_time": "2025-02-18T19:31:57.728Z"
   },
   {
    "duration": 6,
    "start_time": "2025-02-18T19:32:04.889Z"
   },
   {
    "duration": 6,
    "start_time": "2025-02-18T19:32:12.182Z"
   },
   {
    "duration": 395,
    "start_time": "2025-02-18T19:32:32.794Z"
   },
   {
    "duration": 25,
    "start_time": "2025-02-18T19:32:37.177Z"
   },
   {
    "duration": 53,
    "start_time": "2025-02-18T19:55:31.699Z"
   },
   {
    "duration": 13,
    "start_time": "2025-02-18T19:55:36.849Z"
   },
   {
    "duration": 15,
    "start_time": "2025-02-18T19:56:04.064Z"
   },
   {
    "duration": 14,
    "start_time": "2025-02-18T20:01:11.778Z"
   },
   {
    "duration": 426,
    "start_time": "2025-02-18T20:01:45.521Z"
   },
   {
    "duration": 112,
    "start_time": "2025-02-18T20:02:07.353Z"
   },
   {
    "duration": 90,
    "start_time": "2025-02-18T20:02:18.121Z"
   },
   {
    "duration": 141,
    "start_time": "2025-02-18T20:02:27.204Z"
   },
   {
    "duration": 131,
    "start_time": "2025-02-18T20:02:44.378Z"
   },
   {
    "duration": 110,
    "start_time": "2025-02-18T20:02:52.337Z"
   },
   {
    "duration": 145,
    "start_time": "2025-02-18T20:04:15.719Z"
   },
   {
    "duration": 103,
    "start_time": "2025-02-18T20:04:25.242Z"
   },
   {
    "duration": 103,
    "start_time": "2025-02-18T20:04:51.074Z"
   },
   {
    "duration": 8,
    "start_time": "2025-02-18T20:21:24.870Z"
   },
   {
    "duration": 9,
    "start_time": "2025-02-18T20:21:27.661Z"
   },
   {
    "duration": 23,
    "start_time": "2025-02-18T20:21:46.610Z"
   },
   {
    "duration": 24,
    "start_time": "2025-02-18T20:21:57.269Z"
   },
   {
    "duration": 12,
    "start_time": "2025-02-18T20:22:09.199Z"
   },
   {
    "duration": 14,
    "start_time": "2025-02-18T20:22:16.375Z"
   },
   {
    "duration": 351,
    "start_time": "2025-02-18T20:23:10.374Z"
   },
   {
    "duration": 22,
    "start_time": "2025-02-18T20:25:48.365Z"
   },
   {
    "duration": 24,
    "start_time": "2025-02-18T20:25:56.191Z"
   },
   {
    "duration": 25,
    "start_time": "2025-02-18T20:26:01.073Z"
   },
   {
    "duration": 19,
    "start_time": "2025-02-18T20:26:19.643Z"
   },
   {
    "duration": 14,
    "start_time": "2025-02-18T20:26:25.566Z"
   },
   {
    "duration": 11,
    "start_time": "2025-02-18T20:26:33.960Z"
   },
   {
    "duration": 14,
    "start_time": "2025-02-18T20:26:39.650Z"
   },
   {
    "duration": 12,
    "start_time": "2025-02-18T20:29:45.787Z"
   },
   {
    "duration": 17,
    "start_time": "2025-02-18T20:30:44.709Z"
   },
   {
    "duration": 99,
    "start_time": "2025-02-18T20:31:07.242Z"
   },
   {
    "duration": 25,
    "start_time": "2025-02-18T20:31:15.682Z"
   },
   {
    "duration": 19,
    "start_time": "2025-02-18T20:31:22.311Z"
   },
   {
    "duration": 13,
    "start_time": "2025-02-18T20:34:25.704Z"
   },
   {
    "duration": 14,
    "start_time": "2025-02-18T20:34:50.779Z"
   },
   {
    "duration": 13,
    "start_time": "2025-02-18T20:35:25.335Z"
   },
   {
    "duration": 21,
    "start_time": "2025-02-18T20:36:26.876Z"
   },
   {
    "duration": 18,
    "start_time": "2025-02-18T20:36:39.148Z"
   },
   {
    "duration": 14,
    "start_time": "2025-02-18T20:38:29.011Z"
   },
   {
    "duration": 18,
    "start_time": "2025-02-18T20:39:09.225Z"
   },
   {
    "duration": 16,
    "start_time": "2025-02-18T20:39:23.024Z"
   },
   {
    "duration": 183,
    "start_time": "2025-02-18T20:39:33.003Z"
   },
   {
    "duration": 15,
    "start_time": "2025-02-18T20:39:39.848Z"
   },
   {
    "duration": 22,
    "start_time": "2025-02-18T20:40:13.132Z"
   },
   {
    "duration": 166,
    "start_time": "2025-02-18T20:41:59.120Z"
   },
   {
    "duration": 14,
    "start_time": "2025-02-18T20:42:03.752Z"
   },
   {
    "duration": 20,
    "start_time": "2025-02-18T20:42:13.794Z"
   },
   {
    "duration": 236,
    "start_time": "2025-02-18T20:45:08.170Z"
   },
   {
    "duration": 45,
    "start_time": "2025-02-18T20:45:43.913Z"
   },
   {
    "duration": 25,
    "start_time": "2025-02-18T20:47:34.216Z"
   },
   {
    "duration": 17,
    "start_time": "2025-02-18T20:47:39.978Z"
   },
   {
    "duration": 22,
    "start_time": "2025-02-18T20:48:26.874Z"
   },
   {
    "duration": 69,
    "start_time": "2025-02-18T20:48:32.509Z"
   },
   {
    "duration": 44,
    "start_time": "2025-02-18T20:49:53.101Z"
   },
   {
    "duration": 44,
    "start_time": "2025-02-18T20:50:07.792Z"
   },
   {
    "duration": 41,
    "start_time": "2025-02-18T20:50:10.813Z"
   },
   {
    "duration": 44,
    "start_time": "2025-02-18T20:52:20.847Z"
   },
   {
    "duration": 23,
    "start_time": "2025-02-18T20:52:49.377Z"
   },
   {
    "duration": 76,
    "start_time": "2025-02-18T20:53:03.915Z"
   },
   {
    "duration": 163,
    "start_time": "2025-02-18T22:13:34.424Z"
   },
   {
    "duration": 19,
    "start_time": "2025-02-18T22:13:43.409Z"
   },
   {
    "duration": 14,
    "start_time": "2025-02-18T22:15:16.618Z"
   },
   {
    "duration": 547,
    "start_time": "2025-02-18T22:15:34.366Z"
   },
   {
    "duration": 13,
    "start_time": "2025-02-18T22:16:35.974Z"
   },
   {
    "duration": 14,
    "start_time": "2025-02-18T22:16:42.961Z"
   },
   {
    "duration": 13,
    "start_time": "2025-02-18T22:17:24.025Z"
   },
   {
    "duration": 38,
    "start_time": "2025-02-18T22:17:37.345Z"
   },
   {
    "duration": 279,
    "start_time": "2025-02-18T22:17:40.533Z"
   },
   {
    "duration": 29,
    "start_time": "2025-02-18T22:17:45.103Z"
   },
   {
    "duration": 16,
    "start_time": "2025-02-18T22:17:49.015Z"
   },
   {
    "duration": 13,
    "start_time": "2025-02-18T22:17:51.186Z"
   },
   {
    "duration": 18,
    "start_time": "2025-02-18T22:17:53.960Z"
   },
   {
    "duration": 106,
    "start_time": "2025-02-18T22:18:03.910Z"
   },
   {
    "duration": 17,
    "start_time": "2025-02-18T22:18:06.168Z"
   },
   {
    "duration": 26,
    "start_time": "2025-02-18T22:18:08.194Z"
   },
   {
    "duration": 26,
    "start_time": "2025-02-18T22:18:10.224Z"
   },
   {
    "duration": 272,
    "start_time": "2025-02-18T22:18:27.981Z"
   },
   {
    "duration": 204,
    "start_time": "2025-02-18T22:18:37.293Z"
   },
   {
    "duration": 199,
    "start_time": "2025-02-18T22:18:44.081Z"
   },
   {
    "duration": 17,
    "start_time": "2025-02-18T22:18:49.284Z"
   },
   {
    "duration": 16,
    "start_time": "2025-02-18T22:19:00.156Z"
   },
   {
    "duration": 22,
    "start_time": "2025-02-18T22:19:02.278Z"
   },
   {
    "duration": 2214,
    "start_time": "2025-02-18T22:19:05.584Z"
   },
   {
    "duration": 493,
    "start_time": "2025-02-18T22:19:12.375Z"
   },
   {
    "duration": 475,
    "start_time": "2025-02-18T22:19:29.114Z"
   },
   {
    "duration": 306,
    "start_time": "2025-02-18T22:20:52.963Z"
   },
   {
    "duration": 210,
    "start_time": "2025-02-18T22:21:19.006Z"
   },
   {
    "duration": 515,
    "start_time": "2025-02-18T22:22:32.732Z"
   },
   {
    "duration": 334,
    "start_time": "2025-02-18T22:22:53.141Z"
   },
   {
    "duration": 66,
    "start_time": "2025-02-18T22:23:00.708Z"
   },
   {
    "duration": 27,
    "start_time": "2025-02-18T22:24:15.669Z"
   },
   {
    "duration": 139,
    "start_time": "2025-02-18T22:25:07.899Z"
   },
   {
    "duration": 70,
    "start_time": "2025-02-18T22:25:17.749Z"
   },
   {
    "duration": 28,
    "start_time": "2025-02-18T22:25:24.507Z"
   },
   {
    "duration": 39,
    "start_time": "2025-02-18T22:25:59.244Z"
   },
   {
    "duration": 263,
    "start_time": "2025-02-18T22:26:17.560Z"
   },
   {
    "duration": 44,
    "start_time": "2025-02-18T22:29:18.897Z"
   },
   {
    "duration": 631,
    "start_time": "2025-02-18T22:59:20.317Z"
   },
   {
    "duration": 417,
    "start_time": "2025-02-18T23:02:17.824Z"
   },
   {
    "duration": 576,
    "start_time": "2025-02-18T23:02:44.462Z"
   },
   {
    "duration": 444,
    "start_time": "2025-02-18T23:03:16.711Z"
   },
   {
    "duration": 1034,
    "start_time": "2025-02-18T23:03:52.905Z"
   },
   {
    "duration": 636,
    "start_time": "2025-02-18T23:04:23.702Z"
   },
   {
    "duration": 210,
    "start_time": "2025-02-18T23:05:47.731Z"
   },
   {
    "duration": 189,
    "start_time": "2025-02-18T23:08:09.379Z"
   },
   {
    "duration": 385,
    "start_time": "2025-02-18T23:09:15.495Z"
   },
   {
    "duration": 196,
    "start_time": "2025-02-18T23:10:41.691Z"
   },
   {
    "duration": 54,
    "start_time": "2025-02-18T23:14:30.507Z"
   },
   {
    "duration": 211,
    "start_time": "2025-02-18T23:15:00.273Z"
   },
   {
    "duration": 195,
    "start_time": "2025-02-18T23:18:35.494Z"
   },
   {
    "duration": 204,
    "start_time": "2025-02-18T23:18:57.145Z"
   },
   {
    "duration": 15,
    "start_time": "2025-02-18T23:21:22.617Z"
   },
   {
    "duration": 17,
    "start_time": "2025-02-18T23:21:34.153Z"
   },
   {
    "duration": 15,
    "start_time": "2025-02-18T23:23:06.267Z"
   },
   {
    "duration": 16,
    "start_time": "2025-02-18T23:23:18.196Z"
   },
   {
    "duration": 16,
    "start_time": "2025-02-18T23:37:48.649Z"
   },
   {
    "duration": 44,
    "start_time": "2025-02-18T23:39:09.889Z"
   },
   {
    "duration": 42,
    "start_time": "2025-02-18T23:43:47.830Z"
   },
   {
    "duration": 171,
    "start_time": "2025-02-19T04:01:59.381Z"
   },
   {
    "duration": 13,
    "start_time": "2025-02-19T04:02:12.601Z"
   },
   {
    "duration": 14,
    "start_time": "2025-02-19T04:02:32.858Z"
   },
   {
    "duration": 16,
    "start_time": "2025-02-19T04:02:58.116Z"
   },
   {
    "duration": 14,
    "start_time": "2025-02-19T04:03:12.829Z"
   },
   {
    "duration": 555,
    "start_time": "2025-02-19T04:03:32.201Z"
   },
   {
    "duration": 358,
    "start_time": "2025-02-19T04:07:48.636Z"
   },
   {
    "duration": 206,
    "start_time": "2025-02-19T04:07:58.286Z"
   },
   {
    "duration": 192,
    "start_time": "2025-02-19T04:08:03.089Z"
   },
   {
    "duration": 160,
    "start_time": "2025-02-19T04:08:17.465Z"
   },
   {
    "duration": 13,
    "start_time": "2025-02-19T04:10:26.482Z"
   },
   {
    "duration": 13,
    "start_time": "2025-02-19T04:11:06.181Z"
   },
   {
    "duration": 19,
    "start_time": "2025-02-19T04:11:24.343Z"
   },
   {
    "duration": 169,
    "start_time": "2025-02-19T04:11:43.754Z"
   },
   {
    "duration": 179,
    "start_time": "2025-02-19T04:12:35.085Z"
   },
   {
    "duration": 220,
    "start_time": "2025-02-19T04:12:48.657Z"
   },
   {
    "duration": 7,
    "start_time": "2025-02-19T04:13:01.503Z"
   },
   {
    "duration": 2417,
    "start_time": "2025-02-19T04:14:42.174Z"
   },
   {
    "duration": 20,
    "start_time": "2025-02-19T04:14:55.534Z"
   },
   {
    "duration": 15,
    "start_time": "2025-02-19T04:14:59.404Z"
   },
   {
    "duration": 43,
    "start_time": "2025-02-19T04:15:34.686Z"
   },
   {
    "duration": 191,
    "start_time": "2025-02-19T04:15:48.958Z"
   },
   {
    "duration": 17,
    "start_time": "2025-02-19T04:16:55.185Z"
   },
   {
    "duration": 306,
    "start_time": "2025-02-19T04:17:24.567Z"
   },
   {
    "duration": 135,
    "start_time": "2025-02-19T04:17:27.721Z"
   },
   {
    "duration": 60,
    "start_time": "2025-02-19T04:17:38.421Z"
   },
   {
    "duration": 19,
    "start_time": "2025-02-19T04:20:05.016Z"
   },
   {
    "duration": 208,
    "start_time": "2025-02-19T04:20:59.169Z"
   },
   {
    "duration": 16,
    "start_time": "2025-02-19T04:23:52.647Z"
   },
   {
    "duration": 18,
    "start_time": "2025-02-19T04:24:20.708Z"
   },
   {
    "duration": 249,
    "start_time": "2025-02-19T04:24:52.558Z"
   },
   {
    "duration": 33,
    "start_time": "2025-02-19T04:25:26.686Z"
   },
   {
    "duration": 111,
    "start_time": "2025-02-19T04:25:49.915Z"
   },
   {
    "duration": 109,
    "start_time": "2025-02-19T04:28:34.835Z"
   },
   {
    "duration": 10,
    "start_time": "2025-02-19T04:33:42.241Z"
   },
   {
    "duration": 16,
    "start_time": "2025-02-19T04:37:12.841Z"
   },
   {
    "duration": 17,
    "start_time": "2025-02-19T04:39:21.490Z"
   },
   {
    "duration": 135,
    "start_time": "2025-02-19T04:44:14.689Z"
   },
   {
    "duration": 310,
    "start_time": "2025-02-21T20:25:39.219Z"
   },
   {
    "duration": 178,
    "start_time": "2025-02-21T20:49:35.928Z"
   },
   {
    "duration": 14,
    "start_time": "2025-02-21T20:49:44.277Z"
   },
   {
    "duration": 14,
    "start_time": "2025-02-21T20:50:24.343Z"
   },
   {
    "duration": 403,
    "start_time": "2025-02-21T20:50:34.677Z"
   },
   {
    "duration": 327,
    "start_time": "2025-02-21T20:52:18.772Z"
   },
   {
    "duration": 303,
    "start_time": "2025-02-21T20:52:45.098Z"
   },
   {
    "duration": 332,
    "start_time": "2025-02-21T20:53:32.967Z"
   },
   {
    "duration": 346,
    "start_time": "2025-02-21T20:54:30.473Z"
   },
   {
    "duration": 299,
    "start_time": "2025-02-21T20:55:20.388Z"
   },
   {
    "duration": 324,
    "start_time": "2025-02-21T20:55:28.540Z"
   },
   {
    "duration": 199,
    "start_time": "2025-02-21T20:56:24.141Z"
   },
   {
    "duration": 190,
    "start_time": "2025-02-21T21:04:14.722Z"
   },
   {
    "duration": 216,
    "start_time": "2025-02-21T21:05:20.995Z"
   },
   {
    "duration": 813,
    "start_time": "2025-02-21T21:06:04.641Z"
   },
   {
    "duration": 518,
    "start_time": "2025-02-21T21:09:35.775Z"
   },
   {
    "duration": 164,
    "start_time": "2025-02-21T21:09:39.214Z"
   },
   {
    "duration": 202,
    "start_time": "2025-02-21T21:09:53.739Z"
   },
   {
    "duration": 180,
    "start_time": "2025-02-21T21:12:55.872Z"
   },
   {
    "duration": 25,
    "start_time": "2025-02-21T21:13:10.890Z"
   },
   {
    "duration": 20,
    "start_time": "2025-02-21T21:13:36.391Z"
   },
   {
    "duration": 32,
    "start_time": "2025-02-21T21:14:18.864Z"
   },
   {
    "duration": 222,
    "start_time": "2025-02-21T21:14:49.373Z"
   },
   {
    "duration": 335,
    "start_time": "2025-02-21T21:16:31.974Z"
   },
   {
    "duration": 2233,
    "start_time": "2025-02-21T21:20:22.125Z"
   },
   {
    "duration": 337,
    "start_time": "2025-02-21T21:20:43.125Z"
   },
   {
    "duration": 590,
    "start_time": "2025-02-21T21:22:33.592Z"
   },
   {
    "duration": 332,
    "start_time": "2025-02-21T21:22:46.766Z"
   },
   {
    "duration": 242,
    "start_time": "2025-02-21T21:22:54.722Z"
   },
   {
    "duration": 281,
    "start_time": "2025-02-21T21:23:02.599Z"
   },
   {
    "duration": 469,
    "start_time": "2025-02-21T21:29:21.760Z"
   },
   {
    "duration": 402,
    "start_time": "2025-02-21T21:40:17.044Z"
   },
   {
    "duration": 615,
    "start_time": "2025-02-21T21:42:17.303Z"
   },
   {
    "duration": 452,
    "start_time": "2025-02-21T21:43:12.551Z"
   },
   {
    "duration": 435,
    "start_time": "2025-02-21T21:43:19.095Z"
   },
   {
    "duration": 324,
    "start_time": "2025-02-21T21:43:58.812Z"
   },
   {
    "duration": 314,
    "start_time": "2025-02-21T21:44:19.417Z"
   },
   {
    "duration": 321,
    "start_time": "2025-02-21T21:44:49.196Z"
   },
   {
    "duration": 7,
    "start_time": "2025-02-21T21:52:52.980Z"
   },
   {
    "duration": 290,
    "start_time": "2025-02-21T21:54:29.613Z"
   },
   {
    "duration": 46,
    "start_time": "2025-02-21T21:54:40.484Z"
   },
   {
    "duration": 64,
    "start_time": "2025-02-21T21:58:02.699Z"
   },
   {
    "duration": 11,
    "start_time": "2025-02-21T22:02:23.095Z"
   },
   {
    "duration": 53,
    "start_time": "2025-02-21T22:07:41.881Z"
   },
   {
    "duration": 16,
    "start_time": "2025-02-21T22:10:22.586Z"
   },
   {
    "duration": 10,
    "start_time": "2025-02-21T22:13:11.147Z"
   },
   {
    "duration": 8,
    "start_time": "2025-02-21T22:14:35.034Z"
   },
   {
    "duration": 11,
    "start_time": "2025-02-21T22:27:58.505Z"
   },
   {
    "duration": 7,
    "start_time": "2025-02-21T22:29:03.914Z"
   }
  ],
  "colab": {
   "provenance": []
  },
  "kernelspec": {
   "display_name": "Python 3 (ipykernel)",
   "language": "python",
   "name": "python3"
  },
  "language_info": {
   "codemirror_mode": {
    "name": "ipython",
    "version": 3
   },
   "file_extension": ".py",
   "mimetype": "text/x-python",
   "name": "python",
   "nbconvert_exporter": "python",
   "pygments_lexer": "ipython3",
   "version": "3.9.19"
  },
  "toc": {
   "base_numbering": 1,
   "nav_menu": {},
   "number_sections": true,
   "sideBar": true,
   "skip_h1_title": false,
   "title_cell": "Table of Contents",
   "title_sidebar": "Contents",
   "toc_cell": false,
   "toc_position": {},
   "toc_section_display": true,
   "toc_window_display": true
  }
 },
 "nbformat": 4,
 "nbformat_minor": 1
}
