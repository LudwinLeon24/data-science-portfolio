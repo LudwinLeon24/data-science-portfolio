{
 "cells": [
  {
   "cell_type": "markdown",
   "metadata": {},
   "source": [
    " # Proyecto 9"
   ]
  },
  {
   "cell_type": "code",
   "execution_count": 2,
   "metadata": {
    "trusted": false
   },
   "outputs": [
    {
     "name": "stdout",
     "output_type": "stream",
     "text": [
      "   calls  minutes  messages   mb_used  is_ultra\n",
      "0   40.0   311.90      83.0  19915.42         0\n",
      "1   85.0   516.75      56.0  22696.96         0\n",
      "2   77.0   467.66      86.0  21060.45         0\n",
      "3  106.0   745.53      81.0   8437.39         1\n",
      "4   66.0   418.74       1.0  14502.75         0\n",
      "<class 'pandas.core.frame.DataFrame'>\n",
      "RangeIndex: 3214 entries, 0 to 3213\n",
      "Data columns (total 5 columns):\n",
      " #   Column    Non-Null Count  Dtype  \n",
      "---  ------    --------------  -----  \n",
      " 0   calls     3214 non-null   float64\n",
      " 1   minutes   3214 non-null   float64\n",
      " 2   messages  3214 non-null   float64\n",
      " 3   mb_used   3214 non-null   float64\n",
      " 4   is_ultra  3214 non-null   int64  \n",
      "dtypes: float64(4), int64(1)\n",
      "memory usage: 125.7 KB\n",
      "None\n",
      "             calls      minutes     messages       mb_used     is_ultra\n",
      "count  3214.000000  3214.000000  3214.000000   3214.000000  3214.000000\n",
      "mean     63.038892   438.208787    38.281269  17207.673836     0.306472\n",
      "std      33.236368   234.569872    36.148326   7570.968246     0.461100\n",
      "min       0.000000     0.000000     0.000000      0.000000     0.000000\n",
      "25%      40.000000   274.575000     9.000000  12491.902500     0.000000\n",
      "50%      62.000000   430.600000    30.000000  16943.235000     0.000000\n",
      "75%      82.000000   571.927500    57.000000  21424.700000     1.000000\n",
      "max     244.000000  1632.060000   224.000000  49745.730000     1.000000\n",
      "0    0.693528\n",
      "1    0.306472\n",
      "Name: is_ultra, dtype: float64\n"
     ]
    }
   ],
   "source": [
    "# Abre y examina archivos de datos\n",
    "\n",
    "import pandas as pd\n",
    "from sklearn.model_selection import train_test_split\n",
    "from sklearn.tree import DecisionTreeClassifier\n",
    "from sklearn.ensemble import RandomForestClassifier\n",
    "from sklearn.metrics import accuracy_score, classification_report\n",
    "import matplotlib.pyplot as plt\n",
    "import seaborn as sns\n",
    "\n",
    "df = pd.read_csv('/datasets/users_behavior.csv')\n",
    "print(df.head())\n",
    "print(df.info())\n",
    "print(df.describe())\n",
    "print(df['is_ultra'].value_counts(normalize=True))"
   ]
  },
  {
   "cell_type": "code",
   "execution_count": 5,
   "metadata": {
    "trusted": false
   },
   "outputs": [],
   "source": [
    "# Segmenta los datos fuente en un conjunto de entrenamiento, uno de validación y uno de prueba.\n",
    "\n",
    "X = df.drop('is_ultra', axis=1)\n",
    "y = df['is_ultra']\n",
    "\n",
    "X_temp, X_test, y_temp, y_test = train_test_split(X, y, test_size=0.2, random_state=42)\n",
    "X_train, X_valid, y_train, y_valid = train_test_split(X_temp, y_temp, test_size=0.25, random_state=42)"
   ]
  },
  {
   "cell_type": "code",
   "execution_count": null,
   "metadata": {
    "trusted": false
   },
   "outputs": [],
   "source": [
    "# Investiga la calidad de diferentes modelos cambiando los hiperparámetros. Describe brevemente los hallazgos del estudio.\n",
    "\n",
    "tree_results = []\n",
    "for depth in range(1, 21):\n",
    "    tree_model = DecisionTreeClassifier(max_depth=depth, random_state=42)\n",
    "    tree_model.fit(X_train, y_train)  # Entrenamos el modelo\n",
    "    tree_preds = tree_model.predict(X_valid)  # Predicciones en conjunto de validación\n",
    "    tree_acc = accuracy_score(y_valid, tree_preds)  # Exactitud\n",
    "    tree_results.append((depth, tree_acc))\n",
    "\n",
    "\n",
    "print(\"\\n Comparación de DecisionTreeClassifier (max_depth vs. exactitud):\")\n",
    "print(\"Profundidad\\tExactitud\")\n",
    "for depth, acc in tree_results:\n",
    "    print(f\"{depth}\\t\\t{acc:.4f}\")\n",
    "\n",
    "\n",
    "model = RandomForestClassifier(n_estimators=100, max_depth=10, random_state=42)\n",
    "model.fit(X_train, y_train)  # Entrenamos el modelo\n"
   ]
  },
  {
   "cell_type": "code",
   "execution_count": 9,
   "metadata": {
    "trusted": false
   },
   "outputs": [
    {
     "name": "stdout",
     "output_type": "stream",
     "text": [
      "\n",
      "🔍 Precisión en validación: 0.790\n",
      "\n",
      "Reporte de clasificación (validación):\n",
      "               precision    recall  f1-score   support\n",
      "\n",
      "           0       0.81      0.92      0.86       451\n",
      "           1       0.72      0.48      0.58       192\n",
      "\n",
      "    accuracy                           0.79       643\n",
      "   macro avg       0.76      0.70      0.72       643\n",
      "weighted avg       0.78      0.79      0.78       643\n",
      "\n",
      "\n",
      "✅ Precisión en prueba: 0.820\n",
      "\n",
      "Reporte de clasificación (prueba):\n",
      "               precision    recall  f1-score   support\n",
      "\n",
      "           0       0.83      0.94      0.88       455\n",
      "           1       0.79      0.53      0.63       188\n",
      "\n",
      "    accuracy                           0.82       643\n",
      "   macro avg       0.81      0.73      0.76       643\n",
      "weighted avg       0.82      0.82      0.81       643\n",
      "\n"
     ]
    }
   ],
   "source": [
    "#  Comprueba la calidad del modelo usando el conjunto de prueba.\n",
    "\n",
    "model = RandomForestClassifier(n_estimators=100, max_depth=10, random_state=42)\n",
    "model.fit(X_train, y_train)  # Entrenamos el modelo\n",
    "\n",
    "# Evaluación en conjunto de validación\n",
    "valid_preds = model.predict(X_valid)\n",
    "valid_accuracy = accuracy_score(y_valid, valid_preds)\n",
    "print(f\"\\n🔍 Precisión en validación: {valid_accuracy:.3f}\")\n",
    "print(\"\\nReporte de clasificación (validación):\\n\", classification_report(y_valid, valid_preds))\n",
    "\n",
    "#  Evaluación en conjunto de prueba\n",
    "test_preds = model.predict(X_test)\n",
    "test_accuracy = accuracy_score(y_test, test_preds)\n",
    "print(f\"\\n✅ Precisión en prueba: {test_accuracy:.3f}\")\n",
    "print(\"\\nReporte de clasificación (prueba):\\n\", classification_report(y_test, test_preds))\n"
   ]
  },
  {
   "cell_type": "code",
   "execution_count": 12,
   "metadata": {
    "trusted": false
   },
   "outputs": [
    {
     "name": "stdout",
     "output_type": "stream",
     "text": [
      " El modelo está prediciendo ambas clases correctamente.\n"
     ]
    },
    {
     "data": {
      "image/png": "[encoded data removed]",
      "text/plain": [
       "<Figure size 800x500 with 1 Axes>"
      ]
     },
     "metadata": {},
     "output_type": "display_data"
    },
    {
     "name": "stdout",
     "output_type": "stream",
     "text": [
      "\n",
      "Predicciones con valores extremos: [1 1 1 1 1 1 1 1 1 1]\n",
      "\n",
      "Reporte de clasificación (prueba):\n",
      "               precision    recall  f1-score   support\n",
      "\n",
      "           0       0.83      0.94      0.88       455\n",
      "           1       0.79      0.53      0.63       188\n",
      "\n",
      "    accuracy                           0.82       643\n",
      "   macro avg       0.81      0.73      0.76       643\n",
      "weighted avg       0.82      0.82      0.81       643\n",
      "\n"
     ]
    }
   ],
   "source": [
    "# Tarea adicional: haz una prueba de cordura al modelo. Estos datos son más complejos que los que habías usado antes así que no será una tarea fácil. Más adelante lo veremos con más detalle.\n",
    "\n",
    "predictions = model.predict(X_test)\n",
    "unique_predictions = set(predictions)\n",
    "\n",
    "if len(unique_predictions) == 1:\n",
    "    print(\" El modelo está prediciendo solo una clase. Esto podría ser una señal de un problema con el modelo o los datos.\")\n",
    "else:\n",
    "    print(\" El modelo está prediciendo ambas clases correctamente.\")\n",
    "\n",
    "\n",
    "importances = model.feature_importances_\n",
    "features = X.columns\n",
    "\n",
    "plt.figure(figsize=(8,5))\n",
    "sns.barplot(x=importances, y=features)\n",
    "plt.title('Importancia de las características')\n",
    "plt.show()\n",
    "\n",
    "extreme_example = X_test.copy()\n",
    "extreme_example['calls'] = extreme_example['calls'].max() * 10  # Un valor extremo para 'calls'\n",
    "extreme_example['minutes'] = extreme_example['minutes'].max() * 10  # Un valor extremo para 'minutes'\n",
    "\n",
    "\n",
    "extreme_predictions = model.predict(extreme_example)\n",
    "print(\"\\nPredicciones con valores extremos:\", extreme_predictions[:10])\n",
    "\n",
    "\n",
    "print(\"\\nReporte de clasificación (prueba):\\n\", classification_report(y_test, predictions))\n"
   ]
  }
 ],
 "metadata": {
  "ExecuteTimeLog": [
   {
    "duration": 24,
    "start_time": "2025-04-23T23:14:33.067Z"
   },
   {
    "duration": 316,
    "start_time": "2025-04-23T23:18:47.266Z"
   },
   {
    "duration": 7,
    "start_time": "2025-04-23T23:19:47.195Z"
   },
   {
    "duration": 6,
    "start_time": "2025-04-23T23:19:57.197Z"
   },
   {
    "duration": 17,
    "start_time": "2025-04-23T23:30:19.040Z"
   },
   {
    "duration": 18,
    "start_time": "2025-04-23T23:34:23.396Z"
   },
   {
    "duration": 434,
    "start_time": "2025-04-23T23:35:09.226Z"
   },
   {
    "duration": 266,
    "start_time": "2025-04-23T23:35:45.002Z"
   },
   {
    "duration": 112,
    "start_time": "2025-04-23T23:38:44.360Z"
   },
   {
    "duration": 127,
    "start_time": "2025-04-23T23:43:21.613Z"
   },
   {
    "duration": 122,
    "start_time": "2025-04-23T23:44:38.056Z"
   }
  ],
  "kernelspec": {
   "display_name": "Python 3 (ipykernel)",
   "language": "python",
   "name": "python3"
  },
  "language_info": {
   "codemirror_mode": {
    "name": "ipython",
    "version": 3
   },
   "file_extension": ".py",
   "mimetype": "text/x-python",
   "name": "python",
   "nbconvert_exporter": "python",
   "pygments_lexer": "ipython3",
   "version": "3.9.19"
  },
  "toc": {
   "base_numbering": 1,
   "nav_menu": {},
   "number_sections": true,
   "sideBar": true,
   "skip_h1_title": true,
   "title_cell": "Table of Contents",
   "title_sidebar": "Contents",
   "toc_cell": false,
   "toc_position": {},
   "toc_section_display": true,
   "toc_window_display": false
  }
 },
 "nbformat": 4,
 "nbformat_minor": 2
}
