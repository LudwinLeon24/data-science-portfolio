{
 "cells": [
  {
   "cell_type": "markdown",
   "metadata": {},
   "source": [
    "----"
   ]
  },
  {
   "cell_type": "markdown",
   "metadata": {},
   "source": [
    "#  Paso 1. Abre el archivo de datos y estudia la información general  y Paso 2. Prepara los datos"
   ]
  },
  {
   "cell_type": "code",
   "execution_count": 16,
   "metadata": {
    "tags": [
     "e5c1f0c2-db9f-43a0-99b9-4875c52427e8"
    ],
    "trusted": false
   },
   "outputs": [
    {
     "name": "stdout",
     "output_type": "stream",
     "text": [
      "<class 'pandas.core.frame.DataFrame'>\n",
      "RangeIndex: 16715 entries, 0 to 16714\n",
      "Data columns (total 11 columns):\n",
      " #   Column           Non-Null Count  Dtype  \n",
      "---  ------           --------------  -----  \n",
      " 0   Name             16713 non-null  object \n",
      " 1   Platform         16715 non-null  object \n",
      " 2   Year_of_Release  16446 non-null  float64\n",
      " 3   Genre            16713 non-null  object \n",
      " 4   NA_sales         16715 non-null  float64\n",
      " 5   EU_sales         16715 non-null  float64\n",
      " 6   JP_sales         16715 non-null  float64\n",
      " 7   Other_sales      16715 non-null  float64\n",
      " 8   Critic_Score     8137 non-null   float64\n",
      " 9   User_Score       10014 non-null  object \n",
      " 10  Rating           9949 non-null   object \n",
      "dtypes: float64(6), object(5)\n",
      "memory usage: 1.4+ MB\n"
     ]
    },
    {
     "data": {
      "text/html": [
       "<div>\n",
       "<style scoped>\n",
       "    .dataframe tbody tr th:only-of-type {\n",
       "        vertical-align: middle;\n",
       "    }\n",
       "\n",
       "    .dataframe tbody tr th {\n",
       "        vertical-align: top;\n",
       "    }\n",
       "\n",
       "    .dataframe thead th {\n",
       "        text-align: right;\n",
       "    }\n",
       "</style>\n",
       "<table border=\"1\" class=\"dataframe\">\n",
       "  <thead>\n",
       "    <tr style=\"text-align: right;\">\n",
       "      <th></th>\n",
       "      <th>name</th>\n",
       "      <th>platform</th>\n",
       "      <th>year_of_release</th>\n",
       "      <th>genre</th>\n",
       "      <th>na_sales</th>\n",
       "      <th>eu_sales</th>\n",
       "      <th>jp_sales</th>\n",
       "      <th>other_sales</th>\n",
       "      <th>critic_score</th>\n",
       "      <th>user_score</th>\n",
       "      <th>rating</th>\n",
       "    </tr>\n",
       "  </thead>\n",
       "  <tbody>\n",
       "    <tr>\n",
       "      <th>0</th>\n",
       "      <td>Wii Sports</td>\n",
       "      <td>Wii</td>\n",
       "      <td>2006.0</td>\n",
       "      <td>Sports</td>\n",
       "      <td>41.36</td>\n",
       "      <td>28.96</td>\n",
       "      <td>3.77</td>\n",
       "      <td>8.45</td>\n",
       "      <td>76.0</td>\n",
       "      <td>8</td>\n",
       "      <td>E</td>\n",
       "    </tr>\n",
       "    <tr>\n",
       "      <th>1</th>\n",
       "      <td>Super Mario Bros.</td>\n",
       "      <td>NES</td>\n",
       "      <td>1985.0</td>\n",
       "      <td>Platform</td>\n",
       "      <td>29.08</td>\n",
       "      <td>3.58</td>\n",
       "      <td>6.81</td>\n",
       "      <td>0.77</td>\n",
       "      <td>NaN</td>\n",
       "      <td>NaN</td>\n",
       "      <td>NaN</td>\n",
       "    </tr>\n",
       "    <tr>\n",
       "      <th>2</th>\n",
       "      <td>Mario Kart Wii</td>\n",
       "      <td>Wii</td>\n",
       "      <td>2008.0</td>\n",
       "      <td>Racing</td>\n",
       "      <td>15.68</td>\n",
       "      <td>12.76</td>\n",
       "      <td>3.79</td>\n",
       "      <td>3.29</td>\n",
       "      <td>82.0</td>\n",
       "      <td>8.3</td>\n",
       "      <td>E</td>\n",
       "    </tr>\n",
       "    <tr>\n",
       "      <th>3</th>\n",
       "      <td>Wii Sports Resort</td>\n",
       "      <td>Wii</td>\n",
       "      <td>2009.0</td>\n",
       "      <td>Sports</td>\n",
       "      <td>15.61</td>\n",
       "      <td>10.93</td>\n",
       "      <td>3.28</td>\n",
       "      <td>2.95</td>\n",
       "      <td>80.0</td>\n",
       "      <td>8</td>\n",
       "      <td>E</td>\n",
       "    </tr>\n",
       "    <tr>\n",
       "      <th>4</th>\n",
       "      <td>Pokemon Red/Pokemon Blue</td>\n",
       "      <td>GB</td>\n",
       "      <td>1996.0</td>\n",
       "      <td>Role-Playing</td>\n",
       "      <td>11.27</td>\n",
       "      <td>8.89</td>\n",
       "      <td>10.22</td>\n",
       "      <td>1.00</td>\n",
       "      <td>NaN</td>\n",
       "      <td>NaN</td>\n",
       "      <td>NaN</td>\n",
       "    </tr>\n",
       "    <tr>\n",
       "      <th>...</th>\n",
       "      <td>...</td>\n",
       "      <td>...</td>\n",
       "      <td>...</td>\n",
       "      <td>...</td>\n",
       "      <td>...</td>\n",
       "      <td>...</td>\n",
       "      <td>...</td>\n",
       "      <td>...</td>\n",
       "      <td>...</td>\n",
       "      <td>...</td>\n",
       "      <td>...</td>\n",
       "    </tr>\n",
       "    <tr>\n",
       "      <th>16710</th>\n",
       "      <td>Samurai Warriors: Sanada Maru</td>\n",
       "      <td>PS3</td>\n",
       "      <td>2016.0</td>\n",
       "      <td>Action</td>\n",
       "      <td>0.00</td>\n",
       "      <td>0.00</td>\n",
       "      <td>0.01</td>\n",
       "      <td>0.00</td>\n",
       "      <td>NaN</td>\n",
       "      <td>NaN</td>\n",
       "      <td>NaN</td>\n",
       "    </tr>\n",
       "    <tr>\n",
       "      <th>16711</th>\n",
       "      <td>LMA Manager 2007</td>\n",
       "      <td>X360</td>\n",
       "      <td>2006.0</td>\n",
       "      <td>Sports</td>\n",
       "      <td>0.00</td>\n",
       "      <td>0.01</td>\n",
       "      <td>0.00</td>\n",
       "      <td>0.00</td>\n",
       "      <td>NaN</td>\n",
       "      <td>NaN</td>\n",
       "      <td>NaN</td>\n",
       "    </tr>\n",
       "    <tr>\n",
       "      <th>16712</th>\n",
       "      <td>Haitaka no Psychedelica</td>\n",
       "      <td>PSV</td>\n",
       "      <td>2016.0</td>\n",
       "      <td>Adventure</td>\n",
       "      <td>0.00</td>\n",
       "      <td>0.00</td>\n",
       "      <td>0.01</td>\n",
       "      <td>0.00</td>\n",
       "      <td>NaN</td>\n",
       "      <td>NaN</td>\n",
       "      <td>NaN</td>\n",
       "    </tr>\n",
       "    <tr>\n",
       "      <th>16713</th>\n",
       "      <td>Spirits &amp; Spells</td>\n",
       "      <td>GBA</td>\n",
       "      <td>2003.0</td>\n",
       "      <td>Platform</td>\n",
       "      <td>0.01</td>\n",
       "      <td>0.00</td>\n",
       "      <td>0.00</td>\n",
       "      <td>0.00</td>\n",
       "      <td>NaN</td>\n",
       "      <td>NaN</td>\n",
       "      <td>NaN</td>\n",
       "    </tr>\n",
       "    <tr>\n",
       "      <th>16714</th>\n",
       "      <td>Winning Post 8 2016</td>\n",
       "      <td>PSV</td>\n",
       "      <td>2016.0</td>\n",
       "      <td>Simulation</td>\n",
       "      <td>0.00</td>\n",
       "      <td>0.00</td>\n",
       "      <td>0.01</td>\n",
       "      <td>0.00</td>\n",
       "      <td>NaN</td>\n",
       "      <td>NaN</td>\n",
       "      <td>NaN</td>\n",
       "    </tr>\n",
       "  </tbody>\n",
       "</table>\n",
       "<p>16715 rows × 11 columns</p>\n",
       "</div>"
      ],
      "text/plain": [
       "                                name platform  year_of_release         genre  \\\n",
       "0                         Wii Sports      Wii           2006.0        Sports   \n",
       "1                  Super Mario Bros.      NES           1985.0      Platform   \n",
       "2                     Mario Kart Wii      Wii           2008.0        Racing   \n",
       "3                  Wii Sports Resort      Wii           2009.0        Sports   \n",
       "4           Pokemon Red/Pokemon Blue       GB           1996.0  Role-Playing   \n",
       "...                              ...      ...              ...           ...   \n",
       "16710  Samurai Warriors: Sanada Maru      PS3           2016.0        Action   \n",
       "16711               LMA Manager 2007     X360           2006.0        Sports   \n",
       "16712        Haitaka no Psychedelica      PSV           2016.0     Adventure   \n",
       "16713               Spirits & Spells      GBA           2003.0      Platform   \n",
       "16714            Winning Post 8 2016      PSV           2016.0    Simulation   \n",
       "\n",
       "       na_sales  eu_sales  jp_sales  other_sales  critic_score user_score  \\\n",
       "0         41.36     28.96      3.77         8.45          76.0          8   \n",
       "1         29.08      3.58      6.81         0.77           NaN        NaN   \n",
       "2         15.68     12.76      3.79         3.29          82.0        8.3   \n",
       "3         15.61     10.93      3.28         2.95          80.0          8   \n",
       "4         11.27      8.89     10.22         1.00           NaN        NaN   \n",
       "...         ...       ...       ...          ...           ...        ...   \n",
       "16710      0.00      0.00      0.01         0.00           NaN        NaN   \n",
       "16711      0.00      0.01      0.00         0.00           NaN        NaN   \n",
       "16712      0.00      0.00      0.01         0.00           NaN        NaN   \n",
       "16713      0.01      0.00      0.00         0.00           NaN        NaN   \n",
       "16714      0.00      0.00      0.01         0.00           NaN        NaN   \n",
       "\n",
       "      rating  \n",
       "0          E  \n",
       "1        NaN  \n",
       "2          E  \n",
       "3          E  \n",
       "4        NaN  \n",
       "...      ...  \n",
       "16710    NaN  \n",
       "16711    NaN  \n",
       "16712    NaN  \n",
       "16713    NaN  \n",
       "16714    NaN  \n",
       "\n",
       "[16715 rows x 11 columns]"
      ]
     },
     "metadata": {},
     "output_type": "display_data"
    },
    {
     "data": {
      "text/html": [
       "<div>\n",
       "<style scoped>\n",
       "    .dataframe tbody tr th:only-of-type {\n",
       "        vertical-align: middle;\n",
       "    }\n",
       "\n",
       "    .dataframe tbody tr th {\n",
       "        vertical-align: top;\n",
       "    }\n",
       "\n",
       "    .dataframe thead th {\n",
       "        text-align: right;\n",
       "    }\n",
       "</style>\n",
       "<table border=\"1\" class=\"dataframe\">\n",
       "  <thead>\n",
       "    <tr style=\"text-align: right;\">\n",
       "      <th></th>\n",
       "      <th>year_of_release</th>\n",
       "    </tr>\n",
       "  </thead>\n",
       "  <tbody>\n",
       "    <tr>\n",
       "      <th>0</th>\n",
       "      <td>2006</td>\n",
       "    </tr>\n",
       "    <tr>\n",
       "      <th>1</th>\n",
       "      <td>1985</td>\n",
       "    </tr>\n",
       "    <tr>\n",
       "      <th>2</th>\n",
       "      <td>2008</td>\n",
       "    </tr>\n",
       "    <tr>\n",
       "      <th>3</th>\n",
       "      <td>2009</td>\n",
       "    </tr>\n",
       "    <tr>\n",
       "      <th>4</th>\n",
       "      <td>1996</td>\n",
       "    </tr>\n",
       "    <tr>\n",
       "      <th>5</th>\n",
       "      <td>1989</td>\n",
       "    </tr>\n",
       "    <tr>\n",
       "      <th>6</th>\n",
       "      <td>2006</td>\n",
       "    </tr>\n",
       "    <tr>\n",
       "      <th>7</th>\n",
       "      <td>2006</td>\n",
       "    </tr>\n",
       "    <tr>\n",
       "      <th>8</th>\n",
       "      <td>2009</td>\n",
       "    </tr>\n",
       "    <tr>\n",
       "      <th>9</th>\n",
       "      <td>1984</td>\n",
       "    </tr>\n",
       "  </tbody>\n",
       "</table>\n",
       "</div>"
      ],
      "text/plain": [
       "   year_of_release\n",
       "0             2006\n",
       "1             1985\n",
       "2             2008\n",
       "3             2009\n",
       "4             1996\n",
       "5             1989\n",
       "6             2006\n",
       "7             2006\n",
       "8             2009\n",
       "9             1984"
      ]
     },
     "metadata": {},
     "output_type": "display_data"
    },
    {
     "data": {
      "text/html": [
       "<div>\n",
       "<style scoped>\n",
       "    .dataframe tbody tr th:only-of-type {\n",
       "        vertical-align: middle;\n",
       "    }\n",
       "\n",
       "    .dataframe tbody tr th {\n",
       "        vertical-align: top;\n",
       "    }\n",
       "\n",
       "    .dataframe thead th {\n",
       "        text-align: right;\n",
       "    }\n",
       "</style>\n",
       "<table border=\"1\" class=\"dataframe\">\n",
       "  <thead>\n",
       "    <tr style=\"text-align: right;\">\n",
       "      <th></th>\n",
       "      <th>critic_score</th>\n",
       "    </tr>\n",
       "  </thead>\n",
       "  <tbody>\n",
       "    <tr>\n",
       "      <th>0</th>\n",
       "      <td>76</td>\n",
       "    </tr>\n",
       "    <tr>\n",
       "      <th>1</th>\n",
       "      <td>&lt;NA&gt;</td>\n",
       "    </tr>\n",
       "    <tr>\n",
       "      <th>2</th>\n",
       "      <td>82</td>\n",
       "    </tr>\n",
       "    <tr>\n",
       "      <th>3</th>\n",
       "      <td>80</td>\n",
       "    </tr>\n",
       "    <tr>\n",
       "      <th>4</th>\n",
       "      <td>&lt;NA&gt;</td>\n",
       "    </tr>\n",
       "    <tr>\n",
       "      <th>5</th>\n",
       "      <td>&lt;NA&gt;</td>\n",
       "    </tr>\n",
       "    <tr>\n",
       "      <th>6</th>\n",
       "      <td>89</td>\n",
       "    </tr>\n",
       "    <tr>\n",
       "      <th>7</th>\n",
       "      <td>58</td>\n",
       "    </tr>\n",
       "    <tr>\n",
       "      <th>8</th>\n",
       "      <td>87</td>\n",
       "    </tr>\n",
       "    <tr>\n",
       "      <th>9</th>\n",
       "      <td>&lt;NA&gt;</td>\n",
       "    </tr>\n",
       "  </tbody>\n",
       "</table>\n",
       "</div>"
      ],
      "text/plain": [
       "   critic_score\n",
       "0            76\n",
       "1          <NA>\n",
       "2            82\n",
       "3            80\n",
       "4          <NA>\n",
       "5          <NA>\n",
       "6            89\n",
       "7            58\n",
       "8            87\n",
       "9          <NA>"
      ]
     },
     "metadata": {},
     "output_type": "display_data"
    },
    {
     "data": {
      "text/html": [
       "<div>\n",
       "<style scoped>\n",
       "    .dataframe tbody tr th:only-of-type {\n",
       "        vertical-align: middle;\n",
       "    }\n",
       "\n",
       "    .dataframe tbody tr th {\n",
       "        vertical-align: top;\n",
       "    }\n",
       "\n",
       "    .dataframe thead th {\n",
       "        text-align: right;\n",
       "    }\n",
       "</style>\n",
       "<table border=\"1\" class=\"dataframe\">\n",
       "  <thead>\n",
       "    <tr style=\"text-align: right;\">\n",
       "      <th></th>\n",
       "      <th>user_score</th>\n",
       "    </tr>\n",
       "  </thead>\n",
       "  <tbody>\n",
       "    <tr>\n",
       "      <th>0</th>\n",
       "      <td>8.0</td>\n",
       "    </tr>\n",
       "    <tr>\n",
       "      <th>1</th>\n",
       "      <td>NaN</td>\n",
       "    </tr>\n",
       "    <tr>\n",
       "      <th>2</th>\n",
       "      <td>8.3</td>\n",
       "    </tr>\n",
       "    <tr>\n",
       "      <th>3</th>\n",
       "      <td>8.0</td>\n",
       "    </tr>\n",
       "    <tr>\n",
       "      <th>4</th>\n",
       "      <td>NaN</td>\n",
       "    </tr>\n",
       "    <tr>\n",
       "      <th>5</th>\n",
       "      <td>NaN</td>\n",
       "    </tr>\n",
       "    <tr>\n",
       "      <th>6</th>\n",
       "      <td>8.5</td>\n",
       "    </tr>\n",
       "    <tr>\n",
       "      <th>7</th>\n",
       "      <td>6.6</td>\n",
       "    </tr>\n",
       "    <tr>\n",
       "      <th>8</th>\n",
       "      <td>8.4</td>\n",
       "    </tr>\n",
       "    <tr>\n",
       "      <th>9</th>\n",
       "      <td>NaN</td>\n",
       "    </tr>\n",
       "  </tbody>\n",
       "</table>\n",
       "</div>"
      ],
      "text/plain": [
       "   user_score\n",
       "0         8.0\n",
       "1         NaN\n",
       "2         8.3\n",
       "3         8.0\n",
       "4         NaN\n",
       "5         NaN\n",
       "6         8.5\n",
       "7         6.6\n",
       "8         8.4\n",
       "9         NaN"
      ]
     },
     "metadata": {},
     "output_type": "display_data"
    },
    {
     "data": {
      "text/plain": [
       "name                 object\n",
       "platform           category\n",
       "year_of_release       Int64\n",
       "genre              category\n",
       "na_sales            float64\n",
       "eu_sales            float64\n",
       "jp_sales            float64\n",
       "other_sales         float64\n",
       "critic_score          Int64\n",
       "user_score          float64\n",
       "rating             category\n",
       "dtype: object"
      ]
     },
     "metadata": {},
     "output_type": "display_data"
    },
    {
     "data": {
      "text/html": [
       "<div>\n",
       "<style scoped>\n",
       "    .dataframe tbody tr th:only-of-type {\n",
       "        vertical-align: middle;\n",
       "    }\n",
       "\n",
       "    .dataframe tbody tr th {\n",
       "        vertical-align: top;\n",
       "    }\n",
       "\n",
       "    .dataframe thead th {\n",
       "        text-align: right;\n",
       "    }\n",
       "</style>\n",
       "<table border=\"1\" class=\"dataframe\">\n",
       "  <thead>\n",
       "    <tr style=\"text-align: right;\">\n",
       "      <th></th>\n",
       "      <th>name</th>\n",
       "      <th>platform</th>\n",
       "      <th>year_of_release</th>\n",
       "      <th>genre</th>\n",
       "      <th>na_sales</th>\n",
       "      <th>eu_sales</th>\n",
       "      <th>jp_sales</th>\n",
       "      <th>other_sales</th>\n",
       "      <th>critic_score</th>\n",
       "      <th>user_score</th>\n",
       "      <th>rating</th>\n",
       "    </tr>\n",
       "  </thead>\n",
       "  <tbody>\n",
       "    <tr>\n",
       "      <th>0</th>\n",
       "      <td>Wii Sports</td>\n",
       "      <td>Wii</td>\n",
       "      <td>2006</td>\n",
       "      <td>Sports</td>\n",
       "      <td>41.36</td>\n",
       "      <td>28.96</td>\n",
       "      <td>3.77</td>\n",
       "      <td>8.45</td>\n",
       "      <td>76</td>\n",
       "      <td>8.0</td>\n",
       "      <td>E</td>\n",
       "    </tr>\n",
       "    <tr>\n",
       "      <th>1</th>\n",
       "      <td>Super Mario Bros.</td>\n",
       "      <td>NES</td>\n",
       "      <td>1985</td>\n",
       "      <td>Platform</td>\n",
       "      <td>29.08</td>\n",
       "      <td>3.58</td>\n",
       "      <td>6.81</td>\n",
       "      <td>0.77</td>\n",
       "      <td>&lt;NA&gt;</td>\n",
       "      <td>NaN</td>\n",
       "      <td>NaN</td>\n",
       "    </tr>\n",
       "    <tr>\n",
       "      <th>2</th>\n",
       "      <td>Mario Kart Wii</td>\n",
       "      <td>Wii</td>\n",
       "      <td>2008</td>\n",
       "      <td>Racing</td>\n",
       "      <td>15.68</td>\n",
       "      <td>12.76</td>\n",
       "      <td>3.79</td>\n",
       "      <td>3.29</td>\n",
       "      <td>82</td>\n",
       "      <td>8.3</td>\n",
       "      <td>E</td>\n",
       "    </tr>\n",
       "    <tr>\n",
       "      <th>3</th>\n",
       "      <td>Wii Sports Resort</td>\n",
       "      <td>Wii</td>\n",
       "      <td>2009</td>\n",
       "      <td>Sports</td>\n",
       "      <td>15.61</td>\n",
       "      <td>10.93</td>\n",
       "      <td>3.28</td>\n",
       "      <td>2.95</td>\n",
       "      <td>80</td>\n",
       "      <td>8.0</td>\n",
       "      <td>E</td>\n",
       "    </tr>\n",
       "    <tr>\n",
       "      <th>4</th>\n",
       "      <td>Pokemon Red/Pokemon Blue</td>\n",
       "      <td>GB</td>\n",
       "      <td>1996</td>\n",
       "      <td>Role-Playing</td>\n",
       "      <td>11.27</td>\n",
       "      <td>8.89</td>\n",
       "      <td>10.22</td>\n",
       "      <td>1.00</td>\n",
       "      <td>&lt;NA&gt;</td>\n",
       "      <td>NaN</td>\n",
       "      <td>NaN</td>\n",
       "    </tr>\n",
       "  </tbody>\n",
       "</table>\n",
       "</div>"
      ],
      "text/plain": [
       "                       name platform  year_of_release         genre  na_sales  \\\n",
       "0                Wii Sports      Wii             2006        Sports     41.36   \n",
       "1         Super Mario Bros.      NES             1985      Platform     29.08   \n",
       "2            Mario Kart Wii      Wii             2008        Racing     15.68   \n",
       "3         Wii Sports Resort      Wii             2009        Sports     15.61   \n",
       "4  Pokemon Red/Pokemon Blue       GB             1996  Role-Playing     11.27   \n",
       "\n",
       "   eu_sales  jp_sales  other_sales  critic_score  user_score rating  \n",
       "0     28.96      3.77         8.45            76         8.0      E  \n",
       "1      3.58      6.81         0.77          <NA>         NaN    NaN  \n",
       "2     12.76      3.79         3.29            82         8.3      E  \n",
       "3     10.93      3.28         2.95            80         8.0      E  \n",
       "4      8.89     10.22         1.00          <NA>         NaN    NaN  "
      ]
     },
     "metadata": {},
     "output_type": "display_data"
    }
   ],
   "source": [
    "import pandas as pd\n",
    "\n",
    "games = pd.read_csv(\"/datasets/games.csv\")\n",
    "\n",
    "games.info(show_counts=True)\n",
    "\n",
    "games.columns = games.columns.str.lower()\n",
    "\n",
    "display(games)\n",
    "\n",
    "# Convierte los datos en los tipos necesarios.\n",
    "\n",
    "# Convertir Year_of_Release a Int64  y checar que las fechas todas sena numeros(manteniendo NaN)\n",
    "games['year_of_release'] = pd.to_numeric(games['year_of_release'], errors='coerce')\n",
    "games['year_of_release'] = games['year_of_release'].astype('Int64')\n",
    "\n",
    "display(games[['year_of_release']].head(10))\n",
    "\n",
    "# Convertir Critic_Score a Int64 \n",
    "games['critic_score'] = pd.to_numeric(games['critic_score'], errors='coerce')\n",
    "games['critic_score'] = games['critic_score'].astype('Int64')\n",
    "\n",
    "display(games[['critic_score']].head(10))\n",
    "\n",
    "# Convertir User_Score de object  float (reemplazar 'tbd' con NaN)\n",
    "games['user_score'] = pd.to_numeric(games['user_score'], errors='coerce')\n",
    "\n",
    "display(games[['user_score']].head(10))\n",
    "\n",
    "# Convertir Rating a categoría\n",
    "games['rating'] = games['rating'].astype('category')\n",
    "\n",
    "# Convertir Platform y Genre a categoría\n",
    "games['platform'] = games['platform'].astype('category')\n",
    "games['genre'] = games['genre'].astype('category')\n",
    "\n",
    "# Verificar cambios\n",
    "display(games.dtypes)\n",
    "display(games.head())"
   ]
  },
  {
   "cell_type": "markdown",
   "metadata": {},
   "source": [
    "Describe las columnas en las que los tipos de datos han sido cambiados y explica por qué.\n",
    "\n",
    "Cambie las columna year of release ya que estaba como un numero flotante y ya que son fechas lo mejor es tenerlo como numeros enteros.\n",
    "De igual manera modifique critic score estaba como numeros flotantes y en este caso se especifica que son un maximo de 100 por lo que es mejor en mi opinion dejarlo como numero entero ya que hay un gran rango de numeros.\n",
    "En el caso  de user score estaba como object y decidi cambiarlo a flotante para poder manejar la informacion y tener detalle y poder analizar el puntuaje.\n",
    "Y para finalizar Genre, platform y Rating los modifique a category ya que tengo entendido auqnue object almacena cadenas de texto de manera más flexible,esto puede ser ineficiente cuando hay muchas repeticiones de valores similares y y category mejora rendimiento.\n"
   ]
  },
  {
   "cell_type": "code",
   "execution_count": null,
   "metadata": {
    "trusted": false
   },
   "outputs": [
    {
     "data": {
      "text/plain": [
       "name                  0\n",
       "platform              0\n",
       "year_of_release       0\n",
       "genre                 0\n",
       "na_sales              0\n",
       "eu_sales              0\n",
       "jp_sales              0\n",
       "other_sales           0\n",
       "critic_score          0\n",
       "user_score         9123\n",
       "rating             6764\n",
       "dtype: int64"
      ]
     },
     "metadata": {},
     "output_type": "display_data"
    }
   ],
   "source": [
    "\n",
    "# Eliminamos filas donde de 'name' o 'genre' que esten ya que solo son 2 \n",
    "games = games.dropna(subset=['name', 'genre'])\n",
    "\n",
    "# Rellenamos 'year_of_release' con 0 ya que hay 269 datos que pueden ser utiles\n",
    "games['year_of_release'] = games['year_of_release'].fillna(0)\n",
    "\n",
    "# Rellenamos 'critic_score' con la media\n",
    "games['critic_score'] = games['critic_score'].fillna(round(games['critic_score'].mean())).astype('Int64')\n",
    "\n",
    "\n",
    "display(games.isnull().sum())\n"
   ]
  },
  {
   "cell_type": "markdown",
   "metadata": {},
   "source": [
    "¿Por qué crees que los valores están ausentes? Brinda explicaciones posibles.\n",
    "\n",
    "Los valores ausentes pueden deberse a diferentes razones dependiendo de la columna. aqui hay unas razones posibles, para cada caso:\n",
    "\n",
    "year of release\n",
    "La información no estaba disponible cuando se recopiló el dataset.\n",
    "Errores en la base de datos al ingresar los datos.\n",
    "Juegos sin fecha oficial de lanzamiento (por ejemplo, cancelados o en acceso anticipado).\n",
    "\n",
    "critic score\n",
    "El juego nunca recibió una calificación de la crítica.\n",
    "Juegos poco conocidos que no fueron evaluados.\n",
    "\n",
    "user score\n",
    "Juegos nuevos que aún no han recibido suficientes calificaciones.\n",
    "Falta de datos debido a problemas en la plataforma donde se recopilaron.\n",
    "El valor 'tbd' (To Be Determined) indica que la calificación aún no está disponible.\n",
    "\n",
    "rating\n",
    "Errores en la base de datos.\n",
    "Juegos independientes que no requieren clasificación oficial."
   ]
  },
  {
   "cell_type": "markdown",
   "metadata": {},
   "source": [
    "Presta atención a la abreviatura TBD: significa \"to be determined\" (a determinar). Especifica cómo piensas manejar estos casos.\n",
    "\n",
    "TBD ya lo maneje con mi codigo anterior los converti en Nan para que no interrumpen los cálculos y no afectan el análisis posterior.\n"
   ]
  },
  {
   "cell_type": "markdown",
   "metadata": {},
   "source": [
    "Calcula las ventas totales (la suma de las ventas en todas las regiones) para cada juego y coloca estos valores en una columna separada."
   ]
  },
  {
   "cell_type": "code",
   "execution_count": 11,
   "metadata": {
    "trusted": false
   },
   "outputs": [
    {
     "data": {
      "text/html": [
       "<div>\n",
       "<style scoped>\n",
       "    .dataframe tbody tr th:only-of-type {\n",
       "        vertical-align: middle;\n",
       "    }\n",
       "\n",
       "    .dataframe tbody tr th {\n",
       "        vertical-align: top;\n",
       "    }\n",
       "\n",
       "    .dataframe thead th {\n",
       "        text-align: right;\n",
       "    }\n",
       "</style>\n",
       "<table border=\"1\" class=\"dataframe\">\n",
       "  <thead>\n",
       "    <tr style=\"text-align: right;\">\n",
       "      <th></th>\n",
       "      <th>name</th>\n",
       "      <th>total_sales</th>\n",
       "    </tr>\n",
       "  </thead>\n",
       "  <tbody>\n",
       "    <tr>\n",
       "      <th>0</th>\n",
       "      <td>Wii Sports</td>\n",
       "      <td>82.54</td>\n",
       "    </tr>\n",
       "    <tr>\n",
       "      <th>1</th>\n",
       "      <td>Super Mario Bros.</td>\n",
       "      <td>40.24</td>\n",
       "    </tr>\n",
       "    <tr>\n",
       "      <th>2</th>\n",
       "      <td>Mario Kart Wii</td>\n",
       "      <td>35.52</td>\n",
       "    </tr>\n",
       "    <tr>\n",
       "      <th>3</th>\n",
       "      <td>Wii Sports Resort</td>\n",
       "      <td>32.77</td>\n",
       "    </tr>\n",
       "    <tr>\n",
       "      <th>4</th>\n",
       "      <td>Pokemon Red/Pokemon Blue</td>\n",
       "      <td>31.38</td>\n",
       "    </tr>\n",
       "    <tr>\n",
       "      <th>5</th>\n",
       "      <td>Tetris</td>\n",
       "      <td>30.26</td>\n",
       "    </tr>\n",
       "    <tr>\n",
       "      <th>6</th>\n",
       "      <td>New Super Mario Bros.</td>\n",
       "      <td>29.80</td>\n",
       "    </tr>\n",
       "    <tr>\n",
       "      <th>7</th>\n",
       "      <td>Wii Play</td>\n",
       "      <td>28.91</td>\n",
       "    </tr>\n",
       "    <tr>\n",
       "      <th>8</th>\n",
       "      <td>New Super Mario Bros. Wii</td>\n",
       "      <td>28.32</td>\n",
       "    </tr>\n",
       "    <tr>\n",
       "      <th>9</th>\n",
       "      <td>Duck Hunt</td>\n",
       "      <td>28.31</td>\n",
       "    </tr>\n",
       "    <tr>\n",
       "      <th>10</th>\n",
       "      <td>Nintendogs</td>\n",
       "      <td>24.67</td>\n",
       "    </tr>\n",
       "    <tr>\n",
       "      <th>11</th>\n",
       "      <td>Mario Kart DS</td>\n",
       "      <td>23.21</td>\n",
       "    </tr>\n",
       "    <tr>\n",
       "      <th>12</th>\n",
       "      <td>Pokemon Gold/Pokemon Silver</td>\n",
       "      <td>23.09</td>\n",
       "    </tr>\n",
       "    <tr>\n",
       "      <th>13</th>\n",
       "      <td>Wii Fit</td>\n",
       "      <td>22.70</td>\n",
       "    </tr>\n",
       "    <tr>\n",
       "      <th>14</th>\n",
       "      <td>Kinect Adventures!</td>\n",
       "      <td>21.82</td>\n",
       "    </tr>\n",
       "    <tr>\n",
       "      <th>15</th>\n",
       "      <td>Wii Fit Plus</td>\n",
       "      <td>21.80</td>\n",
       "    </tr>\n",
       "    <tr>\n",
       "      <th>16</th>\n",
       "      <td>Grand Theft Auto V</td>\n",
       "      <td>21.05</td>\n",
       "    </tr>\n",
       "    <tr>\n",
       "      <th>17</th>\n",
       "      <td>Grand Theft Auto: San Andreas</td>\n",
       "      <td>20.81</td>\n",
       "    </tr>\n",
       "    <tr>\n",
       "      <th>18</th>\n",
       "      <td>Super Mario World</td>\n",
       "      <td>20.62</td>\n",
       "    </tr>\n",
       "    <tr>\n",
       "      <th>19</th>\n",
       "      <td>Brain Age: Train Your Brain in Minutes a Day</td>\n",
       "      <td>20.14</td>\n",
       "    </tr>\n",
       "  </tbody>\n",
       "</table>\n",
       "</div>"
      ],
      "text/plain": [
       "                                            name  total_sales\n",
       "0                                     Wii Sports        82.54\n",
       "1                              Super Mario Bros.        40.24\n",
       "2                                 Mario Kart Wii        35.52\n",
       "3                              Wii Sports Resort        32.77\n",
       "4                       Pokemon Red/Pokemon Blue        31.38\n",
       "5                                         Tetris        30.26\n",
       "6                          New Super Mario Bros.        29.80\n",
       "7                                       Wii Play        28.91\n",
       "8                      New Super Mario Bros. Wii        28.32\n",
       "9                                      Duck Hunt        28.31\n",
       "10                                    Nintendogs        24.67\n",
       "11                                 Mario Kart DS        23.21\n",
       "12                   Pokemon Gold/Pokemon Silver        23.09\n",
       "13                                       Wii Fit        22.70\n",
       "14                            Kinect Adventures!        21.82\n",
       "15                                  Wii Fit Plus        21.80\n",
       "16                            Grand Theft Auto V        21.05\n",
       "17                 Grand Theft Auto: San Andreas        20.81\n",
       "18                             Super Mario World        20.62\n",
       "19  Brain Age: Train Your Brain in Minutes a Day        20.14"
      ]
     },
     "metadata": {},
     "output_type": "display_data"
    }
   ],
   "source": [
    "\n",
    "# Sume todas las ventas de todas las regiones y agregue como una nueva columna 'total_sales'\n",
    "games['total_sales'] = games['na_sales'] + games['eu_sales'] + games['jp_sales'] + games['other_sales']\n",
    "\n",
    "# solo para verificar el resultado\n",
    "display(games[['name', 'total_sales']].head(20))"
   ]
  },
  {
   "cell_type": "markdown",
   "metadata": {},
   "source": [
    "#  Paso 3. Analiza los datos"
   ]
  },
  {
   "cell_type": "code",
   "execution_count": 16,
   "metadata": {
    "trusted": false
   },
   "outputs": [
    {
     "data": {
      "text/plain": [
       "0        269\n",
       "1980       9\n",
       "1981      46\n",
       "1982      36\n",
       "1983      17\n",
       "1984      14\n",
       "1985      14\n",
       "1986      21\n",
       "1987      16\n",
       "1988      15\n",
       "1989      17\n",
       "1990      16\n",
       "1991      41\n",
       "1992      43\n",
       "1993      60\n",
       "1994     121\n",
       "1995     219\n",
       "1996     263\n",
       "1997     289\n",
       "1998     379\n",
       "1999     338\n",
       "2000     350\n",
       "2001     482\n",
       "2002     829\n",
       "2003     775\n",
       "2004     762\n",
       "2005     939\n",
       "2006    1006\n",
       "2007    1197\n",
       "2008    1427\n",
       "2009    1426\n",
       "2010    1255\n",
       "2011    1136\n",
       "2012     653\n",
       "2013     544\n",
       "2014     581\n",
       "2015     606\n",
       "2016     502\n",
       "Name: year_of_release, dtype: Int64"
      ]
     },
     "metadata": {},
     "output_type": "display_data"
    },
    {
     "data": {
      "image/png": "[encoded data removed]",
      "text/plain": [
       "<Figure size 1000x600 with 1 Axes>"
      ]
     },
     "metadata": {},
     "output_type": "display_data"
    }
   ],
   "source": [
    "# Mira cuántos juegos fueron lanzados en diferentes años. ¿Son significativos los datos de cada período?\n",
    "games_by_year = games['year_of_release'].value_counts().sort_index()\n",
    "\n",
    "display(games_by_year)\n",
    "\n",
    "# Visualizar si la distribución es significativa\n",
    "import matplotlib.pyplot as plt\n",
    "\n",
    "# Gráfico de barras para ver la distribución\n",
    "plt.figure(figsize=(10, 6))\n",
    "games_by_year.plot(kind='bar')\n",
    "plt.title('Número de juegos lanzados por año')\n",
    "plt.xlabel('Año de lanzamiento')\n",
    "plt.ylabel('Número de juegos')\n",
    "plt.xticks(rotation=90)\n",
    "plt.show()"
   ]
  },
  {
   "cell_type": "markdown",
   "metadata": {},
   "source": [
    "¿Son significativos los datos de cada período?\n",
    "\n",
    "Los datos de los años más recientes (2000-2016) son mucho más representativos y significativos nos muestra el crecimiento de la industria de los videojuegos. Los años más antiguos (1980-1995) ofrecen una visión más histórica, pero debido a que los videojuegos no eran tan famosos en ese entonces no hay un gran numero en comparacion a las siguientes fechas y con respecto al año 0 se puede no tomar en cuenta o excluir ya que son datos de los cuales no se tiene informacion de la fecha exacta.\n"
   ]
  },
  {
   "cell_type": "code",
   "execution_count": 15,
   "metadata": {
    "scrolled": true,
    "trusted": false
   },
   "outputs": [
    {
     "data": {
      "image/png": "[encoded data removed]",
      "text/plain": [
       "<Figure size 1400x800 with 1 Axes>"
      ]
     },
     "metadata": {},
     "output_type": "display_data"
    },
    {
     "name": "stdout",
     "output_type": "stream",
     "text": [
      "Plataformas sin ventas recientes (último lanzamiento antes de 2016):\n"
     ]
    },
    {
     "data": {
      "text/plain": [
       "platform\n",
       "2600    1989\n",
       "3DO     1995\n",
       "DC      2008\n",
       "DS      2013\n",
       "GB      2001\n",
       "Name: year_of_release, dtype: Int64"
      ]
     },
     "metadata": {},
     "output_type": "display_data"
    },
    {
     "name": "stdout",
     "output_type": "stream",
     "text": [
      "\n",
      "Duración de vida de las plataformas:\n"
     ]
    },
    {
     "data": {
      "text/plain": [
       "platform\n",
       "2600    1989\n",
       "3DO        1\n",
       "3DS     2016\n",
       "DC        10\n",
       "DS      2013\n",
       "GB      2001\n",
       "GBA     2007\n",
       "GC      2007\n",
       "GEN        4\n",
       "GG         0\n",
       "N64     2002\n",
       "NES       11\n",
       "NG         3\n",
       "PC      2016\n",
       "PCFX       0\n",
       "PS      2003\n",
       "PS2     2011\n",
       "PS3     2016\n",
       "PS4        3\n",
       "PSP     2015\n",
       "PSV     2016\n",
       "SAT        5\n",
       "SCD        1\n",
       "SNES       9\n",
       "TG16       0\n",
       "WS         2\n",
       "Wii     2016\n",
       "WiiU       4\n",
       "X360    2016\n",
       "XB      2008\n",
       "XOne       3\n",
       "Name: year_of_release, dtype: Int64"
      ]
     },
     "metadata": {},
     "output_type": "display_data"
    }
   ],
   "source": [
    "\n",
    "# con esto filtro las plataformas con mayores ventas totales\n",
    "platform_sales = games.groupby('platform')['total_sales'].sum().sort_values(ascending=False)\n",
    "\n",
    "# Muestro las 10 plataformas con mayores ventas\n",
    "top_platforms = platform_sales.head(3)\n",
    "\n",
    "# Filtramos los datos para las plataformas más populares\n",
    "top_platforms_data = games[games['platform'].isin(top_platforms.index)]\n",
    "\n",
    "plt.figure(figsize=(14, 8))\n",
    "for platform in top_platforms.index:\n",
    "    platform_data = top_platforms_data[top_platforms_data['platform'] == platform]\n",
    "    platform_sales_by_year = platform_data.groupby('year_of_release')['total_sales'].sum()\n",
    "    plt.plot(platform_sales_by_year.index, platform_sales_by_year, label=platform)\n",
    "\n",
    "plt.title('Ventas Totales por Plataforma a lo largo de los Años')\n",
    "plt.xlabel('Año de Lanzamiento')\n",
    "plt.ylabel('Ventas Totales (millones de dólares)')\n",
    "# Establecer el rango de los años visibles en el eje X\n",
    "plt.xlim(1980, 2016)\n",
    "plt.legend(title='Plataforma')\n",
    "plt.grid(True)\n",
    "plt.show()\n",
    "\n",
    "# con este codigo buscamos plataformas que fueron populares pero ya no tienen ventas recientes\n",
    "platform_last_sales = games.groupby('platform')['year_of_release'].max()\n",
    "platform_no_sales = platform_last_sales[platform_last_sales < 2016]  # Plataformas sin ventas recientes\n",
    "\n",
    "# Mostrar plataformas sin ventas recientes\n",
    "print(\"Plataformas sin ventas recientes (último lanzamiento antes de 2016):\")\n",
    "display(platform_no_sales.head())\n",
    "\n",
    "# Calculo el tiempo de vida de las plataformas (de su primer lanzamiento al último)\n",
    "platform_first_sales = games.groupby('platform')['year_of_release'].min()\n",
    "platform_lifespan = platform_last_sales - platform_first_sales\n",
    "\n",
    "# Mostrar la duración de vida de las plataformas\n",
    "print(\"\\nDuración de vida de las plataformas:\")\n",
    "display(platform_lifespan.head(100))\n"
   ]
  },
  {
   "cell_type": "markdown",
   "metadata": {},
   "source": [
    "¿Cuánto tardan generalmente las nuevas plataformas en aparecer y las antiguas en desaparecer?\n",
    "\n",
    "en comparacion hay consolas viejas como el Nes que tiene registro de 11 años de estar en el mercado y desapareceren comparacion de algunas consolas nuevas que cada cierto tiempo estan desapareciendo por un modelo mas nuevo con nueva tecnologia."
   ]
  },
  {
   "cell_type": "markdown",
   "metadata": {},
   "source": [
    "Determina para qué período debes tomar datos. Para hacerlo mira tus respuestas a las preguntas anteriores. Los datos deberían permitirte construir un modelo para 2017.\n",
    "\n",
    "Para construir un modelo que prediga ventas o lanzamientos en 2017, lo más recomendable es trabajar con datos desde 2010 hasta 2016, ya que reflejan mejor las tendencias actuales del mercado. Usar datos demasiado antiguos podría sesgar el modelo con información irrelevante para la industria en 2017.\n"
   ]
  },
  {
   "cell_type": "markdown",
   "metadata": {},
   "source": [
    "¿Qué plataformas son líderes en ventas? ¿Cuáles crecen y cuáles se reducen? Elige varias plataformas potencialmente rentables.\n",
    "\n",
    "segun los datos  las plataformas lideres en ventas son PC, Ps2 y DS.\n",
    "Es dificil que una plataforma se mantuviera con el tiempo como fue en el caso de ps2 que tuvo vario picos y caidas todas las demas plataformas tenian un punto de crecimiento y de ahi solo decaian.\n",
    "\n",
    "Considero que las mas rentables son PS2, PC, Xbox 360 y DS"
   ]
  },
  {
   "cell_type": "code",
   "execution_count": 13,
   "metadata": {
    "trusted": false
   },
   "outputs": [
    {
     "data": {
      "image/png": "[encoded data removed]",
      "text/plain": [
       "<Figure size 1200x600 with 1 Axes>"
      ]
     },
     "metadata": {},
     "output_type": "display_data"
    }
   ],
   "source": [
    "import seaborn as sns\n",
    "\n",
    "# primero configuro el tamaño del gráfico\n",
    "plt.figure(figsize=(12, 6))\n",
    "\n",
    "# Creo el diagrama de caja\n",
    "sns.boxplot(x='platform', y='total_sales', data=games)\n",
    "\n",
    "# ajusto la visualizacion\n",
    "plt.title('Distribución de Ventas Globales por Plataforma')\n",
    "plt.xlabel('Plataforma')\n",
    "plt.ylabel('Ventas Totales (millones de dólares)')\n",
    "plt.xticks(rotation=90)\n",
    "plt.grid(True)\n",
    "\n",
    "# Mostrar el gráfico\n",
    "plt.show()"
   ]
  },
  {
   "cell_type": "markdown",
   "metadata": {},
   "source": [
    " ¿Son significativas las diferencias en las ventas? ¿Qué sucede con las ventas promedio en varias plataformas? Describe tus hallazgos.\n",
    "\n",
    "En muchas de las consolas mas populares si hay diferencias significativas principalement porque fueron mas populares y por que en esas estapas los videojuegos ya eran mas populares, de igual manera las ventas promedio con las consolas populares son sencillas de identificar, lo que llama mas mi atencion son la cantidad de valores atipicos que encontramos en muchas de ellas, como en el caso del nes que se eleva hasta los 40 millones.\n",
    " "
   ]
  },
  {
   "cell_type": "code",
   "execution_count": 23,
   "metadata": {
    "scrolled": true,
    "trusted": false
   },
   "outputs": [
    {
     "data": {
      "image/png": "[encoded data removed]",
      "text/plain": [
       "<Figure size 1000x600 with 1 Axes>"
      ]
     },
     "metadata": {},
     "output_type": "display_data"
    },
    {
     "data": {
      "image/png": "[encoded data removed]",
      "text/plain": [
       "<Figure size 1000x600 with 1 Axes>"
      ]
     },
     "metadata": {},
     "output_type": "display_data"
    },
    {
     "name": "stdout",
     "output_type": "stream",
     "text": [
      "Correlación entre las reseñas de usuarios y las ventas: -0.03362497596528878\n",
      "Correlación entre las críticas de los profesionales y las ventas: 0.40589480145836687\n"
     ]
    }
   ],
   "source": [
    "# Converti a numérico y manejar errores\n",
    "ps4_games['user_score'] = pd.to_numeric(ps4_games['user_score'], errors='coerce')\n",
    "ps4_games['total_sales'] = pd.to_numeric(ps4_games['total_sales'], errors='coerce')\n",
    "\n",
    "# Elimine filas con NaN en 'user_score' o 'total_sales'\n",
    "ps4_games.dropna(subset=['user_score', 'total_sales'], inplace=True)\n",
    "\n",
    "# Calcule la correlación entre las reseñas de los usuarios y las ventas\n",
    "user_score_corr = ps4_games['user_score'].corr(ps4_games['total_sales'])\n",
    "\n",
    "# Calcuer la correlación entre las críticas de los profesionales y las ventas\n",
    "critic_score_corr = ps4_games['critic_score'].corr(ps4_games['total_sales'])\n",
    "\n",
    "# Grafica\n",
    "plt.figure(figsize=(10, 6))\n",
    "sns.scatterplot(data=ps4_games, x='user_score', y='total_sales', color='blue', alpha=0.6)\n",
    "plt.title('Gráfico de Dispersión: Reseñas de Usuarios vs Ventas Totales')\n",
    "plt.xlabel('Reseñas de Usuarios')\n",
    "plt.ylabel('Ventas Totales')\n",
    "plt.grid(True)\n",
    "plt.show()\n",
    "\n",
    "# Grafica\n",
    "plt.figure(figsize=(10, 6))\n",
    "sns.scatterplot(data=ps4_games, x='critic_score', y='total_sales', color='green', alpha=0.6)\n",
    "plt.title('Gráfico de Dispersión: Críticas Profesionales vs Ventas Totales')\n",
    "plt.xlabel('Críticas Profesionales')\n",
    "plt.ylabel('Ventas Totales')\n",
    "plt.grid(True)\n",
    "plt.show()\n",
    "\n",
    "# Calcule la correlación entre las reseñas de usuarios y las ventas\n",
    "user_score_corr = ps4_games['user_score'].corr(ps4_games['total_sales'])\n",
    "\n",
    "# Calcule la correlación entre las críticas de los profesionales y las ventas\n",
    "critic_score_corr = ps4_games['critic_score'].corr(ps4_games['total_sales'])\n",
    "\n",
    "# Mostre los resultados de la correlación\n",
    "print(f\"Correlación entre las reseñas de usuarios y las ventas: {user_score_corr}\")\n",
    "print(f\"Correlación entre las críticas de los profesionales y las ventas: {critic_score_corr}\")\n"
   ]
  },
  {
   "cell_type": "markdown",
   "metadata": {},
   "source": [
    "Conclusiones.\n",
    "\n",
    "Entre mas criticas tienen mayores o mas repetitivas son las ventas de esa plataforma, esto nos da a entener la importancia del las criticas tanto de los usuarios como de los profesionales para la ventas de la plataforma."
   ]
  },
  {
   "cell_type": "code",
   "execution_count": 8,
   "metadata": {
    "trusted": false
   },
   "outputs": [
    {
     "data": {
      "text/html": [
       "<div>\n",
       "<style scoped>\n",
       "    .dataframe tbody tr th:only-of-type {\n",
       "        vertical-align: middle;\n",
       "    }\n",
       "\n",
       "    .dataframe tbody tr th {\n",
       "        vertical-align: top;\n",
       "    }\n",
       "\n",
       "    .dataframe thead th {\n",
       "        text-align: right;\n",
       "    }\n",
       "</style>\n",
       "<table border=\"1\" class=\"dataframe\">\n",
       "  <thead>\n",
       "    <tr style=\"text-align: right;\">\n",
       "      <th></th>\n",
       "      <th>name</th>\n",
       "      <th>platform</th>\n",
       "      <th>total_sales</th>\n",
       "    </tr>\n",
       "  </thead>\n",
       "  <tbody>\n",
       "    <tr>\n",
       "      <th>3358</th>\n",
       "      <td>Frozen: Olaf's Quest</td>\n",
       "      <td>3DS</td>\n",
       "      <td>0.59</td>\n",
       "    </tr>\n",
       "    <tr>\n",
       "      <th>3862</th>\n",
       "      <td>Frozen: Olaf's Quest</td>\n",
       "      <td>DS</td>\n",
       "      <td>0.51</td>\n",
       "    </tr>\n",
       "    <tr>\n",
       "      <th>1285</th>\n",
       "      <td>007: Quantum of Solace</td>\n",
       "      <td>X360</td>\n",
       "      <td>1.48</td>\n",
       "    </tr>\n",
       "    <tr>\n",
       "      <th>1785</th>\n",
       "      <td>007: Quantum of Solace</td>\n",
       "      <td>PS3</td>\n",
       "      <td>1.15</td>\n",
       "    </tr>\n",
       "    <tr>\n",
       "      <th>3120</th>\n",
       "      <td>007: Quantum of Solace</td>\n",
       "      <td>Wii</td>\n",
       "      <td>0.65</td>\n",
       "    </tr>\n",
       "    <tr>\n",
       "      <th>4475</th>\n",
       "      <td>007: Quantum of Solace</td>\n",
       "      <td>PS2</td>\n",
       "      <td>0.43</td>\n",
       "    </tr>\n",
       "    <tr>\n",
       "      <th>9507</th>\n",
       "      <td>007: Quantum of Solace</td>\n",
       "      <td>DS</td>\n",
       "      <td>0.13</td>\n",
       "    </tr>\n",
       "    <tr>\n",
       "      <th>14658</th>\n",
       "      <td>007: Quantum of Solace</td>\n",
       "      <td>PC</td>\n",
       "      <td>0.02</td>\n",
       "    </tr>\n",
       "    <tr>\n",
       "      <th>1204</th>\n",
       "      <td>007: The World is not Enough</td>\n",
       "      <td>N64</td>\n",
       "      <td>1.56</td>\n",
       "    </tr>\n",
       "    <tr>\n",
       "      <th>2243</th>\n",
       "      <td>007: The World is not Enough</td>\n",
       "      <td>PS</td>\n",
       "      <td>0.92</td>\n",
       "    </tr>\n",
       "    <tr>\n",
       "      <th>15091</th>\n",
       "      <td>11eyes: CrossOver</td>\n",
       "      <td>X360</td>\n",
       "      <td>0.02</td>\n",
       "    </tr>\n",
       "    <tr>\n",
       "      <th>15656</th>\n",
       "      <td>11eyes: CrossOver</td>\n",
       "      <td>PSP</td>\n",
       "      <td>0.02</td>\n",
       "    </tr>\n",
       "    <tr>\n",
       "      <th>4805</th>\n",
       "      <td>18 Wheeler: American Pro Trucker</td>\n",
       "      <td>PS2</td>\n",
       "      <td>0.40</td>\n",
       "    </tr>\n",
       "    <tr>\n",
       "      <th>10076</th>\n",
       "      <td>18 Wheeler: American Pro Trucker</td>\n",
       "      <td>GC</td>\n",
       "      <td>0.11</td>\n",
       "    </tr>\n",
       "    <tr>\n",
       "      <th>8879</th>\n",
       "      <td>187: Ride or Die</td>\n",
       "      <td>PS2</td>\n",
       "      <td>0.15</td>\n",
       "    </tr>\n",
       "    <tr>\n",
       "      <th>12283</th>\n",
       "      <td>187: Ride or Die</td>\n",
       "      <td>XB</td>\n",
       "      <td>0.06</td>\n",
       "    </tr>\n",
       "    <tr>\n",
       "      <th>3761</th>\n",
       "      <td>2 in 1 Combo Pack: Sonic Heroes / Super Monkey...</td>\n",
       "      <td>XB</td>\n",
       "      <td>0.53</td>\n",
       "    </tr>\n",
       "    <tr>\n",
       "      <th>9966</th>\n",
       "      <td>2 in 1 Combo Pack: Sonic Heroes / Super Monkey...</td>\n",
       "      <td>X360</td>\n",
       "      <td>0.11</td>\n",
       "    </tr>\n",
       "    <tr>\n",
       "      <th>3395</th>\n",
       "      <td>2002 FIFA World Cup</td>\n",
       "      <td>PS2</td>\n",
       "      <td>0.60</td>\n",
       "    </tr>\n",
       "    <tr>\n",
       "      <th>7820</th>\n",
       "      <td>2002 FIFA World Cup</td>\n",
       "      <td>XB</td>\n",
       "      <td>0.19</td>\n",
       "    </tr>\n",
       "  </tbody>\n",
       "</table>\n",
       "</div>"
      ],
      "text/plain": [
       "                                                    name platform  total_sales\n",
       "3358                                Frozen: Olaf's Quest      3DS         0.59\n",
       "3862                                Frozen: Olaf's Quest       DS         0.51\n",
       "1285                              007: Quantum of Solace     X360         1.48\n",
       "1785                              007: Quantum of Solace      PS3         1.15\n",
       "3120                              007: Quantum of Solace      Wii         0.65\n",
       "4475                              007: Quantum of Solace      PS2         0.43\n",
       "9507                              007: Quantum of Solace       DS         0.13\n",
       "14658                             007: Quantum of Solace       PC         0.02\n",
       "1204                        007: The World is not Enough      N64         1.56\n",
       "2243                        007: The World is not Enough       PS         0.92\n",
       "15091                                  11eyes: CrossOver     X360         0.02\n",
       "15656                                  11eyes: CrossOver      PSP         0.02\n",
       "4805                    18 Wheeler: American Pro Trucker      PS2         0.40\n",
       "10076                   18 Wheeler: American Pro Trucker       GC         0.11\n",
       "8879                                    187: Ride or Die      PS2         0.15\n",
       "12283                                   187: Ride or Die       XB         0.06\n",
       "3761   2 in 1 Combo Pack: Sonic Heroes / Super Monkey...       XB         0.53\n",
       "9966   2 in 1 Combo Pack: Sonic Heroes / Super Monkey...     X360         0.11\n",
       "3395                                 2002 FIFA World Cup      PS2         0.60\n",
       "7820                                 2002 FIFA World Cup       XB         0.19"
      ]
     },
     "metadata": {},
     "output_type": "display_data"
    }
   ],
   "source": [
    "# pase algunos codigo que ya tenia anteriormente de nuevo jupyter no los reconocia, Elimine filas con valores nulos en 'name' o 'genre'\n",
    "games = games.dropna(subset=['name', 'genre'])\n",
    "\n",
    "# Rellene 'year_of_release' con 0 si es NaN\n",
    "games['year_of_release'] = games['year_of_release'].fillna(0)\n",
    "\n",
    "# Rellene 'critic_score' con la media y convertirlo en entero\n",
    "games['critic_score'] = games['critic_score'].fillna(round(games['critic_score'].mean())).astype('Int64')\n",
    "\n",
    "# Cree la columna 'total_sales' sumando las ventas regionales\n",
    "games['total_sales'] = games['na_sales'] + games['eu_sales'] + games['jp_sales'] + games['other_sales']\n",
    "\n",
    "# Filtrar juegos que aparecen en más de una plataforma\n",
    "multi_platform_games = games['name'].value_counts()\n",
    "multi_platform_games = multi_platform_games[multi_platform_games > 1].index\n",
    "\n",
    "# Filtrar el dataframe con los juegos multiplataforma\n",
    "games_multi_platform = games[games['name'].isin(multi_platform_games)]\n",
    "\n",
    "# Mostrar los primeros resultados\n",
    "display(games_multi_platform[['name', 'platform', 'total_sales']].sort_values(by=['name', 'total_sales'], ascending=[True, False]).head(20))\n"
   ]
  },
  {
   "cell_type": "code",
   "execution_count": 9,
   "metadata": {
    "trusted": false
   },
   "outputs": [
    {
     "data": {
      "image/png": "[encoded data removed]",
      "text/plain": [
       "<Figure size 1500x500 with 3 Axes>"
      ]
     },
     "metadata": {},
     "output_type": "display_data"
    }
   ],
   "source": [
    "# Contar la cantidad de juegos por género\n",
    "genre_counts = games['genre'].value_counts()\n",
    "\n",
    "# Calcular las ventas totales por género\n",
    "genre_sales = games.groupby('genre')['total_sales'].sum().sort_values(ascending=False)\n",
    "\n",
    "# Calcular las ventas promedio por juego en cada género\n",
    "genre_avg_sales = games.groupby('genre')['total_sales'].mean().sort_values(ascending=False)\n",
    "\n",
    "# Crear gráficos\n",
    "plt.figure(figsize=(15, 5))\n",
    "\n",
    "# Gráfica de cantidad de juegos por género\n",
    "plt.subplot(1, 3, 1)\n",
    "sns.barplot(x=genre_counts.index, y=genre_counts.values, palette='viridis')\n",
    "plt.xticks(rotation=90)\n",
    "plt.title('Cantidad de juegos por género')\n",
    "plt.xlabel('Género')\n",
    "plt.ylabel('Número de juegos')\n",
    "\n",
    "# Gráfica de ventas totales por género\n",
    "plt.subplot(1, 3, 2)\n",
    "sns.barplot(x=genre_sales.index, y=genre_sales.values, palette='magma')\n",
    "plt.xticks(rotation=90)\n",
    "plt.title('Ventas totales por género')\n",
    "plt.xlabel('Género')\n",
    "plt.ylabel('Ventas en millones')\n",
    "\n",
    "# Gráfica de ventas promedio por juego en cada género\n",
    "plt.subplot(1, 3, 3)\n",
    "sns.barplot(x=genre_avg_sales.index, y=genre_avg_sales.values, palette='coolwarm')\n",
    "plt.xticks(rotation=90)\n",
    "plt.title('Ventas promedio por juego por género')\n",
    "plt.xlabel('Género')\n",
    "plt.ylabel('Ventas promedio en millones')\n",
    "\n",
    "plt.tight_layout()\n",
    "plt.show()\n"
   ]
  },
  {
   "cell_type": "markdown",
   "metadata": {},
   "source": [
    "¿Qué se puede decir de los géneros más rentables? ¿Puedes generalizar acerca de los géneros con ventas altas y bajas?\n",
    "\n",
    "Los generos mas rentables sin duda alguna son accion, plataformas, disparos y deportes, puede ser porque son los mas divertidos, comerciales o famosos entre las ultimas generaciones de plataformas. no siento que se pueda generalizar cara categoria de videojuegos es muy diferente y en est caso con esta graficas podemos darnos cuenta de ello ya que apesar de que hay generos que no tienen una gran cantidad sus ventas promedio pueden alcanzar a categorias con una gran produccion, entonces es algo que se debe detallar categoria por categoria para sacr el mayor provecho y tener un buen estudio de que genero es el mas rentable."
   ]
  },
  {
   "cell_type": "markdown",
   "metadata": {},
   "source": [
    "# Paso 4. Crea un perfil de usuario para cada región"
   ]
  },
  {
   "cell_type": "code",
   "execution_count": 27,
   "metadata": {
    "trusted": false
   },
   "outputs": [
    {
     "name": "stdout",
     "output_type": "stream",
     "text": [
      "Top 5 plataformas en Norteamérica:\n",
      " platform\n",
      "X360    602.47\n",
      "PS2     583.84\n",
      "Wii     496.90\n",
      "PS3     393.49\n",
      "DS      382.40\n",
      "Name: na_sales, dtype: float64\n",
      "\n",
      "Top 5 plataformas en Europa:\n",
      " platform\n",
      "PS2     339.29\n",
      "PS3     330.29\n",
      "X360    270.76\n",
      "Wii     262.21\n",
      "PS      213.61\n",
      "Name: eu_sales, dtype: float64\n",
      "\n",
      "Top 5 plataformas en Japón:\n",
      " platform\n",
      "DS      175.57\n",
      "PS      139.82\n",
      "PS2     139.20\n",
      "SNES    116.55\n",
      "3DS     100.67\n",
      "Name: jp_sales, dtype: float64\n"
     ]
    }
   ],
   "source": [
    "# cinco plataformas con mayores ventas en cada región\n",
    "top_platforms_na = games.groupby('platform')['na_sales'].sum().sort_values(ascending=False).head(5)\n",
    "top_platforms_eu = games.groupby('platform')['eu_sales'].sum().sort_values(ascending=False).head(5)\n",
    "top_platforms_jp = games.groupby('platform')['jp_sales'].sum().sort_values(ascending=False).head(5)\n",
    "\n",
    "\n",
    "print(\"Top 5 plataformas en Norteamérica:\\n\", top_platforms_na)\n",
    "print(\"\\nTop 5 plataformas en Europa:\\n\", top_platforms_eu)\n",
    "print(\"\\nTop 5 plataformas en Japón:\\n\", top_platforms_jp)"
   ]
  },
  {
   "cell_type": "markdown",
   "metadata": {},
   "source": [
    "Describe las variaciones en sus cuotas de mercado de una región a otra.\n",
    "\n",
    "Podemos observar que el pais que mayores ventas tiene es Norte america  y la consola con mayor exito aqui es el xbox 360, sin embargo la consola que siempre esta bien posicionada en las 3 regiones es el Ps2, y las variaciones entre regiones cambia demasiado tambien nos da entender en que paises se juegan mas videojuegos."
   ]
  },
  {
   "cell_type": "code",
   "execution_count": 26,
   "metadata": {
    "trusted": false
   },
   "outputs": [
    {
     "name": "stdout",
     "output_type": "stream",
     "text": [
      "\n",
      "Top 5 géneros en Norteamérica:\n",
      " genre\n",
      "Action      879.01\n",
      "Sports      684.43\n",
      "Shooter     592.24\n",
      "Platform    445.50\n",
      "Misc        407.27\n",
      "Name: na_sales, dtype: float64\n",
      "\n",
      "Top 5 géneros en Europa:\n",
      " genre\n",
      "Action     519.13\n",
      "Sports     376.79\n",
      "Shooter    317.34\n",
      "Racing     236.51\n",
      "Misc       212.74\n",
      "Name: eu_sales, dtype: float64\n",
      "\n",
      "Top 5 géneros en Japón:\n",
      " genre\n",
      "Role-Playing    355.41\n",
      "Action          161.43\n",
      "Sports          135.54\n",
      "Platform        130.83\n",
      "Misc            108.11\n",
      "Name: jp_sales, dtype: float64\n"
     ]
    }
   ],
   "source": [
    "# cinco géneros con mayores ventas en cada región\n",
    "top_genres_na = games.groupby('genre')['na_sales'].sum().sort_values(ascending=False).head(5)\n",
    "top_genres_eu = games.groupby('genre')['eu_sales'].sum().sort_values(ascending=False).head(5)\n",
    "top_genres_jp = games.groupby('genre')['jp_sales'].sum().sort_values(ascending=False).head(5)\n",
    "\n",
    "\n",
    "print(\"\\nTop 5 géneros en Norteamérica:\\n\", top_genres_na)\n",
    "print(\"\\nTop 5 géneros en Europa:\\n\", top_genres_eu)\n",
    "print(\"\\nTop 5 géneros en Japón:\\n\", top_genres_jp)"
   ]
  },
  {
   "cell_type": "markdown",
   "metadata": {},
   "source": [
    "Explica la diferencia.\n",
    "\n",
    "Sin duda alguna el genero con mayores ventas es el de accion y deportes las ventas en norte america y en Europa son muy grandes con estos generos y en elc aso de japon vemos que son mas importantes los juegos de Rol, esto nos habla un pcoo de su cultura y los gustos dependiendo la region."
   ]
  },
  {
   "cell_type": "code",
   "execution_count": 16,
   "metadata": {
    "scrolled": false,
    "trusted": false
   },
   "outputs": [
    {
     "data": {
      "text/html": [
       "<div>\n",
       "<style scoped>\n",
       "    .dataframe tbody tr th:only-of-type {\n",
       "        vertical-align: middle;\n",
       "    }\n",
       "\n",
       "    .dataframe tbody tr th {\n",
       "        vertical-align: top;\n",
       "    }\n",
       "\n",
       "    .dataframe thead th {\n",
       "        text-align: right;\n",
       "    }\n",
       "</style>\n",
       "<table border=\"1\" class=\"dataframe\">\n",
       "  <thead>\n",
       "    <tr style=\"text-align: right;\">\n",
       "      <th></th>\n",
       "      <th>na_sales</th>\n",
       "      <th>eu_sales</th>\n",
       "      <th>jp_sales</th>\n",
       "    </tr>\n",
       "    <tr>\n",
       "      <th>rating</th>\n",
       "      <th></th>\n",
       "      <th></th>\n",
       "      <th></th>\n",
       "    </tr>\n",
       "  </thead>\n",
       "  <tbody>\n",
       "    <tr>\n",
       "      <th>AO</th>\n",
       "      <td>1.26</td>\n",
       "      <td>0.61</td>\n",
       "      <td>0.00</td>\n",
       "    </tr>\n",
       "    <tr>\n",
       "      <th>E</th>\n",
       "      <td>1292.99</td>\n",
       "      <td>710.25</td>\n",
       "      <td>198.11</td>\n",
       "    </tr>\n",
       "    <tr>\n",
       "      <th>E10+</th>\n",
       "      <td>353.32</td>\n",
       "      <td>188.52</td>\n",
       "      <td>40.20</td>\n",
       "    </tr>\n",
       "    <tr>\n",
       "      <th>EC</th>\n",
       "      <td>1.53</td>\n",
       "      <td>0.11</td>\n",
       "      <td>0.00</td>\n",
       "    </tr>\n",
       "    <tr>\n",
       "      <th>K-A</th>\n",
       "      <td>2.56</td>\n",
       "      <td>0.27</td>\n",
       "      <td>1.46</td>\n",
       "    </tr>\n",
       "    <tr>\n",
       "      <th>M</th>\n",
       "      <td>748.48</td>\n",
       "      <td>483.97</td>\n",
       "      <td>64.24</td>\n",
       "    </tr>\n",
       "    <tr>\n",
       "      <th>RP</th>\n",
       "      <td>0.00</td>\n",
       "      <td>0.08</td>\n",
       "      <td>0.00</td>\n",
       "    </tr>\n",
       "    <tr>\n",
       "      <th>T</th>\n",
       "      <td>759.75</td>\n",
       "      <td>427.03</td>\n",
       "      <td>151.40</td>\n",
       "    </tr>\n",
       "  </tbody>\n",
       "</table>\n",
       "</div>"
      ],
      "text/plain": [
       "        na_sales  eu_sales  jp_sales\n",
       "rating                              \n",
       "AO          1.26      0.61      0.00\n",
       "E        1292.99    710.25    198.11\n",
       "E10+      353.32    188.52     40.20\n",
       "EC          1.53      0.11      0.00\n",
       "K-A         2.56      0.27      1.46\n",
       "M         748.48    483.97     64.24\n",
       "RP          0.00      0.08      0.00\n",
       "T         759.75    427.03    151.40"
      ]
     },
     "metadata": {},
     "output_type": "display_data"
    }
   ],
   "source": [
    "# Agrupe por clasificación ESRB y sumar ventas en cada región\n",
    "esrb_sales = games.groupby('rating')[['na_sales', 'eu_sales', 'jp_sales']].sum()\n",
    "\n",
    "display(esrb_sales)"
   ]
  },
  {
   "cell_type": "markdown",
   "metadata": {},
   "source": [
    "# Paso 5. Prueba las siguientes hipótesis:"
   ]
  },
  {
   "cell_type": "code",
   "execution_count": 4,
   "metadata": {
    "trusted": false
   },
   "outputs": [
    {
     "name": "stdout",
     "output_type": "stream",
     "text": [
      "Estadístico t: -4.653422798410771\n",
      "Valor p: 4.935072360183574e-06\n",
      "Rechazamos la hipótesis nula: Las calificaciones promedio de los usuarios son diferentes.\n"
     ]
    }
   ],
   "source": [
    "from scipy import stats\n",
    "\n",
    "# Filtrar los datos para Xbox One y PC (eliminando valores NaN)\n",
    "xbox_one_scores = games.loc[games['platform'] == 'XOne', 'user_score'].dropna()\n",
    "pc_scores = games.loc[games['platform'] == 'PC', 'user_score'].dropna()\n",
    "\n",
    "# Prueba de hipótesis (prueba t de Student)\n",
    "alpha = 0.05  # Nivel de significancia\n",
    "t_stat, p_value = stats.ttest_ind(xbox_one_scores, pc_scores, equal_var=False)\n",
    "\n",
    "# Mostrar resultados\n",
    "print(f\"Estadístico t: {t_stat}\")\n",
    "print(f\"Valor p: {p_value}\")\n",
    "\n",
    "if p_value < alpha:\n",
    "    print(\"Rechazamos la hipótesis nula: Las calificaciones promedio de los usuarios son diferentes.\")\n",
    "else:\n",
    "    print(\"No se puede rechazar la hipótesis nula: Las calificaciones promedio de los usuarios son iguales.\")\n"
   ]
  },
  {
   "cell_type": "code",
   "execution_count": 5,
   "metadata": {
    "trusted": false
   },
   "outputs": [
    {
     "name": "stdout",
     "output_type": "stream",
     "text": [
      "Estadístico t: 1.57746791633354\n",
      "Valor p: 0.11483818791498286\n",
      "No se puede rechazar la hipótesis nula: Las calificaciones promedio de los usuarios son iguales.\n"
     ]
    }
   ],
   "source": [
    "# Filtrar los datos para los géneros Acción y Deportes (eliminando valores NaN)\n",
    "accion_scores = games.loc[games['genre'] == 'Action', 'user_score'].dropna()\n",
    "deportes_scores = games.loc[games['genre'] == 'Sports', 'user_score'].dropna()\n",
    "\n",
    "# Prueba de hipótesis (prueba t de Student)\n",
    "alpha = 0.05  # Nivel de significancia\n",
    "t_stat, p_value = stats.ttest_ind(accion_scores, deportes_scores, equal_var=False)\n",
    "\n",
    "# Mostrar resultados\n",
    "print(f\"Estadístico t: {t_stat}\")\n",
    "print(f\"Valor p: {p_value}\")\n",
    "\n",
    "if p_value < alpha:\n",
    "    print(\"Rechazamos la hipótesis nula: Las calificaciones promedio de los usuarios son diferentes.\")\n",
    "else:\n",
    "    print(\"No se puede rechazar la hipótesis nula: Las calificaciones promedio de los usuarios son iguales.\")\n"
   ]
  },
  {
   "cell_type": "markdown",
   "metadata": {},
   "source": [
    "Cómo formulaste las hipótesis nula y alternativa.\n",
    "\n",
    "En ambos casos utilice las formulas que vimos con anterioridad en otros sprint  y me di cuenta que.\n",
    "Para las plataformas Xbox One y PC:\n",
    "Hipótesis nula (H₀): No hay diferencia en las calificaciones promedio de los usuarios entre las plataformas Xbox One y PC.\n",
    "\n",
    "Hipótesis alternativa (H₁): Hay una diferencia en las calificaciones promedio de los usuarios entre las plataformas Xbox One y PC.\n",
    "\n",
    "Para los géneros de Acción y Deportes:\n",
    "Hipótesis nula (H₀): No hay diferencia en las calificaciones promedio de los usuarios entre los géneros de Acción y Deportes.\n",
    "\n",
    "Hipótesis alternativa (H₁): Hay una diferencia en las calificaciones promedio de los usuarios entre los géneros de Acción y Deportes.\n"
   ]
  },
  {
   "cell_type": "markdown",
   "metadata": {},
   "source": [
    "Qué criterio utilizaste para probar las hipótesis y por qué.\n",
    "\n",
    "Para probar las hipótesis en ambos casos (plataformas y géneros), utilicé el test de Mann-Whitney U (prueba no paramétrica), basado en las siguientes razones:\n",
    "\n",
    "Criterio para las plataformas Xbox One y PC:\n",
    "Razón: Las calificaciones de los usuarios para las plataformas (Xbox One y PC) son datos independientes y no siguen una distribución normal, por lo que no se puede usar una prueba paramétrica como el t-test. La prueba de Mann-Whitney U es adecuada cuando los datos no son normales o no tienen homogeneidad de varianzas, y en este caso, las calificaciones de usuario no son normales (debido a la presencia de valores nulos y sesgos).\n",
    "\n",
    "Criterio para los géneros de Acción y Deportes:\n",
    "Razón: Al igual que en el caso de las plataformas, las calificaciones de usuario para los géneros (Acción y Deportes) también son datos independientes y pueden no seguir una distribución normal. Utilicé el test de Mann-Whitney U porque permite comparar dos grupos sin asumir una distribución normal de los datos y es más adecuado para muestras pequeñas o sesgadas.\n",
    "\n",
    "En ambos casos, el criterio es que si el valor p obtenido de la prueba es menor que el umbral alfa (usualmente 0.05), se rechaza la hipótesis nula y se acepta que hay una diferencia estadísticamente significativa entre las calificaciones de los grupos.\n"
   ]
  },
  {
   "cell_type": "markdown",
   "metadata": {},
   "source": [
    "#  Paso 6. Escribe una conclusión general\n",
    "\n"
   ]
  },
  {
   "cell_type": "markdown",
   "metadata": {},
   "source": [
    "Conclusión del Proyecto de Análisis de Ventas de Videojuegos\n",
    "Este proyecto ha permitido analizar las ventas de videojuegos a través de diversas métricas, como plataformas, géneros y calificaciones. Se identificaron las plataformas más populares y sus tendencias de ventas a lo largo de los años, destacando algunas que, aunque fueron populares en el pasado, ya no mantienen ventas recientes, asi mismo nos mostro la popularidad y el declive en muchas de ellas.\n",
    "\n",
    "En cuanto a los géneros, se encontró que los juegos de acción fueron los más rentables, mientras que los géneros más nichos tuvieron un rendimiento más bajo. Además, se comprobó que las calificaciones de los usuarios influyen en las ventas, con plataformas como Xbox One y PC mostrando calificaciones similares.\n",
    "\n",
    "El análisis por región permitió entender las diferencias en las preferencias de los jugadores en Norteamérica, Europa y Japón, ayudando a los desarrolladores a adaptar sus estrategias y ayudandos a ver que regiones son las que tienen un mayor crecimiento en cuanto a esta ind\n",
    "\n",
    "En resumen, el análisis proporcionó una visión clara de las tendencias del mercado de videojuegos, lo que es útil tanto para desarrolladores como para consumidores interesados en entender mejor el comportamiento del mercado."
   ]
  }
 ],
 "metadata": {
  "ExecuteTimeLog": [
   {
    "duration": 349,
    "start_time": "2025-03-04T21:27:46.696Z"
   },
   {
    "duration": 41,
    "start_time": "2025-03-04T21:30:25.624Z"
   },
   {
    "duration": 44,
    "start_time": "2025-03-04T21:30:35.048Z"
   },
   {
    "duration": 691,
    "start_time": "2025-03-04T21:40:15.657Z"
   },
   {
    "duration": 78,
    "start_time": "2025-03-04T21:43:04.580Z"
   },
   {
    "duration": 82,
    "start_time": "2025-03-04T21:44:19.111Z"
   },
   {
    "duration": 45,
    "start_time": "2025-03-04T21:44:50.544Z"
   },
   {
    "duration": 46,
    "start_time": "2025-03-04T21:45:36.064Z"
   },
   {
    "duration": 47,
    "start_time": "2025-03-04T21:47:04.489Z"
   },
   {
    "duration": 65,
    "start_time": "2025-03-04T21:51:10.490Z"
   },
   {
    "duration": 9,
    "start_time": "2025-03-04T22:08:12.422Z"
   },
   {
    "duration": 100,
    "start_time": "2025-03-04T22:08:43.610Z"
   },
   {
    "duration": 78,
    "start_time": "2025-03-04T22:08:57.145Z"
   },
   {
    "duration": 67,
    "start_time": "2025-03-04T22:13:21.656Z"
   },
   {
    "duration": 76,
    "start_time": "2025-03-04T22:20:26.968Z"
   },
   {
    "duration": 94,
    "start_time": "2025-03-04T22:21:06.945Z"
   },
   {
    "duration": 158,
    "start_time": "2025-03-05T02:27:14.969Z"
   },
   {
    "duration": 417,
    "start_time": "2025-03-05T02:28:04.112Z"
   },
   {
    "duration": 35,
    "start_time": "2025-03-05T02:28:36.000Z"
   },
   {
    "duration": 767,
    "start_time": "2025-03-05T02:41:31.101Z"
   },
   {
    "duration": 112,
    "start_time": "2025-03-05T02:42:09.465Z"
   },
   {
    "duration": 111,
    "start_time": "2025-03-05T02:43:31.145Z"
   },
   {
    "duration": 50,
    "start_time": "2025-03-05T02:44:28.483Z"
   },
   {
    "duration": 8,
    "start_time": "2025-03-05T03:08:30.145Z"
   },
   {
    "duration": 8,
    "start_time": "2025-03-05T03:08:43.876Z"
   },
   {
    "duration": 10,
    "start_time": "2025-03-05T03:09:07.053Z"
   },
   {
    "duration": 11,
    "start_time": "2025-03-05T03:09:27.769Z"
   },
   {
    "duration": 2194,
    "start_time": "2025-03-05T03:23:05.228Z"
   },
   {
    "duration": 254,
    "start_time": "2025-03-05T03:23:45.146Z"
   },
   {
    "duration": 354,
    "start_time": "2025-03-05T03:23:49.915Z"
   },
   {
    "duration": 241,
    "start_time": "2025-03-05T03:24:04.604Z"
   },
   {
    "duration": 246,
    "start_time": "2025-03-05T03:24:20.823Z"
   },
   {
    "duration": 285,
    "start_time": "2025-03-05T03:56:12.309Z"
   },
   {
    "duration": 271,
    "start_time": "2025-03-05T04:11:40.980Z"
   },
   {
    "duration": 361,
    "start_time": "2025-03-05T04:14:02.311Z"
   },
   {
    "duration": 243,
    "start_time": "2025-03-05T04:15:02.157Z"
   },
   {
    "duration": 247,
    "start_time": "2025-03-05T04:16:16.066Z"
   },
   {
    "duration": 30,
    "start_time": "2025-03-05T04:16:22.655Z"
   },
   {
    "duration": 203,
    "start_time": "2025-03-05T04:16:30.606Z"
   },
   {
    "duration": 352,
    "start_time": "2025-03-05T04:16:42.295Z"
   },
   {
    "duration": 27,
    "start_time": "2025-03-05T04:18:36.608Z"
   },
   {
    "duration": 27,
    "start_time": "2025-03-05T04:18:59.743Z"
   },
   {
    "duration": 255,
    "start_time": "2025-03-05T04:19:33.357Z"
   },
   {
    "duration": 276,
    "start_time": "2025-03-05T04:21:16.139Z"
   },
   {
    "duration": 371,
    "start_time": "2025-03-05T04:21:38.485Z"
   },
   {
    "duration": 253,
    "start_time": "2025-03-05T04:21:55.769Z"
   },
   {
    "duration": 258,
    "start_time": "2025-03-05T04:22:20.869Z"
   },
   {
    "duration": 291,
    "start_time": "2025-03-05T04:22:26.436Z"
   },
   {
    "duration": 244,
    "start_time": "2025-03-05T04:24:52.830Z"
   },
   {
    "duration": 242,
    "start_time": "2025-03-05T04:26:24.515Z"
   },
   {
    "duration": 246,
    "start_time": "2025-03-05T04:26:34.033Z"
   },
   {
    "duration": 8,
    "start_time": "2025-03-05T17:27:33.313Z"
   },
   {
    "duration": 168,
    "start_time": "2025-03-05T17:45:19.067Z"
   },
   {
    "duration": 19,
    "start_time": "2025-03-05T17:45:24.961Z"
   },
   {
    "duration": 517,
    "start_time": "2025-03-05T17:46:07.201Z"
   },
   {
    "duration": 1944,
    "start_time": "2025-03-05T17:46:54.275Z"
   },
   {
    "duration": 922,
    "start_time": "2025-03-05T17:51:04.384Z"
   },
   {
    "duration": 485,
    "start_time": "2025-03-05T17:54:04.548Z"
   },
   {
    "duration": 566,
    "start_time": "2025-03-05T17:57:38.072Z"
   },
   {
    "duration": 450,
    "start_time": "2025-03-05T17:57:52.448Z"
   },
   {
    "duration": 465,
    "start_time": "2025-03-05T17:58:39.621Z"
   },
   {
    "duration": 290,
    "start_time": "2025-03-05T18:01:10.907Z"
   },
   {
    "duration": 330,
    "start_time": "2025-03-05T18:03:55.088Z"
   },
   {
    "duration": 907,
    "start_time": "2025-03-05T18:13:04.173Z"
   },
   {
    "duration": 547,
    "start_time": "2025-03-05T18:22:02.204Z"
   },
   {
    "duration": 393,
    "start_time": "2025-03-05T18:23:23.794Z"
   },
   {
    "duration": 260,
    "start_time": "2025-03-05T18:23:32.392Z"
   },
   {
    "duration": 823,
    "start_time": "2025-03-05T18:23:45.010Z"
   },
   {
    "duration": 16,
    "start_time": "2025-03-05T18:28:38.573Z"
   },
   {
    "duration": 14,
    "start_time": "2025-03-05T18:30:02.797Z"
   },
   {
    "duration": 305,
    "start_time": "2025-03-05T18:30:11.133Z"
   },
   {
    "duration": 304,
    "start_time": "2025-03-05T18:31:40.109Z"
   },
   {
    "duration": 310,
    "start_time": "2025-03-05T18:31:50.986Z"
   },
   {
    "duration": 301,
    "start_time": "2025-03-05T18:32:14.510Z"
   },
   {
    "duration": 149,
    "start_time": "2025-03-05T18:45:10.226Z"
   },
   {
    "duration": 554,
    "start_time": "2025-03-05T18:46:50.730Z"
   },
   {
    "duration": 61,
    "start_time": "2025-03-05T18:47:19.358Z"
   },
   {
    "duration": 44,
    "start_time": "2025-03-05T18:47:24.556Z"
   },
   {
    "duration": 45,
    "start_time": "2025-03-05T18:49:04.169Z"
   },
   {
    "duration": 170,
    "start_time": "2025-03-05T18:52:11.268Z"
   },
   {
    "duration": 63,
    "start_time": "2025-03-05T18:52:19.881Z"
   },
   {
    "duration": 92,
    "start_time": "2025-03-05T18:55:40.157Z"
   },
   {
    "duration": 45,
    "start_time": "2025-03-05T18:55:43.885Z"
   },
   {
    "duration": 43,
    "start_time": "2025-03-05T18:55:52.848Z"
   },
   {
    "duration": 72,
    "start_time": "2025-03-05T18:57:30.882Z"
   },
   {
    "duration": 165,
    "start_time": "2025-03-05T18:58:56.208Z"
   },
   {
    "duration": 46,
    "start_time": "2025-03-05T18:58:59.123Z"
   },
   {
    "duration": 47,
    "start_time": "2025-03-05T19:00:47.786Z"
   },
   {
    "duration": 15,
    "start_time": "2025-03-05T19:00:58.341Z"
   },
   {
    "duration": 47,
    "start_time": "2025-03-05T19:04:33.008Z"
   },
   {
    "duration": 28,
    "start_time": "2025-03-05T19:05:13.750Z"
   },
   {
    "duration": 25,
    "start_time": "2025-03-05T19:05:17.433Z"
   },
   {
    "duration": 53,
    "start_time": "2025-03-05T19:05:57.157Z"
   },
   {
    "duration": 13,
    "start_time": "2025-03-05T19:07:18.478Z"
   },
   {
    "duration": 56,
    "start_time": "2025-03-05T19:07:38.089Z"
   },
   {
    "duration": 51,
    "start_time": "2025-03-05T19:07:47.767Z"
   },
   {
    "duration": 55,
    "start_time": "2025-03-05T19:07:50.418Z"
   },
   {
    "duration": 50,
    "start_time": "2025-03-05T19:08:03.520Z"
   },
   {
    "duration": 51,
    "start_time": "2025-03-05T19:08:52.335Z"
   },
   {
    "duration": 43,
    "start_time": "2025-03-05T19:09:40.505Z"
   },
   {
    "duration": 66,
    "start_time": "2025-03-05T19:12:09.924Z"
   },
   {
    "duration": 161,
    "start_time": "2025-03-05T19:29:35.300Z"
   },
   {
    "duration": 12,
    "start_time": "2025-03-05T19:29:46.987Z"
   },
   {
    "duration": 393,
    "start_time": "2025-03-05T19:30:53.590Z"
   },
   {
    "duration": 1127,
    "start_time": "2025-03-05T19:36:02.913Z"
   },
   {
    "duration": 215,
    "start_time": "2025-03-05T19:42:01.858Z"
   },
   {
    "duration": 196,
    "start_time": "2025-03-05T19:42:10.917Z"
   },
   {
    "duration": 325,
    "start_time": "2025-03-05T19:42:20.002Z"
   },
   {
    "duration": 208,
    "start_time": "2025-03-05T19:42:28.460Z"
   },
   {
    "duration": 587,
    "start_time": "2025-03-05T19:46:10.510Z"
   },
   {
    "duration": 2,
    "start_time": "2025-03-05T19:47:46.235Z"
   },
   {
    "duration": 9,
    "start_time": "2025-03-05T19:52:10.661Z"
   },
   {
    "duration": 16,
    "start_time": "2025-03-05T19:52:23.800Z"
   },
   {
    "duration": 8,
    "start_time": "2025-03-05T19:52:50.329Z"
   },
   {
    "duration": 8,
    "start_time": "2025-03-05T19:53:06.114Z"
   },
   {
    "duration": 12,
    "start_time": "2025-03-05T19:53:17.755Z"
   },
   {
    "duration": 9,
    "start_time": "2025-03-05T19:53:32.335Z"
   },
   {
    "duration": 11,
    "start_time": "2025-03-05T19:54:15.841Z"
   },
   {
    "duration": 12,
    "start_time": "2025-03-05T19:54:17.421Z"
   },
   {
    "duration": 12,
    "start_time": "2025-03-05T19:54:18.001Z"
   },
   {
    "duration": 12,
    "start_time": "2025-03-05T19:54:18.528Z"
   },
   {
    "duration": 12,
    "start_time": "2025-03-05T19:54:19.067Z"
   },
   {
    "duration": 9,
    "start_time": "2025-03-05T19:54:33.863Z"
   },
   {
    "duration": 6,
    "start_time": "2025-03-05T19:54:57.908Z"
   },
   {
    "duration": 4,
    "start_time": "2025-03-05T19:55:04.533Z"
   },
   {
    "duration": 12,
    "start_time": "2025-03-05T19:55:14.768Z"
   },
   {
    "duration": 9,
    "start_time": "2025-03-05T19:55:23.497Z"
   },
   {
    "duration": 9,
    "start_time": "2025-03-05T19:55:40.371Z"
   },
   {
    "duration": 163,
    "start_time": "2025-03-05T21:02:38.559Z"
   },
   {
    "duration": 398,
    "start_time": "2025-03-05T21:02:45.016Z"
   },
   {
    "duration": 27,
    "start_time": "2025-03-05T21:02:55.622Z"
   },
   {
    "duration": 26,
    "start_time": "2025-03-05T21:03:06.415Z"
   },
   {
    "duration": 26,
    "start_time": "2025-03-05T21:03:16.712Z"
   },
   {
    "duration": 26,
    "start_time": "2025-03-05T21:03:29.958Z"
   },
   {
    "duration": 26,
    "start_time": "2025-03-05T21:03:44.739Z"
   },
   {
    "duration": 26,
    "start_time": "2025-03-05T21:03:48.569Z"
   },
   {
    "duration": 3,
    "start_time": "2025-03-05T21:06:40.416Z"
   },
   {
    "duration": 816,
    "start_time": "2025-03-06T18:36:46.723Z"
   },
   {
    "duration": 21,
    "start_time": "2025-03-06T18:40:14.150Z"
   },
   {
    "duration": 280,
    "start_time": "2025-03-06T18:40:57.411Z"
   },
   {
    "duration": 5,
    "start_time": "2025-03-06T18:41:28.741Z"
   },
   {
    "duration": 6,
    "start_time": "2025-03-06T18:42:28.940Z"
   },
   {
    "duration": 134,
    "start_time": "2025-03-06T19:13:03.120Z"
   },
   {
    "duration": 76,
    "start_time": "2025-03-06T19:14:46.589Z"
   },
   {
    "duration": 2549,
    "start_time": "2025-03-06T19:15:16.710Z"
   },
   {
    "duration": 543,
    "start_time": "2025-03-06T19:20:57.572Z"
   },
   {
    "duration": 525,
    "start_time": "2025-03-06T19:21:13.698Z"
   },
   {
    "duration": 513,
    "start_time": "2025-03-06T19:24:07.797Z"
   },
   {
    "duration": 604,
    "start_time": "2025-03-06T19:24:11.314Z"
   },
   {
    "duration": 11,
    "start_time": "2025-03-06T19:25:07.470Z"
   },
   {
    "duration": 510,
    "start_time": "2025-03-06T19:25:24.086Z"
   },
   {
    "duration": 200,
    "start_time": "2025-03-06T19:26:02.935Z"
   }
  ],
  "kernelspec": {
   "display_name": "Python 3 (ipykernel)",
   "language": "python",
   "name": "python3"
  },
  "language_info": {
   "codemirror_mode": {
    "name": "ipython",
    "version": 3
   },
   "file_extension": ".py",
   "mimetype": "text/x-python",
   "name": "python",
   "nbconvert_exporter": "python",
   "pygments_lexer": "ipython3",
   "version": "3.9.19"
  },
  "toc": {
   "base_numbering": 1,
   "nav_menu": {},
   "number_sections": true,
   "sideBar": true,
   "skip_h1_title": true,
   "title_cell": "Table of Contents",
   "title_sidebar": "Contents",
   "toc_cell": false,
   "toc_position": {},
   "toc_section_display": true,
   "toc_window_display": false
  }
 },
 "nbformat": 4,
 "nbformat_minor": 2
}
