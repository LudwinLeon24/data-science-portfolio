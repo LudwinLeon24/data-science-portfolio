{
 "cells": [
  {
   "cell_type": "markdown",
   "metadata": {},
   "source": [
    "# Proyecto 10"
   ]
  },
  {
   "cell_type": "markdown",
   "metadata": {},
   "source": [
    "### Preparar Datos"
   ]
  },
  {
   "cell_type": "code",
   "execution_count": 14,
   "metadata": {
    "trusted": false
   },
   "outputs": [
    {
     "name": "stdout",
     "output_type": "stream",
     "text": [
      "0    7963\n",
      "1    2037\n",
      "Name: Exited, dtype: int64\n"
     ]
    },
    {
     "data": {
      "image/png": "[encoded data removed]",
      "text/plain": [
       "<Figure size 640x480 with 1 Axes>"
      ]
     },
     "metadata": {},
     "output_type": "display_data"
    }
   ],
   "source": [
    "import pandas as pd\n",
    "import matplotlib.pyplot as plt\n",
    "from sklearn.model_selection import train_test_split\n",
    "from sklearn.preprocessing import StandardScaler, OneHotEncoder\n",
    "from sklearn.compose import ColumnTransformer\n",
    "from sklearn.pipeline import Pipeline\n",
    "from sklearn.impute import SimpleImputer\n",
    "from sklearn.ensemble import RandomForestClassifier\n",
    "from sklearn.metrics import roc_auc_score, roc_curve\n",
    "\n",
    "\n",
    "\n",
    "df = pd.read_csv('/datasets/Churn.csv')\n",
    "\n",
    "# Elimine columnas irrelevantes\n",
    "df = df.drop(['RowNumber', 'CustomerId', 'Surname'], axis=1)\n",
    "\n",
    "# Separe características y objetivo\n",
    "target = df['Exited']\n",
    "features = df.drop('Exited', axis=1)\n",
    "\n",
    "# Identifique las columnas numéricas y categóricas\n",
    "numeric = ['CreditScore', 'Age', 'Tenure', 'Balance', 'NumOfProducts', 'EstimatedSalary']\n",
    "categorical = ['Geography', 'Gender']\n",
    "\n",
    "# Dividimos los  datos\n",
    "features_train, features_valid, target_train, target_valid = train_test_split(\n",
    "    features, target, test_size=0.25, random_state=42)\n",
    "\n",
    "# Preprocesamiento\n",
    "numeric_transformer = Pipeline(steps=[\n",
    "    ('imputer', SimpleImputer(strategy='mean')),\n",
    "    ('scaler', StandardScaler())])\n",
    "\n",
    "categorical_transformer = Pipeline(steps=[\n",
    "    ('encoder', OneHotEncoder(drop='first'))])  # evitamos la trampa de variables ficticias\n",
    "\n",
    "preprocessor = ColumnTransformer(\n",
    "    transformers=[\n",
    "        ('num', numeric_transformer, numeric),\n",
    "        ('cat', categorical_transformer, categorical)])\n",
    "\n",
    "# Aplicamos transformaciones\n",
    "features_train = preprocessor.fit_transform(features_train)\n",
    "features_valid = preprocessor.transform(features_valid)\n",
    "\n",
    "print(df['Exited'].value_counts())\n",
    "\n",
    "# agregareun grafico para mejor visualizacion\n",
    "\n",
    "df['Exited'].value_counts().plot(kind='bar', color=['skyblue', 'lightcoral'])\n",
    "plt.title('Distribución de la variable Exited (Clase 0 vs Clase 1)')\n",
    "plt.xlabel('Clase')\n",
    "plt.ylabel('Cantidad')\n",
    "plt.xticks([0, 1], ['No', 'Sí'], rotation=0)\n",
    "plt.show()"
   ]
  },
  {
   "cell_type": "markdown",
   "metadata": {},
   "source": [
    "### Examinar el equilibrio de clases"
   ]
  },
  {
   "cell_type": "code",
   "execution_count": 18,
   "metadata": {
    "trusted": false
   },
   "outputs": [
    {
     "name": "stdout",
     "output_type": "stream",
     "text": [
      "0    0.7963\n",
      "1    0.2037\n",
      "Name: Exited, dtype: float64\n",
      "F1 base: 0.5505481120584652\n"
     ]
    }
   ],
   "source": [
    "\n",
    "from sklearn.ensemble import RandomForestClassifier\n",
    "from sklearn.metrics import f1_score\n",
    "\n",
    "# Verifique equilibrio\n",
    "print(target.value_counts(normalize=True))  # Comprobar desequilibrio de clases\n",
    "\n",
    "# Entrenar modelo base\n",
    "model = RandomForestClassifier(random_state=42)\n",
    "model.fit(features_train, target_train)\n",
    "preds = model.predict(features_valid)\n",
    "\n",
    "# F1 Score\n",
    "print(\"F1 base:\", f1_score(target_valid, preds))\n",
    "\n",
    "\n"
   ]
  },
  {
   "cell_type": "markdown",
   "metadata": {},
   "source": [
    "### Mejora la calidad del modelo"
   ]
  },
  {
   "cell_type": "code",
   "execution_count": 19,
   "metadata": {
    "trusted": false
   },
   "outputs": [
    {
     "name": "stdout",
     "output_type": "stream",
     "text": [
      "F1 (con class_weight): 0.5341772151898734\n"
     ]
    }
   ],
   "source": [
    "\n",
    "model_weighted = RandomForestClassifier(random_state=42, class_weight='balanced')\n",
    "model_weighted.fit(features_train, target_train)\n",
    "preds_weighted = model_weighted.predict(features_valid)\n",
    "print(\"F1 (con class_weight):\", f1_score(target_valid, preds_weighted))"
   ]
  },
  {
   "cell_type": "markdown",
   "metadata": {},
   "source": [
    "### Mejora la calidad del modelo"
   ]
  },
  {
   "cell_type": "code",
   "execution_count": 20,
   "metadata": {
    "trusted": false
   },
   "outputs": [
    {
     "name": "stdout",
     "output_type": "stream",
     "text": [
      "AUC-ROC: 0.8426781357139341\n"
     ]
    }
   ],
   "source": [
    "\n",
    "probabilities = model_weighted.predict_proba(features_valid)[:, 1]\n",
    "print(\"AUC-ROC:\", roc_auc_score(target_valid, probabilities))"
   ]
  },
  {
   "cell_type": "markdown",
   "metadata": {},
   "source": [
    "Lo que descubri de la investigacion del ejercicio es:\n",
    "\n",
    "Primero era el objetivo del modelo que es predecir si los clientes abandonarán el banco, basado en diversas características del cliente. Sin embargo, el conjunto de datos está desequilibrado, lo que significa que la mayoría de los clientes no abandonan, lo que podría dificultar que el modelo aprenda a predecir correctamente a aquellos que abandonan.\n",
    "\n",
    "F1 Score: F1 de 0.55, lo que sugiere que el modelo no maneja bien el desequilibrio de clases.\n",
    "\n",
    "Modelo con ponderación de clases: F1 de 0.53, con un desempeño ligeramente inferior al modelo base, lo que indica que la ponderación no fue suficiente para mejorar significativamente el rendimiento.\n",
    "\n",
    "Impacto de la ponderación de clases: La técnica de class_weight='balanced' no tuvo un impacto fuerte, lo que sugiere que el modelo podría requerir ajustes adicionales en parámetros o cambiar de algoritmo para mejorar su desempeño.\n",
    "\n",
    "El modelo necesita mejorar, especialmente en la clasificación de la clase minoritaria (clientes que abandonan el banco).\n"
   ]
  }
 ],
 "metadata": {
  "ExecuteTimeLog": [
   {
    "duration": 304,
    "start_time": "2025-05-06T03:24:04.194Z"
   },
   {
    "duration": 524,
    "start_time": "2025-05-06T03:28:01.817Z"
   },
   {
    "duration": 228,
    "start_time": "2025-05-06T03:33:58.063Z"
   },
   {
    "duration": 30,
    "start_time": "2025-05-06T03:34:11.061Z"
   },
   {
    "duration": 60,
    "start_time": "2025-05-06T03:40:36.640Z"
   },
   {
    "duration": 2093,
    "start_time": "2025-05-06T03:41:27.782Z"
   },
   {
    "duration": 29,
    "start_time": "2025-05-06T03:48:55.860Z"
   },
   {
    "duration": 838,
    "start_time": "2025-05-06T03:49:00.571Z"
   },
   {
    "duration": 803,
    "start_time": "2025-05-06T03:50:18.034Z"
   },
   {
    "duration": 787,
    "start_time": "2025-05-06T03:50:47.483Z"
   },
   {
    "duration": 16,
    "start_time": "2025-05-06T03:50:54.958Z"
   },
   {
    "duration": 22,
    "start_time": "2025-05-06T03:52:17.387Z"
   },
   {
    "duration": 42,
    "start_time": "2025-05-06T03:52:50.784Z"
   },
   {
    "duration": 134,
    "start_time": "2025-05-06T04:04:51.008Z"
   },
   {
    "duration": 820,
    "start_time": "2025-05-06T04:04:51.145Z"
   },
   {
    "duration": 790,
    "start_time": "2025-05-06T04:04:51.966Z"
   },
   {
    "duration": 50,
    "start_time": "2025-05-06T04:04:52.759Z"
   },
   {
    "duration": 822,
    "start_time": "2025-05-06T04:05:30.889Z"
   },
   {
    "duration": 789,
    "start_time": "2025-05-06T04:05:31.713Z"
   },
   {
    "duration": 45,
    "start_time": "2025-05-06T04:05:32.504Z"
   }
  ],
  "kernelspec": {
   "display_name": "Python 3 (ipykernel)",
   "language": "python",
   "name": "python3"
  },
  "language_info": {
   "codemirror_mode": {
    "name": "ipython",
    "version": 3
   },
   "file_extension": ".py",
   "mimetype": "text/x-python",
   "name": "python",
   "nbconvert_exporter": "python",
   "pygments_lexer": "ipython3",
   "version": "3.9.19"
  },
  "toc": {
   "base_numbering": 1,
   "nav_menu": {},
   "number_sections": true,
   "sideBar": true,
   "skip_h1_title": true,
   "title_cell": "Table of Contents",
   "title_sidebar": "Contents",
   "toc_cell": false,
   "toc_position": {},
   "toc_section_display": true,
   "toc_window_display": false
  }
 },
 "nbformat": 4,
 "nbformat_minor": 2
}
