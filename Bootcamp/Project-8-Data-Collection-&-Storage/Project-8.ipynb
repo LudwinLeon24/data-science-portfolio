{
 "cells": [
  {
   "cell_type": "markdown",
   "metadata": {},
   "source": [
    "# Proyecto 8"
   ]
  },
  {
   "cell_type": "markdown",
   "metadata": {},
   "source": [
    "# Paso 4. Análisis exploratorio de datos (Python)"
   ]
  },
  {
   "cell_type": "code",
   "execution_count": 1,
   "metadata": {
    "trusted": true
   },
   "outputs": [
    {
     "data": {
      "text/html": [
       "<div>\n",
       "<style scoped>\n",
       "    .dataframe tbody tr th:only-of-type {\n",
       "        vertical-align: middle;\n",
       "    }\n",
       "\n",
       "    .dataframe tbody tr th {\n",
       "        vertical-align: top;\n",
       "    }\n",
       "\n",
       "    .dataframe thead th {\n",
       "        text-align: right;\n",
       "    }\n",
       "</style>\n",
       "<table border=\"1\" class=\"dataframe\">\n",
       "  <thead>\n",
       "    <tr style=\"text-align: right;\">\n",
       "      <th></th>\n",
       "      <th>company_name</th>\n",
       "      <th>trips_amount</th>\n",
       "    </tr>\n",
       "  </thead>\n",
       "  <tbody>\n",
       "    <tr>\n",
       "      <th>0</th>\n",
       "      <td>Flash Cab</td>\n",
       "      <td>19558</td>\n",
       "    </tr>\n",
       "    <tr>\n",
       "      <th>1</th>\n",
       "      <td>Taxi Affiliation Services</td>\n",
       "      <td>11422</td>\n",
       "    </tr>\n",
       "    <tr>\n",
       "      <th>2</th>\n",
       "      <td>Medallion Leasing</td>\n",
       "      <td>10367</td>\n",
       "    </tr>\n",
       "    <tr>\n",
       "      <th>3</th>\n",
       "      <td>Yellow Cab</td>\n",
       "      <td>9888</td>\n",
       "    </tr>\n",
       "    <tr>\n",
       "      <th>4</th>\n",
       "      <td>Taxi Affiliation Service Yellow</td>\n",
       "      <td>9299</td>\n",
       "    </tr>\n",
       "  </tbody>\n",
       "</table>\n",
       "</div>"
      ],
      "text/plain": [
       "                      company_name  trips_amount\n",
       "0                        Flash Cab         19558\n",
       "1        Taxi Affiliation Services         11422\n",
       "2                Medallion Leasing         10367\n",
       "3                       Yellow Cab          9888\n",
       "4  Taxi Affiliation Service Yellow          9299"
      ]
     },
     "metadata": {},
     "output_type": "display_data"
    },
    {
     "data": {
      "text/html": [
       "<div>\n",
       "<style scoped>\n",
       "    .dataframe tbody tr th:only-of-type {\n",
       "        vertical-align: middle;\n",
       "    }\n",
       "\n",
       "    .dataframe tbody tr th {\n",
       "        vertical-align: top;\n",
       "    }\n",
       "\n",
       "    .dataframe thead th {\n",
       "        text-align: right;\n",
       "    }\n",
       "</style>\n",
       "<table border=\"1\" class=\"dataframe\">\n",
       "  <thead>\n",
       "    <tr style=\"text-align: right;\">\n",
       "      <th></th>\n",
       "      <th>dropoff_location_name</th>\n",
       "      <th>average_trips</th>\n",
       "    </tr>\n",
       "  </thead>\n",
       "  <tbody>\n",
       "    <tr>\n",
       "      <th>0</th>\n",
       "      <td>Loop</td>\n",
       "      <td>10727.466667</td>\n",
       "    </tr>\n",
       "    <tr>\n",
       "      <th>1</th>\n",
       "      <td>River North</td>\n",
       "      <td>9523.666667</td>\n",
       "    </tr>\n",
       "    <tr>\n",
       "      <th>2</th>\n",
       "      <td>Streeterville</td>\n",
       "      <td>6664.666667</td>\n",
       "    </tr>\n",
       "    <tr>\n",
       "      <th>3</th>\n",
       "      <td>West Loop</td>\n",
       "      <td>5163.666667</td>\n",
       "    </tr>\n",
       "    <tr>\n",
       "      <th>4</th>\n",
       "      <td>O'Hare</td>\n",
       "      <td>2546.900000</td>\n",
       "    </tr>\n",
       "  </tbody>\n",
       "</table>\n",
       "</div>"
      ],
      "text/plain": [
       "  dropoff_location_name  average_trips\n",
       "0                  Loop   10727.466667\n",
       "1           River North    9523.666667\n",
       "2         Streeterville    6664.666667\n",
       "3             West Loop    5163.666667\n",
       "4                O'Hare    2546.900000"
      ]
     },
     "metadata": {},
     "output_type": "display_data"
    }
   ],
   "source": [
    "#Importar los archivos\n",
    "import pandas as pd\n",
    "import matplotlib.pyplot as plt\n",
    "import seaborn as sns\n",
    "\n",
    "# Cargar los dos archivos CSV\n",
    "df_trips = pd.read_csv('/datasets/project_sql_result_01.csv')\n",
    "df_dropoff = pd.read_csv('/datasets/project_sql_result_04.csv')\n",
    "\n",
    "# Verificar que los archivos se hayan cargado correctamente\n",
    "display(df_trips.head())\n",
    "display(df_dropoff.head())"
   ]
  },
  {
   "cell_type": "code",
   "execution_count": 2,
   "metadata": {
    "trusted": true
   },
   "outputs": [
    {
     "name": "stdout",
     "output_type": "stream",
     "text": [
      "Resumen del DataFrame de viajes:\n",
      "<class 'pandas.core.frame.DataFrame'>\n",
      "RangeIndex: 64 entries, 0 to 63\n",
      "Data columns (total 2 columns):\n",
      " #   Column        Non-Null Count  Dtype \n",
      "---  ------        --------------  ----- \n",
      " 0   company_name  64 non-null     object\n",
      " 1   trips_amount  64 non-null     int64 \n",
      "dtypes: int64(1), object(1)\n",
      "memory usage: 1.1+ KB\n",
      "None\n",
      "       trips_amount\n",
      "count     64.000000\n",
      "mean    2145.484375\n",
      "std     3812.310186\n",
      "min        2.000000\n",
      "25%       20.750000\n",
      "50%      178.500000\n",
      "75%     2106.500000\n",
      "max    19558.000000\n",
      "\n",
      "\n",
      "Resumen del DataFrame de barrios:\n",
      "<class 'pandas.core.frame.DataFrame'>\n",
      "RangeIndex: 94 entries, 0 to 93\n",
      "Data columns (total 2 columns):\n",
      " #   Column                 Non-Null Count  Dtype  \n",
      "---  ------                 --------------  -----  \n",
      " 0   dropoff_location_name  94 non-null     object \n",
      " 1   average_trips          94 non-null     float64\n",
      "dtypes: float64(1), object(1)\n",
      "memory usage: 1.6+ KB\n",
      "None\n",
      "       average_trips\n",
      "count      94.000000\n",
      "mean      599.953728\n",
      "std      1714.591098\n",
      "min         1.800000\n",
      "25%        14.266667\n",
      "50%        52.016667\n",
      "75%       298.858333\n",
      "max     10727.466667\n",
      "\n",
      "Primeras filas del DataFrame de viajes:\n",
      "                      company_name  trips_amount\n",
      "0                        Flash Cab         19558\n",
      "1        Taxi Affiliation Services         11422\n",
      "2                Medallion Leasing         10367\n",
      "3                       Yellow Cab          9888\n",
      "4  Taxi Affiliation Service Yellow          9299\n",
      "\n",
      "Primeras filas del DataFrame de barrios:\n",
      "  dropoff_location_name  average_trips\n",
      "0                  Loop   10727.466667\n",
      "1           River North    9523.666667\n",
      "2         Streeterville    6664.666667\n",
      "3             West Loop    5163.666667\n",
      "4                O'Hare    2546.900000\n"
     ]
    }
   ],
   "source": [
    "# estudiar los datos que contienen\n",
    "\n",
    "# 1. Obtener un resumen general de cada DataFrame\n",
    "print(\"Resumen del DataFrame de viajes:\")\n",
    "print(df_trips.info())\n",
    "print(df_trips.describe())\n",
    "print(\"\\n\")\n",
    "\n",
    "print(\"Resumen del DataFrame de barrios:\")\n",
    "print(df_dropoff.info())\n",
    "print(df_dropoff.describe())\n",
    "\n",
    "# 2. Ver las primeras filas de cada DataFrame\n",
    "print(\"\\nPrimeras filas del DataFrame de viajes:\")\n",
    "print(df_trips.head())\n",
    "\n",
    "print(\"\\nPrimeras filas del DataFrame de barrios:\")\n",
    "print(df_dropoff.head())"
   ]
  },
  {
   "cell_type": "markdown",
   "metadata": {},
   "source": [
    "### Asegurarte de que los tipos de datos sean correctos\n",
    "\n",
    "yo no veo ningun error con los datos en este momento\n",
    "\n",
    "En el DataFrame de viajes \n",
    "company_name tiene el tipo object, que es adecuado para cadenas de texto.\n",
    "trips_amount tiene el tipo int64, que es adecuado para números enteros.\n",
    "\n",
    "En el DataFrame de barrios:\n",
    "dropoff_location_name tiene el tipo object, que es adecuado para cadenas de texto.\n",
    "average_trips tiene el tipo float64, que es adecuado para números decimales.\n",
    "\n",
    "\n"
   ]
  },
  {
   "cell_type": "code",
   "execution_count": 3,
   "metadata": {
    "scrolled": true,
    "trusted": true
   },
   "outputs": [
    {
     "data": {
      "text/html": [
       "<div>\n",
       "<style scoped>\n",
       "    .dataframe tbody tr th:only-of-type {\n",
       "        vertical-align: middle;\n",
       "    }\n",
       "\n",
       "    .dataframe tbody tr th {\n",
       "        vertical-align: top;\n",
       "    }\n",
       "\n",
       "    .dataframe thead th {\n",
       "        text-align: right;\n",
       "    }\n",
       "</style>\n",
       "<table border=\"1\" class=\"dataframe\">\n",
       "  <thead>\n",
       "    <tr style=\"text-align: right;\">\n",
       "      <th></th>\n",
       "      <th>dropoff_location_name</th>\n",
       "      <th>average_trips</th>\n",
       "    </tr>\n",
       "  </thead>\n",
       "  <tbody>\n",
       "    <tr>\n",
       "      <th>0</th>\n",
       "      <td>Loop</td>\n",
       "      <td>10727.466667</td>\n",
       "    </tr>\n",
       "    <tr>\n",
       "      <th>1</th>\n",
       "      <td>River North</td>\n",
       "      <td>9523.666667</td>\n",
       "    </tr>\n",
       "    <tr>\n",
       "      <th>2</th>\n",
       "      <td>Streeterville</td>\n",
       "      <td>6664.666667</td>\n",
       "    </tr>\n",
       "    <tr>\n",
       "      <th>3</th>\n",
       "      <td>West Loop</td>\n",
       "      <td>5163.666667</td>\n",
       "    </tr>\n",
       "    <tr>\n",
       "      <th>4</th>\n",
       "      <td>O'Hare</td>\n",
       "      <td>2546.900000</td>\n",
       "    </tr>\n",
       "    <tr>\n",
       "      <th>5</th>\n",
       "      <td>Lake View</td>\n",
       "      <td>2420.966667</td>\n",
       "    </tr>\n",
       "    <tr>\n",
       "      <th>6</th>\n",
       "      <td>Grant Park</td>\n",
       "      <td>2068.533333</td>\n",
       "    </tr>\n",
       "    <tr>\n",
       "      <th>7</th>\n",
       "      <td>Museum Campus</td>\n",
       "      <td>1510.000000</td>\n",
       "    </tr>\n",
       "    <tr>\n",
       "      <th>8</th>\n",
       "      <td>Gold Coast</td>\n",
       "      <td>1364.233333</td>\n",
       "    </tr>\n",
       "    <tr>\n",
       "      <th>9</th>\n",
       "      <td>Sheffield &amp; DePaul</td>\n",
       "      <td>1259.766667</td>\n",
       "    </tr>\n",
       "  </tbody>\n",
       "</table>\n",
       "</div>"
      ],
      "text/plain": [
       "  dropoff_location_name  average_trips\n",
       "0                  Loop   10727.466667\n",
       "1           River North    9523.666667\n",
       "2         Streeterville    6664.666667\n",
       "3             West Loop    5163.666667\n",
       "4                O'Hare    2546.900000\n",
       "5             Lake View    2420.966667\n",
       "6            Grant Park    2068.533333\n",
       "7         Museum Campus    1510.000000\n",
       "8            Gold Coast    1364.233333\n",
       "9    Sheffield & DePaul    1259.766667"
      ]
     },
     "metadata": {},
     "output_type": "display_data"
    }
   ],
   "source": [
    "# identificar los 10 principales barrios en términos de finalización del recorrido\n",
    "\n",
    "# Ordenar el DataFrame por la columna 'average_trips' de mayor a menor\n",
    "top_10_dropoff_locations = df_dropoff.sort_values(by='average_trips', ascending=False).head(10)\n",
    "\n",
    "# Mostrar los 10 principales barrios en términos de finalización del recorrido\n",
    "display(top_10_dropoff_locations)"
   ]
  },
  {
   "cell_type": "code",
   "execution_count": 4,
   "metadata": {
    "scrolled": true,
    "trusted": true
   },
   "outputs": [
    {
     "data": {
      "image/png": "[encoded data removed]",
      "text/plain": [
       "<Figure size 1000x600 with 1 Axes>"
      ]
     },
     "metadata": {},
     "output_type": "display_data"
    }
   ],
   "source": [
    "# Las 10 empresas con más viajes\n",
    "top_10_trips = df_trips.sort_values(by='trips_amount', ascending=False).head(10)\n",
    "\n",
    "plt.figure(figsize=(10, 6))\n",
    "sns.barplot(x='company_name', y='trips_amount', data=top_10_trips, palette='viridis')\n",
    "\n",
    "# Personalizar el gráfico\n",
    "plt.title('Top 10 Empresas de Taxis por Número de Viajes', fontsize=16)\n",
    "plt.xlabel('Empresa de Taxis', fontsize=12)\n",
    "plt.ylabel('Número de Viajes', fontsize=12)\n",
    "plt.xticks(rotation=45, ha='right')  # Rotar las etiquetas del eje x para mayor claridad\n",
    "plt.tight_layout()\n",
    "\n",
    "# Mostrar el gráfico\n",
    "plt.show()\n"
   ]
  },
  {
   "cell_type": "code",
   "execution_count": 5,
   "metadata": {
    "scrolled": true,
    "trusted": true
   },
   "outputs": [
    {
     "data": {
      "image/png": "[encoded data removed]",
      "text/plain": [
       "<Figure size 1000x600 with 1 Axes>"
      ]
     },
     "metadata": {},
     "output_type": "display_data"
    }
   ],
   "source": [
    "# hacer gráficos: Los 10 barrios principales por número de finalizaciones\n",
    "\n",
    "# Crear el gráfico de barras para los 10 barrios principales\n",
    "plt.figure(figsize=(10, 6))\n",
    "sns.barplot(x='average_trips', y='dropoff_location_name', data=top_10_dropoff_locations, palette='magma')\n",
    "\n",
    "# Personalizar el gráfico\n",
    "plt.title('Los 10 Principales Barrios por Número de Finalizaciones de Viajes', fontsize=16)\n",
    "plt.xlabel('Promedio de Viajes Finalizados', fontsize=12)\n",
    "plt.ylabel('Barrio', fontsize=12)\n",
    "plt.tight_layout()\n",
    "\n",
    "# Mostrar el gráfico\n",
    "plt.show()"
   ]
  },
  {
   "cell_type": "markdown",
   "metadata": {},
   "source": [
    "### sacar conclusiones basadas en cada gráfico y explicar los resultados\n",
    "\n",
    "Con los resultados que las graficas nos muestras nos podemos percatar de las empresas mas populares que realizan viajes asi como de los barrios donde más se finalizan los viajes, las empresas más populares pueden ser porque tienen los mejores precios, son muy populares o dan un excelente servicio, en cuanto a calidad, tiempo y servicio.\n",
    "\n",
    "En cuanto a los barrios donde mas se finalizan viajes, pyuede ser porque son destinos populares, con muchos atrativos o actividades en los alrededores o lugares seguros que las personas suelen visitar.\n"
   ]
  },
  {
   "cell_type": "markdown",
   "metadata": {},
   "source": [
    "# Paso 5. Prueba de hipótesis (Python)"
   ]
  },
  {
   "cell_type": "code",
   "execution_count": 6,
   "metadata": {
    "trusted": true
   },
   "outputs": [
    {
     "name": "stdout",
     "output_type": "stream",
     "text": [
      "Viajes en sábados lluviosos: 180\n",
      "Viajes en otros días lluviosos: 0\n",
      "\n",
      "No hay suficientes datos en uno o ambos grupos para realizar la prueba.\n"
     ]
    }
   ],
   "source": [
    "# 1. Importar librerías necesarias\n",
    "import pandas as pd\n",
    "from scipy import stats\n",
    "\n",
    "# 2. Cargar el archivo\n",
    "df = pd.read_csv('/datasets/project_sql_result_07.csv')\n",
    "\n",
    "# 3. Asegurar que la columna de fechas esté en formato datetime\n",
    "df['start_ts'] = pd.to_datetime(df['start_ts'])\n",
    "\n",
    "# 4. Eliminar filas con valores faltantes en las columnas importantes\n",
    "df = df.dropna(subset=['start_ts', 'weather_conditions', 'duration_seconds'])\n",
    "\n",
    "# 5. Crear columnas adicionales\n",
    "df['day_of_week'] = df['start_ts'].dt.dayofweek  # Lunes=0, Sábado=5\n",
    "df['is_saturday'] = df['day_of_week'] == 5\n",
    "df['is_rainy'] = df['weather_conditions'] == 'Bad'\n",
    "\n",
    "\n",
    "# Filtrar los datos\n",
    "rainy_trips = df[df['is_rainy']]\n",
    "\n",
    "saturday_rain = rainy_trips[rainy_trips['is_saturday']]['duration_seconds']\n",
    "other_days_rain = rainy_trips[~rainy_trips['is_saturday']]['duration_seconds']\n",
    "\n",
    "# cuántos viajes hay en cada grupo\n",
    "print(f\"Viajes en sábados lluviosos: {len(saturday_rain)}\")\n",
    "print(f\"Viajes en otros días lluviosos: {len(other_days_rain)}\")\n",
    "\n",
    "# Verifique si ambos grupos tienen suficientes datos\n",
    "if len(saturday_rain) > 1 and len(other_days_rain) > 1:\n",
    "    # 8. Realizar la prueba de hipótesis (prueba t para muestras independientes)\n",
    "    t_stat, p_value = stats.ttest_ind(saturday_rain, other_days_rain, equal_var=False)\n",
    "\n",
    "    print(f\"\\nEstadístico t: {t_stat}\")\n",
    "    print(f\"Valor p: {p_value}\")\n",
    "\n",
    "    # Nivel de significancia\n",
    "    alpha = 0.05\n",
    "\n",
    "    if p_value < alpha:\n",
    "        print(\"Rechazamos la hipótesis nula: la duración promedio SÍ cambia los sábados lluviosos.\")\n",
    "    else:\n",
    "        print(\"No hay evidencia suficiente para rechazar la hipótesis nula.\")\n",
    "else:\n",
    "    print(\"\\nNo hay suficientes datos en uno o ambos grupos para realizar la prueba.\")\n",
    "\n"
   ]
  },
  {
   "cell_type": "markdown",
   "metadata": {},
   "source": [
    "\n",
    "\n",
    "Hipótesis nula (H₀): La duración promedio de los viajes desde el Loop hasta el Aeropuerto Internacional O'Hare no cambia en los sábados lluviosos.\n",
    "\n",
    "Hipótesis alternativa (H₁): La duración promedio de los viajes desde el Loop hasta el Aeropuerto Internacional O'Hare sí cambia en los sábados lluviosos.\n",
    "\n",
    "Criterio de prueba:\n",
    "Usé una prueba t de Student para muestras independientes con un nivel de significancia de α = 0.05.\n",
    "\n",
    "Resultado:\n",
    "Después de filtrar el dataset por viajes en sábados lluviosos y por viajes en otros días lluviosos, encontré que no existen registros suficientes (ambos grupos tienen cero viajes), por lo tanto, no es posible realizar la prueba estadística.\n",
    "\n",
    "Conclusión:\n",
    "No se puede rechazar ni aceptar la hipótesis nula debido a la falta de datos relevantes en el periodo analizado."
   ]
  },
  {
   "cell_type": "code",
   "execution_count": 8,
   "metadata": {
    "trusted": true
   },
   "outputs": [
    {
     "data": {
      "text/plain": [
       "Good    888\n",
       "Bad     180\n",
       "Name: weather_conditions, dtype: int64"
      ]
     },
     "execution_count": 8,
     "metadata": {},
     "output_type": "execute_result"
    }
   ],
   "source": [
    "df['weather_conditions'].value_counts()"
   ]
  },
  {
   "cell_type": "code",
   "execution_count": 9,
   "metadata": {
    "scrolled": true,
    "trusted": true
   },
   "outputs": [
    {
     "name": "stdout",
     "output_type": "stream",
     "text": [
      "Sábados con lluvia: 180\n",
      "Sábados sin lluvia: 888\n",
      "\n",
      "Estadístico t: 7.186034288068629\n",
      "Valor p: 6.738994326108734e-12\n",
      "Rechazamos H₀: la duración promedio de los viajes SÍ cambia los sábados con lluvia.\n"
     ]
    }
   ],
   "source": [
    "# 1. Importar librerías necesarias\n",
    "import pandas as pd\n",
    "from scipy import stats\n",
    "\n",
    "# 2. Cargar el archivo CSV\n",
    "df = pd.read_csv('/datasets/project_sql_result_07.csv')\n",
    "\n",
    "# 3. Asegurar que la columna de fechas esté en formato datetime\n",
    "df['start_ts'] = pd.to_datetime(df['start_ts'])\n",
    "\n",
    "# 4. Eliminar filas con valores faltantes en columnas relevantes\n",
    "df = df.dropna(subset=['start_ts', 'weather_conditions', 'duration_seconds'])\n",
    "\n",
    "# 5. Crear columnas adicionales\n",
    "df['day_of_week'] = df['start_ts'].dt.dayofweek  # Lunes=0, Sábado=5\n",
    "df['is_saturday'] = df['day_of_week'] == 5\n",
    "df['is_rainy'] = df['weather_conditions'] == 'Bad'\n",
    "\n",
    "# 6. Filtrar solo viajes en sábado\n",
    "saturday_trips = df[df['is_saturday']]\n",
    "\n",
    "# 7. Dividir en sábados con lluvia y sábados sin lluvia\n",
    "saturday_rain = saturday_trips[saturday_trips['is_rainy']]['duration_seconds']\n",
    "saturday_clear = saturday_trips[~saturday_trips['is_rainy']]['duration_seconds']\n",
    "\n",
    "# 8. Verificar tamaños de muestra\n",
    "print(f\"Sábados con lluvia: {len(saturday_rain)}\")\n",
    "print(f\"Sábados sin lluvia: {len(saturday_clear)}\")\n",
    "\n",
    "# 9. Realizar la prueba si hay suficientes datos\n",
    "if len(saturday_rain) > 1 and len(saturday_clear) > 1:\n",
    "    t_stat, p_value = stats.ttest_ind(saturday_rain, saturday_clear, equal_var=False)\n",
    "\n",
    "    print(f\"\\nEstadístico t: {t_stat}\")\n",
    "    print(f\"Valor p: {p_value}\")\n",
    "\n",
    "    alpha = 0.05\n",
    "    if p_value < alpha:\n",
    "        print(\"Rechazamos H₀: la duración promedio de los viajes SÍ cambia los sábados con lluvia.\")\n",
    "    else:\n",
    "        print(\"No se puede rechazar H₀: no hay evidencia suficiente de que cambie la duración promedio.\")\n",
    "else:\n",
    "    print(\"No hay suficientes datos en uno o ambos grupos para realizar la prueba.\")\n"
   ]
  }
 ],
 "metadata": {
  "ExecuteTimeLog": [
   {
    "duration": 2911,
    "start_time": "2025-04-09T19:42:27.576Z"
   },
   {
    "duration": 15,
    "start_time": "2025-04-09T19:42:46.961Z"
   },
   {
    "duration": 32,
    "start_time": "2025-04-09T19:48:17.259Z"
   },
   {
    "duration": 8,
    "start_time": "2025-04-09T19:56:56.173Z"
   },
   {
    "duration": 1956,
    "start_time": "2025-04-09T19:58:04.967Z"
   },
   {
    "duration": 299,
    "start_time": "2025-04-09T19:58:38.370Z"
   },
   {
    "duration": 1314,
    "start_time": "2025-04-09T19:58:41.514Z"
   },
   {
    "duration": 274,
    "start_time": "2025-04-09T19:59:27.096Z"
   },
   {
    "duration": 1217,
    "start_time": "2025-04-09T19:59:31.831Z"
   },
   {
    "duration": 233,
    "start_time": "2025-04-09T20:00:36.398Z"
   },
   {
    "duration": 356,
    "start_time": "2025-04-09T20:01:07.225Z"
   },
   {
    "duration": 297,
    "start_time": "2025-04-09T20:01:42.989Z"
   },
   {
    "duration": 779,
    "start_time": "2025-04-10T17:43:13.360Z"
   },
   {
    "duration": 205,
    "start_time": "2025-04-10T17:44:20.028Z"
   },
   {
    "duration": 23,
    "start_time": "2025-04-10T17:46:02.989Z"
   },
   {
    "duration": 2869,
    "start_time": "2025-04-11T01:47:49.514Z"
   },
   {
    "duration": 25,
    "start_time": "2025-04-11T01:47:52.386Z"
   },
   {
    "duration": 17,
    "start_time": "2025-04-11T01:47:52.413Z"
   },
   {
    "duration": 314,
    "start_time": "2025-04-11T01:47:52.433Z"
   },
   {
    "duration": 264,
    "start_time": "2025-04-11T01:47:52.750Z"
   },
   {
    "duration": 30,
    "start_time": "2025-04-11T01:47:53.016Z"
   },
   {
    "duration": 2500,
    "start_time": "2025-04-11T21:31:27.640Z"
   },
   {
    "duration": 23,
    "start_time": "2025-04-11T21:31:30.142Z"
   },
   {
    "duration": 8,
    "start_time": "2025-04-11T21:31:30.166Z"
   },
   {
    "duration": 340,
    "start_time": "2025-04-11T21:31:30.175Z"
   },
   {
    "duration": 244,
    "start_time": "2025-04-11T21:31:30.518Z"
   },
   {
    "duration": 22,
    "start_time": "2025-04-11T21:31:30.765Z"
   },
   {
    "duration": 8,
    "start_time": "2025-04-11T21:31:48.681Z"
   },
   {
    "duration": 4,
    "start_time": "2025-04-11T21:32:24.433Z"
   },
   {
    "duration": 586,
    "start_time": "2025-04-12T01:54:46.517Z"
   },
   {
    "duration": 16,
    "start_time": "2025-04-12T01:55:51.467Z"
   },
   {
    "duration": 15,
    "start_time": "2025-04-12T01:56:19.751Z"
   },
   {
    "duration": 12,
    "start_time": "2025-04-12T01:57:03.092Z"
   },
   {
    "duration": 937,
    "start_time": "2025-04-12T19:30:05.444Z"
   },
   {
    "duration": 28,
    "start_time": "2025-04-12T19:30:06.384Z"
   },
   {
    "duration": 11,
    "start_time": "2025-04-12T19:30:06.414Z"
   },
   {
    "duration": 308,
    "start_time": "2025-04-12T19:30:06.428Z"
   },
   {
    "duration": 301,
    "start_time": "2025-04-12T19:30:06.738Z"
   },
   {
    "duration": 84,
    "start_time": "2025-04-12T19:30:07.042Z"
   },
   {
    "duration": 8,
    "start_time": "2025-04-12T19:30:07.128Z"
   },
   {
    "duration": 7,
    "start_time": "2025-04-12T19:30:07.138Z"
   },
   {
    "duration": 18,
    "start_time": "2025-04-12T19:34:18.123Z"
   }
  ],
  "kernelspec": {
   "display_name": "Python 3 (ipykernel)",
   "language": "python",
   "name": "python3"
  },
  "language_info": {
   "codemirror_mode": {
    "name": "ipython",
    "version": 3
   },
   "file_extension": ".py",
   "mimetype": "text/x-python",
   "name": "python",
   "nbconvert_exporter": "python",
   "pygments_lexer": "ipython3",
   "version": "3.9.19"
  },
  "toc": {
   "base_numbering": 1,
   "nav_menu": {},
   "number_sections": true,
   "sideBar": true,
   "skip_h1_title": true,
   "title_cell": "Table of Contents",
   "title_sidebar": "Contents",
   "toc_cell": false,
   "toc_position": {},
   "toc_section_display": true,
   "toc_window_display": false
  }
 },
 "nbformat": 4,
 "nbformat_minor": 2
}
