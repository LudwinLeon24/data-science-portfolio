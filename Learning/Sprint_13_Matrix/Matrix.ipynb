{
 "cells": [
  {
   "cell_type": "markdown",
   "id": "2f825e5e",
   "metadata": {},
   "source": [
    "## Creación de matrices"
   ]
  },
  {
   "cell_type": "markdown",
   "id": "96c688a3",
   "metadata": {},
   "source": [
    "##### Matriz se puede interpretar como filas de vectores o columnas de vectores, donde cada vector es una lista de números que pueden estar en una fila o en una columna."
   ]
  },
  {
   "cell_type": "code",
   "execution_count": 7,
   "id": "d96ad6a8",
   "metadata": {},
   "outputs": [
    {
     "name": "stdout",
     "output_type": "stream",
     "text": [
      "[[1 2 3]\n",
      " [4 5 6]\n",
      " [7 8 9]]\n",
      "[[1 2 3]\n",
      " [4 5 6]\n",
      " [7 8 9]]\n"
     ]
    }
   ],
   "source": [
    "# Puedes crear una matriz en Python usando la función np.array()\n",
    "# Solo necesitas una lista de listas con lamisma longitud\n",
    "\n",
    "import numpy as np\n",
    "\n",
    "matrix = np.array([\n",
    "    [1, 2, 3], \n",
    "    [4, 5, 6],\n",
    "    [7, 8, 9]\n",
    "])\n",
    "print(matrix)\n",
    "\n",
    "\n",
    "pythonmatrix = np.array([\n",
    "    [1, 2, 3],\n",
    "    [4, 5, 6],\n",
    "    [7, 8, 9]\n",
    "])\n",
    "\n",
    "print(pythonmatrix)"
   ]
  },
  {
   "cell_type": "markdown",
   "id": "08c362ce",
   "metadata": {},
   "source": []
  },
  {
   "cell_type": "code",
   "execution_count": 11,
   "id": "77fb9921",
   "metadata": {},
   "outputs": [
    {
     "name": "stdout",
     "output_type": "stream",
     "text": [
      "[array([1, 2, 3]), array([-1, -2, -3])]\n",
      "[[ 1  2  3]\n",
      " [-1 -2 -3]]\n"
     ]
    }
   ],
   "source": [
    "\n",
    "\n",
    "vector1 = np.array([1, 2, 3])\n",
    "vector2 = np.array([-1, -2, -3])\n",
    "\n",
    "list_of_vectors = [vector1, vector2]\n",
    "\n",
    "matrix_from_vectors = np.array(list_of_vectors)\n",
    "\n",
    "print(list_of_vectors)\n",
    "print(matrix_from_vectors)"
   ]
  },
  {
   "cell_type": "code",
   "execution_count": null,
   "id": "d76c5043",
   "metadata": {},
   "outputs": [
    {
     "name": "stdout",
     "output_type": "stream",
     "text": [
      "     a   b\n",
      "0  120  42\n",
      "1   60  50\n",
      "2   75  90\n",
      "\n",
      "[[120  42]\n",
      " [ 60  50]\n",
      " [ 75  90]]\n"
     ]
    }
   ],
   "source": [
    "#usando pandas\n",
    "import pandas as pd\n",
    "\n",
    "df = pd.DataFrame({'a': [120, 60, 75], 'b': [42, 50, 90]})\n",
    "matrix = df.values\n",
    "print(df)\n",
    "print()\n",
    "print(matrix)\n",
    "\n",
    "A = np.array([\n",
    "    [1, 2, 3], \n",
    "    [2, 3, 4]])\n",
    "\n",
    "print('Tamaño:', A.shape) #shape funcion para ver el tamano  de filas y columnas\n",
    "\n",
    "\n",
    "matrix = np.array([\n",
    "    [1, 2, 3], \n",
    "    [4, 5, 6],\n",
    "    [7, 8, 9],\n",
    "    [10,11,12]])\n",
    "\n",
    "print('Primera fila:', matrix[0, :]) #asi se selecciona una fila y toda la columna dentro de la matriz\n",
    "print('Tercera columna:', matrix[:, 2]) #asi se selecciona una columan  y toda la fila  dentro de la matriz"
   ]
  },
  {
   "cell_type": "code",
   "execution_count": null,
   "id": "81a04bbe",
   "metadata": {},
   "outputs": [],
   "source": [
    "# Ejercicio 1\n",
    "# A partir de una lista de filas, crea una matriz de 2×3 donde la primera fila contenga los números 3, 14, 159 y la segunda -2, 7, 183.\n",
    "\n",
    "matrix = np.array ([[3, 14, 159], [-2, 7, 183]])\n",
    "\n",
    "print(matrix)\n",
    "\n",
    "# El operador de telefonía móvil T-phone quiere analizar los datos de uso diario de los clientes. \n",
    "# La tabla muestra la cantidad de mensajes de texto, minutos de conversación y megabytes de cinco clientes en el día lunes (monday).\n",
    "# Convierte la tabla en una matriz y muéstrala en la pantalla (en precódigo).\n",
    "\n",
    "\n",
    "monday_df = pd.DataFrame({'Minutos': [10, 3, 15, 27, 7], \n",
    "                          'Mensajes': [2, 5, 3, 0, 1], \n",
    "                          'Megabytes': [72, 111, 50, 76, 85]})\n",
    " \n",
    "monday = monday_df.values\n",
    "\n",
    "print(monday)\n",
    "\n",
    "#Selecciona los datos para el cuarto cliente de la matriz resultante (¡cuidado con los índices!). Muestra el resultado en la pantalla.\n",
    "print(monday[3])\n",
    "\n",
    "#En la matriz monday, selecciona la cantidad de datos que utilizó cada cliente. Muestra el resultado en la pantalla.\n",
    "print(monday[:,2])  "
   ]
  },
  {
   "cell_type": "markdown",
   "id": "853446a9",
   "metadata": {},
   "source": [
    "Notas: Recordar que siempre se comienza a enumerar desde el 0 "
   ]
  },
  {
   "cell_type": "markdown",
   "id": "54a74a00",
   "metadata": {},
   "source": [
    "## Operaciones con elementos de matriz"
   ]
  },
  {
   "cell_type": "markdown",
   "id": "a188d35b",
   "metadata": {},
   "source": []
  },
  {
   "cell_type": "code",
   "execution_count": 31,
   "id": "94ae3b85",
   "metadata": {},
   "outputs": [
    {
     "name": "stdout",
     "output_type": "stream",
     "text": [
      "[[ 6  8]\n",
      " [10 12]]\n",
      "\n",
      "[[-4 -4]\n",
      " [-4 -4]]\n",
      "\n",
      "[[ 5 12]\n",
      " [21 32]]\n",
      "\n",
      "[[ 5 12]\n",
      " [21 32]]\n",
      "\n",
      "[[2 4]\n",
      " [6 8]]\n",
      "\n"
     ]
    }
   ],
   "source": [
    "\n",
    "\n",
    "matrix1 = np.array([\n",
    "    [1, 2], \n",
    "    [3, 4]])\n",
    "\n",
    "matrix2 = np.array([\n",
    "    [5, 6], \n",
    "    [7, 8]])\n",
    "\n",
    "print(f\"{matrix1 + matrix2}\\n\")# se suman, restan y multiplican con sus iguales, tienen que tener las mismas dimensiones      \n",
    "print(f\"{matrix1 - matrix2}\\n\")# para hacer estos saltos de linea necesitas n y usar f con \" y {}\n",
    "print(matrix1 * matrix2) \n",
    "print()\n",
    "print(np.multiply(matrix1, matrix2))\n",
    "print()\n",
    "print(f\"{matrix1 * 2}\\n\") #se puede multiplicar toda la matriz por un solo elemento}\")"
   ]
  },
  {
   "cell_type": "code",
   "execution_count": 49,
   "id": "d8076bd3",
   "metadata": {},
   "outputs": [
    {
     "name": "stdout",
     "output_type": "stream",
     "text": [
      "En una semana\n"
     ]
    },
    {
     "data": {
      "text/html": [
       "<div>\n",
       "<style scoped>\n",
       "    .dataframe tbody tr th:only-of-type {\n",
       "        vertical-align: middle;\n",
       "    }\n",
       "\n",
       "    .dataframe tbody tr th {\n",
       "        vertical-align: top;\n",
       "    }\n",
       "\n",
       "    .dataframe thead th {\n",
       "        text-align: right;\n",
       "    }\n",
       "</style>\n",
       "<table border=\"1\" class=\"dataframe\">\n",
       "  <thead>\n",
       "    <tr style=\"text-align: right;\">\n",
       "      <th></th>\n",
       "      <th>Minutos</th>\n",
       "      <th>Mensajes</th>\n",
       "      <th>Megabytes</th>\n",
       "    </tr>\n",
       "  </thead>\n",
       "  <tbody>\n",
       "    <tr>\n",
       "      <th>0</th>\n",
       "      <td>174</td>\n",
       "      <td>7</td>\n",
       "      <td>652</td>\n",
       "    </tr>\n",
       "    <tr>\n",
       "      <th>1</th>\n",
       "      <td>100</td>\n",
       "      <td>22</td>\n",
       "      <td>564</td>\n",
       "    </tr>\n",
       "    <tr>\n",
       "      <th>2</th>\n",
       "      <td>69</td>\n",
       "      <td>10</td>\n",
       "      <td>348</td>\n",
       "    </tr>\n",
       "    <tr>\n",
       "      <th>3</th>\n",
       "      <td>192</td>\n",
       "      <td>17</td>\n",
       "      <td>409</td>\n",
       "    </tr>\n",
       "    <tr>\n",
       "      <th>4</th>\n",
       "      <td>95</td>\n",
       "      <td>8</td>\n",
       "      <td>401</td>\n",
       "    </tr>\n",
       "  </tbody>\n",
       "</table>\n",
       "</div>"
      ],
      "text/plain": [
       "   Minutos  Mensajes  Megabytes\n",
       "0      174         7        652\n",
       "1      100        22        564\n",
       "2       69        10        348\n",
       "3      192        17        409\n",
       "4       95         8        401"
      ]
     },
     "metadata": {},
     "output_type": "display_data"
    },
    {
     "name": "stdout",
     "output_type": "stream",
     "text": [
      "\n",
      "Pronóstico para un mes\n"
     ]
    },
    {
     "data": {
      "text/html": [
       "<div>\n",
       "<style scoped>\n",
       "    .dataframe tbody tr th:only-of-type {\n",
       "        vertical-align: middle;\n",
       "    }\n",
       "\n",
       "    .dataframe tbody tr th {\n",
       "        vertical-align: top;\n",
       "    }\n",
       "\n",
       "    .dataframe thead th {\n",
       "        text-align: right;\n",
       "    }\n",
       "</style>\n",
       "<table border=\"1\" class=\"dataframe\">\n",
       "  <thead>\n",
       "    <tr style=\"text-align: right;\">\n",
       "      <th></th>\n",
       "      <th>Minutos</th>\n",
       "      <th>Mensajes</th>\n",
       "      <th>Megabytes</th>\n",
       "    </tr>\n",
       "  </thead>\n",
       "  <tbody>\n",
       "    <tr>\n",
       "      <th>0</th>\n",
       "      <td>756</td>\n",
       "      <td>30</td>\n",
       "      <td>2832</td>\n",
       "    </tr>\n",
       "    <tr>\n",
       "      <th>1</th>\n",
       "      <td>434</td>\n",
       "      <td>96</td>\n",
       "      <td>2449</td>\n",
       "    </tr>\n",
       "    <tr>\n",
       "      <th>2</th>\n",
       "      <td>300</td>\n",
       "      <td>43</td>\n",
       "      <td>1511</td>\n",
       "    </tr>\n",
       "    <tr>\n",
       "      <th>3</th>\n",
       "      <td>834</td>\n",
       "      <td>74</td>\n",
       "      <td>1776</td>\n",
       "    </tr>\n",
       "    <tr>\n",
       "      <th>4</th>\n",
       "      <td>413</td>\n",
       "      <td>35</td>\n",
       "      <td>1741</td>\n",
       "    </tr>\n",
       "  </tbody>\n",
       "</table>\n",
       "</div>"
      ],
      "text/plain": [
       "   Minutos  Mensajes  Megabytes\n",
       "0      756        30       2832\n",
       "1      434        96       2449\n",
       "2      300        43       1511\n",
       "3      834        74       1776\n",
       "4      413        35       1741"
      ]
     },
     "metadata": {},
     "output_type": "display_data"
    }
   ],
   "source": [
    "# El operador de telefonía móvil T-phone está de vuelta con los datos de los usuarios de toda la semana. \n",
    "# Unifica los datos en una matriz para la semana: monday (lunes), tuesday (martes), wednesday (miércoles), thursday (jueves), friday (viernes), saturday (sábado), sunday (domingo). \n",
    "# Muéstrala en la pantalla (en precódigo).\n",
    "# Crea un pronóstico para el mes.\n",
    "# Con base en datos semanales, averigüa cuánto usa cada cliente los servicios en promedio por día. \n",
    "# Luego multiplica este promedio por 30.4 (el número promedio de días en un mes).\n",
    "\n",
    "\n",
    "services = ['Minutos', 'Mensajes', 'Megabytes']\n",
    "\n",
    "monday = np.array([\n",
    "    [10, 2, 72],\n",
    "    [3, 5, 111],\n",
    "    [15, 3, 50],\n",
    "    [27, 0, 76],\n",
    "    [7, 1, 85]])\n",
    "\n",
    "tuesday = np.array([\n",
    "    [33, 0, 108],\n",
    "    [21, 5, 70],\n",
    "    [15, 2, 15],\n",
    "    [29, 6, 34],\n",
    "    [2, 1, 146]])\n",
    "\n",
    "wednesday = np.array([\n",
    "    [16, 0, 20],\n",
    "    [23, 5, 34],\n",
    "    [5, 0, 159],\n",
    "    [35, 1, 74],\n",
    "    [5, 0, 15]])\n",
    "\n",
    "thursday = np.array([\n",
    "    [25, 1, 53],\n",
    "    [15, 0, 26],\n",
    "    [10, 0, 73],\n",
    "    [18, 1, 24],\n",
    "    [2, 2, 24]])\n",
    "\n",
    "friday = np.array([\n",
    "    [32, 0, 33],\n",
    "    [4, 0, 135],\n",
    "    [2, 2, 21],\n",
    "    [18, 5, 56],\n",
    "    [27, 2, 21]])\n",
    "\n",
    "saturday = np.array([\n",
    "    [28, 0, 123],\n",
    "    [16, 5, 165],\n",
    "    [10, 1, 12],\n",
    "    [42, 4, 80],\n",
    "    [18, 2, 20]])\n",
    "\n",
    "sunday = np.array([\n",
    "    [30, 4, 243],\n",
    "    [18, 2, 23],\n",
    "    [12, 2, 18],\n",
    "    [23, 0, 65],\n",
    "    [34, 0, 90]])\n",
    "\n",
    "weekly = monday + tuesday + wednesday + thursday + friday + saturday + sunday# primero sumamos lasmatrices de los dias de la semana\n",
    "\n",
    "print('En una semana')\n",
    "display(pd.DataFrame(weekly, columns=services))\n",
    "print()\n",
    "\n",
    "forecast = np.round((weekly / 7) * 30.4).astype(int) # sacamos el promedio de lo que cada cliente lo uso por dia y lomultiplicamos por el 30.4 para obtener pronostico mensual\n",
    "# < escribe tu código aquí >\n",
    "\n",
    "print('Pronóstico para un mes')\n",
    "display(pd.DataFrame(forecast, columns=services))"
   ]
  },
  {
   "cell_type": "markdown",
   "id": "8542c347",
   "metadata": {},
   "source": [
    "### Multiplicar una matriz por un vector"
   ]
  },
  {
   "cell_type": "markdown",
   "id": "85e31ede",
   "metadata": {},
   "source": [
    "#### Se pueden multiplicar matrices por vectores y al final te daran un vector"
   ]
  },
  {
   "cell_type": "code",
   "execution_count": null,
   "id": "1eefc3fe",
   "metadata": {},
   "outputs": [
    {
     "name": "stdout",
     "output_type": "stream",
     "text": [
      "[ 50 122]\n",
      "[ 50 122]\n"
     ]
    }
   ],
   "source": [
    "# Numpy se puede encargar de esta operacion llamando a .dott()\n",
    "    \n",
    "matrix = np.array([\n",
    "    [1, 2, 3], \n",
    "    [4, 5, 6]])\n",
    "\n",
    "vector = np.array([7, 8, 9])\n",
    "\n",
    "# función independiente - toma dos argumentos\n",
    "print(np.dot(matrix, vector))\n",
    "# método de la matriz - solo necesita un argumento\n",
    "print(matrix.dot(vector))\n",
    "\n",
    "# Los resultados que tenemos son la suma de cada resultado de lamultiplicacion entre matriz y vector\n",
    "# Ejemplo: Fila 1: 1*7 + 2*8 + 3*9 = 7 + 16 + 27 = 50 \n",
    "#          Fila 2: 4*7 + 5*8 + 6*9 = 28 + 40 + 54 = 122"
   ]
  },
  {
   "cell_type": "code",
   "execution_count": null,
   "id": "2518a0a6",
   "metadata": {},
   "outputs": [
    {
     "name": "stdout",
     "output_type": "stream",
     "text": [
      "Paquete contenido\n"
     ]
    },
    {
     "data": {
      "text/html": [
       "<div>\n",
       "<style scoped>\n",
       "    .dataframe tbody tr th:only-of-type {\n",
       "        vertical-align: middle;\n",
       "    }\n",
       "\n",
       "    .dataframe tbody tr th {\n",
       "        vertical-align: top;\n",
       "    }\n",
       "\n",
       "    .dataframe thead th {\n",
       "        text-align: right;\n",
       "    }\n",
       "</style>\n",
       "<table border=\"1\" class=\"dataframe\">\n",
       "  <thead>\n",
       "    <tr style=\"text-align: right;\">\n",
       "      <th></th>\n",
       "      <th>\"Al volante\"</th>\n",
       "      <th>\"En el metro\"</th>\n",
       "    </tr>\n",
       "  </thead>\n",
       "  <tbody>\n",
       "    <tr>\n",
       "      <th>Minutos</th>\n",
       "      <td>20</td>\n",
       "      <td>5</td>\n",
       "    </tr>\n",
       "    <tr>\n",
       "      <th>Mensajes</th>\n",
       "      <td>2</td>\n",
       "      <td>5</td>\n",
       "    </tr>\n",
       "    <tr>\n",
       "      <th>Megabytes</th>\n",
       "      <td>500</td>\n",
       "      <td>1000</td>\n",
       "    </tr>\n",
       "  </tbody>\n",
       "</table>\n",
       "</div>"
      ],
      "text/plain": [
       "           \"Al volante\"  \"En el metro\"\n",
       "Minutos              20              5\n",
       "Mensajes              2              5\n",
       "Megabytes           500           1000"
      ]
     },
     "metadata": {},
     "output_type": "display_data"
    },
    {
     "name": "stdout",
     "output_type": "stream",
     "text": [
      "\n",
      "Paquete del cliente\n"
     ]
    },
    {
     "data": {
      "text/html": [
       "<div>\n",
       "<style scoped>\n",
       "    .dataframe tbody tr th:only-of-type {\n",
       "        vertical-align: middle;\n",
       "    }\n",
       "\n",
       "    .dataframe tbody tr th {\n",
       "        vertical-align: top;\n",
       "    }\n",
       "\n",
       "    .dataframe thead th {\n",
       "        text-align: right;\n",
       "    }\n",
       "</style>\n",
       "<table border=\"1\" class=\"dataframe\">\n",
       "  <thead>\n",
       "    <tr style=\"text-align: right;\">\n",
       "      <th></th>\n",
       "      <th>\"Al volante\"</th>\n",
       "      <th>\"En el metro\"</th>\n",
       "    </tr>\n",
       "  </thead>\n",
       "  <tbody>\n",
       "    <tr>\n",
       "      <th>0</th>\n",
       "      <td>1</td>\n",
       "      <td>2</td>\n",
       "    </tr>\n",
       "    <tr>\n",
       "      <th>1</th>\n",
       "      <td>2</td>\n",
       "      <td>3</td>\n",
       "    </tr>\n",
       "    <tr>\n",
       "      <th>2</th>\n",
       "      <td>4</td>\n",
       "      <td>1</td>\n",
       "    </tr>\n",
       "    <tr>\n",
       "      <th>3</th>\n",
       "      <td>2</td>\n",
       "      <td>3</td>\n",
       "    </tr>\n",
       "    <tr>\n",
       "      <th>4</th>\n",
       "      <td>5</td>\n",
       "      <td>0</td>\n",
       "    </tr>\n",
       "  </tbody>\n",
       "</table>\n",
       "</div>"
      ],
      "text/plain": [
       "   \"Al volante\"  \"En el metro\"\n",
       "0             1              2\n",
       "1             2              3\n",
       "2             4              1\n",
       "3             2              3\n",
       "4             5              0"
      ]
     },
     "metadata": {},
     "output_type": "display_data"
    },
    {
     "name": "stdout",
     "output_type": "stream",
     "text": [
      "\n"
     ]
    }
   ],
   "source": [
    "# Ejemplo practico\n",
    "# T-phone. El operador de telefonía móvil ofrece dos paquetes de servicios de pago por uso: \"Al volante\" y \"En el metro\". \n",
    "# Cada uno incluye una cantidad fija de minutos de conversación, mensajes de texto y megas de Internet. En promedio, los usuarios pagan 4-5 paquetes por mes:\n",
    "\n",
    "services = ['Minutos', 'Mensajes', 'Megabytes']\n",
    "packs_names = ['\"Al volante\"', '\"En el metro\"']\n",
    "packs = np.array([\n",
    "    [20, 5],\n",
    "    [2, 5],\n",
    "    [500, 1000]])\n",
    "\n",
    "print('Paquete contenido')\n",
    "display(pd.DataFrame(packs, columns=packs_names, index=services))\n",
    "print()\n",
    "\n",
    "clients_packs = np.array([\n",
    "    [1, 2],\n",
    "    [2, 3],\n",
    "    [4, 1],\n",
    "    [2, 3],\n",
    "    [5, 0]])\n",
    "\n",
    "print('Paquete del cliente')\n",
    "display(pd.DataFrame(clients_packs, columns=packs_names))\n",
    "print()"
   ]
  },
  {
   "cell_type": "code",
   "execution_count": null,
   "id": "4ff9fed2",
   "metadata": {},
   "outputs": [
    {
     "name": "stdout",
     "output_type": "stream",
     "text": [
      "Paquete del cliente\n",
      "                \n",
      "\"Al volante\"   2\n",
      "\"En el metro\"  3\n",
      "\n",
      "           Totales\n",
      "Minutos         55\n",
      "Mensajes        19\n",
      "Megabytes     4000\n"
     ]
    }
   ],
   "source": [
    "# Ejercicio Final\n",
    "# Calcula la cantidad de minutos, mensajes de texto y tráfico de Internet gastados por el segundo cliente en el transcurso del mes. \n",
    "# Guarda el resultado en la variable client_services y muéstralo en la pantalla (ya en el precódigo).\n",
    "\n",
    "\n",
    "services = ['Minutos', 'Mensajes', 'Megabytes']\n",
    "packs_names = ['\"Al volante\"', '\"En el metro\"']\n",
    "packs = np.array([[20, 5], [2, 5], [500, 1000]])\n",
    "\n",
    "clients_packs = np.array([[1, 2], [2, 3], [4, 1], [2, 3], [5, 0]])\n",
    "\n",
    "print(\"Paquete del cliente\")\n",
    "print(pd.DataFrame(clients_packs[1], index=packs_names, columns=['']))\n",
    "print()\n",
    "\n",
    "client_vector = clients_packs[1, :] # selecciono al segundo cliente y le asgino una variable\n",
    "client_services = np.dot(packs, client_vector) # usamos dot para calcular multiplica en este caso el cliente dos con los paquetes\n",
    "\n",
    "print(pd.DataFrame(client_services.reshape(-1, 1), index=services, columns=[\"Totales\"])) # mostramoslos resultados finales en un data frame para amnetenr orden\n"
   ]
  },
  {
   "cell_type": "markdown",
   "id": "17980236",
   "metadata": {},
   "source": [
    "Notas: Index agrega al dataframe los nombres de esa variable\n",
    "       Columns asigna el nombre a la variable si no existe se usan \"\"\n",
    "       En este caso usamos .reshape(-1,1) por que convierte el vector de 1D en 2D"
   ]
  }
 ],
 "metadata": {
  "kernelspec": {
   "display_name": "base",
   "language": "python",
   "name": "python3"
  },
  "language_info": {
   "codemirror_mode": {
    "name": "ipython",
    "version": 3
   },
   "file_extension": ".py",
   "mimetype": "text/x-python",
   "name": "python",
   "nbconvert_exporter": "python",
   "pygments_lexer": "ipython3",
   "version": "3.12.7"
  }
 },
 "nbformat": 4,
 "nbformat_minor": 5
}
