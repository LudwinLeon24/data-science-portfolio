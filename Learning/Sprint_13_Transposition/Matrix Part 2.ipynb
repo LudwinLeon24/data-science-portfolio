{
 "cells": [
  {
   "cell_type": "markdown",
   "id": "79bd41c4",
   "metadata": {},
   "source": [
    "## Transposición de matriz"
   ]
  },
  {
   "cell_type": "markdown",
   "id": "ff84a1fd",
   "metadata": {},
   "source": [
    "#### Basicamente es: transformar las filas de la matriz en las nuevas columnas y las columnas se convierten en las filas."
   ]
  },
  {
   "cell_type": "code",
   "execution_count": 7,
   "id": "6da4f204",
   "metadata": {},
   "outputs": [
    {
     "name": "stdout",
     "output_type": "stream",
     "text": [
      "Matriz original\n",
      "[[ 1  2]\n",
      " [ 4 -4]\n",
      " [ 0 17]]\n",
      "\n",
      "Matriz transpuesta\n",
      "\n",
      "[[ 1  4  0]\n",
      " [ 2 -4 17]]\n",
      "\n",
      "[  6 -17]\n"
     ]
    }
   ],
   "source": [
    "# Ejemplo 1 \n",
    "import pandas as pd\n",
    "import numpy as np\n",
    "\n",
    "matrix = np.array([\n",
    "    [1, 2], \n",
    "    [4, -4], \n",
    "    [0, 17]])\n",
    "\n",
    "print('Matriz original')\n",
    "print(matrix)\n",
    "print()\n",
    "print('Matriz transpuesta')\n",
    "print()\n",
    "print(matrix.T)\n",
    "\n",
    "# Intentemos multiplicar la matriz original por un vector con una longitud de 3:\n",
    "vector = [2, 1, -1] \n",
    "\n",
    "print() \n",
    "\n",
    "print(np.dot(matrix.T, vector)) # si usamos la matriz sin Transponer la dara error"
   ]
  },
  {
   "cell_type": "code",
   "execution_count": 8,
   "id": "f2309132",
   "metadata": {},
   "outputs": [
    {
     "name": "stdout",
     "output_type": "stream",
     "text": [
      "  Tabla  Tubos  Tornillos\n",
      "   26.8  100.8      632.0\n"
     ]
    }
   ],
   "source": [
    "# Ejercicio 1 Calcula cuánto material se necesitará para producir 16 mesas, 60 sillas y 4 bancos. \n",
    "# Guarda el resultado en la variable de materiales y muestra el resultado en la pantalla (en precódigo).\n",
    "\n",
    "materials_names = ['Tabla', 'Tubos', 'Tornillos']\n",
    "\n",
    "manufacture = np.array([ # Tenemos laMtriz\n",
    "    [0.2, 1.2, 8],\n",
    "    [0.5, 0.8, 6],\n",
    "    [0.8, 1.6, 8]])\n",
    "\n",
    "furniture = [60, 4, 16] # Tenmos el Vector\n",
    "\n",
    "materials = (np.dot(manufacture.T, furniture)) # multiplicamospara sacar el resultado deseado\n",
    "\n",
    "print(pd.DataFrame([materials], index=[''], columns=materials_names)) "
   ]
  },
  {
   "cell_type": "markdown",
   "id": "030e7de5",
   "metadata": {},
   "source": [
    "## Multiplicación de matrices\n",
    "\n",
    "\n"
   ]
  },
  {
   "cell_type": "markdown",
   "id": "535c50ed",
   "metadata": {},
   "source": [
    "##### Recuerda que en la multiplicación matriz-vector construimos un nuevo vector donde cada elemento era el producto escalar de una fila de la matriz y el vector. Durante la multiplicación de matrices, se construye una tercera matriz usando dos matrices. "
   ]
  },
  {
   "cell_type": "code",
   "execution_count": 10,
   "id": "7eb4a29a",
   "metadata": {},
   "outputs": [
    {
     "name": "stdout",
     "output_type": "stream",
     "text": [
      "[[ 4  5]\n",
      " [-4 -5]]\n",
      "\n",
      "[[ 4  5]\n",
      " [-4 -5]]\n",
      "\n",
      "[[ 4  5]\n",
      " [-4 -5]]\n"
     ]
    }
   ],
   "source": [
    "# En Numpy hay tres formas de multiplicar matrices\n",
    "A = np.array([\n",
    "    [1, 2, 3], \n",
    "    [-1, -2, -3]])\n",
    "\n",
    "B = np.array([\n",
    "    [1, 0], \n",
    "    [0, 1],\n",
    "    [1, 1]])\n",
    "\n",
    "print(np.dot(A,B)) \n",
    "print()\n",
    "print(A.dot(B))\n",
    "print() \n",
    "print(A @ B)"
   ]
  },
  {
   "cell_type": "code",
   "execution_count": null,
   "id": "37cd9a55",
   "metadata": {},
   "outputs": [
    {
     "name": "stdout",
     "output_type": "stream",
     "text": [
      "   February  March\n",
      "0      2950   4100\n",
      "----------------------\n",
      "   June  July  August\n",
      "0  6650  7600    9200\n"
     ]
    }
   ],
   "source": [
    "# Ejemplo 2 Supongamos que tienes un hotel con dos tipos de habitaciones: suites de luna de miel y habitaciones individuales normales. Una suite de luna de miel cuesta 700 dólares la noche y una habitación normal cuesta 50 dólares.\n",
    "# El primer periodo es de febrero a marzo. El segundo es un periodo de tres meses de verano. \n",
    "# Para saber cuánto dinero ganó nuestro hotel cada mes, debemos multiplicar costs y bookings.\n",
    "# La matriz resultante se puede pasar fácilmente a un DataFrame para mostrar los resultados.\n",
    "\n",
    "months_1 = ['February', 'March'] # Primer periodo\n",
    "months_2 = ['June', 'July', 'August'] # Segundo periodo\n",
    "\n",
    "costs = np.array([\n",
    "    # honeymoon_suite, regular\n",
    "    [700, 50]\n",
    "])\n",
    "\n",
    "bookings_1 = np.array([ # Numero de reservas primer periodo\n",
    "    [3, 4],\n",
    "    [17, 26]\n",
    "])\n",
    "\n",
    "bookings_2 = np.array([ # Numero de reservas segundo periodo\n",
    "    [8, 9, 11],\n",
    "    [21, 26, 30]\n",
    "])\n",
    "\n",
    "print(pd.DataFrame((costs @ bookings_1), columns=months_1))\n",
    "print('----------------------')\n",
    "print(pd.DataFrame((costs @ bookings_2), columns=months_2))"
   ]
  },
  {
   "cell_type": "code",
   "execution_count": null,
   "id": "55b8514f",
   "metadata": {},
   "outputs": [
    {
     "name": "stdout",
     "output_type": "stream",
     "text": [
      "Paquetes\n",
      "   \"Detrás del volante  \"En el metro\"\n",
      "0                    1              2\n",
      "1                    2              3\n",
      "2                    4              1\n",
      "3                    2              3\n",
      "4                    5              0\n",
      "\n",
      "Minutos, Mensajes y Megabytes\n",
      "   Minutos  Mensajes  Megabytes\n",
      "0       30        12       2500\n",
      "1       55        19       4000\n",
      "2       85        13       3000\n",
      "3       55        19       4000\n",
      "4      100        10       2500\n",
      "\n"
     ]
    }
   ],
   "source": [
    "# Ejericico 2\n",
    "\n",
    "# T-phone está de vuelta con otra tarea. Tienes una matriz que contiene datos sobre los paquetes de contenido de los clientes durante un mes.\n",
    "# Calcula la cantidad de minutos, mensajes de texto y megabytes gastados por todos los clientes durante el mes.\n",
    "# Muestra en la pantalla el resultado en la matriz clients_services con filas correspondientes a clientes y columnas correspondientes a servicios.\n",
    "\n",
    "services = ['Minutos', 'Mensajes', 'Megabytes']\n",
    "packs_names = ['\"Detrás del volante', '\"En el metro\"']\n",
    "packs = np.array([\n",
    "    [20, 5],\n",
    "    [2, 5],\n",
    "    [500, 1000]])\n",
    "\n",
    "clients_packs = np.array([\n",
    "    [1, 2],\n",
    "    [2, 3],\n",
    "    [4, 1],\n",
    "    [2, 3],\n",
    "    [5, 0]])\n",
    "\n",
    "print('Paquetes')\n",
    "print(pd.DataFrame(clients_packs, columns=packs_names))\n",
    "print()\n",
    "\n",
    "clients_services = (clients_packs.dot(packs.T))\n",
    "\n",
    "print('Minutos, Mensajes y Megabytes')\n",
    "print(pd.DataFrame(clients_services, columns=services))\n",
    "print()\n",
    "\n",
    "\n"
   ]
  },
  {
   "cell_type": "code",
   "execution_count": 39,
   "id": "d5dcbecb",
   "metadata": {},
   "outputs": [
    {
     "name": "stdout",
     "output_type": "stream",
     "text": [
      "Por el establecimiento\n",
      "             Tabla  Tubos  Tornillos\n",
      "Cafetería      4.8   19.2      120.0\n",
      "Comedor       17.0   65.6      412.0\n",
      "Restaurante   29.4  105.6      660.0\n",
      "\n",
      "Total\n",
      "  Tabla   Tubos  Tornillos\n",
      "  496.2  1872.0    11724.0\n"
     ]
    }
   ],
   "source": [
    "# Ejercicio 3 \n",
    "# Roble y Pino ha recibido pedidos de muebles de varios lugares diferentes y necesitan saber las cantidades de los materiales que necesitan para cumplir con los pedidos. Como antes, la matriz manufacture muestra los materiales necesarios para cada uno de los diferentes tipos de muebles, \n",
    "# donde las filas son los tipos de muebles (silla, banca y mesa) y las columnas son los materiales. Por ejemplo, para hacer una silla, necesitamos 0.2 metros de tabla, 1.2 metros de tubo de metal y 8 tornillos.\n",
    "# La matriz furniture muestra el número de cada mueble en los diferentes lugares: una cafetería, un comedor y un restaurante, donde las filas son los lugares y las columnas son los tipos de muebles. Por ejemplo, la cafetería necesita 12 sillas, 0 bancas y 3 mesas.\n",
    "# Encuentra la matriz venues_materials, que contiene la cantidad de materiales (columnas) para cada establecimiento (filas). Muestra el resultado en pantalla (en precódigo).\n",
    "# Calcula la cantidad de materiales necesarios para la producción de muebles si el pedido se recibió de 18 cafeterías, 12 comedores y 7 restaurantes. Guarda este vector en la variable total_materials y muéstralo en la pantalla (en precódigo).\n",
    "\n",
    "materials_names = ['Tabla', 'Tubos', 'Tornillos']\n",
    "venues_names = ['Cafetería', 'Comedor', 'Restaurante']\n",
    "\n",
    "manufacture = np.array([\n",
    "    [0.2, 1.2, 8],    # materiales para silla\n",
    "    [0.5, 0.8, 6],    # materiales para banco\n",
    "    [0.8, 1.6, 8]])   # materiales para mesa\n",
    "\n",
    "furniture = np.array([\n",
    "    [12, 0, 3],   # Pedido de cafetería (silla, banca, mesa)\n",
    "    [40, 2, 10],  # Pedido de comedor\n",
    "    [60, 6, 18]]) # Pedido de restaurante\n",
    "\n",
    "venues_materials = furniture @ manufacture # < escribe tu código aquí >\n",
    "\n",
    "print('Por el establecimiento')\n",
    "print(pd.DataFrame(venues_materials, index=venues_names, columns=materials_names))\n",
    "print()\n",
    "\n",
    "venues = [18, 12, 7]\n",
    "venues = np.array(venues)\n",
    "\n",
    "total_materials = (venues_materials.T @ venues)# duda para la clase (venues.dot(venues_materials.T))\n",
    "\n",
    "print('Total')\n",
    "print(pd.DataFrame([total_materials], index=[''], columns=materials_names))"
   ]
  },
  {
   "cell_type": "code",
   "execution_count": null,
   "id": "74121094",
   "metadata": {},
   "outputs": [],
   "source": [
    "Notas: Tener cuidado con el orden en la operacion "
   ]
  }
 ],
 "metadata": {
  "kernelspec": {
   "display_name": "base",
   "language": "python",
   "name": "python3"
  },
  "language_info": {
   "codemirror_mode": {
    "name": "ipython",
    "version": 3
   },
   "file_extension": ".py",
   "mimetype": "text/x-python",
   "name": "python",
   "nbconvert_exporter": "python",
   "pygments_lexer": "ipython3",
   "version": "3.12.7"
  }
 },
 "nbformat": 4,
 "nbformat_minor": 5
}
