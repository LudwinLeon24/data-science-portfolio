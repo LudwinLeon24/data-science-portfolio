{
 "cells": [
  {
   "cell_type": "markdown",
   "id": "62e76723",
   "metadata": {},
   "source": [
    "## Entrenamiento de una regresión lineal"
   ]
  },
  {
   "cell_type": "markdown",
   "id": "a637411f",
   "metadata": {},
   "source": [
    "###   Volvamos a nuestra función objetivo.\n",
    "Hasta ahora hemos expresado la función de pérdida de ECM así: {w} = argmin_w(ECM(Xw, y))\n",
    "También podemos expresar esta fórmula en forma matricial: {w} = (X^T X)^{-1} X^T y\n",
    "Donde:\n",
    "w representa el vector de pesos de regresión;\n",
    "X representa la matriz de observaciones con las características;\n",
    "y representa el vector de columna de observaciones con el objetivo.\n",
    "\n",
    "¿Cómo podemos entender esta fórmula en pasos?\n",
    "\n",
    "La matriz de características transpuesta se multiplica por sí misma.\n",
    "Se calcula la matriz inversa a ese resultado.\n",
    "La matriz inversa se multiplica por la matriz de características transpuesta.\n",
    "El resultado se multiplica por el vector de los valores objetivo."
   ]
  },
  {
   "cell_type": "code",
   "execution_count": null,
   "id": "095f83f9",
   "metadata": {},
   "outputs": [
    {
     "name": "stdout",
     "output_type": "stream",
     "text": [
      "-6.411007874812404\n"
     ]
    }
   ],
   "source": [
    "# Ejercicio 1 Escribe código para entrenar y probar el modelo (en el conjunto de entrenamiento)\n",
    "# En lugar del modelo, crea un código dummy, un código simple que no signifique nada. Servirá como marcador de posición y te ayudará a asegurarte de que tu código funcione antes de comenzar a escribir el modelo.\n",
    "# Para crear un código dummy:crea la clase LinearRegression; escribe el método fit() que:acepte las características y la variable objetivo como entrada cree los atributos w y w0 y los establezca en None.\n",
    "# escribe un método predict() que tome características y devuelva una predicción de 0 para todas las observaciones.\n",
    "# Crea un modelo, guárdalo en la variable model y entrénalo. Encuentra sus predicciones en el conjunto de entrenamiento y guárdalas en la variable predictions. Muestra en la pantalla el valor de la métrica R2. Este se calcula usando el ECM. Al comparar su valor con cero, averigua si el modelo pasa la prueba de cordura o no.\n",
    "\n",
    "import numpy as np\n",
    "import pandas as pd\n",
    "from sklearn.metrics import r2_score\n",
    "\n",
    "columns = ['bedrooms', 'total area', 'kitchen', 'living area', 'floor', 'total floors', 'price']\n",
    "\n",
    "data = pd.DataFrame([\n",
    "    [1, 38.5, 6.9, 18.9, 3, 5, 84000],\n",
    "    [1, 38.0, 8.5, 19.2, 9, 17, 70000],\n",
    "    [1, 34.7, 10.3, 19.8, 1, 9, 102000],\n",
    "    [1, 45.9, 11.1, 17.5, 11, 23, 126000],\n",
    "    [1, 42.4, 10.0, 19.9, 6, 14, 118000],\n",
    "    [1, 46.0, 10.2, 20.5, 3, 12, 162000],\n",
    "    [2, 77.7, 13.2, 39.3, 3, 17, 148000],\n",
    "    [2, 69.8, 11.1, 31.4, 12, 23, 144000],\n",
    "    [2, 78.2, 19.4, 33.2, 4, 9, 136000],\n",
    "    [2, 55.5, 7.8, 29.6, 1, 25, 186000],\n",
    "    [2, 74.3, 16.0, 34.2, 14, 17, 212000],\n",
    "    [2, 78.3, 12.3, 42.6, 23, 23, 170000],\n",
    "    [2, 74.0, 18.1, 49.0, 8, 9, 120000],\n",
    "    [2, 91.4, 20.1, 60.4, 2, 10, 144000],\n",
    "    [3, 85.0, 17.8, 56.1, 14, 14, 250000],\n",
    "    [3, 79.8, 9.8, 44.8, 9, 10, 264000],\n",
    "    [3, 72.0, 10.2, 37.3, 7, 9, 302000],\n",
    "    [3, 95.3, 11.0, 51.5, 15, 23, 196000],\n",
    "    [3, 69.3, 8.5, 39.3, 4, 9, 228000],\n",
    "    [3, 89.8, 11.2, 58.2, 24, 25, 326000],\n",
    "], columns=columns)\n",
    "\n",
    "features = data.drop('price', axis=1)\n",
    "target = data['price']\n",
    "\n",
    "class LinearRegression:\n",
    "    def fit(self, train_features, train_target):\n",
    "        self.w = None\n",
    "        self.w0 = None\n",
    "\n",
    "    def predict(self, test_features):\n",
    "        return np.zeros(test_features.shape[0])\n",
    "    \n",
    "model = LinearRegression()\n",
    "model.fit(features, target)\n",
    "predictions = model.predict(features)\n",
    "print(r2_score(target, predictions))"
   ]
  },
  {
   "cell_type": "code",
   "execution_count": 2,
   "id": "e0cd3971",
   "metadata": {},
   "outputs": [
    {
     "name": "stdout",
     "output_type": "stream",
     "text": [
      "0.0\n"
     ]
    }
   ],
   "source": [
    "# Parte 2 Escribe la función predict() para calcular las predicciones de regresión lineal.\n",
    "# Actualiza el código ficticio para los parámetros w y w0 en la función fit().  \n",
    "# Rellena el vector w con ceros usando una longitud igual al número de características (train_features.shape[1])  y asigna el valor medio de la variable objetivo a w0.\n",
    "\n",
    "\n",
    "class LinearRegression:\n",
    "    def fit(self, train_features, train_target):\n",
    "        self.w = np.zeros(train_features.shape[1])\n",
    "        self.w0 = train_target.mean()\n",
    "\n",
    "    def predict(self, test_features):\n",
    "        return test_features.dot(self.w) + self.w0\n",
    "    \n",
    "model = LinearRegression()\n",
    "model.fit(features, target)\n",
    "predictions = model.predict(features)\n",
    "print(r2_score(target, predictions))\n",
    "\n",
    "\n",
    "\n",
    "\n"
   ]
  },
  {
   "cell_type": "code",
   "execution_count": 3,
   "id": "2b76aea2",
   "metadata": {},
   "outputs": [
    {
     "name": "stdout",
     "output_type": "stream",
     "text": [
      "0.7781189439686585\n"
     ]
    }
   ],
   "source": [
    "# Parte 3 Ahora hemos agregado al precódigo la versión abreviada de la fórmula de regresión lineal de la que hablamos antes: \n",
    "# una columna de unos al comienzo del conjunto de entrenamiento.\n",
    "# Termina el código para calcular w usando la fórmula de minimización de ECM.  Luego regresa a la versión original de los parámetros w y w0 (en precódigo).\n",
    "\n",
    "class LinearRegression:\n",
    "    def fit(self, train_features, train_target):\n",
    "        X = np.concatenate((np.ones((train_features.shape[0], 1)), train_features), axis=1)\n",
    "        y = train_target\n",
    "        w = np.linalg.inv(X.T.dot(X)).dot(X.T).dot(y)\n",
    "        self.w = w[1:]\n",
    "        self.w0 = w[0]\n",
    "\n",
    "    def predict(self, test_features):\n",
    "        return test_features.dot(self.w) + self.w0\n",
    "    \n",
    "    \n",
    "model = LinearRegression()\n",
    "model.fit(features, target)\n",
    "predictions = model.predict(features)\n",
    "print(r2_score(target, predictions))\n"
   ]
  }
 ],
 "metadata": {
  "kernelspec": {
   "display_name": "base",
   "language": "python",
   "name": "python3"
  },
  "language_info": {
   "codemirror_mode": {
    "name": "ipython",
    "version": 3
   },
   "file_extension": ".py",
   "mimetype": "text/x-python",
   "name": "python",
   "nbconvert_exporter": "python",
   "pygments_lexer": "ipython3",
   "version": "3.12.7"
  }
 },
 "nbformat": 4,
 "nbformat_minor": 5
}
